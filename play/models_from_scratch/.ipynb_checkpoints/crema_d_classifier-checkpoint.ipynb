{
 "cells": [
  {
   "cell_type": "markdown",
   "id": "a04c941d-2580-4fd0-98e9-5e3ecb047c31",
   "metadata": {},
   "source": [
    "# Classification of Crema-D ViT"
   ]
  },
  {
   "cell_type": "code",
   "execution_count": 3,
   "id": "1e6c0f33-31f9-4e3d-9d87-a8bb7a80ce2a",
   "metadata": {},
   "outputs": [],
   "source": [
    "import os\n",
    "import torch\n",
    "\n",
    "import pandas as pd\n",
    "import numpy as np\n",
    "import seaborn as sns\n",
    "import ipympl as mpl # to show (image) plots\n",
    "\n",
    "from matplotlib import pyplot as plt\n",
    "from sklearn import svm\n",
    "from sklearn.model_selection import train_test_split\n",
    "from sklearn.metrics import classification_report, confusion_matrix, accuracy_score, f1_score"
   ]
  },
  {
   "cell_type": "code",
   "execution_count": 4,
   "id": "773a6519-8faa-4ef7-9dff-ce07eb55dc6e",
   "metadata": {},
   "outputs": [],
   "source": [
    "BASE = '/Users/brinkley97/Documents/development/'\n",
    "CLASS_PATH = 'classes/csci_535_multimodal_probabilistic_learning/'\n",
    "DATASET_PATH = 'datasets/project/'\n",
    "CREMA_D_FEATURES = 'crema_d/extracted_features_crema_d/'"
   ]
  },
  {
   "cell_type": "code",
   "execution_count": 5,
   "id": "8c8087a8-186d-4a38-8ab5-81f5238a3b1c",
   "metadata": {},
   "outputs": [],
   "source": [
    "path_to_ang_extracted_features = BASE + CLASS_PATH + DATASET_PATH + CREMA_D_FEATURES + 'ang/'\n",
    "path_to_dis_extracted_features = BASE + CLASS_PATH + DATASET_PATH + CREMA_D_FEATURES + 'dis/'\n",
    "path_to_fea_extracted_features = BASE + CLASS_PATH + DATASET_PATH + CREMA_D_FEATURES + 'fea/'"
   ]
  },
  {
   "cell_type": "code",
   "execution_count": 6,
   "id": "814e8740-0f31-44e5-9bd4-d40d63600293",
   "metadata": {},
   "outputs": [],
   "source": [
    "def convert_torch_to_numpy(convert_features):\n",
    "    \"\"\"\n",
    "    \"\"\"\n",
    "    \n",
    "    converted = []\n",
    "    \n",
    "    for convert_features_idx in range(len(convert_features)):\n",
    "        specific_tensor = convert_features[convert_features_idx]\n",
    "        # print(specific_tensor)\n",
    "        convert = specific_tensor.detach().numpy()\n",
    "        converted.append(convert)\n",
    "    \n",
    "    return converted"
   ]
  },
  {
   "cell_type": "code",
   "execution_count": 7,
   "id": "9e4b65f3-9b10-4638-a139-c888d2354eb2",
   "metadata": {},
   "outputs": [],
   "source": [
    "def load_extracted_features(path_to_features):\n",
    "    \"\"\"\n",
    "    \"\"\"\n",
    "    \n",
    "    numpy_features = []\n",
    "   \n",
    "    \n",
    "    specific_features = os.listdir(path_to_features)\n",
    "    \n",
    "    for specific_features_idx in range(len(specific_features)):\n",
    "        specific_feature = specific_features[specific_features_idx]\n",
    "        print(specific_features_idx, specific_feature)\n",
    "        \n",
    "        path_to_stored_feature = path_to_features + specific_feature\n",
    "        # print(specific_features_idx, path_to_stored_feature)\n",
    "        \n",
    "        load_features = torch.load(path_to_stored_feature)\n",
    "        # print(len(load_features))\n",
    "        \n",
    "        converted_features = convert_torch_to_numpy(load_features)\n",
    "        # numpy_features.append(converted_features)\n",
    "        \n",
    "        resampled_features = np.mean(converted_features, axis=1)\n",
    "        numpy_features.append(resampled_features)\n",
    "        \n",
    "        \n",
    "    return numpy_features"
   ]
  },
  {
   "cell_type": "code",
   "execution_count": 8,
   "id": "5918b86e-1f69-4c44-87e4-7999e14f288b",
   "metadata": {},
   "outputs": [
    {
     "name": "stdout",
     "output_type": "stream",
     "text": [
      "0 ang_7000_extracted_features_crema_d.pt\n",
      "1 ang_3000_extracted_features_crema_d.pt\n",
      "2 ang_8000_extracted_features_crema_d.pt\n",
      "3 ang_10000_extracted_features_crema_d.pt\n",
      "4 ang_4000_extracted_features_crema_d.pt\n",
      "5 ang_2000_extracted_features_crema_d.pt\n",
      "6 ang_6000_extracted_features_crema_d.pt\n",
      "7 ang_1000_extracted_features_crema_d.pt\n",
      "8 ang_5000_extracted_features_crema_d.pt\n",
      "9 ang_11000_extracted_features_crema_d.pt\n",
      "10 ang_9000_extracted_features_crema_d.pt\n"
     ]
    }
   ],
   "source": [
    "ang_loaded_features = load_extracted_features(path_to_ang_extracted_features)"
   ]
  },
  {
   "cell_type": "code",
   "execution_count": 11,
   "id": "3218aa0e-4b07-4514-a976-5e96199d798c",
   "metadata": {},
   "outputs": [
    {
     "data": {
      "text/plain": [
       "(1000, 197, 768)"
      ]
     },
     "execution_count": 11,
     "metadata": {},
     "output_type": "execute_result"
    }
   ],
   "source": [
    "np.shape(ang_loaded_features[0])"
   ]
  },
  {
   "cell_type": "code",
   "execution_count": 7,
   "id": "6221e100-9902-4996-b49b-49a4083c414e",
   "metadata": {},
   "outputs": [
    {
     "name": "stdout",
     "output_type": "stream",
     "text": [
      "0 dis_2000_extracted_features_crema_d.pt\n",
      "1 dis_6000_extracted_features_crema_d.pt\n",
      "2 dis_1000_extracted_features_crema_d.pt\n",
      "3 dis_5000_extracted_features_crema_d.pt\n",
      "4 dis_7000_extracted_features_crema_d.pt\n",
      "5 dis_3000_extracted_features_crema_d.pt\n",
      "6 dis_4000_extracted_features_crema_d.pt\n",
      "7 dis_8000_extracted_features_crema_d.pt\n"
     ]
    }
   ],
   "source": [
    "dis_loaded_features = load_extracted_features(path_to_dis_extracted_features)"
   ]
  },
  {
   "cell_type": "code",
   "execution_count": 2,
   "id": "46401888-7186-46b2-9163-814980734d1f",
   "metadata": {},
   "outputs": [
    {
     "ename": "NameError",
     "evalue": "name 'load_extracted_features' is not defined",
     "output_type": "error",
     "traceback": [
      "\u001b[0;31m---------------------------------------------------------------------------\u001b[0m",
      "\u001b[0;31mNameError\u001b[0m                                 Traceback (most recent call last)",
      "Cell \u001b[0;32mIn[2], line 1\u001b[0m\n\u001b[0;32m----> 1\u001b[0m fea_loaded_features \u001b[38;5;241m=\u001b[39m \u001b[43mload_extracted_features\u001b[49m(path_to_fea_extracted_features)\n",
      "\u001b[0;31mNameError\u001b[0m: name 'load_extracted_features' is not defined"
     ]
    }
   ],
   "source": [
    "fea_loaded_features = load_extracted_features(path_to_fea_extracted_features)"
   ]
  },
  {
   "cell_type": "code",
   "execution_count": 9,
   "id": "7a9596d3-d25b-4a15-ba29-ff700bf8e2a7",
   "metadata": {},
   "outputs": [],
   "source": [
    "def reshape_feature_dimensions(features):\n",
    "    \"\"\"\n",
    "    \"\"\"\n",
    "    \n",
    "    resampled_features = np.mean(features, axis=0)\n",
    "    \n",
    "    nsamples, nx, ny = resampled_features.shape\n",
    "    reshaped_features = resampled_features.reshape((nsamples, nx*ny))\n",
    "    \n",
    "    return reshaped_features"
   ]
  },
  {
   "cell_type": "code",
   "execution_count": 10,
   "id": "acbbf3cf-0a2d-4b7c-9ed4-016e7343986e",
   "metadata": {},
   "outputs": [],
   "source": [
    "ang_reshaped_features = reshape_feature_dimensions(ang_loaded_features)"
   ]
  },
  {
   "cell_type": "code",
   "execution_count": 11,
   "id": "341c3f39-8fcd-49a1-9c0a-7d6739fa9193",
   "metadata": {},
   "outputs": [
    {
     "data": {
      "text/plain": [
       "(1000, 151296)"
      ]
     },
     "execution_count": 11,
     "metadata": {},
     "output_type": "execute_result"
    }
   ],
   "source": [
    "ang_reshaped_features.shape"
   ]
  },
  {
   "cell_type": "code",
   "execution_count": 12,
   "id": "ffa3c414-35cb-4836-92f8-2c642141eebc",
   "metadata": {},
   "outputs": [
    {
     "data": {
      "text/plain": [
       "1000"
      ]
     },
     "execution_count": 12,
     "metadata": {},
     "output_type": "execute_result"
    }
   ],
   "source": [
    "ang_N = ang_reshaped_features\n",
    "len(ang_N)"
   ]
  },
  {
   "cell_type": "code",
   "execution_count": 13,
   "id": "b8a17630-6b0c-49e0-9d93-546c5492b2e1",
   "metadata": {},
   "outputs": [],
   "source": [
    "dis_reshaped_features = reshape_feature_dimensions(dis_loaded_features)"
   ]
  },
  {
   "cell_type": "code",
   "execution_count": 14,
   "id": "5f5e5585-fcac-44e3-936c-d83e24043eba",
   "metadata": {},
   "outputs": [
    {
     "data": {
      "text/plain": [
       "(1000, 151296)"
      ]
     },
     "execution_count": 14,
     "metadata": {},
     "output_type": "execute_result"
    }
   ],
   "source": [
    "dis_reshaped_features.shape"
   ]
  },
  {
   "cell_type": "code",
   "execution_count": 15,
   "id": "d368f010-ccd7-478a-9b29-84f737dfb8ec",
   "metadata": {},
   "outputs": [
    {
     "data": {
      "text/plain": [
       "1000"
      ]
     },
     "execution_count": 15,
     "metadata": {},
     "output_type": "execute_result"
    }
   ],
   "source": [
    "dis_N = dis_reshaped_features\n",
    "len(dis_N)"
   ]
  },
  {
   "cell_type": "code",
   "execution_count": 16,
   "id": "3cc01b68-b930-47a7-a06b-94aa434b153c",
   "metadata": {},
   "outputs": [
    {
     "data": {
      "text/plain": [
       "numpy.ndarray"
      ]
     },
     "execution_count": 16,
     "metadata": {},
     "output_type": "execute_result"
    }
   ],
   "source": [
    "type(dis_reshaped_features)"
   ]
  },
  {
   "cell_type": "code",
   "execution_count": 17,
   "id": "e51bb964-0c1f-4e5e-ae0d-5afc22b5a1fb",
   "metadata": {},
   "outputs": [],
   "source": [
    "fea_reshaped_features = reshape_feature_dimensions(fea_loaded_features)"
   ]
  },
  {
   "cell_type": "code",
   "execution_count": 28,
   "id": "aec31d25-5c48-43eb-8817-b763f71c4aa8",
   "metadata": {},
   "outputs": [],
   "source": [
    "def create_true_labels(reshaped_features, emotion_label):\n",
    "    \"\"\"\n",
    "    \"\"\"\n",
    "    true_labels = []\n",
    "    N = len(dis_reshaped_features)\n",
    "\n",
    "    for idx in range(0, N):\n",
    "        if emotion_label == \"A\":\n",
    "            true_labels.append(\"A\")\n",
    "        if emotion_label == \"D\":\n",
    "            true_labels.append(\"D\")\n",
    "        if emotion_label == \"F\":\n",
    "            true_labels.append(\"F\")\n",
    "            \n",
    "    return true_labels"
   ]
  },
  {
   "cell_type": "code",
   "execution_count": 29,
   "id": "f1c2ebd5-a189-4679-8bc8-3cecd5da8a04",
   "metadata": {},
   "outputs": [],
   "source": [
    "ang_label = \"A\"\n",
    "ang_labels = create_true_labels(ang_reshaped_features, ang_label)"
   ]
  },
  {
   "cell_type": "code",
   "execution_count": 30,
   "id": "49c897a4-57fd-4909-99ef-97036540d54a",
   "metadata": {},
   "outputs": [],
   "source": [
    "# ang_labels"
   ]
  },
  {
   "cell_type": "code",
   "execution_count": 31,
   "id": "c94da272-aa9d-4dbb-9e34-71ab165fbb77",
   "metadata": {},
   "outputs": [],
   "source": [
    "dis_label = \"D\"\n",
    "dis_labels = create_true_labels(dis_reshaped_features, dis_label)"
   ]
  },
  {
   "cell_type": "code",
   "execution_count": 32,
   "id": "cb8a8513-7475-46cb-81f5-acce62c4344a",
   "metadata": {},
   "outputs": [],
   "source": [
    "# dis_labels"
   ]
  },
  {
   "cell_type": "code",
   "execution_count": 33,
   "id": "398f0a21-7a61-44e3-b986-b2c1caf88b28",
   "metadata": {},
   "outputs": [],
   "source": [
    "fea_label = \"F\"\n",
    "fea_labels = create_true_labels(fea_reshaped_features, fea_label)"
   ]
  },
  {
   "cell_type": "code",
   "execution_count": 34,
   "id": "983605af-339c-4d7d-ae01-0ca00f067ea4",
   "metadata": {},
   "outputs": [],
   "source": [
    "emotion_labels = ang_labels + dis_labels + fea_labels"
   ]
  },
  {
   "cell_type": "code",
   "execution_count": 35,
   "id": "6035cb31-cc38-494a-8fc7-6852b6492d75",
   "metadata": {},
   "outputs": [
    {
     "data": {
      "text/plain": [
       "(3000, 151296)"
      ]
     },
     "execution_count": 35,
     "metadata": {},
     "output_type": "execute_result"
    }
   ],
   "source": [
    "visual_features = np.concatenate((ang_reshaped_features, dis_reshaped_features, fea_reshaped_features), axis=0)\n",
    "np.shape(visual_features)"
   ]
  },
  {
   "cell_type": "code",
   "execution_count": 39,
   "id": "7633f3fa-3be6-4931-894e-5b9471b99b1d",
   "metadata": {},
   "outputs": [],
   "source": [
    "def split_data(specific_features, specific_features_true_labels):\n",
    "    \"\"\"Split data into TRAIN, TEST, and VALIDATION sets\n",
    "    \n",
    "    Parameters:\n",
    "    specific_features -- list (of the reduced features)\n",
    "    specific_features_true_labels -- list (of the emotion labels that belong to that specifuc feature)\n",
    "    test_size -- float (to pass into sklearn train_test_split())\n",
    "    \n",
    "    Return:\n",
    "    X_train, X_test, X_val, y_train, y_test, y_val -- list (for that specific subset of the features)\n",
    "    \n",
    "    \"\"\"\n",
    "\n",
    "    X_train, X_test, y_train, y_test = train_test_split(specific_features, specific_features_true_labels, test_size=0.2, random_state=42)\n",
    "    total_X = len(X_train) + len(X_test)\n",
    "    total_Y = len(y_train) + len(y_test)\n",
    "    \n",
    "    print(\"[INFO] X, y TRAIN sets\")\n",
    "    print(np.shape(X_train), np.shape(y_train))\n",
    "    \n",
    "    print(\"\\n[INFO] X, y TEST sets\")\n",
    "    print(np.shape(X_test), np.shape(y_test))\n",
    "    # print(\"[INFO] TOTAL TRAIN, TEST sets\")\n",
    "    # print(total_X, total_Y)\n",
    "    \n",
    "    X_train, X_val, y_train, y_val = train_test_split(X_train, y_train, test_size=0.2, random_state=42)\n",
    "    total_X = len(X_train) + len(X_val)\n",
    "    total_Y = len(y_train) + len(y_val)\n",
    "    \n",
    "    print(\"\\n[INFO] X, y TRAIN sets\")\n",
    "    print(np.shape(X_train), np.shape(y_train))\n",
    "    \n",
    "    print(\"\\n[INFO] X, y VALIDATION sets\")\n",
    "    print(np.shape(X_val), np.shape(y_val))\n",
    "\n",
    "    \n",
    "    # return X_train, X_test, y_train, y_test\n",
    "    return X_train, X_test, X_val, y_train, y_test, y_val\n"
   ]
  },
  {
   "cell_type": "code",
   "execution_count": 40,
   "id": "8abc7b30-e855-4ef3-9a76-9a0b621135ad",
   "metadata": {},
   "outputs": [
    {
     "name": "stdout",
     "output_type": "stream",
     "text": [
      "[INFO] X, y TRAIN sets\n",
      "(2400, 151296) (2400,)\n",
      "\n",
      "[INFO] X, y TEST sets\n",
      "(600, 151296) (600,)\n",
      "\n",
      "[INFO] X, y TRAIN sets\n",
      "(1920, 151296) (1920,)\n",
      "\n",
      "[INFO] X, y VALIDATION sets\n",
      "(480, 151296) (480,)\n"
     ]
    }
   ],
   "source": [
    "# X_train_visual, X_test_visual, y_train_visual, y_test_visual = split_data(visual_features, emotion_labels)\n",
    "X_train_visual, X_test_visual, X_val_visual, y_train_visual, y_test_visual, y_val_visual = split_data(visual_features, emotion_labels)\n"
   ]
  },
  {
   "cell_type": "markdown",
   "id": "8dda6fa7-9b57-4b4c-942a-162a11573ab2",
   "metadata": {},
   "source": [
    "# Perform a Unimodal 4-Class Emotion Classification\n",
    "- Need to include validation set"
   ]
  },
  {
   "cell_type": "code",
   "execution_count": 41,
   "id": "a2f7bcc5-28ee-40e6-aa1a-40a2a7a1f7fd",
   "metadata": {},
   "outputs": [
    {
     "name": "stdout",
     "output_type": "stream",
     "text": [
      "[INFO] training our linear support vector classification estimator\n",
      "[INFO] fitting on TRAIN...\n"
     ]
    },
    {
     "name": "stderr",
     "output_type": "stream",
     "text": [
      "/Users/brinkley97/opt/anaconda3/envs/emotion_rec_from_audiovisual/lib/python3.9/site-packages/sklearn/svm/_base.py:985: ConvergenceWarning: Liblinear failed to converge, increase the number of iterations.\n",
      "  warnings.warn(\"Liblinear failed to converge, increase \"\n"
     ]
    },
    {
     "name": "stdout",
     "output_type": "stream",
     "text": [
      "[INFO] classification on TEST...\n",
      "              precision    recall  f1-score   support\n",
      "\n",
      "           A       0.99      1.00      0.99       217\n",
      "           D       1.00      1.00      1.00       197\n",
      "           F       1.00      0.98      0.99       186\n",
      "\n",
      "    accuracy                           0.99       600\n",
      "   macro avg       1.00      0.99      1.00       600\n",
      "weighted avg       1.00      0.99      0.99       600\n",
      "\n"
     ]
    },
    {
     "data": {
      "application/vnd.jupyter.widget-view+json": {
       "model_id": "90fd03d452a8450a875656a4739a361c",
       "version_major": 2,
       "version_minor": 0
      },
      "image/png": "[encoded data removed]",
      "text/html": [
       "\n",
       "            <div style=\"display: inline-block;\">\n",
       "                <div class=\"jupyter-widgets widget-label\" style=\"text-align: center;\">\n",
       "                    Figure\n",
       "                </div>\n",
       "                <img src='data:image/png;base64,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' width=640.0/>\n",
       "            </div>\n",
       "        "
      ],
      "text/plain": [
       "Canvas(toolbar=Toolbar(toolitems=[('Home', 'Reset original view', 'home', 'home'), ('Back', 'Back to previous …"
      ]
     },
     "metadata": {},
     "output_type": "display_data"
    },
    {
     "name": "stdout",
     "output_type": "stream",
     "text": [
      "[INFO] evaluating on TEST...\n",
      "0.995\n",
      "0.995\n"
     ]
    }
   ],
   "source": [
    "print(\"[INFO] training our linear support vector classification estimator\")\n",
    "# initialize the LinearSVC() estimator \n",
    "visual_classification_estimator = svm.LinearSVC()\n",
    "\n",
    "print(\"[INFO] fitting on TRAIN...\")\n",
    "# train the model without hyperparameter tuning\n",
    "train_without_hp_visual = visual_classification_estimator.fit(X_train_visual, y_train_visual)\n",
    "# print(train_without_hp)\n",
    "\n",
    "print(\"[INFO] classification on TEST...\")\n",
    "# make a prediction (returns a list of 0 - 4 values)\n",
    "y_pred_without_hp_visual = train_without_hp_visual.predict(X_test_visual)\n",
    "\n",
    "visual_classification_report_without_hp = classification_report(y_test_visual, y_pred_without_hp_visual)\n",
    "print(visual_classification_report_without_hp)\n",
    "\n",
    "# show true labels and predictions\n",
    "visual_cm = confusion_matrix(y_test_visual, y_pred_without_hp_visual)\n",
    "sns.heatmap(visual_cm, annot=True, cmap='viridis')\n",
    "plt.show()\n",
    "\n",
    "print(\"[INFO] evaluating on TEST...\")\n",
    "test_without_hp_visual = train_without_hp_visual.score(X_test_visual, y_test_visual)\n",
    "print(test_without_hp_visual)\n",
    "\n",
    "visual_f1_micro_without_hp = f1_score(y_test_visual, y_pred_without_hp_visual, average='micro')\n",
    "print(visual_f1_micro_without_hp)"
   ]
  },
  {
   "cell_type": "code",
   "execution_count": null,
   "id": "fa39a63c-268f-44d6-8e93-66c5f040b429",
   "metadata": {},
   "outputs": [],
   "source": []
  }
 ],
 "metadata": {
  "kernelspec": {
   "display_name": "Python 3 (ipykernel)",
   "language": "python",
   "name": "python3"
  },
  "language_info": {
   "codemirror_mode": {
    "name": "ipython",
    "version": 3
   },
   "file_extension": ".py",
   "mimetype": "text/x-python",
   "name": "python",
   "nbconvert_exporter": "python",
   "pygments_lexer": "ipython3",
   "version": "3.9.16"
  }
 },
 "nbformat": 4,
 "nbformat_minor": 5
}

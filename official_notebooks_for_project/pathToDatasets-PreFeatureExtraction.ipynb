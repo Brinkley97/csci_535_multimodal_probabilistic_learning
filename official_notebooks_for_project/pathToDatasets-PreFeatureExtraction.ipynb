{
 "cells": [
  {
   "cell_type": "markdown",
   "id": "7df1934a-0384-415a-a469-8d459ae8bef8",
   "metadata": {},
   "source": [
    "# Paths to Datasets\n",
    "- [x] Crema-D \n",
    "- [ ] MSP R\n",
    "- [x] MSP T"
   ]
  },
  {
   "cell_type": "code",
   "execution_count": 10,
   "id": "becba264-16ac-4205-b299-1bf1782706c9",
   "metadata": {},
   "outputs": [],
   "source": [
    "import os\n",
    "\n",
    "import pandas as pd"
   ]
  },
  {
   "cell_type": "code",
   "execution_count": 11,
   "id": "5fa28ab4-0e07-4f74-a8c5-2082f83d4de6",
   "metadata": {},
   "outputs": [],
   "source": [
    "BASE = '/Users/brinkley97/Documents/development/'\n",
    "CLASS_PATH = 'classes/csci_535_multimodal_probabilistic_learning/'\n",
    "DATASET_PATH = 'datasets/project/'"
   ]
  },
  {
   "cell_type": "code",
   "execution_count": 12,
   "id": "3a8ff753-f250-4bda-abba-e457b93cda68",
   "metadata": {},
   "outputs": [],
   "source": [
    "def store_paths(path_to_faces_folder):\n",
    "    \"\"\"\n",
    "    \n",
    "    Parameters:\n",
    "    path_to_faces_folder -- str (of a single path to all saved cropped faces)\n",
    "\n",
    "    Return\n",
    "    build_file_path -- path to all images in emotion folder\n",
    "    \"\"\"\n",
    "\n",
    "   \n",
    "    folder_with_faces = os.listdir(path_to_faces_folder)\n",
    "    print(len(folder_with_faces))\n",
    "    \n",
    "    build_file_path = []\n",
    "    \n",
    "    for face_idx in range(len(folder_with_faces)):\n",
    "        specific_face_folder = folder_with_faces[face_idx]\n",
    "        # print(face_idx, specific_face_folder)\n",
    "        path_to_face_folder = path_to_faces_folder + specific_face_folder + '/'\n",
    "        \n",
    "        # single_folder_all_faces = os.listdir(path_to_face_folder)\n",
    "        # print(single_folder_all_faces)\n",
    "        \n",
    "        # for single_folder_all_faces_idx in range(len(single_folder_all_faces)):\n",
    "        #     face = single_folder_all_faces[single_folder_all_faces_idx]\n",
    "        #     # print(single_folder_all_faces_idx, face)\n",
    "        #     path_to_face = path_to_face_folder + face\n",
    "            # print(path_to_face)\n",
    "            # build_file_path.append(path_to_face)\n",
    "        build_file_path.append(path_to_face_folder)\n",
    "\n",
    "    return build_file_path"
   ]
  },
  {
   "cell_type": "markdown",
   "id": "643e8c76-6294-44c3-bb75-454a3bfc7c81",
   "metadata": {},
   "source": [
    "# Crema-D"
   ]
  },
  {
   "cell_type": "code",
   "execution_count": 6,
   "id": "b22e5400-7b41-451f-b2f7-8053a3d8a707",
   "metadata": {},
   "outputs": [
    {
     "name": "stdout",
     "output_type": "stream",
     "text": [
      "7442\n"
     ]
    }
   ],
   "source": [
    "path_to_faces_folder_crema_d = BASE + CLASS_PATH + DATASET_PATH + 'crema_d/subset_all_frames_to_faces_crema_d/'\n",
    "store_faces_paths_crema_d = store_paths(path_to_faces_folder_crema_d)"
   ]
  },
  {
   "cell_type": "code",
   "execution_count": 7,
   "id": "57ed1acb-4157-4224-827e-596f09fba93a",
   "metadata": {
    "tags": []
   },
   "outputs": [
    {
     "data": {
      "text/plain": [
       "['/Users/brinkley97/Documents/development/classes/csci_535_multimodal_probabilistic_learning/datasets/project/crema_d/subset_all_frames_to_faces_crema_d/1076_IWL_HAP_XX_frames_to_cropped_face_subset/',\n",
       " '/Users/brinkley97/Documents/development/classes/csci_535_multimodal_probabilistic_learning/datasets/project/crema_d/subset_all_frames_to_faces_crema_d/1020_TAI_NEU_XX_frames_to_cropped_face_subset/',\n",
       " '/Users/brinkley97/Documents/development/classes/csci_535_multimodal_probabilistic_learning/datasets/project/crema_d/subset_all_frames_to_faces_crema_d/1049_IWW_ANG_XX_frames_to_cropped_face_subset/',\n",
       " '/Users/brinkley97/Documents/development/classes/csci_535_multimodal_probabilistic_learning/datasets/project/crema_d/subset_all_frames_to_faces_crema_d/1016_TSI_DIS_XX_frames_to_cropped_face_subset/',\n",
       " '/Users/brinkley97/Documents/development/classes/csci_535_multimodal_probabilistic_learning/datasets/project/crema_d/subset_all_frames_to_faces_crema_d/1035_IEO_HAP_HI_frames_to_cropped_face_subset/',\n",
       " '/Users/brinkley97/Documents/development/classes/csci_535_multimodal_probabilistic_learning/datasets/project/crema_d/subset_all_frames_to_faces_crema_d/1010_WSI_NEU_XX_frames_to_cropped_face_subset/',\n",
       " '/Users/brinkley97/Documents/development/classes/csci_535_multimodal_probabilistic_learning/datasets/project/crema_d/subset_all_frames_to_faces_crema_d/1013_ITH_NEU_XX_frames_to_cropped_face_subset/',\n",
       " '/Users/brinkley97/Documents/development/classes/csci_535_multimodal_probabilistic_learning/datasets/project/crema_d/subset_all_frames_to_faces_crema_d/1083_TSI_SAD_XX_frames_to_cropped_face_subset/',\n",
       " '/Users/brinkley97/Documents/development/classes/csci_535_multimodal_probabilistic_learning/datasets/project/crema_d/subset_all_frames_to_faces_crema_d/1023_IEO_ANG_MD_frames_to_cropped_face_subset/',\n",
       " '/Users/brinkley97/Documents/development/classes/csci_535_multimodal_probabilistic_learning/datasets/project/crema_d/subset_all_frames_to_faces_crema_d/1034_IOM_SAD_XX_frames_to_cropped_face_subset/']"
      ]
     },
     "execution_count": 7,
     "metadata": {},
     "output_type": "execute_result"
    }
   ],
   "source": [
    "store_faces_paths_crema_d[0:10]"
   ]
  },
  {
   "cell_type": "code",
   "execution_count": 8,
   "id": "95089528-0232-4891-ad87-18fd08b3bfa0",
   "metadata": {
    "tags": []
   },
   "outputs": [],
   "source": [
    "crema_d_paths_to_faces_df = pd.DataFrame(store_faces_paths_crema_d, columns=['crema_d'])"
   ]
  },
  {
   "cell_type": "code",
   "execution_count": 9,
   "id": "fd7c3e7b-f535-4afc-b72d-6a240f781295",
   "metadata": {
    "tags": []
   },
   "outputs": [],
   "source": [
    "# save_data_df\n",
    "compression_opts_crema_d = dict(method='zip', archive_name='subset_all_paths_crema_d.csv')  \n",
    "path_to_csv_crema_d = BASE + CLASS_PATH + DATASET_PATH + 'crema_d/' + 'subset_all_paths_crema_d.zip' \n",
    "crema_d_paths_to_faces_df.to_csv(path_to_csv_crema_d, compression=compression_opts_crema_d)"
   ]
  },
  {
   "cell_type": "markdown",
   "id": "2800b683-eb32-407d-85e2-146a0d4fe9b9",
   "metadata": {},
   "source": [
    "# MSP T"
   ]
  },
  {
   "cell_type": "code",
   "execution_count": 13,
   "id": "e03b4feb-2fbf-4577-8e1d-3790056b585a",
   "metadata": {},
   "outputs": [
    {
     "name": "stdout",
     "output_type": "stream",
     "text": [
      "652\n"
     ]
    }
   ],
   "source": [
    "path_to_faces_folder_msp_t = BASE + CLASS_PATH + DATASET_PATH + 'msp_t/subset_all_frames_to_faces_msp_t/'\n",
    "store_faces_paths_msp_t = store_paths(path_to_faces_folder_msp_t)"
   ]
  },
  {
   "cell_type": "code",
   "execution_count": 14,
   "id": "4b94d0d9-2d3d-4318-895e-64dfcc68c9f2",
   "metadata": {},
   "outputs": [
    {
     "data": {
      "text/plain": [
       "['/Users/brinkley97/Documents/development/classes/csci_535_multimodal_probabilistic_learning/datasets/project/msp_t/subset_all_frames_to_faces_msp_t/MSP-IMPROV-S15A-M02-T-MF01_frames_to_cropped_face_subset/',\n",
       " '/Users/brinkley97/Documents/development/classes/csci_535_multimodal_probabilistic_learning/datasets/project/msp_t/subset_all_frames_to_faces_msp_t/MSP-IMPROV-S11A-F02-T-FM01_frames_to_cropped_face_subset/',\n",
       " '/Users/brinkley97/Documents/development/classes/csci_535_multimodal_probabilistic_learning/datasets/project/msp_t/subset_all_frames_to_faces_msp_t/MSP-IMPROV-S01H-F06-T-FM01_frames_to_cropped_face_subset/',\n",
       " '/Users/brinkley97/Documents/development/classes/csci_535_multimodal_probabilistic_learning/datasets/project/msp_t/subset_all_frames_to_faces_msp_t/MSP-IMPROV-S06S-M01-T-MF01_frames_to_cropped_face_subset/',\n",
       " '/Users/brinkley97/Documents/development/classes/csci_535_multimodal_probabilistic_learning/datasets/project/msp_t/subset_all_frames_to_faces_msp_t/MSP-IMPROV-S01N-F02-T-FM01_frames_to_cropped_face_subset/',\n",
       " '/Users/brinkley97/Documents/development/classes/csci_535_multimodal_probabilistic_learning/datasets/project/msp_t/subset_all_frames_to_faces_msp_t/MSP-IMPROV-S05S-F02-T-FM02_frames_to_cropped_face_subset/',\n",
       " '/Users/brinkley97/Documents/development/classes/csci_535_multimodal_probabilistic_learning/datasets/project/msp_t/subset_all_frames_to_faces_msp_t/MSP-IMPROV-S08H-M05-T-MF01_frames_to_cropped_face_subset/',\n",
       " '/Users/brinkley97/Documents/development/classes/csci_535_multimodal_probabilistic_learning/datasets/project/msp_t/subset_all_frames_to_faces_msp_t/MSP-IMPROV-S05H-M06-T-MF01_frames_to_cropped_face_subset/',\n",
       " '/Users/brinkley97/Documents/development/classes/csci_535_multimodal_probabilistic_learning/datasets/project/msp_t/subset_all_frames_to_faces_msp_t/MSP-IMPROV-S02S-F01-T-FM01_frames_to_cropped_face_subset/',\n",
       " '/Users/brinkley97/Documents/development/classes/csci_535_multimodal_probabilistic_learning/datasets/project/msp_t/subset_all_frames_to_faces_msp_t/MSP-IMPROV-S08N-M01-T-MF01_frames_to_cropped_face_subset/']"
      ]
     },
     "execution_count": 14,
     "metadata": {},
     "output_type": "execute_result"
    }
   ],
   "source": [
    "store_faces_paths_msp_t[0: 10]"
   ]
  },
  {
   "cell_type": "code",
   "execution_count": 15,
   "id": "5a7348a3-afa4-4c77-a696-450671d9cb4c",
   "metadata": {},
   "outputs": [],
   "source": [
    "msp_t_paths_to_faces_df = pd.DataFrame(store_faces_paths_msp_t, columns=['msp_t'])"
   ]
  },
  {
   "cell_type": "code",
   "execution_count": 16,
   "id": "67a0aacf-f968-48ed-a142-cd8182dbb721",
   "metadata": {},
   "outputs": [
    {
     "data": {
      "text/html": [
       "<div>\n",
       "<style scoped>\n",
       "    .dataframe tbody tr th:only-of-type {\n",
       "        vertical-align: middle;\n",
       "    }\n",
       "\n",
       "    .dataframe tbody tr th {\n",
       "        vertical-align: top;\n",
       "    }\n",
       "\n",
       "    .dataframe thead th {\n",
       "        text-align: right;\n",
       "    }\n",
       "</style>\n",
       "<table border=\"1\" class=\"dataframe\">\n",
       "  <thead>\n",
       "    <tr style=\"text-align: right;\">\n",
       "      <th></th>\n",
       "      <th>msp_t</th>\n",
       "    </tr>\n",
       "  </thead>\n",
       "  <tbody>\n",
       "    <tr>\n",
       "      <th>0</th>\n",
       "      <td>/Users/brinkley97/Documents/development/classe...</td>\n",
       "    </tr>\n",
       "    <tr>\n",
       "      <th>1</th>\n",
       "      <td>/Users/brinkley97/Documents/development/classe...</td>\n",
       "    </tr>\n",
       "    <tr>\n",
       "      <th>2</th>\n",
       "      <td>/Users/brinkley97/Documents/development/classe...</td>\n",
       "    </tr>\n",
       "    <tr>\n",
       "      <th>3</th>\n",
       "      <td>/Users/brinkley97/Documents/development/classe...</td>\n",
       "    </tr>\n",
       "    <tr>\n",
       "      <th>4</th>\n",
       "      <td>/Users/brinkley97/Documents/development/classe...</td>\n",
       "    </tr>\n",
       "    <tr>\n",
       "      <th>...</th>\n",
       "      <td>...</td>\n",
       "    </tr>\n",
       "    <tr>\n",
       "      <th>647</th>\n",
       "      <td>/Users/brinkley97/Documents/development/classe...</td>\n",
       "    </tr>\n",
       "    <tr>\n",
       "      <th>648</th>\n",
       "      <td>/Users/brinkley97/Documents/development/classe...</td>\n",
       "    </tr>\n",
       "    <tr>\n",
       "      <th>649</th>\n",
       "      <td>/Users/brinkley97/Documents/development/classe...</td>\n",
       "    </tr>\n",
       "    <tr>\n",
       "      <th>650</th>\n",
       "      <td>/Users/brinkley97/Documents/development/classe...</td>\n",
       "    </tr>\n",
       "    <tr>\n",
       "      <th>651</th>\n",
       "      <td>/Users/brinkley97/Documents/development/classe...</td>\n",
       "    </tr>\n",
       "  </tbody>\n",
       "</table>\n",
       "<p>652 rows × 1 columns</p>\n",
       "</div>"
      ],
      "text/plain": [
       "                                                 msp_t\n",
       "0    /Users/brinkley97/Documents/development/classe...\n",
       "1    /Users/brinkley97/Documents/development/classe...\n",
       "2    /Users/brinkley97/Documents/development/classe...\n",
       "3    /Users/brinkley97/Documents/development/classe...\n",
       "4    /Users/brinkley97/Documents/development/classe...\n",
       "..                                                 ...\n",
       "647  /Users/brinkley97/Documents/development/classe...\n",
       "648  /Users/brinkley97/Documents/development/classe...\n",
       "649  /Users/brinkley97/Documents/development/classe...\n",
       "650  /Users/brinkley97/Documents/development/classe...\n",
       "651  /Users/brinkley97/Documents/development/classe...\n",
       "\n",
       "[652 rows x 1 columns]"
      ]
     },
     "execution_count": 16,
     "metadata": {},
     "output_type": "execute_result"
    }
   ],
   "source": [
    "msp_t_paths_to_faces_df"
   ]
  },
  {
   "cell_type": "code",
   "execution_count": 17,
   "id": "514e1d71-1b63-495e-a578-18ba69ecc777",
   "metadata": {},
   "outputs": [],
   "source": [
    "# save_data_df\n",
    "compression_opts_msp_t = dict(method='zip', archive_name='all_subset_paths_to_msp_t_faces.csv')  \n",
    "path_to_csv_msp_t = BASE + CLASS_PATH + DATASET_PATH + 'msp_t/' + 'all_subset_paths_to_msp_t_faces.zip' \n",
    "msp_t_paths_to_faces_df.to_csv(path_to_csv_msp_t, compression=compression_opts_msp_t)"
   ]
  },
  {
   "cell_type": "code",
   "execution_count": null,
   "id": "5b6069e1-d8f9-450a-91d9-6d2b7d4fd58e",
   "metadata": {},
   "outputs": [],
   "source": []
  },
  {
   "cell_type": "code",
   "execution_count": null,
   "id": "d2ba1a31-7e55-4306-922a-b12bf76e0f97",
   "metadata": {},
   "outputs": [],
   "source": [
    "path_to_faces_folder_msp_t = BASE + CLASS_PATH + DATASET_PATH + 'msp_t/subset_all_frames_to_faces_msp_t/'\n",
    "store_faces_paths_msp_t = store_paths(path_to_faces_folder_msp_t)"
   ]
  }
 ],
 "metadata": {
  "kernelspec": {
   "display_name": "Python 3 (ipykernel)",
   "language": "python",
   "name": "python3"
  },
  "language_info": {
   "codemirror_mode": {
    "name": "ipython",
    "version": 3
   },
   "file_extension": ".py",
   "mimetype": "text/x-python",
   "name": "python",
   "nbconvert_exporter": "python",
   "pygments_lexer": "ipython3",
   "version": "3.9.12"
  }
 },
 "nbformat": 4,
 "nbformat_minor": 5
}

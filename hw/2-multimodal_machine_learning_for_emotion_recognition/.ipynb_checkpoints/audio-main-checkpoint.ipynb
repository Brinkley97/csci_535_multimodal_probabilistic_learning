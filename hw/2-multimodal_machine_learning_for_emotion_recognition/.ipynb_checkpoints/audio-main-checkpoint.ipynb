{
 "cells": [
  {
   "cell_type": "markdown",
   "id": "fec75cb7-4fa7-425a-a413-69c3a165ed7d",
   "metadata": {},
   "source": [
    "# HW 2 Multimodal Machine Learning for Emotion Recognition\n",
    "\n",
    "- main with sub notebooks\n",
    "    1. audio (acoustic) (this notebook)\n",
    "    2. text (lexical)\n",
    "    3. visual\n",
    "    \n",
    "- `%load` and `%run` with [cell magic](https://ipython.readthedocs.io/en/stable/interactive/magics.html#magic-load): This allows us to get code from another notebook"
   ]
  },
  {
   "cell_type": "code",
   "execution_count": 1,
   "id": "b472f275-16d9-46f8-bfc6-ce4436eccb54",
   "metadata": {},
   "outputs": [],
   "source": [
    "# !pip install scikit-image"
   ]
  },
  {
   "cell_type": "code",
   "execution_count": 2,
   "id": "0a659641-e57e-49c4-93b6-9fa8641b6115",
   "metadata": {},
   "outputs": [],
   "source": [
    "\n",
    "import pandas as pd\n",
    "import numpy as np\n",
    "import librosa, librosa.display\n",
    "import matplotlib.pyplot as plt\n",
    "\n",
    "import skimage.measure"
   ]
  },
  {
   "cell_type": "code",
   "execution_count": 3,
   "id": "9a247f97-980e-49ff-b934-ead4360f8aa8",
   "metadata": {},
   "outputs": [],
   "source": [
    "main_notebook = 'main.ipynb'"
   ]
  },
  {
   "cell_type": "code",
   "execution_count": 4,
   "id": "e0f3ba69-c54e-4857-909d-507905120c4a",
   "metadata": {},
   "outputs": [],
   "source": [
    "%load main_notebook"
   ]
  },
  {
   "cell_type": "code",
   "execution_count": 5,
   "id": "6030d5d9-e99a-4918-9494-2304fb5fc5bc",
   "metadata": {},
   "outputs": [],
   "source": [
    "%run 'main.ipynb'"
   ]
  },
  {
   "cell_type": "code",
   "execution_count": null,
   "id": "cc35d880-9a40-47c0-b6c7-4a9e2adba821",
   "metadata": {},
   "outputs": [],
   "source": []
  }
 ],
 "metadata": {
  "kernelspec": {
   "display_name": "Python 3 (ipykernel)",
   "language": "python",
   "name": "python3"
  },
  "language_info": {
   "codemirror_mode": {
    "name": "ipython",
    "version": 3
   },
   "file_extension": ".py",
   "mimetype": "text/x-python",
   "name": "python",
   "nbconvert_exporter": "python",
   "pygments_lexer": "ipython3",
   "version": "3.9.16"
  }
 },
 "nbformat": 4,
 "nbformat_minor": 5
}

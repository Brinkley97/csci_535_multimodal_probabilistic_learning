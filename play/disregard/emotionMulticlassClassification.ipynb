{
 "cells": [
  {
   "cell_type": "markdown",
   "id": "5339ce18-f724-460f-8f14-7f104ab73831",
   "metadata": {
    "jp-MarkdownHeadingCollapsed": true,
    "tags": []
   },
   "source": [
    "# Emotion classification multiclass example"
   ]
  },
  {
   "cell_type": "markdown",
   "id": "33f4c027-db72-4ac9-919c-ceb77786a01f",
   "metadata": {
    "jp-MarkdownHeadingCollapsed": true,
    "tags": []
   },
   "source": [
    "## Multiclass Classification\n",
    "\n",
    "1. Multi as in multiple + Class as in categories = so with multiple categories, predict which category the input (also known as feature vectors) falls in [3] with SHAP [1]\n",
    "        \n",
    "\n",
    "2. Plain English [2][3]:\n",
    "        - (1) inputs (feature vectors): Set of sentences\n",
    "        - (2) output (label): 6 Emotions - Joy, Sadness, Anger, Fear, Love, and Surprise\n",
    "        - (3) goal (learn a mapping): Map sentence to 1 of the 6 emotion\n",
    "        \n",
    "\n",
    "3. Mathematical Notation [3]:\n",
    "        $$\n",
    "        (1) \\space x \\in R^D \\newline\n",
    "        (2) \\space y \\in [C] = {1, 2, ..., C} \\newline\n",
    "        (3) \\space f: R^D \\rightarrow [C] \n",
    "        $$\n",
    "\n",
    "## SHAP [1]\n",
    "\n",
    "1. (SHapley Additive exPlanations) is a game theoretic approach to explain the output of any machine learning model"
   ]
  },
  {
   "cell_type": "markdown",
   "id": "6119b9ab-dec6-43de-ba52-f3aff2088d0c",
   "metadata": {},
   "source": [
    "# Imports + Load Dataset"
   ]
  },
  {
   "cell_type": "code",
   "execution_count": 1,
   "id": "8d9f4598-c8db-45c5-87a1-8820810d2bbe",
   "metadata": {},
   "outputs": [],
   "source": [
    "# conda install -c conda-forge shap\n",
    "# !pip install torch\n",
    "# !pip install transformers"
   ]
  },
  {
   "cell_type": "code",
   "execution_count": 2,
   "id": "9aa880e6-290b-4802-ad87-b2a8d74e056b",
   "metadata": {},
   "outputs": [
    {
     "name": "stderr",
     "output_type": "stream",
     "text": [
      "/Users/brinkley97/opt/anaconda3/envs/emotion_rec_from_audiovisual/lib/python3.9/site-packages/tqdm/auto.py:22: TqdmWarning: IProgress not found. Please update jupyter and ipywidgets. See https://ipywidgets.readthedocs.io/en/stable/user_install.html\n",
      "  from .autonotebook import tqdm as notebook_tqdm\n"
     ]
    }
   ],
   "source": [
    "import pandas as pd\n",
    "import numpy as np\n",
    "import scipy as sp\n",
    "import matplotlib.pyplot as plt\n",
    "import torch\n",
    "import transformers\n",
    "import datasets\n",
    "import shap"
   ]
  },
  {
   "cell_type": "code",
   "execution_count": 3,
   "id": "6a00b7a9-5c1c-4aba-a396-4207dfc1bf9a",
   "metadata": {},
   "outputs": [
    {
     "name": "stderr",
     "output_type": "stream",
     "text": [
      "No config specified, defaulting to: emotion/split\n",
      "Found cached dataset emotion (/Users/brinkley97/.cache/huggingface/datasets/emotion/split/1.0.0/cca5efe2dfeb58c1d098e0f9eeb200e9927d889b5a03c67097275dfb5fe463bd)\n"
     ]
    }
   ],
   "source": [
    "dataset  = datasets.load_dataset(\"emotion\", split = \"train\")\n",
    "data = pd.DataFrame({'text':dataset['text'],'emotion':dataset['label']})"
   ]
  },
  {
   "cell_type": "code",
   "execution_count": 4,
   "id": "65740a13-4bda-4ed6-90f1-762f020751c4",
   "metadata": {},
   "outputs": [
    {
     "data": {
      "text/plain": [
       "Dataset({\n",
       "    features: ['text', 'label'],\n",
       "    num_rows: 16000\n",
       "})"
      ]
     },
     "execution_count": 4,
     "metadata": {},
     "output_type": "execute_result"
    }
   ],
   "source": [
    "dataset"
   ]
  },
  {
   "cell_type": "code",
   "execution_count": 5,
   "id": "b18637dd-6e4c-4c42-a488-0ae7e4262e3e",
   "metadata": {},
   "outputs": [
    {
     "data": {
      "text/html": [
       "<div>\n",
       "<style scoped>\n",
       "    .dataframe tbody tr th:only-of-type {\n",
       "        vertical-align: middle;\n",
       "    }\n",
       "\n",
       "    .dataframe tbody tr th {\n",
       "        vertical-align: top;\n",
       "    }\n",
       "\n",
       "    .dataframe thead th {\n",
       "        text-align: right;\n",
       "    }\n",
       "</style>\n",
       "<table border=\"1\" class=\"dataframe\">\n",
       "  <thead>\n",
       "    <tr style=\"text-align: right;\">\n",
       "      <th></th>\n",
       "      <th>text</th>\n",
       "      <th>emotion</th>\n",
       "    </tr>\n",
       "  </thead>\n",
       "  <tbody>\n",
       "    <tr>\n",
       "      <th>0</th>\n",
       "      <td>i didnt feel humiliated</td>\n",
       "      <td>0</td>\n",
       "    </tr>\n",
       "    <tr>\n",
       "      <th>1</th>\n",
       "      <td>i can go from feeling so hopeless to so damned...</td>\n",
       "      <td>0</td>\n",
       "    </tr>\n",
       "    <tr>\n",
       "      <th>2</th>\n",
       "      <td>im grabbing a minute to post i feel greedy wrong</td>\n",
       "      <td>3</td>\n",
       "    </tr>\n",
       "    <tr>\n",
       "      <th>3</th>\n",
       "      <td>i am ever feeling nostalgic about the fireplac...</td>\n",
       "      <td>2</td>\n",
       "    </tr>\n",
       "    <tr>\n",
       "      <th>4</th>\n",
       "      <td>i am feeling grouchy</td>\n",
       "      <td>3</td>\n",
       "    </tr>\n",
       "    <tr>\n",
       "      <th>...</th>\n",
       "      <td>...</td>\n",
       "      <td>...</td>\n",
       "    </tr>\n",
       "    <tr>\n",
       "      <th>15995</th>\n",
       "      <td>i just had a very brief time in the beanbag an...</td>\n",
       "      <td>0</td>\n",
       "    </tr>\n",
       "    <tr>\n",
       "      <th>15996</th>\n",
       "      <td>i am now turning and i feel pathetic that i am...</td>\n",
       "      <td>0</td>\n",
       "    </tr>\n",
       "    <tr>\n",
       "      <th>15997</th>\n",
       "      <td>i feel strong and good overall</td>\n",
       "      <td>1</td>\n",
       "    </tr>\n",
       "    <tr>\n",
       "      <th>15998</th>\n",
       "      <td>i feel like this was such a rude comment and i...</td>\n",
       "      <td>3</td>\n",
       "    </tr>\n",
       "    <tr>\n",
       "      <th>15999</th>\n",
       "      <td>i know a lot but i feel so stupid because i ca...</td>\n",
       "      <td>0</td>\n",
       "    </tr>\n",
       "  </tbody>\n",
       "</table>\n",
       "<p>16000 rows × 2 columns</p>\n",
       "</div>"
      ],
      "text/plain": [
       "                                                    text  emotion\n",
       "0                                i didnt feel humiliated        0\n",
       "1      i can go from feeling so hopeless to so damned...        0\n",
       "2       im grabbing a minute to post i feel greedy wrong        3\n",
       "3      i am ever feeling nostalgic about the fireplac...        2\n",
       "4                                   i am feeling grouchy        3\n",
       "...                                                  ...      ...\n",
       "15995  i just had a very brief time in the beanbag an...        0\n",
       "15996  i am now turning and i feel pathetic that i am...        0\n",
       "15997                     i feel strong and good overall        1\n",
       "15998  i feel like this was such a rude comment and i...        3\n",
       "15999  i know a lot but i feel so stupid because i ca...        0\n",
       "\n",
       "[16000 rows x 2 columns]"
      ]
     },
     "execution_count": 5,
     "metadata": {},
     "output_type": "execute_result"
    }
   ],
   "source": [
    "data"
   ]
  },
  {
   "cell_type": "code",
   "execution_count": null,
   "id": "502a13fb-b556-45c6-913f-24f66372eefc",
   "metadata": {},
   "outputs": [],
   "source": [
    "# load the model and tokenizer\n",
    "tokenizer = transformers.AutoTokenizer.from_pretrained(\"nateraw/bert-base-uncased-emotion\", use_fast=True)\n",
    "model = transformers.AutoModelForSequenceClassification.from_pretrained(\"nateraw/bert-base-uncased-emotion\").cuda()\n",
    "\n",
    "# build a pipeline object to do predictions\n",
    "pred = transformers.pipeline(\"text-classification\", model=model, tokenizer=tokenizer, device=0, return_all_scores=True)"
   ]
  },
  {
   "cell_type": "code",
   "execution_count": null,
   "id": "9c207044-457f-4364-b9c8-031a1671956e",
   "metadata": {},
   "outputs": [],
   "source": []
  },
  {
   "cell_type": "markdown",
   "id": "138d69fe-7e58-4ac2-bf14-93b6b1ceb982",
   "metadata": {},
   "source": [
    "# References\n",
    "\n",
    "1. [SHAP Documentation](https://shap.readthedocs.io/en/latest/index.html)\n",
    "2. [SHAP - Emotion classification multiclass example](https://shap.readthedocs.io/en/latest/example_notebooks/text_examples/sentiment_analysis/Emotion%20classification%20multiclass%20example.html)\n",
    "3. [Multiclass classification - A general approach + Thoughts](https://detraviousjbrinkley.notion.site/Classification-aka-Categorical-519984d18e3748c287b94d318e1fd0aa) by Detravious"
   ]
  },
  {
   "cell_type": "code",
   "execution_count": null,
   "id": "896128b4-d34b-4b68-bb5a-6f259f436d3e",
   "metadata": {},
   "outputs": [],
   "source": []
  }
 ],
 "metadata": {
  "kernelspec": {
   "display_name": "Python 3 (ipykernel)",
   "language": "python",
   "name": "python3"
  },
  "language_info": {
   "codemirror_mode": {
    "name": "ipython",
    "version": 3
   },
   "file_extension": ".py",
   "mimetype": "text/x-python",
   "name": "python",
   "nbconvert_exporter": "python",
   "pygments_lexer": "ipython3",
   "version": "3.9.16"
  }
 },
 "nbformat": 4,
 "nbformat_minor": 5
}

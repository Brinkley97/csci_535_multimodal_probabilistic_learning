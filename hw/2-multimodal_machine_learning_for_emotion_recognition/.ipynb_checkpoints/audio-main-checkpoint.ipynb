{
 "cells": [
  {
   "cell_type": "markdown",
   "id": "fec75cb7-4fa7-425a-a413-69c3a165ed7d",
   "metadata": {},
   "source": [
    "# HW 2 Multimodal Machine Learning for Emotion Recognition\n",
    "\n",
    "- main with sub notebooks\n",
    "    1. audio (acoustic) (this notebook)\n",
    "    2. text (lexical)\n",
    "    3. visual\n",
    "    \n",
    "- `%load` and `%run` with [cell magic](https://ipython.readthedocs.io/en/stable/interactive/magics.html#magic-load): This allows us to get code from another notebook"
   ]
  },
  {
   "cell_type": "code",
   "execution_count": null,
   "id": "b472f275-16d9-46f8-bfc6-ce4436eccb54",
   "metadata": {},
   "outputs": [],
   "source": [
    "# !pip install scikit-image"
   ]
  },
  {
   "cell_type": "code",
   "execution_count": 50,
   "id": "9a247f97-980e-49ff-b934-ead4360f8aa8",
   "metadata": {},
   "outputs": [],
   "source": [
    "main_notebook = 'main.ipynb'"
   ]
  },
  {
   "cell_type": "code",
   "execution_count": 51,
   "id": "e0f3ba69-c54e-4857-909d-507905120c4a",
   "metadata": {},
   "outputs": [],
   "source": [
    "# %load main_notebook\n",
    "main.ipynb"
   ]
  },
  {
   "cell_type": "code",
   "execution_count": 52,
   "id": "6030d5d9-e99a-4918-9494-2304fb5fc5bc",
   "metadata": {},
   "outputs": [],
   "source": [
    "%run 'main.ipynb'"
   ]
  },
  {
   "cell_type": "markdown",
   "id": "50008683-4e7c-4f70-8040-4a31c78a3c1b",
   "metadata": {},
   "source": [
    "# TODOs"
   ]
  },
  {
   "cell_type": "markdown",
   "id": "a88b9ffc-6353-49cb-9418-36ac3fc7af72",
   "metadata": {},
   "source": [
    "## Load Data"
   ]
  },
  {
   "cell_type": "code",
   "execution_count": 53,
   "id": "127be921-d9c5-4279-873d-50913ec54466",
   "metadata": {},
   "outputs": [],
   "source": [
    "ys = audio_features_with_y.loc[0:, 'emotion_labels']\n",
    "# ys"
   ]
  },
  {
   "cell_type": "markdown",
   "id": "a00975a0-a938-49f7-bda5-4ab88335d41f",
   "metadata": {},
   "source": [
    "## 1. Reduce Temporal Dimension"
   ]
  },
  {
   "cell_type": "code",
   "execution_count": 54,
   "id": "cc35d880-9a40-47c0-b6c7-4a9e2adba821",
   "metadata": {},
   "outputs": [],
   "source": [
    "def reduce_temporal_dimension(visual_features_paths, ys):\n",
    "    \"\"\"Reduce from 2D to 1D by removing the time dimension\n",
    "    \n",
    "    visual_features_paths -- list\n",
    "    \n",
    "    Return \n",
    "    reduced shapes of each input -- list\n",
    "    \"\"\"\n",
    "    \n",
    "    reduced_audio_features = []\n",
    "    true_labels = []\n",
    "    \n",
    "    for row in range(len(audio_features_paths)):\n",
    "        # print(\"Current path with files is: \", audio_features_path)\n",
    "        path_exists = os.path.exists(audio_features_paths[row])\n",
    "        # print(path_exists)\n",
    "        if path_exists == True:\n",
    "            # print(\"Current path with files is: \", audio_features_path)\n",
    "            load_audio_features_file = np.load(audio_features_paths[row])\n",
    "            # print(\"  Original Shape: \", np.shape(load_audio_features_file))\n",
    "            resampled_audio = np.mean(load_audio_features_file, axis=0)\n",
    "            # print(\"  Reduced shape: \", np.shape(resampled_audio))\n",
    "            reduced_audio_features.append(resampled_audio)\n",
    "            # print(\"  reduced_audio_features: \", np.shape(reduced_audio_features))\n",
    "            true_labels.append(ys[row])\n",
    "            # print()\n",
    "        else:\n",
    "            pass\n",
    "            # print(\"CANNOT find current path: \", audio_features_path)\n",
    "    return reduced_audio_features, true_labels"
   ]
  },
  {
   "cell_type": "code",
   "execution_count": 55,
   "id": "fd579072-5ba4-449b-b459-81fc64048a1e",
   "metadata": {},
   "outputs": [
    {
     "data": {
      "text/plain": [
       "((1327, 128), (1327,))"
      ]
     },
     "execution_count": 55,
     "metadata": {},
     "output_type": "execute_result"
    }
   ],
   "source": [
    "reduced_temporal_dimensions, true_labels = reduce_temporal_dimension(visual_features_paths, ys)\n",
    "np.shape(reduced_temporal_dimensions), np.shape(true_labels)"
   ]
  },
  {
   "cell_type": "markdown",
   "id": "cc9d232b-968f-4c83-a210-a48a7148a4ef",
   "metadata": {},
   "source": [
    "## 2. Perform a Unimodal 4-Class Emotion Classification"
   ]
  },
  {
   "cell_type": "markdown",
   "id": "14404458-2df3-401a-81d2-ac1e41045abd",
   "metadata": {},
   "source": [
    "### Split Data"
   ]
  },
  {
   "cell_type": "code",
   "execution_count": 56,
   "id": "e1b23ae0-f198-4bb2-aac7-e96188e106a0",
   "metadata": {},
   "outputs": [
    {
     "data": {
      "text/plain": [
       "(398, 929, 398, 929, 1327, 1327)"
      ]
     },
     "execution_count": 56,
     "metadata": {},
     "output_type": "execute_result"
    }
   ],
   "source": [
    "X_train, X_test, y_train, y_test = train_test_split(reduced_temporal_dimensions, true_labels, test_size=0.7, random_state=42)\n",
    "total_X = len(X_train) + len(X_test)\n",
    "total_Y = len(y_train) + len(y_test)\n",
    "len(X_train), len(X_test), len(y_train), len(y_test), total_X, total_Y"
   ]
  },
  {
   "cell_type": "code",
   "execution_count": 57,
   "id": "fa624636-4b3c-4768-b1f8-7a1df6477e56",
   "metadata": {},
   "outputs": [
    {
     "data": {
      "text/plain": [
       "(119, 279, 119, 279, 398, 398, (119, 128), (119,))"
      ]
     },
     "execution_count": 57,
     "metadata": {},
     "output_type": "execute_result"
    }
   ],
   "source": [
    "X_train, X_val, y_train, y_val = train_test_split(X_train, y_train, test_size=0.7, random_state=42)\n",
    "total_X = len(X_train) + len(X_val)\n",
    "total_Y = len(y_train) + len(y_val)\n",
    "len(X_train), len(X_val), len(y_train), len(y_val), total_X, total_Y, np.shape(X_train), np.shape(y_train)"
   ]
  },
  {
   "cell_type": "markdown",
   "id": "8f0ffe17-a905-4182-b806-7eddbafee20a",
   "metadata": {},
   "source": [
    "### Without Hyper-Parameter Tuning"
   ]
  },
  {
   "cell_type": "code",
   "execution_count": 58,
   "id": "44792e17-55d7-412b-b34d-eb8e3851d770",
   "metadata": {},
   "outputs": [
    {
     "name": "stdout",
     "output_type": "stream",
     "text": [
      "[INFO] training our linear support vector classification estimator\n",
      "[INFO] fitting on TRAIN...\n",
      "[INFO] evaluating on TEST...\n",
      "0.38751345532831\n",
      "[INFO] classification on TEST...\n"
     ]
    },
    {
     "data": {
      "application/vnd.jupyter.widget-view+json": {
       "model_id": "42da079056a24ef2a9cba123f32acddf",
       "version_major": 2,
       "version_minor": 0
      },
      "image/png": "[encoded data removed]",
      "text/html": [
       "\n",
       "            <div style=\"display: inline-block;\">\n",
       "                <div class=\"jupyter-widgets widget-label\" style=\"text-align: center;\">\n",
       "                    Figure\n",
       "                </div>\n",
       "                <img src='data:image/png;base64,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' width=640.0/>\n",
       "            </div>\n",
       "        "
      ],
      "text/plain": [
       "Canvas(toolbar=Toolbar(toolitems=[('Home', 'Reset original view', 'home', 'home'), ('Back', 'Back to previous …"
      ]
     },
     "metadata": {},
     "output_type": "display_data"
    }
   ],
   "source": [
    "print(\"[INFO] training our linear support vector classification estimator\")\n",
    "classification_estimator = svm.LinearSVC()\n",
    "\n",
    "print(\"[INFO] fitting on TRAIN...\")\n",
    "train_without_hp = classification_estimator.fit(X_train, y_train)\n",
    "\n",
    "print(\"[INFO] evaluating on TEST...\")\n",
    "test_without_hp = train_without_hp.score(X_test, y_test)\n",
    "print(test_without_hp)\n",
    "\n",
    "print(\"[INFO] classification on TEST...\")\n",
    "# make a prediction (returns a list of 0 - 4 values)\n",
    "y_pred_without_hp = train_without_hp.predict(X_test)\n",
    "\n",
    "# show true labels and predictions\n",
    "cm = confusion_matrix(y_test, y_pred_without_hp)\n",
    "sns.heatmap(cm, annot=True, cmap='viridis')\n",
    "plt.show()"
   ]
  },
  {
   "cell_type": "code",
   "execution_count": 59,
   "id": "62a13c64-5f6f-4a3e-8598-88e9f1f4f551",
   "metadata": {},
   "outputs": [
    {
     "name": "stdout",
     "output_type": "stream",
     "text": [
      "              precision    recall  f1-score   support\n",
      "\n",
      "           0       0.62      0.42      0.50       241\n",
      "           1       0.38      0.39      0.39       214\n",
      "           2       0.12      0.18      0.14       119\n",
      "           3       0.42      0.43      0.42       355\n",
      "\n",
      "    accuracy                           0.39       929\n",
      "   macro avg       0.38      0.36      0.36       929\n",
      "weighted avg       0.42      0.39      0.40       929\n",
      "\n"
     ]
    }
   ],
   "source": [
    "print(classification_report(y_test, y_pred_without_hp))"
   ]
  },
  {
   "cell_type": "code",
   "execution_count": 60,
   "id": "6d350ab3-b41f-4256-b7a8-f94ed43bfd69",
   "metadata": {},
   "outputs": [
    {
     "data": {
      "text/plain": [
       "0.38751345532831"
      ]
     },
     "execution_count": 60,
     "metadata": {},
     "output_type": "execute_result"
    }
   ],
   "source": [
    "f1_score(y_test, y_pred_without_hp, average='micro')"
   ]
  },
  {
   "cell_type": "markdown",
   "id": "942076c8-cccd-498d-839b-0c329a9eef48",
   "metadata": {},
   "source": [
    "## With Hyper-Parameter Tuning"
   ]
  },
  {
   "cell_type": "code",
   "execution_count": 61,
   "id": "85d1d79d-892b-42cb-9a82-8b21360f0cd5",
   "metadata": {},
   "outputs": [
    {
     "name": "stdout",
     "output_type": "stream",
     "text": [
      "[INFO] grid searching over the hyper-parameters...\n"
     ]
    },
    {
     "data": {
      "text/plain": [
       "GridSearchCV(cv=10, estimator=LinearSVC(max_iter=3650),\n",
       "             param_grid={'C': [0.01, 0.1, 10, 100],\n",
       "                         'fit_intercept': [True, False],\n",
       "                         'loss': ['hinge', 'squared_hinge'],\n",
       "                         'penalty': ['l2']})"
      ]
     },
     "execution_count": 61,
     "metadata": {},
     "output_type": "execute_result"
    }
   ],
   "source": [
    "# initialize the LinearSVC() estimator \n",
    "classification_estimator = svm.LinearSVC(max_iter=3650)\n",
    "\n",
    "# define the hyper-parameters to perform the grid search over\n",
    "param_grid = {\n",
    "    'C': [0.01, 0.1, 10, 100], \n",
    "    # 'class_weight': [1],\n",
    "    # 'dual':,\n",
    "    'fit_intercept': [True, False],\n",
    "    # 'intercept_scaling':,\n",
    "    'loss': ['hinge', 'squared_hinge'],\n",
    "    # 'max_iter':,\n",
    "     # 'multi_class': [1],\n",
    "    # 'penalty': ['l1', 'l2'],\n",
    "    'penalty': ['l2'],\n",
    "    # 'random_state':,\n",
    "    # 'tol': , \n",
    "    # 'verbose':    \n",
    "}\n",
    "\n",
    "print(\"[INFO] grid searching over the hyper-parameters...\")\n",
    "# perform grid search with our estimator, hyper-parameters, cross-validation\n",
    "linear_classification = GridSearchCV(classification_estimator, param_grid=param_grid, cv=10)\n",
    "linear_classification"
   ]
  },
  {
   "cell_type": "code",
   "execution_count": 62,
   "id": "306c66f5-d1e9-4c60-b3e7-f1cc2535f6a9",
   "metadata": {},
   "outputs": [],
   "source": [
    "# train the model with hyperparameter tuning on all permutation parameters\n",
    "train_with_hp = linear_classification.fit(X_train, y_train)"
   ]
  },
  {
   "cell_type": "code",
   "execution_count": 63,
   "id": "f52e15be-3552-49d9-93f8-3e64ea9932c0",
   "metadata": {},
   "outputs": [
    {
     "name": "stdout",
     "output_type": "stream",
     "text": [
      "[INFO] the best hyper-parameters results are...\n",
      "{'C': 0.01, 'fit_intercept': True, 'loss': 'hinge', 'penalty': 'l2'}\n",
      "\n",
      "[INFO] evaluating on VALIDATION...\n",
      "0.5017921146953405\n",
      "\n",
      "[INFO] the best score...\n",
      "0.5712121212121213\n",
      "[INFO] classification on TEST...\n"
     ]
    },
    {
     "data": {
      "application/vnd.jupyter.widget-view+json": {
       "model_id": "b530bef081444db493121920b3ecd1ea",
       "version_major": 2,
       "version_minor": 0
      },
      "image/png": "[encoded data removed]",
      "text/html": [
       "\n",
       "            <div style=\"display: inline-block;\">\n",
       "                <div class=\"jupyter-widgets widget-label\" style=\"text-align: center;\">\n",
       "                    Figure\n",
       "                </div>\n",
       "                <img src='data:image/png;base64,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' width=640.0/>\n",
       "            </div>\n",
       "        "
      ],
      "text/plain": [
       "Canvas(toolbar=Toolbar(toolitems=[('Home', 'Reset original view', 'home', 'home'), ('Back', 'Back to previous …"
      ]
     },
     "metadata": {},
     "output_type": "display_data"
    }
   ],
   "source": [
    "print(\"[INFO] the best hyper-parameters results are...\")\n",
    "best_params = train_with_hp.best_params_\n",
    "print(best_params)\n",
    "\n",
    "print(\"\\n[INFO] evaluating on VALIDATION...\")\n",
    "validation_with_hp = train_with_hp.score(X_val, y_val)\n",
    "print(validation_with_hp)\n",
    "\n",
    "print(\"\\n[INFO] the best score...\")\n",
    "# show the best score\n",
    "print(train_with_hp.best_score_)\n",
    "\n",
    "print(\"[INFO] classification on TEST...\")\n",
    "# make a prediction (returns a list of 0 - 4 values)\n",
    "y_pred_with_hp = train_with_hp.predict(X_test)\n",
    "\n",
    "# show true labels and predictions\n",
    "cm = confusion_matrix(y_test, y_pred_with_hp)\n",
    "sns.heatmap(cm, annot=True, cmap='viridis')\n",
    "plt.show()"
   ]
  },
  {
   "cell_type": "code",
   "execution_count": 64,
   "id": "8678fdee-5463-4bcd-83d7-33c963528f84",
   "metadata": {},
   "outputs": [
    {
     "name": "stdout",
     "output_type": "stream",
     "text": [
      "              precision    recall  f1-score   support\n",
      "\n",
      "           0       0.63      0.61      0.62       241\n",
      "           1       0.54      0.53      0.54       214\n",
      "           2       0.18      0.02      0.03       119\n",
      "           3       0.49      0.65      0.56       355\n",
      "\n",
      "    accuracy                           0.53       929\n",
      "   macro avg       0.46      0.45      0.44       929\n",
      "weighted avg       0.50      0.53      0.50       929\n",
      "\n"
     ]
    }
   ],
   "source": [
    "print(classification_report(y_test, y_pred_with_hp))"
   ]
  },
  {
   "cell_type": "markdown",
   "id": "878461b2-3305-42ef-9f9c-53ed2b086446",
   "metadata": {},
   "source": [
    "## 3. Classification Results on the Visual Modality"
   ]
  },
  {
   "cell_type": "code",
   "execution_count": 65,
   "id": "d6e54130-6454-4ebf-9924-0f65c454392c",
   "metadata": {},
   "outputs": [
    {
     "data": {
      "text/plain": [
       "0.38751345532831"
      ]
     },
     "execution_count": 65,
     "metadata": {},
     "output_type": "execute_result"
    }
   ],
   "source": [
    "visual_f1_micro = f1_score(y_test, y_pred_without_hp, average='micro')\n",
    "visual_f1_micro"
   ]
  },
  {
   "cell_type": "markdown",
   "id": "64787747-f869-4709-81ad-44b17d3b5fe4",
   "metadata": {},
   "source": [
    "## 4. Class Imbalance"
   ]
  },
  {
   "cell_type": "code",
   "execution_count": 66,
   "id": "747fbeca-e475-4aa1-b79c-e732434efea9",
   "metadata": {},
   "outputs": [],
   "source": [
    "def class_imbalance_check(df):\n",
    "    \"\"\"Differientiate which files belong to which emotion label\n",
    "    \n",
    "    Parameter:\n",
    "    df -- pandas DF with all the files and emotional labels\n",
    "    \n",
    "    Return;\n",
    "    dfs (4) -- pandas DFs with each DF being a classification and having their respective files\n",
    "    \n",
    "    \"\"\"\n",
    "    \n",
    "    classes = len(df)\n",
    "    \n",
    "    for c in range(classes):\n",
    "        # print(c)\n",
    "        y0s = df.emotion_labels == 0\n",
    "        y0s_df = df[y0s]\n",
    "        \n",
    "        \n",
    "        y1s = df.emotion_labels == 1\n",
    "        y1s_df = df[y1s]\n",
    "        \n",
    "        y2s = df.emotion_labels == 2\n",
    "        y2s_df = df[y2s]\n",
    "        \n",
    "        y3s = df.emotion_labels == 3\n",
    "        y3s_df = df[y3s]\n",
    "        \n",
    "    return y0s_df, y1s_df, y2s_df, y3s_df"
   ]
  },
  {
   "cell_type": "code",
   "execution_count": 67,
   "id": "df07fb48-44ce-4b21-9dbb-0e5b180dc9df",
   "metadata": {},
   "outputs": [],
   "source": [
    "y0s_df, y1s_df, y2s_df, y3s_df = class_imbalance_check(audio_features_with_y)"
   ]
  },
  {
   "cell_type": "code",
   "execution_count": 68,
   "id": "bd697416-cebd-4e40-97bc-e0c861a7a747",
   "metadata": {},
   "outputs": [
    {
     "data": {
      "text/plain": [
       "(328, 308, 180, 520)"
      ]
     },
     "execution_count": 68,
     "metadata": {},
     "output_type": "execute_result"
    }
   ],
   "source": [
    "len(y0s_df), len(y1s_df), len(y2s_df), len(y3s_df)"
   ]
  },
  {
   "cell_type": "code",
   "execution_count": null,
   "id": "ee7a4cff-0069-4779-9fc9-7b0d178f05e3",
   "metadata": {},
   "outputs": [],
   "source": []
  }
 ],
 "metadata": {
  "kernelspec": {
   "display_name": "Python 3 (ipykernel)",
   "language": "python",
   "name": "python3"
  },
  "language_info": {
   "codemirror_mode": {
    "name": "ipython",
    "version": 3
   },
   "file_extension": ".py",
   "mimetype": "text/x-python",
   "name": "python",
   "nbconvert_exporter": "python",
   "pygments_lexer": "ipython3",
   "version": "3.9.16"
  }
 },
 "nbformat": 4,
 "nbformat_minor": 5
}

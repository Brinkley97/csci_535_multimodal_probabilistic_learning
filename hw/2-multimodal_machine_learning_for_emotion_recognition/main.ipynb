{
 "cells": [
  {
   "cell_type": "markdown",
   "id": "3aef6b48-080c-4d36-8c42-bb4f3d6a9c30",
   "metadata": {},
   "source": [
    "# HW 2 Multimodal Machine Learning for Emotion Recognition\n",
    "\n",
    "- main (this notebook) with sub notebooks\n",
    "    1. audio (acoustic)\n",
    "    2. text (lexical)\n",
    "    3. visual\n",
    "- IEMOCAP (Interactive Emotional Dyadic Motion Capture) database"
   ]
  },
  {
   "cell_type": "markdown",
   "id": "363ed91f-14a4-4ca3-8ee8-f3546c5d67d6",
   "metadata": {},
   "source": [
    "# TODOs\n",
    "In the file dataset.csv, you are provided with the relative address for the audio, visual and text feature files alongwith their corresponding emotion labels. There are 5 sessions and each session has one male and one female speaker.\n",
    "\n",
    "1. You can use different pooling methods (e.g., max pooling, mean pooling) for reducing the temporal dimensionof the audio and visual files, or use your preferred temporal modeling (e.g., RNN, GRU, LSTM) to obtainfeature vectors per data point.1\n",
    "\n",
    "2. Perform a 4-class emotion classification using your preferred classifier with the obtained feature vectors. Selectthe parameters using Grid Search (search over a range for hyper-parameters). Perform any additional stepsyou see fit to obtain the best results.\n",
    "\n",
    "3. Report your classification results on individual modalities (vision, speech, and text) using F1-micro metricon a 10-fold subject-independent cross validation.\n",
    "\n",
    "4. How do you handle the problem of class imbalance? Plot the confusion matrix for the 4 classes.\n",
    "\n",
    "5. Use both early fusion (concatenate features from different modalities) and late fusion (majority vote over theoutputs of the unimodal models) to obtain multimodal classification results. Report and compare the resultsfor both fusion techniques.\n",
    "\n",
    "6. Provide an interpretation on your results from the performed unimodal and multimodal classification tasks.Which one is performing best and why?\n",
    "\n",
    "*Note*: You are only allowed to use the features and labels provided by us with this assignment. Please refrainfrom using the original data; assignments submitted with any other labels or data will not be graded"
   ]
  },
  {
   "cell_type": "markdown",
   "id": "3496762d-0e98-4562-b1b6-0ba40eb442aa",
   "metadata": {},
   "source": [
    "#  Imports + Load Data"
   ]
  },
  {
   "cell_type": "code",
   "execution_count": 1,
   "id": "e4b7f251-4c3d-4a0e-ae22-07d27bffb72b",
   "metadata": {},
   "outputs": [],
   "source": [
    "import pandas as pd\n",
    "import numpy as np"
   ]
  },
  {
   "cell_type": "code",
   "execution_count": 2,
   "id": "28c7727a-20df-426a-8440-ba502c7575c7",
   "metadata": {},
   "outputs": [],
   "source": [
    "BASE = \"/Users/brinkley97/Documents/development/\"\n",
    "CLASS_PATH = \"classes/csci_535_multimodal_probabilistic_learning/\"\n",
    "DATASET_PATH = \"datasets/hw_2/\"\n",
    "\n",
    "SESSION_1 = \"Session1/\"\n",
    "SESSION_2 = \"Session2\"\n",
    "SESSION_3 = \"Session3/\"\n",
    "SESSION_4 = \"Session4/\"\n",
    "SESSION_5 = \"Session5/\"\n",
    "\n",
    "SES_01F = \"Ses01F_impro01/\"\n",
    "\n",
    "FILE = \"iemocapRelativeAddressForFiles.csv\"\n",
    "file_paths = BASE + CLASS_PATH + DATASET_PATH + FILE"
   ]
  },
  {
   "cell_type": "code",
   "execution_count": 3,
   "id": "4c17318f-eec1-49f6-be4a-45c502fee49e",
   "metadata": {},
   "outputs": [],
   "source": [
    "# pd.set_option('max_colwidth', 62)"
   ]
  },
  {
   "cell_type": "code",
   "execution_count": 4,
   "id": "f6d995c9-e0a3-48fe-a337-a8db4cb64a4b",
   "metadata": {},
   "outputs": [],
   "source": [
    "def load_data(file):\n",
    "    original_data = pd.read_csv(file)\n",
    "    # original_data = pd.DataFrame(file)\n",
    "    copy_of_data = original_data.copy()\n",
    "    return copy_of_data"
   ]
  },
  {
   "cell_type": "code",
   "execution_count": 5,
   "id": "4d7f56b7-2cf6-45b2-8b70-fea26b7e0702",
   "metadata": {},
   "outputs": [
    {
     "data": {
      "text/html": [
       "<div>\n",
       "<style scoped>\n",
       "    .dataframe tbody tr th:only-of-type {\n",
       "        vertical-align: middle;\n",
       "    }\n",
       "\n",
       "    .dataframe tbody tr th {\n",
       "        vertical-align: top;\n",
       "    }\n",
       "\n",
       "    .dataframe thead th {\n",
       "        text-align: right;\n",
       "    }\n",
       "</style>\n",
       "<table border=\"1\" class=\"dataframe\">\n",
       "  <thead>\n",
       "    <tr style=\"text-align: right;\">\n",
       "      <th></th>\n",
       "      <th>file_name_list</th>\n",
       "      <th>speakers</th>\n",
       "      <th>visual_features</th>\n",
       "      <th>acoustic_features</th>\n",
       "      <th>lexical_features</th>\n",
       "      <th>emotion_labels</th>\n",
       "    </tr>\n",
       "  </thead>\n",
       "  <tbody>\n",
       "    <tr>\n",
       "      <th>0</th>\n",
       "      <td>Ses01F_impro01_F001</td>\n",
       "      <td>F01</td>\n",
       "      <td>/features/visual_features/Session1/Ses01F_impr...</td>\n",
       "      <td>/features/acoustic_features/Session1/Ses01F_im...</td>\n",
       "      <td>/features/lexical_features/Session1/Ses01F_imp...</td>\n",
       "      <td>3</td>\n",
       "    </tr>\n",
       "    <tr>\n",
       "      <th>1</th>\n",
       "      <td>Ses01F_impro01_M011</td>\n",
       "      <td>M01</td>\n",
       "      <td>/features/visual_features/Session1/Ses01F_impr...</td>\n",
       "      <td>/features/acoustic_features/Session1/Ses01F_im...</td>\n",
       "      <td>/features/lexical_features/Session1/Ses01F_imp...</td>\n",
       "      <td>0</td>\n",
       "    </tr>\n",
       "    <tr>\n",
       "      <th>2</th>\n",
       "      <td>Ses01F_impro02_F002</td>\n",
       "      <td>F01</td>\n",
       "      <td>/features/visual_features/Session1/Ses01F_impr...</td>\n",
       "      <td>/features/acoustic_features/Session1/Ses01F_im...</td>\n",
       "      <td>/features/lexical_features/Session1/Ses01F_imp...</td>\n",
       "      <td>1</td>\n",
       "    </tr>\n",
       "    <tr>\n",
       "      <th>3</th>\n",
       "      <td>Ses01F_impro02_F003</td>\n",
       "      <td>F01</td>\n",
       "      <td>/features/visual_features/Session1/Ses01F_impr...</td>\n",
       "      <td>/features/acoustic_features/Session1/Ses01F_im...</td>\n",
       "      <td>/features/lexical_features/Session1/Ses01F_imp...</td>\n",
       "      <td>3</td>\n",
       "    </tr>\n",
       "    <tr>\n",
       "      <th>4</th>\n",
       "      <td>Ses01F_impro02_F004</td>\n",
       "      <td>F01</td>\n",
       "      <td>/features/visual_features/Session1/Ses01F_impr...</td>\n",
       "      <td>/features/acoustic_features/Session1/Ses01F_im...</td>\n",
       "      <td>/features/lexical_features/Session1/Ses01F_imp...</td>\n",
       "      <td>1</td>\n",
       "    </tr>\n",
       "    <tr>\n",
       "      <th>...</th>\n",
       "      <td>...</td>\n",
       "      <td>...</td>\n",
       "      <td>...</td>\n",
       "      <td>...</td>\n",
       "      <td>...</td>\n",
       "      <td>...</td>\n",
       "    </tr>\n",
       "    <tr>\n",
       "      <th>1331</th>\n",
       "      <td>Ses05M_script03_2_M029</td>\n",
       "      <td>M05</td>\n",
       "      <td>/features/visual_features/Session5/Ses05M_scri...</td>\n",
       "      <td>/features/acoustic_features/Session5/Ses05M_sc...</td>\n",
       "      <td>/features/lexical_features/Session5/Ses05M_scr...</td>\n",
       "      <td>0</td>\n",
       "    </tr>\n",
       "    <tr>\n",
       "      <th>1332</th>\n",
       "      <td>Ses05M_script03_2_M039</td>\n",
       "      <td>M05</td>\n",
       "      <td>/features/visual_features/Session5/Ses05M_scri...</td>\n",
       "      <td>/features/acoustic_features/Session5/Ses05M_sc...</td>\n",
       "      <td>/features/lexical_features/Session5/Ses05M_scr...</td>\n",
       "      <td>0</td>\n",
       "    </tr>\n",
       "    <tr>\n",
       "      <th>1333</th>\n",
       "      <td>Ses05M_script03_2_M041</td>\n",
       "      <td>M05</td>\n",
       "      <td>/features/visual_features/Session5/Ses05M_scri...</td>\n",
       "      <td>/features/acoustic_features/Session5/Ses05M_sc...</td>\n",
       "      <td>/features/lexical_features/Session5/Ses05M_scr...</td>\n",
       "      <td>0</td>\n",
       "    </tr>\n",
       "    <tr>\n",
       "      <th>1334</th>\n",
       "      <td>Ses05M_script03_2_M042</td>\n",
       "      <td>M05</td>\n",
       "      <td>/features/visual_features/Session5/Ses05M_scri...</td>\n",
       "      <td>/features/acoustic_features/Session5/Ses05M_sc...</td>\n",
       "      <td>/features/lexical_features/Session5/Ses05M_scr...</td>\n",
       "      <td>0</td>\n",
       "    </tr>\n",
       "    <tr>\n",
       "      <th>1335</th>\n",
       "      <td>Ses05M_script03_2_M043</td>\n",
       "      <td>M05</td>\n",
       "      <td>/features/visual_features/Session5/Ses05M_scri...</td>\n",
       "      <td>/features/acoustic_features/Session5/Ses05M_sc...</td>\n",
       "      <td>/features/lexical_features/Session5/Ses05M_scr...</td>\n",
       "      <td>0</td>\n",
       "    </tr>\n",
       "  </tbody>\n",
       "</table>\n",
       "<p>1336 rows × 6 columns</p>\n",
       "</div>"
      ],
      "text/plain": [
       "              file_name_list speakers  \\\n",
       "0        Ses01F_impro01_F001      F01   \n",
       "1        Ses01F_impro01_M011      M01   \n",
       "2        Ses01F_impro02_F002      F01   \n",
       "3        Ses01F_impro02_F003      F01   \n",
       "4        Ses01F_impro02_F004      F01   \n",
       "...                      ...      ...   \n",
       "1331  Ses05M_script03_2_M029      M05   \n",
       "1332  Ses05M_script03_2_M039      M05   \n",
       "1333  Ses05M_script03_2_M041      M05   \n",
       "1334  Ses05M_script03_2_M042      M05   \n",
       "1335  Ses05M_script03_2_M043      M05   \n",
       "\n",
       "                                        visual_features  \\\n",
       "0     /features/visual_features/Session1/Ses01F_impr...   \n",
       "1     /features/visual_features/Session1/Ses01F_impr...   \n",
       "2     /features/visual_features/Session1/Ses01F_impr...   \n",
       "3     /features/visual_features/Session1/Ses01F_impr...   \n",
       "4     /features/visual_features/Session1/Ses01F_impr...   \n",
       "...                                                 ...   \n",
       "1331  /features/visual_features/Session5/Ses05M_scri...   \n",
       "1332  /features/visual_features/Session5/Ses05M_scri...   \n",
       "1333  /features/visual_features/Session5/Ses05M_scri...   \n",
       "1334  /features/visual_features/Session5/Ses05M_scri...   \n",
       "1335  /features/visual_features/Session5/Ses05M_scri...   \n",
       "\n",
       "                                      acoustic_features  \\\n",
       "0     /features/acoustic_features/Session1/Ses01F_im...   \n",
       "1     /features/acoustic_features/Session1/Ses01F_im...   \n",
       "2     /features/acoustic_features/Session1/Ses01F_im...   \n",
       "3     /features/acoustic_features/Session1/Ses01F_im...   \n",
       "4     /features/acoustic_features/Session1/Ses01F_im...   \n",
       "...                                                 ...   \n",
       "1331  /features/acoustic_features/Session5/Ses05M_sc...   \n",
       "1332  /features/acoustic_features/Session5/Ses05M_sc...   \n",
       "1333  /features/acoustic_features/Session5/Ses05M_sc...   \n",
       "1334  /features/acoustic_features/Session5/Ses05M_sc...   \n",
       "1335  /features/acoustic_features/Session5/Ses05M_sc...   \n",
       "\n",
       "                                       lexical_features  emotion_labels  \n",
       "0     /features/lexical_features/Session1/Ses01F_imp...               3  \n",
       "1     /features/lexical_features/Session1/Ses01F_imp...               0  \n",
       "2     /features/lexical_features/Session1/Ses01F_imp...               1  \n",
       "3     /features/lexical_features/Session1/Ses01F_imp...               3  \n",
       "4     /features/lexical_features/Session1/Ses01F_imp...               1  \n",
       "...                                                 ...             ...  \n",
       "1331  /features/lexical_features/Session5/Ses05M_scr...               0  \n",
       "1332  /features/lexical_features/Session5/Ses05M_scr...               0  \n",
       "1333  /features/lexical_features/Session5/Ses05M_scr...               0  \n",
       "1334  /features/lexical_features/Session5/Ses05M_scr...               0  \n",
       "1335  /features/lexical_features/Session5/Ses05M_scr...               0  \n",
       "\n",
       "[1336 rows x 6 columns]"
      ]
     },
     "execution_count": 5,
     "metadata": {},
     "output_type": "execute_result"
    }
   ],
   "source": [
    "# 4 classes - anger(0), sadness(1) and happiness(2),and neutral(3)\n",
    "dataset_copy = load_data(file_paths)\n",
    "dataset_copy"
   ]
  },
  {
   "cell_type": "markdown",
   "id": "4c326259-376f-4b2f-bb0d-81cb37cda63a",
   "metadata": {},
   "source": [
    "## Load Audio (Acoustic) features"
   ]
  },
  {
   "cell_type": "code",
   "execution_count": 6,
   "id": "4b46385e-2c88-46bd-b403-d94573a7ead9",
   "metadata": {},
   "outputs": [],
   "source": [
    "audio_features = BASE + CLASS_PATH + DATASET_PATH + 'acoustic_features/' + SESSION_1 + SES_01F\n",
    "audio_features\n",
    "file_name = audio_features + 'Ses01F_impro01_F001.npy'"
   ]
  },
  {
   "cell_type": "code",
   "execution_count": 8,
   "id": "feafd7bb-f087-4256-87bb-696c545179ba",
   "metadata": {},
   "outputs": [
    {
     "data": {
      "text/plain": [
       "array([[-0.02412775,  1.3312446 , -1.0692344 ,  0.        ,  0.        ,\n",
       "         0.        ,  0.49266195, -0.34168002,  0.        ,  0.        ,\n",
       "         1.5995374 ,  0.9650637 ,  0.        ,  0.4452419 , -0.02679965,\n",
       "        -0.4459556 , -0.6602139 ,  0.03695456,  0.        ,  0.25653026,\n",
       "         0.        ,  0.76028717,  0.        , -0.06926002, -0.10694285,\n",
       "        -1.5329561 , -0.30561072, -0.76459134, -1.316774  ,  1.2008328 ,\n",
       "         0.1895207 , -0.54566604,  0.5053761 , -0.15207583, -0.04264257,\n",
       "        -0.6639512 ,  0.46754697,  0.        ,  0.        , -0.4157218 ,\n",
       "        -0.20238322,  0.        ,  0.00785335,  0.        , -0.51123357,\n",
       "        -0.36928818, -0.20766369,  0.1882203 , -0.28260076, -0.13990402,\n",
       "         0.23986907,  0.        ,  0.        ,  0.        ,  0.66090965,\n",
       "        -0.04950017, -0.34798825,  0.896122  , -0.0301679 , -0.09909478,\n",
       "        -0.46761015,  0.1463503 , -0.10861468, -0.03854222,  0.        ,\n",
       "         0.        ,  0.        , -0.82999325, -0.25575554, -0.090709  ,\n",
       "         1.1528424 ,  2.2414525 , -0.6550392 , -0.04885865, -0.02822889,\n",
       "        -0.6427952 ,  0.        , -0.39685896,  0.        , -0.1129005 ,\n",
       "         0.        , -0.7384748 , -0.4384261 ,  0.        ,  0.17453831,\n",
       "        -0.71895415,  0.5397041 , -0.03676651, -0.1039436 , -0.10576621,\n",
       "         0.        ,  0.26074958, -0.24142917, -1.0581464 , -0.04173967,\n",
       "        -0.6684832 ,  0.        , -0.03308611, -0.38609493,  0.        ,\n",
       "         0.        , -0.07959922, -0.05389164, -0.03777425,  0.        ,\n",
       "         0.        ,  2.1715255 ,  0.        , -0.3027857 , -0.0548142 ,\n",
       "         0.        , -0.15748341, -0.01505619,  1.2996615 ,  0.        ,\n",
       "         0.6708809 , -0.18239076, -0.03040338,  0.        , -0.03086868,\n",
       "         0.08314943, -0.01708612,  0.        ,  0.        ,  0.22653393,\n",
       "        -0.01661444,  0.4902663 , -0.48119876]], dtype=float32)"
      ]
     },
     "execution_count": 8,
     "metadata": {},
     "output_type": "execute_result"
    }
   ],
   "source": [
    "testing_audio_session_1 = np.load(file_name)\n",
    "testing_audio_session_1"
   ]
  },
  {
   "cell_type": "markdown",
   "id": "2c4578af-7680-4b9f-9c25-179ca718fd6e",
   "metadata": {},
   "source": [
    "## Load Text (Lexical) features\n",
    "file_paths = BASE + CLASS_PATH + DATASET_PATH + FILE"
   ]
  },
  {
   "cell_type": "markdown",
   "id": "ee403c76-babd-447c-886c-04aa6538b6fd",
   "metadata": {},
   "source": [
    "## Load Visual features\n",
    "file_paths = BASE + CLASS_PATH + DATASET_PATH + FILE"
   ]
  },
  {
   "cell_type": "code",
   "execution_count": null,
   "id": "f408b6a6-c07f-4926-ade5-ac1245cb7992",
   "metadata": {},
   "outputs": [],
   "source": []
  }
 ],
 "metadata": {
  "kernelspec": {
   "display_name": "Python 3 (ipykernel)",
   "language": "python",
   "name": "python3"
  },
  "language_info": {
   "codemirror_mode": {
    "name": "ipython",
    "version": 3
   },
   "file_extension": ".py",
   "mimetype": "text/x-python",
   "name": "python",
   "nbconvert_exporter": "python",
   "pygments_lexer": "ipython3",
   "version": "3.9.16"
  }
 },
 "nbformat": 4,
 "nbformat_minor": 5
}

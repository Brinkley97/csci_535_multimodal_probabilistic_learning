{
 "cells": [
  {
   "cell_type": "code",
   "execution_count": null,
   "id": "3a98106b-cfb9-4fc6-829d-b0e3e8ed1302",
   "metadata": {},
   "outputs": [],
   "source": [
    "import os\n",
    "import cv2"
   ]
  },
  {
   "cell_type": "code",
   "execution_count": null,
   "id": "734058e4-7dd1-4f83-a9d2-ceb562f67a30",
   "metadata": {},
   "outputs": [],
   "source": [
    "BASE = '/Users/brinkley97/Documents/development/'\n",
    "CLASS_PATH = 'classes/csci_535_multimodal_probabilistic_learning/'\n",
    "DATASET_PATH = 'datasets/project/'"
   ]
  },
  {
   "cell_type": "code",
   "execution_count": null,
   "id": "ce33b384-7485-4ed9-a508-a110ac72b368",
   "metadata": {},
   "outputs": [],
   "source": [
    "def save_frames_to_file(vidcap, video_frames_path, video):\n",
    "    \"\"\"\n",
    "\n",
    "    vidcap -- cv video\n",
    "    video_frames_path -- str (path to save videos)\n",
    "\n",
    "    \"\"\"\n",
    "    success, image = vidcap.read()\n",
    "    count = 0\n",
    "    path_empty = os.listdir(video_frames_path)\n",
    "\n",
    "    # Checking if the list is empty or not\n",
    "    if len(path_empty) == 0:\n",
    "      # print(\"Empty directory\")\n",
    "      while success:\n",
    "        # print(video_frames_path + video + \"frame%d.jpg\")\n",
    "        # save frame as JPEG file\n",
    "        cv2.imwrite(video_frames_path + video + \"_frame%d.jpg\" % count, image)\n",
    "        success, image = vidcap.read()\n",
    "        # print('Read a new frame: ', success)\n",
    "        count += 1\n",
    "    else:\n",
    "        pass\n",
    "    "
   ]
  },
  {
   "cell_type": "code",
   "execution_count": null,
   "id": "63545f56-0fbf-4d91-8f58-b1af87196d47",
   "metadata": {},
   "outputs": [],
   "source": [
    "def get_video(video_dir, videos, new_path):\n",
    "    '''\n",
    "    video_dir -- py str (of the path where the videos are located)\n",
    "    videos -- py list (of all videos in video_dir)\n",
    "    new_path -- py str (of where to save the frames)\n",
    "    \n",
    "    change file extension for \n",
    "    -- IPD to .mp4\n",
    "    -- CREMA-D to .flv\n",
    "    -- MSP to .avi\n",
    "    '''\n",
    "\n",
    "    for video_idx in range(len(videos)):\n",
    "        video = videos[video_idx]\n",
    "        \n",
    "        if video.endswith('.avi'):\n",
    "            print(video_idx, video)\n",
    "            # print(video)\n",
    "            video_name = os.path.splitext(video)[0]\n",
    "            # print(video_name)\n",
    "            # video_frames_path = os.path.splitext(video_dir + \"videos_to_frames/\" + video)[0] + \"_frames/\"\n",
    "            video_frames_path = new_path + video_name + \"_frames/\"\n",
    "            # print(video_frames_path)\n",
    "            folder_exists = os.path.exists(video_frames_path)\n",
    "            # print(folder_exists)\n",
    "\n",
    "            if folder_exists == False:\n",
    "                # print('create folder')\n",
    "                os.mkdir(video_frames_path)\n",
    "\n",
    "                '''\n",
    "                CREMA-D\n",
    "                '''\n",
    "                # cd_video_file = video_dir + video\n",
    "                # # print(cd_video_file)\n",
    "                # vidcap = cv2.VideoCapture(cd_video_file)\n",
    "                # save_frames_to_file(vidcap, video_frames_path, video_name)\n",
    "\n",
    "                '''\n",
    "                MSP\n",
    "                '''\n",
    "                cd_video_file = video_dir + video\n",
    "                # print(cd_video_file)\n",
    "                vidcap = cv2.VideoCapture(cd_video_file)\n",
    "                save_frames_to_file(vidcap, video_frames_path, video_name)\n",
    "            else:\n",
    "                print('dont create folder', video_name)\n",
    "                '''\n",
    "                CREMA-D\n",
    "                '''\n",
    "                # cd_video_file_2 = video_dir + video\n",
    "                # # print(cd_video_file)\n",
    "                # vidcap_2 = cv2.VideoCapture(cd_video_file_2)\n",
    "                # save_frames_to_file(vidcap_2, video_frames_path, video_name)"
   ]
  },
  {
   "cell_type": "code",
   "execution_count": null,
   "id": "cf0ea1f8-a3d6-46ce-9b16-2501aad4b829",
   "metadata": {},
   "outputs": [],
   "source": [
    "# !git lfs clone https://github.com/CheyneyComputerScience/CREMA-D.git"
   ]
  },
  {
   "cell_type": "code",
   "execution_count": null,
   "id": "c83314ae-947a-4af3-93ca-8db033cf8cb2",
   "metadata": {},
   "outputs": [],
   "source": [
    "# crema_d_video_dir = \"CREMA-D/sample_VideoFlash/\"\n",
    "crema_d_video_dir = BASE + CLASS_PATH + DATASET_PATH + 'sample_VideoFlash/'\n",
    "\n",
    "# print(crema_d_video_dir)\n",
    "crema_d_videos = os.listdir(crema_d_video_dir)\n",
    "# print(len(crema_d_videos))\n",
    "\n",
    "\n",
    "# new_path = BASE + CLASS_PATH + DATASET_PATH + 'crema_d/videos_to_frames_c_d/' \n",
    "new_path = BASE + CLASS_PATH + DATASET_PATH + 'sample_crema_d/videos_to_frames/' \n",
    "\n",
    "# print(\"New path: \", new_path)\n",
    "\n",
    "# print(crema_d_video_dir)\n",
    "# print(crema_d_videos)\n",
    "\n",
    "get_video(crema_d_video_dir, crema_d_videos, new_path) "
   ]
  },
  {
   "cell_type": "code",
   "execution_count": null,
   "id": "a7e07117-9fc1-4167-9e43-9d46ef0d12e2",
   "metadata": {},
   "outputs": [],
   "source": [
    "# directory of MSP videos -- good to run\n",
    "\n",
    "r_video_dir = BASE + CLASS_PATH + DATASET_PATH + 'msp_r/r_videos/'\n",
    "print(r_video_dir)\n",
    "r_videos = os.listdir(r_video_dir)\n",
    "# print(r_videos)\n",
    "\n",
    "new_path = BASE + CLASS_PATH + DATASET_PATH + 'msp_r/videos_to_frames_msp_r/' \n",
    "\n",
    "# get_video(r_video_dir, r_videos, new_path) "
   ]
  },
  {
   "cell_type": "code",
   "execution_count": null,
   "id": "35054be9-e682-4381-9307-fa90b66171af",
   "metadata": {},
   "outputs": [],
   "source": [
    "# directory of MSP videos -- good to run\n",
    "\n",
    "t_video_dir = BASE + CLASS_PATH + DATASET_PATH + 'msp_t/t_videos/'\n",
    "# print(t_video_dir)\n",
    "t_videos = os.listdir(t_video_dir)\n",
    "# print(t_videos)\n",
    "\n",
    "new_path = BASE + CLASS_PATH + DATASET_PATH + 'msp_t/videos_to_frames_msp_t/' \n",
    "\n",
    "# get_video(t_video_dir, t_videos, new_path) "
   ]
  },
  {
   "cell_type": "code",
   "execution_count": null,
   "id": "e83873ea-e8f2-4f09-a975-668f899a153c",
   "metadata": {},
   "outputs": [],
   "source": []
  }
 ],
 "metadata": {
  "kernelspec": {
   "display_name": "Python 3 (ipykernel)",
   "language": "python",
   "name": "python3"
  },
  "language_info": {
   "codemirror_mode": {
    "name": "ipython",
    "version": 3
   },
   "file_extension": ".py",
   "mimetype": "text/x-python",
   "name": "python",
   "nbconvert_exporter": "python",
   "pygments_lexer": "ipython3",
   "version": "3.9.16"
  }
 },
 "nbformat": 4,
 "nbformat_minor": 5
}

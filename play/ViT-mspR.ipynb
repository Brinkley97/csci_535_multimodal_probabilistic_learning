{
 "cells": [
  {
   "cell_type": "markdown",
   "id": "73285297-aaac-4a84-9674-1e34fd5954c6",
   "metadata": {},
   "source": [
    "# Extracting Features with ViT\n",
    "- https://huggingface.co/docs/transformers/model_doc/vit#vision-transformer-vit\n",
    "- https://arxiv.org/abs/2010.11929"
   ]
  },
  {
   "cell_type": "code",
   "execution_count": 21,
   "id": "1dec1477-5216-45f8-8bd2-a178186168bf",
   "metadata": {},
   "outputs": [
    {
     "name": "stderr",
     "output_type": "stream",
     "text": [
      "2023-04-25 05:26:51.994421: I tensorflow/core/platform/cpu_feature_guard.cc:193] This TensorFlow binary is optimized with oneAPI Deep Neural Network Library (oneDNN) to use the following CPU instructions in performance-critical operations:  SSE4.1 SSE4.2 AVX AVX2 FMA\n",
      "To enable them in other operations, rebuild TensorFlow with the appropriate compiler flags.\n"
     ]
    }
   ],
   "source": [
    "# import os\n",
    "import torch\n",
    "# import csv\n",
    "\n",
    "import pandas as pd\n",
    "import numpy as np\n",
    "# import torchvision.transforms as transforms\n",
    "\n",
    "from PIL import Image\n",
    "from transformers import ViTImageProcessor, ViTFeatureExtractor, ViTModel\n",
    "from sklearn.model_selection import train_test_split, GridSearchCV"
   ]
  },
  {
   "cell_type": "code",
   "execution_count": 22,
   "id": "dba20bd1-54fe-4b63-af56-df2ee86d7a53",
   "metadata": {},
   "outputs": [],
   "source": [
    "BASE = '/Users/brinkley97/Documents/development/'\n",
    "CLASS_PATH = 'classes/csci_535_multimodal_probabilistic_learning/'\n",
    "DATASET_PATH = 'datasets/'"
   ]
  },
  {
   "cell_type": "code",
   "execution_count": 23,
   "id": "e4fdf4ea-1350-468c-b1a4-1bcb9379d74b",
   "metadata": {},
   "outputs": [],
   "source": [
    "processor = ViTImageProcessor.from_pretrained('google/vit-base-patch16-224-in21k')\n",
    "model = ViTModel.from_pretrained('google/vit-base-patch16-224-in21k')"
   ]
  },
  {
   "cell_type": "code",
   "execution_count": 7,
   "id": "61987b25-6171-43d0-b448-b097b3447425",
   "metadata": {},
   "outputs": [],
   "source": [
    "def load_data(file):\n",
    "    original_data = pd.read_csv(file)\n",
    "    # original_data = pd.DataFrame(file)\n",
    "    copy_of_data = original_data.copy()\n",
    "    return copy_of_data"
   ]
  },
  {
   "cell_type": "code",
   "execution_count": 8,
   "id": "a58cb5d2-21d4-4523-a66a-27255a7b5234",
   "metadata": {},
   "outputs": [],
   "source": [
    "file_paths = BASE + CLASS_PATH + DATASET_PATH + 'cremaD_mspR_mspT.csv'"
   ]
  },
  {
   "cell_type": "code",
   "execution_count": 14,
   "id": "98a6401e-3beb-497b-8666-8f209a9c9130",
   "metadata": {},
   "outputs": [
    {
     "data": {
      "text/html": [
       "<div>\n",
       "<style scoped>\n",
       "    .dataframe tbody tr th:only-of-type {\n",
       "        vertical-align: middle;\n",
       "    }\n",
       "\n",
       "    .dataframe tbody tr th {\n",
       "        vertical-align: top;\n",
       "    }\n",
       "\n",
       "    .dataframe thead th {\n",
       "        text-align: right;\n",
       "    }\n",
       "</style>\n",
       "<table border=\"1\" class=\"dataframe\">\n",
       "  <thead>\n",
       "    <tr style=\"text-align: right;\">\n",
       "      <th></th>\n",
       "      <th>Unnamed: 0</th>\n",
       "      <th>CREMA-D Paths</th>\n",
       "      <th>MSP R Paths</th>\n",
       "      <th>MSP T Paths</th>\n",
       "    </tr>\n",
       "  </thead>\n",
       "  <tbody>\n",
       "    <tr>\n",
       "      <th>0</th>\n",
       "      <td>0</td>\n",
       "      <td>/Users/brinkley97/Documents/development/classe...</td>\n",
       "      <td>/Users/brinkley97/Documents/development/classe...</td>\n",
       "      <td>/Users/brinkley97/Documents/development/classe...</td>\n",
       "    </tr>\n",
       "    <tr>\n",
       "      <th>1</th>\n",
       "      <td>1</td>\n",
       "      <td>/Users/brinkley97/Documents/development/classe...</td>\n",
       "      <td>/Users/brinkley97/Documents/development/classe...</td>\n",
       "      <td>/Users/brinkley97/Documents/development/classe...</td>\n",
       "    </tr>\n",
       "    <tr>\n",
       "      <th>2</th>\n",
       "      <td>2</td>\n",
       "      <td>/Users/brinkley97/Documents/development/classe...</td>\n",
       "      <td>/Users/brinkley97/Documents/development/classe...</td>\n",
       "      <td>/Users/brinkley97/Documents/development/classe...</td>\n",
       "    </tr>\n",
       "    <tr>\n",
       "      <th>3</th>\n",
       "      <td>3</td>\n",
       "      <td>/Users/brinkley97/Documents/development/classe...</td>\n",
       "      <td>/Users/brinkley97/Documents/development/classe...</td>\n",
       "      <td>/Users/brinkley97/Documents/development/classe...</td>\n",
       "    </tr>\n",
       "    <tr>\n",
       "      <th>4</th>\n",
       "      <td>4</td>\n",
       "      <td>/Users/brinkley97/Documents/development/classe...</td>\n",
       "      <td>/Users/brinkley97/Documents/development/classe...</td>\n",
       "      <td>/Users/brinkley97/Documents/development/classe...</td>\n",
       "    </tr>\n",
       "    <tr>\n",
       "      <th>...</th>\n",
       "      <td>...</td>\n",
       "      <td>...</td>\n",
       "      <td>...</td>\n",
       "      <td>...</td>\n",
       "    </tr>\n",
       "    <tr>\n",
       "      <th>114818</th>\n",
       "      <td>114818</td>\n",
       "      <td>/Users/brinkley97/Documents/development/classe...</td>\n",
       "      <td>NaN</td>\n",
       "      <td>NaN</td>\n",
       "    </tr>\n",
       "    <tr>\n",
       "      <th>114819</th>\n",
       "      <td>114819</td>\n",
       "      <td>/Users/brinkley97/Documents/development/classe...</td>\n",
       "      <td>NaN</td>\n",
       "      <td>NaN</td>\n",
       "    </tr>\n",
       "    <tr>\n",
       "      <th>114820</th>\n",
       "      <td>114820</td>\n",
       "      <td>/Users/brinkley97/Documents/development/classe...</td>\n",
       "      <td>NaN</td>\n",
       "      <td>NaN</td>\n",
       "    </tr>\n",
       "    <tr>\n",
       "      <th>114821</th>\n",
       "      <td>114821</td>\n",
       "      <td>/Users/brinkley97/Documents/development/classe...</td>\n",
       "      <td>NaN</td>\n",
       "      <td>NaN</td>\n",
       "    </tr>\n",
       "    <tr>\n",
       "      <th>114822</th>\n",
       "      <td>114822</td>\n",
       "      <td>/Users/brinkley97/Documents/development/classe...</td>\n",
       "      <td>NaN</td>\n",
       "      <td>NaN</td>\n",
       "    </tr>\n",
       "  </tbody>\n",
       "</table>\n",
       "<p>114823 rows × 4 columns</p>\n",
       "</div>"
      ],
      "text/plain": [
       "        Unnamed: 0                                      CREMA-D Paths  \\\n",
       "0                0  /Users/brinkley97/Documents/development/classe...   \n",
       "1                1  /Users/brinkley97/Documents/development/classe...   \n",
       "2                2  /Users/brinkley97/Documents/development/classe...   \n",
       "3                3  /Users/brinkley97/Documents/development/classe...   \n",
       "4                4  /Users/brinkley97/Documents/development/classe...   \n",
       "...            ...                                                ...   \n",
       "114818      114818  /Users/brinkley97/Documents/development/classe...   \n",
       "114819      114819  /Users/brinkley97/Documents/development/classe...   \n",
       "114820      114820  /Users/brinkley97/Documents/development/classe...   \n",
       "114821      114821  /Users/brinkley97/Documents/development/classe...   \n",
       "114822      114822  /Users/brinkley97/Documents/development/classe...   \n",
       "\n",
       "                                              MSP R Paths  \\\n",
       "0       /Users/brinkley97/Documents/development/classe...   \n",
       "1       /Users/brinkley97/Documents/development/classe...   \n",
       "2       /Users/brinkley97/Documents/development/classe...   \n",
       "3       /Users/brinkley97/Documents/development/classe...   \n",
       "4       /Users/brinkley97/Documents/development/classe...   \n",
       "...                                                   ...   \n",
       "114818                                                NaN   \n",
       "114819                                                NaN   \n",
       "114820                                                NaN   \n",
       "114821                                                NaN   \n",
       "114822                                                NaN   \n",
       "\n",
       "                                              MSP T Paths  \n",
       "0       /Users/brinkley97/Documents/development/classe...  \n",
       "1       /Users/brinkley97/Documents/development/classe...  \n",
       "2       /Users/brinkley97/Documents/development/classe...  \n",
       "3       /Users/brinkley97/Documents/development/classe...  \n",
       "4       /Users/brinkley97/Documents/development/classe...  \n",
       "...                                                   ...  \n",
       "114818                                                NaN  \n",
       "114819                                                NaN  \n",
       "114820                                                NaN  \n",
       "114821                                                NaN  \n",
       "114822                                                NaN  \n",
       "\n",
       "[114823 rows x 4 columns]"
      ]
     },
     "execution_count": 14,
     "metadata": {},
     "output_type": "execute_result"
    }
   ],
   "source": [
    "dataset_paths_copy = load_data(file_paths)\n",
    "dataset_paths_copy"
   ]
  },
  {
   "cell_type": "markdown",
   "id": "220f9b18-5f69-4863-a454-274d2015bcb4",
   "metadata": {},
   "source": [
    "# CREMA-D"
   ]
  },
  {
   "cell_type": "markdown",
   "id": "d0d59156-01b0-4b00-ba59-b04a418cd655",
   "metadata": {},
   "source": [
    "## Sample"
   ]
  },
  {
   "cell_type": "code",
   "execution_count": null,
   "id": "f0cc6916-5f13-4575-9f28-621f7f6501d9",
   "metadata": {},
   "outputs": [],
   "source": [
    "x_crema_d = extract_features(update_crema_d_paths)"
   ]
  },
  {
   "cell_type": "code",
   "execution_count": null,
   "id": "9126bd45-1f78-4788-b51e-52907fbea129",
   "metadata": {},
   "outputs": [],
   "source": [
    "type(x_crema_d)"
   ]
  },
  {
   "cell_type": "code",
   "execution_count": null,
   "id": "fa26c3a6-04f5-4fb2-8186-50f16b522cdb",
   "metadata": {},
   "outputs": [],
   "source": [
    "import pickle"
   ]
  },
  {
   "cell_type": "code",
   "execution_count": null,
   "id": "d41cb6c2-c390-4074-8f3a-a7389723d703",
   "metadata": {},
   "outputs": [],
   "source": [
    "sample_crema_d = BASE + CLASS_PATH + DATASET_PATH + 'inputs-sampleCremaD.txt'\n",
    "\n",
    "# d = {'a':0,'b':1,'c':2}\n",
    "with open(sample_crema_d, 'wb') as f:\n",
    "    pickle.dump(x_crema_d,f)  "
   ]
  },
  {
   "cell_type": "code",
   "execution_count": null,
   "id": "49955c34-ff47-49e7-ad48-d257756e5df3",
   "metadata": {},
   "outputs": [],
   "source": [
    "reading_sample_crema_d = pd.read_pickle(sample_crema_d)"
   ]
  },
  {
   "cell_type": "code",
   "execution_count": null,
   "id": "ffcd0903-58f2-4304-a705-769edd3282f4",
   "metadata": {},
   "outputs": [],
   "source": [
    "# reading_sample_crema_d"
   ]
  },
  {
   "cell_type": "code",
   "execution_count": null,
   "id": "bb2bcea0-0003-4fe2-b212-9138d500b12c",
   "metadata": {},
   "outputs": [],
   "source": [
    "all_last_hidden_states = []\n",
    "for specific_frame in range(len(reading_sample_crema_d)):\n",
    "    inputs = reading_sample_crema_d[specific_frame]\n",
    "    outputs = model(**inputs)\n",
    "    # last_hidden_states == representation (1 and 2 with GradCam)\n",
    "    last_hidden_states = outputs.last_hidden_state\n",
    "    all_last_hidden_states.append(last_hidden_states)"
   ]
  },
  {
   "cell_type": "code",
   "execution_count": null,
   "id": "0b61f4a9-c547-4569-ad74-6d3dece8e1d2",
   "metadata": {},
   "outputs": [],
   "source": [
    "# all_last_hidden_states"
   ]
  },
  {
   "cell_type": "code",
   "execution_count": null,
   "id": "f3cbd434-4a7b-4f39-afe5-d8ea58a8f46d",
   "metadata": {},
   "outputs": [],
   "source": [
    "sample_crema_d_hidden_states = BASE + CLASS_PATH + DATASET_PATH + 'hiddenStates-sampleCremaD.txt'\n",
    "\n",
    "d = {'a':0,'b':1,'c':2}\n",
    "with open(sample_crema_d_hidden_states, 'wb') as f:\n",
    "    pickle.dump(all_last_hidden_states, f)  "
   ]
  },
  {
   "cell_type": "code",
   "execution_count": null,
   "id": "3dd9b782-ab32-440e-acc3-69b84abe8b96",
   "metadata": {},
   "outputs": [],
   "source": [
    "reading_sample_crema_d_hidden_states = pd.read_pickle(sample_crema_d_hidden_states)"
   ]
  },
  {
   "cell_type": "code",
   "execution_count": null,
   "id": "7a6509d1-bce5-483d-8b73-b05b4bfddb76",
   "metadata": {},
   "outputs": [],
   "source": [
    "# reading_sample_crema_d_hidden_states"
   ]
  },
  {
   "cell_type": "code",
   "execution_count": null,
   "id": "49ee0684-c2e2-4d54-82e7-ff7b59c2a3c4",
   "metadata": {},
   "outputs": [],
   "source": [
    "extracted_features_per_video = torch.empty((0, 197, 768))\n",
    "save_efs = []\n",
    "for specific_frame_hs in range(len(reading_sample_crema_d_hidden_states)):\n",
    "    \n",
    "    hs = reading_sample_crema_d_hidden_states[specific_frame_hs]\n",
    "    extracted_features_per_video = torch.vstack((extracted_features_per_video, hs))\n",
    "    save_efs.append(extracted_features_per_video)"
   ]
  },
  {
   "cell_type": "code",
   "execution_count": null,
   "id": "b36bbce9-68bf-49b7-a3e5-7338026c3230",
   "metadata": {},
   "outputs": [],
   "source": [
    "# save_efs"
   ]
  },
  {
   "cell_type": "code",
   "execution_count": null,
   "id": "f8f4841c-070b-4b81-81b5-f6eb1c7c6229",
   "metadata": {},
   "outputs": [],
   "source": [
    "sample_crema_d_extracted_features = BASE + CLASS_PATH + DATASET_PATH + 'extractedFeatures-sampleCremaD.txt'"
   ]
  },
  {
   "cell_type": "code",
   "execution_count": null,
   "id": "a9f5870f-c5b7-49c2-84fe-4c044d62c303",
   "metadata": {},
   "outputs": [],
   "source": [
    "\n",
    "# np.savetxt(sample_crema_d_extracted_features, )\n",
    "torch.save(save_efs, sample_crema_d_extracted_features)\n",
    "\n",
    "# d = {'a':0,'b':1,'c':2}\n",
    "# with open(sample_crema_d_extracted_features, 'wb') as f:\n",
    "#     pickle.dump(save_efs, f)  "
   ]
  },
  {
   "cell_type": "code",
   "execution_count": null,
   "id": "3f7bc1e6-d469-4973-ae2e-cd2e161b9161",
   "metadata": {},
   "outputs": [],
   "source": [
    "reading_sample_crema_d_efs = pd.read_pickle(sample_crema_d_extracted_features)"
   ]
  },
  {
   "cell_type": "code",
   "execution_count": null,
   "id": "1b7caf5c-3702-44d0-94dd-b112ecd6a0e9",
   "metadata": {},
   "outputs": [],
   "source": [
    "fe_crema_d = torch.load(sample_crema_d_extracted_features)"
   ]
  },
  {
   "cell_type": "code",
   "execution_count": null,
   "id": "1eefe439-aeac-4794-8da5-edfc5d7058c3",
   "metadata": {},
   "outputs": [],
   "source": [
    "# fe_crema_d"
   ]
  },
  {
   "cell_type": "markdown",
   "id": "403ea4dd-01a5-447a-8044-e2d3df4a3d22",
   "metadata": {},
   "source": [
    "# MSP"
   ]
  },
  {
   "cell_type": "code",
   "execution_count": 11,
   "id": "a1a76a63-b453-4e7b-b523-465526c18a2e",
   "metadata": {},
   "outputs": [],
   "source": [
    "MSP_DATASET_PATH = 'msp/videos/r_and_t_frames/'"
   ]
  },
  {
   "cell_type": "markdown",
   "id": "c02fd03d-4851-4ff3-aafc-adae7976ec18",
   "metadata": {},
   "source": [
    "## R"
   ]
  },
  {
   "cell_type": "code",
   "execution_count": 15,
   "id": "bbfaa9be-33bf-48e0-82ca-066ec2d85948",
   "metadata": {},
   "outputs": [
    {
     "data": {
      "text/plain": [
       "(pandas.core.series.Series,\n",
       " 0         /Users/brinkley97/Documents/development/classe...\n",
       " 1         /Users/brinkley97/Documents/development/classe...\n",
       " 2         /Users/brinkley97/Documents/development/classe...\n",
       " 3         /Users/brinkley97/Documents/development/classe...\n",
       " 4         /Users/brinkley97/Documents/development/classe...\n",
       "                                 ...                        \n",
       " 114818                                                  NaN\n",
       " 114819                                                  NaN\n",
       " 114820                                                  NaN\n",
       " 114821                                                  NaN\n",
       " 114822                                                  NaN\n",
       " Name: MSP R Paths, Length: 114823, dtype: object)"
      ]
     },
     "execution_count": 15,
     "metadata": {},
     "output_type": "execute_result"
    }
   ],
   "source": [
    "msp_r_paths = dataset_paths_copy['MSP R Paths']\n",
    "type(msp_r_paths), msp_r_paths"
   ]
  },
  {
   "cell_type": "code",
   "execution_count": 16,
   "id": "e0953c80-bde0-4d3f-b332-0fae6f7f2242",
   "metadata": {},
   "outputs": [
    {
     "data": {
      "text/plain": [
       "0      /Users/brinkley97/Documents/development/classe...\n",
       "1      /Users/brinkley97/Documents/development/classe...\n",
       "2      /Users/brinkley97/Documents/development/classe...\n",
       "3      /Users/brinkley97/Documents/development/classe...\n",
       "4      /Users/brinkley97/Documents/development/classe...\n",
       "                             ...                        \n",
       "296    /Users/brinkley97/Documents/development/classe...\n",
       "297    /Users/brinkley97/Documents/development/classe...\n",
       "298    /Users/brinkley97/Documents/development/classe...\n",
       "299    /Users/brinkley97/Documents/development/classe...\n",
       "300    /Users/brinkley97/Documents/development/classe...\n",
       "Name: MSP R Paths, Length: 301, dtype: object"
      ]
     },
     "execution_count": 16,
     "metadata": {},
     "output_type": "execute_result"
    }
   ],
   "source": [
    "sub_set_msp_r_paths = msp_r_paths.loc[0:300]\n",
    "sub_set_msp_r_paths"
   ]
  },
  {
   "cell_type": "code",
   "execution_count": null,
   "id": "011d6580-7575-4b36-8432-2d0a5c521f4d",
   "metadata": {},
   "outputs": [],
   "source": [
    "# msp_r_df = pd.DataFrame(sub_set_msp_r_paths, columns=['MSP R Paths'])\n",
    "# msp_r_df"
   ]
  },
  {
   "cell_type": "code",
   "execution_count": 24,
   "id": "e95ffea1-f5f0-438d-96fb-4830fdac5d99",
   "metadata": {},
   "outputs": [
    {
     "name": "stdout",
     "output_type": "stream",
     "text": [
      "0\n",
      "1\n",
      "2\n",
      "3\n",
      "4\n",
      "5\n",
      "6\n",
      "7\n",
      "8\n",
      "9\n",
      "10\n",
      "11\n",
      "12\n",
      "13\n",
      "14\n",
      "15\n",
      "16\n",
      "17\n",
      "18\n",
      "19\n",
      "20\n",
      "21\n",
      "22\n",
      "23\n",
      "24\n",
      "25\n",
      "26\n",
      "27\n",
      "28\n",
      "29\n",
      "30\n",
      "31\n",
      "32\n",
      "33\n",
      "34\n",
      "35\n",
      "36\n",
      "37\n",
      "38\n",
      "39\n",
      "40\n",
      "41\n",
      "42\n",
      "43\n",
      "44\n",
      "45\n",
      "46\n",
      "47\n",
      "48\n",
      "49\n",
      "50\n",
      "51\n",
      "52\n",
      "53\n",
      "54\n",
      "55\n",
      "56\n",
      "57\n",
      "58\n",
      "59\n",
      "60\n",
      "61\n",
      "62\n",
      "63\n",
      "64\n",
      "65\n",
      "66\n",
      "67\n",
      "68\n",
      "69\n",
      "70\n",
      "71\n",
      "72\n",
      "73\n",
      "74\n",
      "75\n",
      "76\n",
      "77\n",
      "78\n",
      "79\n",
      "80\n",
      "81\n",
      "82\n",
      "83\n",
      "84\n",
      "85\n",
      "86\n",
      "87\n",
      "88\n",
      "89\n",
      "90\n",
      "91\n",
      "92\n",
      "93\n",
      "94\n",
      "95\n",
      "96\n",
      "97\n",
      "98\n",
      "99\n",
      "100\n",
      "101\n",
      "102\n",
      "103\n",
      "104\n",
      "105\n",
      "106\n",
      "107\n",
      "108\n",
      "109\n",
      "110\n",
      "111\n",
      "112\n",
      "113\n",
      "114\n",
      "115\n",
      "116\n",
      "117\n",
      "118\n",
      "119\n",
      "120\n",
      "121\n",
      "122\n",
      "123\n",
      "124\n",
      "125\n",
      "126\n",
      "127\n",
      "128\n",
      "129\n",
      "130\n",
      "131\n",
      "132\n",
      "133\n",
      "134\n",
      "135\n",
      "136\n",
      "137\n",
      "138\n",
      "139\n",
      "140\n",
      "141\n",
      "142\n",
      "143\n",
      "144\n",
      "145\n",
      "146\n",
      "147\n",
      "148\n",
      "149\n",
      "150\n",
      "151\n",
      "152\n",
      "153\n",
      "154\n",
      "155\n",
      "156\n",
      "157\n",
      "158\n",
      "159\n",
      "160\n",
      "161\n",
      "162\n",
      "163\n",
      "164\n",
      "165\n",
      "166\n",
      "167\n",
      "168\n",
      "169\n",
      "170\n",
      "171\n",
      "172\n",
      "173\n",
      "174\n",
      "175\n",
      "176\n",
      "177\n",
      "178\n",
      "179\n",
      "180\n",
      "181\n",
      "182\n",
      "183\n",
      "184\n",
      "185\n",
      "186\n",
      "187\n",
      "188\n",
      "189\n",
      "190\n",
      "191\n",
      "192\n",
      "193\n",
      "194\n",
      "195\n",
      "196\n",
      "197\n",
      "198\n",
      "199\n",
      "200\n",
      "201\n",
      "202\n",
      "203\n",
      "204\n",
      "205\n",
      "206\n",
      "207\n",
      "208\n",
      "209\n",
      "210\n",
      "211\n",
      "212\n",
      "213\n",
      "214\n",
      "215\n",
      "216\n",
      "217\n",
      "218\n",
      "219\n",
      "220\n",
      "221\n",
      "222\n",
      "223\n",
      "224\n",
      "225\n",
      "226\n",
      "227\n",
      "228\n",
      "229\n",
      "230\n",
      "231\n",
      "232\n",
      "233\n",
      "234\n",
      "235\n",
      "236\n",
      "237\n",
      "238\n",
      "239\n",
      "240\n",
      "241\n",
      "242\n",
      "243\n",
      "244\n",
      "245\n",
      "246\n",
      "247\n",
      "248\n",
      "249\n",
      "250\n",
      "251\n",
      "252\n",
      "253\n",
      "254\n",
      "255\n",
      "256\n",
      "257\n",
      "258\n",
      "259\n",
      "260\n",
      "261\n",
      "262\n",
      "263\n",
      "264\n",
      "265\n",
      "266\n",
      "267\n",
      "268\n",
      "269\n",
      "270\n",
      "271\n",
      "272\n",
      "273\n",
      "274\n",
      "275\n",
      "276\n",
      "277\n",
      "278\n",
      "279\n",
      "280\n",
      "281\n",
      "282\n",
      "283\n",
      "284\n",
      "285\n",
      "286\n",
      "287\n",
      "288\n",
      "289\n",
      "290\n",
      "291\n",
      "292\n",
      "293\n",
      "294\n",
      "295\n",
      "296\n",
      "297\n",
      "298\n",
      "299\n",
      "300\n"
     ]
    }
   ],
   "source": [
    "x = []\n",
    "    \n",
    "for msp_r_path_idx in range(len(sub_set_msp_r_paths)):\n",
    "    print(msp_r_path_idx)\n",
    "    msp_r_path = msp_r_paths[msp_r_path_idx]\n",
    "    \n",
    "    specific_frame = Image.open(msp_r_path)\n",
    "    # print(np.shape(specific_frame))\n",
    "\n",
    "    inputs = processor(images=specific_frame, return_tensors=\"pt\")\n",
    "    x.append(inputs)"
   ]
  },
  {
   "cell_type": "code",
   "execution_count": 26,
   "id": "dc0b9ff0-eed1-480a-8192-f8208e5f325e",
   "metadata": {},
   "outputs": [],
   "source": [
    "# x"
   ]
  },
  {
   "cell_type": "code",
   "execution_count": 27,
   "id": "d8adaf60-0426-4046-b7f2-c95c423ee199",
   "metadata": {},
   "outputs": [],
   "source": [
    "import pickle"
   ]
  },
  {
   "cell_type": "markdown",
   "id": "6a5cda3d-9504-40c1-84e8-33212bd4f68a",
   "metadata": {},
   "source": [
    "# Input"
   ]
  },
  {
   "cell_type": "code",
   "execution_count": 30,
   "id": "0abead98-e187-4a0c-ad34-dc7cd7c02531",
   "metadata": {},
   "outputs": [
    {
     "data": {
      "text/plain": [
       "'/Users/brinkley97/Documents/development/classes/csci_535_multimodal_probabilistic_learning/datasets/subsets_vit/inputs-mspR_subset.txt'"
      ]
     },
     "execution_count": 30,
     "metadata": {},
     "output_type": "execute_result"
    }
   ],
   "source": [
    "sub_set_msp_r = BASE + CLASS_PATH + DATASET_PATH + 'subsets_vit/' + 'inputs-mspR_subset.txt'\n",
    "sub_set_msp_r"
   ]
  },
  {
   "cell_type": "code",
   "execution_count": 29,
   "id": "bf73e8c2-b5da-49de-b6df-e9821127f47b",
   "metadata": {},
   "outputs": [],
   "source": [
    "with open(sub_set_msp_r, 'wb') as f:\n",
    "    pickle.dump(x, f)  "
   ]
  },
  {
   "cell_type": "code",
   "execution_count": 31,
   "id": "f4a1a3e8-451f-485d-a745-747f5b5cf32c",
   "metadata": {},
   "outputs": [],
   "source": [
    "reading_sub_set_msp_r = pd.read_pickle(sub_set_msp_r)"
   ]
  },
  {
   "cell_type": "code",
   "execution_count": null,
   "id": "9ac33299-c77d-401f-ae8e-748613abb85e",
   "metadata": {},
   "outputs": [],
   "source": [
    "# reading_sub_set_msp_r"
   ]
  },
  {
   "cell_type": "markdown",
   "id": "158e9f75-b91b-43f9-9109-ae08716556a9",
   "metadata": {},
   "source": [
    "# Hidden"
   ]
  },
  {
   "cell_type": "code",
   "execution_count": null,
   "id": "d8e72bfd-0ed3-497f-acb4-f457bdd9e708",
   "metadata": {},
   "outputs": [],
   "source": [
    "all_last_hidden_states = []\n",
    "\n",
    "for specific_frame in range(len(reading_sub_set_msp_r)):\n",
    "    inputs = reading_sub_set_msp_r[specific_frame]\n",
    "    outputs = model(**inputs)\n",
    "    \n",
    "    # last_hidden_states == representation (1 and 2 with GradCam)\n",
    "    last_hidden_states = outputs.last_hidden_state\n",
    "    all_last_hidden_states.append(last_hidden_states)"
   ]
  },
  {
   "cell_type": "code",
   "execution_count": 33,
   "id": "1294519b-a040-42e4-bc85-d7b1d6216eba",
   "metadata": {},
   "outputs": [],
   "source": [
    "# 'subsets_vit/'\n",
    "msp_r_hidden_states = BASE + CLASS_PATH + DATASET_PATH + 'subsets_vit/' + 'hiddenStates-mspR.txt'"
   ]
  },
  {
   "cell_type": "code",
   "execution_count": 34,
   "id": "939260f6-3512-433b-8a4b-60d91433fbfd",
   "metadata": {},
   "outputs": [],
   "source": [
    "with open(msp_r_hidden_states, 'wb') as f:\n",
    "    pickle.dump(all_last_hidden_states, f)  "
   ]
  },
  {
   "cell_type": "code",
   "execution_count": null,
   "id": "e0bfe8de-366d-4495-be1e-e63ec51f1023",
   "metadata": {},
   "outputs": [],
   "source": [
    "reading_msp_r_hidden_states = pd.read_pickle(msp_r_hidden_states)"
   ]
  },
  {
   "cell_type": "code",
   "execution_count": null,
   "id": "4fecf60a-770a-4341-bb2a-152d02156f76",
   "metadata": {},
   "outputs": [],
   "source": [
    "# reading_msp_r_hidden_states"
   ]
  },
  {
   "cell_type": "code",
   "execution_count": null,
   "id": "9fc984d3-acfd-4510-a044-d665fa0f959d",
   "metadata": {},
   "outputs": [],
   "source": [
    "extracted_features_per_video = torch.empty((0, 197, 768))\n",
    "save_efs = []\n",
    "for specific_frame_hs in range(len(reading_msp_r_hidden_states)):\n",
    "    \n",
    "    hs = reading_msp_r_hidden_states[specific_frame_hs]\n",
    "    extracted_features_per_video = torch.vstack((extracted_features_per_video, hs))\n",
    "    \n",
    "    save_efs.append(extracted_features_per_video)"
   ]
  },
  {
   "cell_type": "code",
   "execution_count": null,
   "id": "48ec6440-5166-4c17-8373-1509c175ad19",
   "metadata": {},
   "outputs": [],
   "source": [
    "# save_efs"
   ]
  },
  {
   "cell_type": "code",
   "execution_count": 4,
   "id": "f623edb8-646c-4ab4-9c65-526b5f2cf06e",
   "metadata": {},
   "outputs": [],
   "source": [
    "sample_msp_r_extracted_features = BASE + CLASS_PATH + DATASET_PATH + 'subsets_vit/' + 'extractedFeatures-mspR_subset.txt'"
   ]
  },
  {
   "cell_type": "code",
   "execution_count": null,
   "id": "ac8c08bc-3c6a-4c1a-a369-3b918a90864f",
   "metadata": {},
   "outputs": [],
   "source": [
    "torch.save(save_efs, sample_msp_r_extracted_features)"
   ]
  },
  {
   "cell_type": "code",
   "execution_count": 7,
   "id": "6f4f3083-2e93-4bce-96bd-1278587b5a27",
   "metadata": {},
   "outputs": [],
   "source": [
    "fe_crema_d = torch.load(sample_msp_r_extracted_features)"
   ]
  },
  {
   "cell_type": "code",
   "execution_count": 9,
   "id": "2e94020e-a734-43ff-a574-41667c64492a",
   "metadata": {},
   "outputs": [],
   "source": [
    "# fe_crema_d"
   ]
  },
  {
   "cell_type": "code",
   "execution_count": null,
   "id": "f1e08b77-d3e9-416c-b7b0-1c2d3e2ed306",
   "metadata": {},
   "outputs": [],
   "source": []
  }
 ],
 "metadata": {
  "kernelspec": {
   "display_name": "Python 3 (ipykernel)",
   "language": "python",
   "name": "python3"
  },
  "language_info": {
   "codemirror_mode": {
    "name": "ipython",
    "version": 3
   },
   "file_extension": ".py",
   "mimetype": "text/x-python",
   "name": "python",
   "nbconvert_exporter": "python",
   "pygments_lexer": "ipython3",
   "version": "3.9.16"
  },
  "toc-autonumbering": true
 },
 "nbformat": 4,
 "nbformat_minor": 5
}

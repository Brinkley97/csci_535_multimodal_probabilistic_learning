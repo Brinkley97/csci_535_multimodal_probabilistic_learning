{
 "cells": [
  {
   "cell_type": "markdown",
   "id": "526eb316-dbc5-4c1f-a440-f4a67ae15952",
   "metadata": {},
   "source": [
    "# Extract Features with ResNet"
   ]
  },
  {
   "cell_type": "code",
   "execution_count": null,
   "id": "09112eaf-3bcf-48d0-9b3e-e6c2ce8fbe0d",
   "metadata": {
    "tags": []
   },
   "outputs": [],
   "source": [
    "# !pip3 install datasets"
   ]
  },
  {
   "cell_type": "code",
   "execution_count": 1,
   "id": "b29ee2b2-b24e-4794-8ed3-cd15f7f48e3f",
   "metadata": {},
   "outputs": [],
   "source": [
    "import os\n",
    "import pickle\n",
    "import torch\n",
    "\n",
    "import pandas as pd\n",
    "\n",
    "from transformers import ViTFeatureExtractor, ViTModel, AutoImageProcessor\n",
    "from PIL import Image"
   ]
  },
  {
   "cell_type": "markdown",
   "id": "fe437c85-37d3-46ef-8735-a169f1ce0c0f",
   "metadata": {},
   "source": [
    "# Load Paths"
   ]
  },
  {
   "cell_type": "code",
   "execution_count": 2,
   "id": "03e71dac-5833-4993-a848-334b4dedc4d4",
   "metadata": {
    "tags": []
   },
   "outputs": [],
   "source": [
    "BASE = '/Users/brinkley97/Documents/development/'\n",
    "CLASS_PATH = 'classes/csci_535_multimodal_probabilistic_learning/'\n",
    "DATASET_PATH = 'datasets/project/'"
   ]
  },
  {
   "cell_type": "code",
   "execution_count": 3,
   "id": "19fb73d5-1504-457d-a7ff-a83140a48623",
   "metadata": {
    "tags": []
   },
   "outputs": [],
   "source": [
    "def load_data(file):\n",
    "    original_data = pd.read_csv(file)\n",
    "    # original_data = pd.DataFrame(file)\n",
    "    copy_of_data = original_data.copy()\n",
    "    return copy_of_data"
   ]
  },
  {
   "cell_type": "code",
   "execution_count": 4,
   "id": "dcada952-a4bb-4970-aa40-a7da62bcec23",
   "metadata": {
    "tags": []
   },
   "outputs": [],
   "source": [
    "file_paths_crema_d = BASE + CLASS_PATH + DATASET_PATH + 'crema_d/subset_all_paths_crema_d.zip'\n",
    "# msp_t_file_paths_msp_t = BASE + CLASS_PATH + DATASET_PATH + 'msp_t/all_paths_to_msp_t_faces.zip'"
   ]
  },
  {
   "cell_type": "code",
   "execution_count": 5,
   "id": "494f2255-909d-416f-8c87-45b51ca24703",
   "metadata": {
    "tags": []
   },
   "outputs": [],
   "source": [
    "crema_d_dataset_paths_copy_crema_d = load_data(file_paths_crema_d)\n",
    "# msp_t_dataset_paths_copy_crema_d = load_data(msp_t_file_paths_msp_t)"
   ]
  },
  {
   "cell_type": "code",
   "execution_count": 6,
   "id": "19122832-f9cf-4888-87d4-cc50de630d88",
   "metadata": {
    "tags": []
   },
   "outputs": [
    {
     "data": {
      "text/html": [
       "<div>\n",
       "<style scoped>\n",
       "    .dataframe tbody tr th:only-of-type {\n",
       "        vertical-align: middle;\n",
       "    }\n",
       "\n",
       "    .dataframe tbody tr th {\n",
       "        vertical-align: top;\n",
       "    }\n",
       "\n",
       "    .dataframe thead th {\n",
       "        text-align: right;\n",
       "    }\n",
       "</style>\n",
       "<table border=\"1\" class=\"dataframe\">\n",
       "  <thead>\n",
       "    <tr style=\"text-align: right;\">\n",
       "      <th></th>\n",
       "      <th>Unnamed: 0</th>\n",
       "      <th>crema_d</th>\n",
       "    </tr>\n",
       "  </thead>\n",
       "  <tbody>\n",
       "    <tr>\n",
       "      <th>0</th>\n",
       "      <td>0</td>\n",
       "      <td>/Users/brinkley97/Documents/development/classes/csci_535_multimodal_probabilistic_learning/datasets/project/crema_d/subset_all_frames_to_faces_crema_d/1076_IWL_HAP_XX_frames_to_cropped_face_subset/</td>\n",
       "    </tr>\n",
       "    <tr>\n",
       "      <th>1</th>\n",
       "      <td>1</td>\n",
       "      <td>/Users/brinkley97/Documents/development/classes/csci_535_multimodal_probabilistic_learning/datasets/project/crema_d/subset_all_frames_to_faces_crema_d/1020_TAI_NEU_XX_frames_to_cropped_face_subset/</td>\n",
       "    </tr>\n",
       "    <tr>\n",
       "      <th>2</th>\n",
       "      <td>2</td>\n",
       "      <td>/Users/brinkley97/Documents/development/classes/csci_535_multimodal_probabilistic_learning/datasets/project/crema_d/subset_all_frames_to_faces_crema_d/1049_IWW_ANG_XX_frames_to_cropped_face_subset/</td>\n",
       "    </tr>\n",
       "    <tr>\n",
       "      <th>3</th>\n",
       "      <td>3</td>\n",
       "      <td>/Users/brinkley97/Documents/development/classes/csci_535_multimodal_probabilistic_learning/datasets/project/crema_d/subset_all_frames_to_faces_crema_d/1016_TSI_DIS_XX_frames_to_cropped_face_subset/</td>\n",
       "    </tr>\n",
       "    <tr>\n",
       "      <th>4</th>\n",
       "      <td>4</td>\n",
       "      <td>/Users/brinkley97/Documents/development/classes/csci_535_multimodal_probabilistic_learning/datasets/project/crema_d/subset_all_frames_to_faces_crema_d/1035_IEO_HAP_HI_frames_to_cropped_face_subset/</td>\n",
       "    </tr>\n",
       "    <tr>\n",
       "      <th>...</th>\n",
       "      <td>...</td>\n",
       "      <td>...</td>\n",
       "    </tr>\n",
       "    <tr>\n",
       "      <th>7437</th>\n",
       "      <td>7437</td>\n",
       "      <td>/Users/brinkley97/Documents/development/classes/csci_535_multimodal_probabilistic_learning/datasets/project/crema_d/subset_all_frames_to_faces_crema_d/1017_IEO_ANG_HI_frames_to_cropped_face_subset/</td>\n",
       "    </tr>\n",
       "    <tr>\n",
       "      <th>7438</th>\n",
       "      <td>7438</td>\n",
       "      <td>/Users/brinkley97/Documents/development/classes/csci_535_multimodal_probabilistic_learning/datasets/project/crema_d/subset_all_frames_to_faces_crema_d/1072_TSI_NEU_XX_frames_to_cropped_face_subset/</td>\n",
       "    </tr>\n",
       "    <tr>\n",
       "      <th>7439</th>\n",
       "      <td>7439</td>\n",
       "      <td>/Users/brinkley97/Documents/development/classes/csci_535_multimodal_probabilistic_learning/datasets/project/crema_d/subset_all_frames_to_faces_crema_d/1029_IEO_NEU_XX_frames_to_cropped_face_subset/</td>\n",
       "    </tr>\n",
       "    <tr>\n",
       "      <th>7440</th>\n",
       "      <td>7440</td>\n",
       "      <td>/Users/brinkley97/Documents/development/classes/csci_535_multimodal_probabilistic_learning/datasets/project/crema_d/subset_all_frames_to_faces_crema_d/1077_ITH_DIS_XX_frames_to_cropped_face_subset/</td>\n",
       "    </tr>\n",
       "    <tr>\n",
       "      <th>7441</th>\n",
       "      <td>7441</td>\n",
       "      <td>/Users/brinkley97/Documents/development/classes/csci_535_multimodal_probabilistic_learning/datasets/project/crema_d/subset_all_frames_to_faces_crema_d/1074_WSI_DIS_XX_frames_to_cropped_face_subset/</td>\n",
       "    </tr>\n",
       "  </tbody>\n",
       "</table>\n",
       "<p>7442 rows × 2 columns</p>\n",
       "</div>"
      ],
      "text/plain": [
       "      Unnamed: 0   \n",
       "0              0  \\\n",
       "1              1   \n",
       "2              2   \n",
       "3              3   \n",
       "4              4   \n",
       "...          ...   \n",
       "7437        7437   \n",
       "7438        7438   \n",
       "7439        7439   \n",
       "7440        7440   \n",
       "7441        7441   \n",
       "\n",
       "                                                                                                                                                                                                    crema_d  \n",
       "0     /Users/brinkley97/Documents/development/classes/csci_535_multimodal_probabilistic_learning/datasets/project/crema_d/subset_all_frames_to_faces_crema_d/1076_IWL_HAP_XX_frames_to_cropped_face_subset/  \n",
       "1     /Users/brinkley97/Documents/development/classes/csci_535_multimodal_probabilistic_learning/datasets/project/crema_d/subset_all_frames_to_faces_crema_d/1020_TAI_NEU_XX_frames_to_cropped_face_subset/  \n",
       "2     /Users/brinkley97/Documents/development/classes/csci_535_multimodal_probabilistic_learning/datasets/project/crema_d/subset_all_frames_to_faces_crema_d/1049_IWW_ANG_XX_frames_to_cropped_face_subset/  \n",
       "3     /Users/brinkley97/Documents/development/classes/csci_535_multimodal_probabilistic_learning/datasets/project/crema_d/subset_all_frames_to_faces_crema_d/1016_TSI_DIS_XX_frames_to_cropped_face_subset/  \n",
       "4     /Users/brinkley97/Documents/development/classes/csci_535_multimodal_probabilistic_learning/datasets/project/crema_d/subset_all_frames_to_faces_crema_d/1035_IEO_HAP_HI_frames_to_cropped_face_subset/  \n",
       "...                                                                                                                                                                                                     ...  \n",
       "7437  /Users/brinkley97/Documents/development/classes/csci_535_multimodal_probabilistic_learning/datasets/project/crema_d/subset_all_frames_to_faces_crema_d/1017_IEO_ANG_HI_frames_to_cropped_face_subset/  \n",
       "7438  /Users/brinkley97/Documents/development/classes/csci_535_multimodal_probabilistic_learning/datasets/project/crema_d/subset_all_frames_to_faces_crema_d/1072_TSI_NEU_XX_frames_to_cropped_face_subset/  \n",
       "7439  /Users/brinkley97/Documents/development/classes/csci_535_multimodal_probabilistic_learning/datasets/project/crema_d/subset_all_frames_to_faces_crema_d/1029_IEO_NEU_XX_frames_to_cropped_face_subset/  \n",
       "7440  /Users/brinkley97/Documents/development/classes/csci_535_multimodal_probabilistic_learning/datasets/project/crema_d/subset_all_frames_to_faces_crema_d/1077_ITH_DIS_XX_frames_to_cropped_face_subset/  \n",
       "7441  /Users/brinkley97/Documents/development/classes/csci_535_multimodal_probabilistic_learning/datasets/project/crema_d/subset_all_frames_to_faces_crema_d/1074_WSI_DIS_XX_frames_to_cropped_face_subset/  \n",
       "\n",
       "[7442 rows x 2 columns]"
      ]
     },
     "execution_count": 6,
     "metadata": {},
     "output_type": "execute_result"
    }
   ],
   "source": [
    "pd.set_option('display.max_colwidth', None)\n",
    "crema_d_dataset_paths_copy_crema_d\n",
    "# msp_t_dataset_paths_copy_crema_d"
   ]
  },
  {
   "cell_type": "markdown",
   "id": "b5916135-24a5-4b51-ac43-dd6e50cbd829",
   "metadata": {},
   "source": [
    "# ViT"
   ]
  },
  {
   "cell_type": "code",
   "execution_count": 7,
   "id": "05ac2bd4-a77b-4ee9-975e-acf489d90cd7",
   "metadata": {},
   "outputs": [],
   "source": [
    "# google\n",
    "image_processor = AutoImageProcessor.from_pretrained(\"google/vit-base-patch16-224-in21k\")\n",
    "model = ViTModel.from_pretrained(\"google/vit-base-patch16-224-in21k\")\n",
    "\n",
    "\n",
    "# facebook\n",
    "# feature_extractor = ViTFeatureExtractor.from_pretrained('facebook/dino-vitb16')\n",
    "# model = ViTModel.from_pretrained('facebook/dino-vitb16')"
   ]
  },
  {
   "cell_type": "markdown",
   "id": "13a87f58-e031-4040-851f-c75c295cb10d",
   "metadata": {},
   "source": [
    "# Extract Features"
   ]
  },
  {
   "cell_type": "code",
   "execution_count": 8,
   "id": "0eb6d30e-bb24-4999-ac5b-2482efde7b97",
   "metadata": {},
   "outputs": [],
   "source": [
    "def write_list(list_to_save, file, file_idx):\n",
    "    \n",
    "    # store list in binary file so 'wb' mode\n",
    "    with open(file, 'wb') as fp:\n",
    "        pickle.dump(list_to_save, fp)\n",
    "        print(file_idx, 'Done')"
   ]
  },
  {
   "cell_type": "code",
   "execution_count": 17,
   "id": "29d3b730-7318-4e51-bb91-f751bf156394",
   "metadata": {},
   "outputs": [],
   "source": [
    "def extract_features(path_to_folders, store_extracted_features_file):\n",
    "    \"\"\"\n",
    "    \"\"\"\n",
    "    len(path_to_folders)\n",
    "    \n",
    "    store_extracted_features_msp_t = []\n",
    "    \n",
    "\n",
    "    for path_to_folders_idx in range(len(path_to_folders)):\n",
    "        path_to_face_folder = path_to_folders[path_to_folders_idx]\n",
    "        print(path_to_folders_idx, path_to_face_folder)\n",
    "        \n",
    "        store_folder_extracted_features = []\n",
    "        \n",
    "        single_folder_all_faces = os.listdir(path_to_face_folder)\n",
    "       \n",
    "        for single_folder_all_faces_idx in range(len(single_folder_all_faces)):\n",
    "            # print(single_folder_all_faces_idx)\n",
    "            image_name = single_folder_all_faces[single_folder_all_faces_idx]\n",
    "            path_to_image = path_to_face_folder + image_name\n",
    "            \n",
    "            '''\n",
    "            ViT google\n",
    "            '''\n",
    "            image = Image.open(path_to_image)\n",
    "            inputs = image_processor(image, return_tensors=\"pt\")\n",
    "            with torch.no_grad():\n",
    "                outputs = model(**inputs)\n",
    "            last_hidden_states = outputs.last_hidden_state\n",
    "            \n",
    "            \n",
    "            '''\n",
    "            ViT facebook\n",
    "            '''\n",
    "#             image = Image.open(path_to_image)\n",
    "#             inputs = feature_extractor(images=image, return_tensors=\"pt\")\n",
    "#             outputs = model(**inputs)\n",
    "#             last_hidden_states = outputs.last_hidden_state \n",
    "            \n",
    "            '''\n",
    "            ResNet remove\n",
    "            '''\n",
    "            # image = Image.open(path_to_image)\n",
    "            # inputs = image_processor(image, return_tensors=\"pt\")\n",
    "            # with torch.no_grad():\n",
    "            #     outputs = model(**inputs)\n",
    "            # last_hidden_states = outputs.last_hidden_state\n",
    "            \n",
    "            \n",
    "            store_folder_extracted_features.append(last_hidden_states)\n",
    "            # write_list(store_folder_extracted_features, store_extracted_features_file, single_folder_all_faces_idx)\n",
    "            \n",
    "        store_extracted_features_msp_t.append(store_folder_extracted_features)\n",
    "        # print(store_extracted_features_msp_t)\n",
    "        write_list(store_extracted_features_msp_t, store_extracted_features_file, single_folder_all_faces_idx)\n",
    "    \n",
    "    return store_extracted_features_msp_t"
   ]
  },
  {
   "cell_type": "markdown",
   "id": "61e1d887-dd77-4b21-a376-bde159f38e09",
   "metadata": {},
   "source": [
    "# Crema-D"
   ]
  },
  {
   "cell_type": "code",
   "execution_count": 18,
   "id": "4406bf35-d04d-463d-896a-3da3231c7cd1",
   "metadata": {
    "tags": []
   },
   "outputs": [],
   "source": [
    "crema_d_faces = crema_d_dataset_paths_copy_crema_d['crema_d']\n",
    "list_path_to_crema_d_faces = list(crema_d_faces)"
   ]
  },
  {
   "cell_type": "code",
   "execution_count": 19,
   "id": "bbf5bb8a-74da-47b5-bb55-f5c280ceace1",
   "metadata": {
    "tags": []
   },
   "outputs": [],
   "source": [
    "# list_path_to_crema_d_faces"
   ]
  },
  {
   "cell_type": "code",
   "execution_count": 20,
   "id": "358dda70-70d7-425c-8fbd-52f6838bf64c",
   "metadata": {
    "tags": []
   },
   "outputs": [
    {
     "data": {
      "text/plain": [
       "'/Users/brinkley97/Documents/development/classes/csci_535_multimodal_probabilistic_learning/datasets/project/crema_d/extracted_features_crema_d/save_vit_extracted_features_crema_d'"
      ]
     },
     "execution_count": 20,
     "metadata": {},
     "output_type": "execute_result"
    }
   ],
   "source": [
    "save_vit_extracted_features_crema_d = BASE + CLASS_PATH + DATASET_PATH + 'crema_d/extracted_features_crema_d/save_vit_extracted_features_crema_d'\n",
    "save_vit_extracted_features_crema_d"
   ]
  },
  {
   "cell_type": "code",
   "execution_count": 22,
   "id": "e9f6b263-961c-4537-bc2f-4cdbe49220d9",
   "metadata": {
    "tags": []
   },
   "outputs": [
    {
     "name": "stdout",
     "output_type": "stream",
     "text": [
      "0 /Users/brinkley97/Documents/development/classes/csci_535_multimodal_probabilistic_learning/datasets/project/crema_d/subset_all_frames_to_faces_crema_d/1076_IWL_HAP_XX_frames_to_cropped_face_subset/\n",
      "4 Done\n",
      "1 /Users/brinkley97/Documents/development/classes/csci_535_multimodal_probabilistic_learning/datasets/project/crema_d/subset_all_frames_to_faces_crema_d/1020_TAI_NEU_XX_frames_to_cropped_face_subset/\n",
      "5 Done\n",
      "2 /Users/brinkley97/Documents/development/classes/csci_535_multimodal_probabilistic_learning/datasets/project/crema_d/subset_all_frames_to_faces_crema_d/1049_IWW_ANG_XX_frames_to_cropped_face_subset/\n",
      "5 Done\n"
     ]
    }
   ],
   "source": [
    "extracted_features_crema_d = extract_features(list_path_to_crema_d_faces, save_vit_extracted_features_crema_d)"
   ]
  },
  {
   "cell_type": "code",
   "execution_count": null,
   "id": "94214581-e98b-462a-8086-fe113d203f93",
   "metadata": {
    "tags": []
   },
   "outputs": [],
   "source": [
    "# save_1290_resnet_extracted_features_crema_d = BASE + CLASS_PATH + DATASET_PATH + 'crema_d/extracted_features_crema_d/save_1290_resnet_extracted_features_crema_d'\n",
    "# save_1290_resnet_extracted_features_crema_d\n",
    "\n",
    "# save_resnet_extracted_features_crema_d = BASE + CLASS_PATH + DATASET_PATH + 'crema_d/extracted_features_crema_d/save_resnet_extracted_features_crema_d'\n",
    "# save_resnet_extracted_features_crema_d"
   ]
  },
  {
   "cell_type": "code",
   "execution_count": 23,
   "id": "db3a9f7a-a006-4a99-b5d9-c2924be606e8",
   "metadata": {
    "tags": []
   },
   "outputs": [],
   "source": [
    "# Read list to memory\n",
    "def read_list(list_of_features):\n",
    "    # for reading also binary mode is important\n",
    "    with open(list_of_features, 'rb') as fp:\n",
    "        n_list = pickle.load(fp)\n",
    "        return n_list"
   ]
  },
  {
   "cell_type": "code",
   "execution_count": 24,
   "id": "c43e6f78-b4ab-452b-a65e-cca99d5f90c6",
   "metadata": {
    "tags": []
   },
   "outputs": [],
   "source": [
    "read_resnet_crema_d = read_list(save_vit_extracted_features_crema_d)"
   ]
  },
  {
   "cell_type": "code",
   "execution_count": 30,
   "id": "cfa96605-eca8-42d1-9f7e-1aab2d427b31",
   "metadata": {
    "tags": []
   },
   "outputs": [
    {
     "data": {
      "text/plain": [
       "(3, torch.Size([1, 197, 768]))"
      ]
     },
     "execution_count": 30,
     "metadata": {},
     "output_type": "execute_result"
    }
   ],
   "source": [
    "len(read_resnet_crema_d), read_resnet_crema_d[0][4].shape"
   ]
  },
  {
   "cell_type": "markdown",
   "id": "53c974f1-aff6-4666-bb98-9fbd6d59b90b",
   "metadata": {},
   "source": [
    "# MSP T"
   ]
  },
  {
   "cell_type": "code",
   "execution_count": null,
   "id": "93e95d62-e131-48f3-8dfc-9d991407f4de",
   "metadata": {},
   "outputs": [],
   "source": [
    "save_vit_extracted_features_msp_t = BASE + CLASS_PATH + DATASET_PATH + 'msp_t/extracted_features_msp_t/save_vit_extracted_features_msp_t'\n",
    "save_vit_extracted_features_msp_t"
   ]
  },
  {
   "cell_type": "code",
   "execution_count": null,
   "id": "d961df16-b10f-4693-86fb-d760e125a631",
   "metadata": {},
   "outputs": [],
   "source": [
    "msp_t_faces = msp_t_dataset_paths_copy_crema_d['msp_t']\n",
    "list_path_to_msp_t_faces = list(msp_t_faces)"
   ]
  },
  {
   "cell_type": "code",
   "execution_count": null,
   "id": "bddecad3-3976-4448-9b4b-8c706d249ea8",
   "metadata": {
    "tags": []
   },
   "outputs": [],
   "source": [
    "len(list_path_to_msp_t_faces), list_path_to_msp_t_faces[0:7]"
   ]
  },
  {
   "cell_type": "code",
   "execution_count": null,
   "id": "a2affa2d-a18c-4544-b731-a7665ba73ad5",
   "metadata": {},
   "outputs": [],
   "source": [
    "extracted_features_msp_t = extract_features(list_path_to_msp_t_faces, save_vit_extracted_features_msp_t)"
   ]
  },
  {
   "cell_type": "markdown",
   "id": "e0983454-a8ab-4583-8927-9949fb86f25d",
   "metadata": {},
   "source": [
    "# Check Extracted Features"
   ]
  },
  {
   "cell_type": "code",
   "execution_count": null,
   "id": "90507b0e-4160-46e3-bd46-9f0dd6835e92",
   "metadata": {},
   "outputs": [],
   "source": [
    "len(extracted_features_msp_t)"
   ]
  },
  {
   "cell_type": "code",
   "execution_count": null,
   "id": "b668ba6e-a47b-4b9a-abfe-b95d80fb1f85",
   "metadata": {
    "tags": []
   },
   "outputs": [],
   "source": [
    "len(extracted_features_msp_t[1][0])"
   ]
  },
  {
   "cell_type": "code",
   "execution_count": null,
   "id": "7bd15407-ce43-405c-bf8c-1ce65738cddc",
   "metadata": {},
   "outputs": [],
   "source": [
    "len(extracted_features_msp_t[0][55]), len(extracted_features_msp_t[1][64])"
   ]
  },
  {
   "cell_type": "code",
   "execution_count": null,
   "id": "f19a54ee-59ea-4a7e-9d45-17619d83c3c2",
   "metadata": {},
   "outputs": [],
   "source": [
    "extracted_features_msp_t[0][4].shape, extracted_features_msp_t[1][10].shape, extracted_features_msp_t[0][120].shape, extracted_features_msp_t[1][100].shape"
   ]
  },
  {
   "cell_type": "code",
   "execution_count": null,
   "id": "2c79644a-099c-4b0a-8b6a-842fcf2fe5ae",
   "metadata": {},
   "outputs": [],
   "source": [
    "# Read list to memory\n",
    "def read_list(list_of_features):\n",
    "    # for reading also binary mode is important\n",
    "    with open(list_of_features, 'rb') as fp:\n",
    "        n_list = pickle.load(fp)\n",
    "        return n_list"
   ]
  },
  {
   "cell_type": "code",
   "execution_count": null,
   "id": "2b506126-b353-42c8-9bee-2360b4333690",
   "metadata": {
    "tags": []
   },
   "outputs": [],
   "source": [
    "only_5_vit_extracted_features_msp_t = BASE + CLASS_PATH + DATASET_PATH + 'msp_t/extracted_features_msp_t/save_5_vit_extracted_features_msp_t'\n",
    "only_5_vit_extracted_features_msp_t"
   ]
  },
  {
   "cell_type": "code",
   "execution_count": null,
   "id": "35587616-3988-493f-a19d-2e5326c5e2b1",
   "metadata": {},
   "outputs": [],
   "source": [
    "reading_5_vit_msp_t = read_list(only_5_vit_extracted_features_msp_t)"
   ]
  },
  {
   "cell_type": "code",
   "execution_count": null,
   "id": "97d70e99-b95e-46cb-8d1a-965c00654cb4",
   "metadata": {},
   "outputs": [],
   "source": [
    "len(reading)"
   ]
  },
  {
   "cell_type": "code",
   "execution_count": null,
   "id": "ced8c6e4-771f-4738-b9f8-12474a6966f3",
   "metadata": {
    "tags": []
   },
   "outputs": [],
   "source": [
    "reading[0][55].shape, reading[1][64].shape"
   ]
  },
  {
   "cell_type": "code",
   "execution_count": null,
   "id": "fe616764-a577-4e0e-a2ad-ca5738bd60a9",
   "metadata": {},
   "outputs": [],
   "source": [
    "reading = read_list(save_vit_extracted_features_msp_t2)"
   ]
  },
  {
   "cell_type": "code",
   "execution_count": null,
   "id": "aa32b814-0e41-4bd3-8a1b-34e0da0a2cce",
   "metadata": {},
   "outputs": [],
   "source": []
  },
  {
   "cell_type": "code",
   "execution_count": null,
   "id": "33b50a4c-7579-46b4-9cc1-dfa555c01ad6",
   "metadata": {},
   "outputs": [],
   "source": []
  },
  {
   "cell_type": "code",
   "execution_count": null,
   "id": "69bf3768-604c-4cf5-88e0-5eb9f49f52e3",
   "metadata": {},
   "outputs": [],
   "source": []
  },
  {
   "cell_type": "code",
   "execution_count": null,
   "id": "35f212ce-588d-404d-9bc5-57590797b6ca",
   "metadata": {},
   "outputs": [],
   "source": [
    "stop timer"
   ]
  }
 ],
 "metadata": {
  "kernelspec": {
   "display_name": "Python 3 (ipykernel)",
   "language": "python",
   "name": "python3"
  },
  "language_info": {
   "codemirror_mode": {
    "name": "ipython",
    "version": 3
   },
   "file_extension": ".py",
   "mimetype": "text/x-python",
   "name": "python",
   "nbconvert_exporter": "python",
   "pygments_lexer": "ipython3",
   "version": "3.9.12"
  }
 },
 "nbformat": 4,
 "nbformat_minor": 5
}

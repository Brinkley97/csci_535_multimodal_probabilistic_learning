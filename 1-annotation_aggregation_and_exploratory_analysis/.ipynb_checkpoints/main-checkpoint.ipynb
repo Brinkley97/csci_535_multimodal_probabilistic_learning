{
 "cells": [
  {
   "cell_type": "markdown",
   "id": "ecafe593-4477-4f39-819f-935377f025b5",
   "metadata": {
    "jp-MarkdownHeadingCollapsed": true,
    "tags": []
   },
   "source": [
    "# HW 1 Annotation aggregation and exploratory analysis"
   ]
  },
  {
   "cell_type": "markdown",
   "id": "eb84903c-284a-40b6-817b-6fadb4a782a7",
   "metadata": {},
   "source": [
    "# TODOs\n",
    "\n",
    "1. [x] Imports and Load Data \n",
    "2. [ ] Compute the Fleiss’ kappa inter-annotator agreement on the set of videos in the provided tabulatedVotes.csv. Report and interpret the results using Table 1\n",
    "3. [ ] Go through a subset of 20 IPD videos in IPD 20.csv, see the [video clips here](https://drive.google.com/drive/folders/1-at00XhJTzUwV6T7j6V8ukLe4e-DcxVs?usp=sharing)\n",
    "4. [ ] Please pay attention to thefacial expressions. Choose one facial cue which you believe to have a positive correlation with Joy and onefacial cue with Surprise. For example “raised eyebrows” may have a positive correlation with the perceptionthat the person is signaling Surprise. Don’t limit yourself when selecting the facial cues.3. Confirm your suspicions and subjective observations from the previous task with statistical analysis. You cando this by manually annotating the videos for each facial cue and comparing your annotations to the raters’votes. You need to annotate and calculate the p-value from the Student t-test between the group of videoswith the facial cue of your choice and the group without. For simplicity, annotate the videos in IPD 20.csv.In column I (cue surprise) and column J (cue joy), mark Y or N for the facial cue of your choice. Forexample, if you choose “raised eyebrows” as the cue for Surprise, and you see the person raising eyebrows invideo 6 (first row), mark Y in column I (cue surprise) for the first row. Once you finish the annotations,perform t-test to compare the mean number of votes from the raters for Surprise between the group youmarked with Y in column I (cue surprise) and the group with N. Repeat the process to annotate andperform t-test for Joy\n",
    "5. [ ] Report the details of your work for the previous tasks and describe your findings in a few paragraphs.*Note*: You should implement your own function to compute the Fleiss’ kappa inter annotation agreement.You can use any packages for tasks 2-4"
   ]
  },
  {
   "cell_type": "markdown",
   "id": "46488f5b-47f4-470f-9786-a59251f3a2a6",
   "metadata": {
    "tags": []
   },
   "source": [
    "## 1. Imports and Load Data"
   ]
  },
  {
   "cell_type": "code",
   "execution_count": 1,
   "id": "f77fe85a-2b2d-49f8-b053-ab2837cd1d9d",
   "metadata": {},
   "outputs": [],
   "source": [
    "import pandas as pd"
   ]
  },
  {
   "cell_type": "code",
   "execution_count": 2,
   "id": "58c4e6d8-5328-45ea-8bfe-881d434b56eb",
   "metadata": {},
   "outputs": [],
   "source": [
    "base = \"/Users/brinkley97/Documents/development/\"\n",
    "class_path = \"classes/csci_535_multimodal_probabilistic_learning/datasets/ipd_data/\"\n",
    "dataset = \"tabulatedVotes.csv\"\n",
    "data = base + class_path + dataset "
   ]
  },
  {
   "cell_type": "code",
   "execution_count": 3,
   "id": "bbf31686-cff9-4fe7-8787-195e1b89db23",
   "metadata": {},
   "outputs": [],
   "source": [
    "def load_data(file):\n",
    "    original_data = pd.read_csv(file)\n",
    "    # original_data = pd.DataFrame(file)\n",
    "    copy_of_data = original_data.copy()\n",
    "    return copy_of_data"
   ]
  },
  {
   "cell_type": "code",
   "execution_count": 4,
   "id": "d55c8895-90b2-45e8-9345-59d52bc3e18b",
   "metadata": {},
   "outputs": [
    {
     "data": {
      "text/html": [
       "<div>\n",
       "<style scoped>\n",
       "    .dataframe tbody tr th:only-of-type {\n",
       "        vertical-align: middle;\n",
       "    }\n",
       "\n",
       "    .dataframe tbody tr th {\n",
       "        vertical-align: top;\n",
       "    }\n",
       "\n",
       "    .dataframe thead th {\n",
       "        text-align: right;\n",
       "    }\n",
       "</style>\n",
       "<table border=\"1\" class=\"dataframe\">\n",
       "  <thead>\n",
       "    <tr style=\"text-align: right;\">\n",
       "      <th></th>\n",
       "      <th>videoID</th>\n",
       "      <th>Anger</th>\n",
       "      <th>Disgust</th>\n",
       "      <th>Fear</th>\n",
       "      <th>Joy</th>\n",
       "      <th>Neutral</th>\n",
       "      <th>Sadness</th>\n",
       "      <th>Surprise</th>\n",
       "    </tr>\n",
       "  </thead>\n",
       "  <tbody>\n",
       "    <tr>\n",
       "      <th>0</th>\n",
       "      <td>6</td>\n",
       "      <td>0</td>\n",
       "      <td>0</td>\n",
       "      <td>0</td>\n",
       "      <td>17</td>\n",
       "      <td>0</td>\n",
       "      <td>1</td>\n",
       "      <td>2</td>\n",
       "    </tr>\n",
       "    <tr>\n",
       "      <th>1</th>\n",
       "      <td>9</td>\n",
       "      <td>0</td>\n",
       "      <td>0</td>\n",
       "      <td>1</td>\n",
       "      <td>15</td>\n",
       "      <td>3</td>\n",
       "      <td>0</td>\n",
       "      <td>1</td>\n",
       "    </tr>\n",
       "    <tr>\n",
       "      <th>2</th>\n",
       "      <td>50</td>\n",
       "      <td>2</td>\n",
       "      <td>1</td>\n",
       "      <td>2</td>\n",
       "      <td>4</td>\n",
       "      <td>10</td>\n",
       "      <td>1</td>\n",
       "      <td>0</td>\n",
       "    </tr>\n",
       "    <tr>\n",
       "      <th>3</th>\n",
       "      <td>90</td>\n",
       "      <td>0</td>\n",
       "      <td>0</td>\n",
       "      <td>0</td>\n",
       "      <td>15</td>\n",
       "      <td>1</td>\n",
       "      <td>2</td>\n",
       "      <td>2</td>\n",
       "    </tr>\n",
       "    <tr>\n",
       "      <th>4</th>\n",
       "      <td>172</td>\n",
       "      <td>1</td>\n",
       "      <td>0</td>\n",
       "      <td>0</td>\n",
       "      <td>14</td>\n",
       "      <td>2</td>\n",
       "      <td>1</td>\n",
       "      <td>2</td>\n",
       "    </tr>\n",
       "    <tr>\n",
       "      <th>...</th>\n",
       "      <td>...</td>\n",
       "      <td>...</td>\n",
       "      <td>...</td>\n",
       "      <td>...</td>\n",
       "      <td>...</td>\n",
       "      <td>...</td>\n",
       "      <td>...</td>\n",
       "      <td>...</td>\n",
       "    </tr>\n",
       "    <tr>\n",
       "      <th>95</th>\n",
       "      <td>6812</td>\n",
       "      <td>0</td>\n",
       "      <td>0</td>\n",
       "      <td>0</td>\n",
       "      <td>13</td>\n",
       "      <td>2</td>\n",
       "      <td>1</td>\n",
       "      <td>4</td>\n",
       "    </tr>\n",
       "    <tr>\n",
       "      <th>96</th>\n",
       "      <td>6814</td>\n",
       "      <td>0</td>\n",
       "      <td>0</td>\n",
       "      <td>1</td>\n",
       "      <td>14</td>\n",
       "      <td>1</td>\n",
       "      <td>0</td>\n",
       "      <td>4</td>\n",
       "    </tr>\n",
       "    <tr>\n",
       "      <th>97</th>\n",
       "      <td>6818</td>\n",
       "      <td>0</td>\n",
       "      <td>1</td>\n",
       "      <td>0</td>\n",
       "      <td>12</td>\n",
       "      <td>4</td>\n",
       "      <td>1</td>\n",
       "      <td>2</td>\n",
       "    </tr>\n",
       "    <tr>\n",
       "      <th>98</th>\n",
       "      <td>6822</td>\n",
       "      <td>2</td>\n",
       "      <td>4</td>\n",
       "      <td>0</td>\n",
       "      <td>10</td>\n",
       "      <td>1</td>\n",
       "      <td>3</td>\n",
       "      <td>0</td>\n",
       "    </tr>\n",
       "    <tr>\n",
       "      <th>99</th>\n",
       "      <td>6854</td>\n",
       "      <td>0</td>\n",
       "      <td>0</td>\n",
       "      <td>2</td>\n",
       "      <td>16</td>\n",
       "      <td>1</td>\n",
       "      <td>0</td>\n",
       "      <td>1</td>\n",
       "    </tr>\n",
       "  </tbody>\n",
       "</table>\n",
       "<p>100 rows × 8 columns</p>\n",
       "</div>"
      ],
      "text/plain": [
       "    videoID  Anger  Disgust  Fear  Joy  Neutral  Sadness  Surprise\n",
       "0         6      0        0     0   17        0        1         2\n",
       "1         9      0        0     1   15        3        0         1\n",
       "2        50      2        1     2    4       10        1         0\n",
       "3        90      0        0     0   15        1        2         2\n",
       "4       172      1        0     0   14        2        1         2\n",
       "..      ...    ...      ...   ...  ...      ...      ...       ...\n",
       "95     6812      0        0     0   13        2        1         4\n",
       "96     6814      0        0     1   14        1        0         4\n",
       "97     6818      0        1     0   12        4        1         2\n",
       "98     6822      2        4     0   10        1        3         0\n",
       "99     6854      0        0     2   16        1        0         1\n",
       "\n",
       "[100 rows x 8 columns]"
      ]
     },
     "execution_count": 4,
     "metadata": {},
     "output_type": "execute_result"
    }
   ],
   "source": [
    "ipd_df_copy = load_data(data)\n",
    "ipd_df_copy"
   ]
  },
  {
   "cell_type": "markdown",
   "id": "f5450d69-4c22-4858-a959-baf39575ba55",
   "metadata": {},
   "source": [
    "## 2. Compute the Fleiss’ kappa\n",
    "\n",
    "- N is the total #items (rows)\n",
    "- n is the #ratings per item = 20 [see section 3 Dataset in project description]\n",
    "    - $ n_{i} $ is a single/specific item from 1...N (single row)\n",
    "    - $ n_{j} $ is a single/specific category from j...k (single column)\n",
    "    - $ n_{ij} $ is #raters who assigned $i$-th item to the $j$-th category\n",
    "- k is the #categories into which assignments are made (columns)\n",
    "- $ p_{j} $ is the proportion of all assignments which were to the $j$-th category\n",
    "\n",
    "---\n",
    "### TODO\n",
    "1. [ ] Calculate $ p_{j} $"
   ]
  },
  {
   "cell_type": "code",
   "execution_count": 8,
   "id": "94b94c64-b8b0-472b-bcda-a26ff151c4ad",
   "metadata": {},
   "outputs": [
    {
     "name": "stdout",
     "output_type": "stream",
     "text": [
      "100\n",
      "8\n"
     ]
    }
   ],
   "source": [
    "N = len(ipd_df_copy)\n",
    "print(N)\n",
    "n = 20\n",
    "print(n)\n",
    "k = ipd_df_copy.shape[1]\n",
    "print(k)\n",
    "\n",
    "anger_values = pd.DataFrame([1, 2, 5])\n",
    "N = len(anger_values)"
   ]
  },
  {
   "cell_type": "code",
   "execution_count": 10,
   "id": "51efef25-37c3-4dd5-9e95-fabbffcfad03",
   "metadata": {},
   "outputs": [
    {
     "name": "stdout",
     "output_type": "stream",
     "text": [
      "   0\n",
      "0  1\n",
      "1  2\n",
      "2  5\n",
      "0    8\n",
      "dtype: int64\n",
      "0    0.533333\n",
      "dtype: float64\n"
     ]
    }
   ],
   "source": [
    "# anger_values = ipd_df_copy[\"Anger\"].values\n",
    "print(anger_values)\n",
    "count_anger_values = anger_values.sum()\n",
    "print(count_anger_values)\n",
    "\n",
    "anger_proportion = count_anger_values/(N*5)\n",
    "print(anger_proportion)"
   ]
  },
  {
   "cell_type": "code",
   "execution_count": 11,
   "id": "ff84cac0-854d-4a57-8a6f-7650ce89736c",
   "metadata": {},
   "outputs": [
    {
     "name": "stdout",
     "output_type": "stream",
     "text": [
      "0    7\n",
      "dtype: int64\n",
      "0    0.466667\n",
      "dtype: float64\n"
     ]
    }
   ],
   "source": [
    "disgust_values = pd.DataFrame([4, 3, 0])\n",
    "N = len(disgust_values)\n",
    "\n",
    "# anger_values = ipd_df_copy[\"Disgust\"].values\n",
    "# print(anger_values)\n",
    "count_disgust_values = disgust_values.sum()\n",
    "print(count_disgust_values)\n",
    "disgust_proportion = count_disgust_values/(N*5)\n",
    "print(disgust_proportion)\n"
   ]
  },
  {
   "cell_type": "code",
   "execution_count": 12,
   "id": "e0d4e6d9-a28f-49ce-8205-f24ff63bffe1",
   "metadata": {},
   "outputs": [
    {
     "data": {
      "text/plain": [
       "0    1.0\n",
       "dtype: float64"
      ]
     },
     "execution_count": 12,
     "metadata": {},
     "output_type": "execute_result"
    }
   ],
   "source": [
    "anger_proportion+disgust_proportion"
   ]
  },
  {
   "cell_type": "code",
   "execution_count": null,
   "id": "8a165b7b-0f49-40b8-9022-e6de7a535ad6",
   "metadata": {},
   "outputs": [],
   "source": []
  },
  {
   "cell_type": "markdown",
   "id": "cd8fbbb9-164f-4478-b17e-b382d6733d8c",
   "metadata": {
    "jp-MarkdownHeadingCollapsed": true,
    "tags": []
   },
   "source": [
    "# References"
   ]
  },
  {
   "cell_type": "code",
   "execution_count": null,
   "id": "92180152-e8fd-4375-a4fa-05a1135886fc",
   "metadata": {},
   "outputs": [],
   "source": []
  }
 ],
 "metadata": {
  "kernelspec": {
   "display_name": "Python 3 (ipykernel)",
   "language": "python",
   "name": "python3"
  },
  "language_info": {
   "codemirror_mode": {
    "name": "ipython",
    "version": 3
   },
   "file_extension": ".py",
   "mimetype": "text/x-python",
   "name": "python",
   "nbconvert_exporter": "python",
   "pygments_lexer": "ipython3",
   "version": "3.9.7"
  }
 },
 "nbformat": 4,
 "nbformat_minor": 5
}

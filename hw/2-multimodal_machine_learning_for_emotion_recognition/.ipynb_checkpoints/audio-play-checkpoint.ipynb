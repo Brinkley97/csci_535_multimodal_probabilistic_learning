{
 "cells": [
  {
   "cell_type": "markdown",
   "id": "fec75cb7-4fa7-425a-a413-69c3a165ed7d",
   "metadata": {},
   "source": [
    "Playing around with data and code so will be unstructured. See [audio-main notebook]() for structure\n",
    "\n",
    "Load and run main notebook to get `visual_features_paths` variable"
   ]
  },
  {
   "cell_type": "code",
   "execution_count": 3,
   "id": "9a247f97-980e-49ff-b934-ead4360f8aa8",
   "metadata": {},
   "outputs": [],
   "source": [
    "main_notebook = 'main.ipynb'"
   ]
  },
  {
   "cell_type": "code",
   "execution_count": 4,
   "id": "e0f3ba69-c54e-4857-909d-507905120c4a",
   "metadata": {},
   "outputs": [],
   "source": [
    "%load main_notebook"
   ]
  },
  {
   "cell_type": "code",
   "execution_count": 5,
   "id": "6030d5d9-e99a-4918-9494-2304fb5fc5bc",
   "metadata": {},
   "outputs": [],
   "source": [
    "%run 'main.ipynb'"
   ]
  },
  {
   "cell_type": "code",
   "execution_count": null,
   "id": "b35bd642-55fa-42ff-bb01-873fa0fa132a",
   "metadata": {},
   "outputs": [],
   "source": []
  },
  {
   "cell_type": "markdown",
   "id": "d70b3134-6a69-4d04-aba8-ada0e2f2922b",
   "metadata": {},
   "source": [
    "# Listen to audio"
   ]
  },
  {
   "cell_type": "markdown",
   "id": "d2253ecb-da05-410c-8b1b-e0622c7b7e77",
   "metadata": {
    "jp-MarkdownHeadingCollapsed": true,
    "tags": []
   },
   "source": [
    "# Random plots"
   ]
  },
  {
   "cell_type": "code",
   "execution_count": 6,
   "id": "1f6fb63c-233d-4da4-a30b-2870245fee3a",
   "metadata": {},
   "outputs": [],
   "source": [
    "def create_plots(female_s1_load, male_s1_load):\n",
    "    fig, ax = plt.subplots(nrows=3, sharex=True)\n",
    "\n",
    "    librosa.display.waveshow(female_s1_load, ax=ax[0], color='g')\n",
    "    # librosa.display.waveshow(male_s1_load, ax=ax[0], color='r')\n",
    "\n",
    "    ax[0].set(title='F: Envelope view, mono')\n",
    "    ax[0].label_outer()\n",
    "\n",
    "    # librosa.display.waveshow(female_s1_load, ax=ax[1])\n",
    "    librosa.display.waveshow(male_s1_load, ax=ax[1], color='r')\n",
    "\n",
    "    ax[1].set(title='M: Envelope view, stereo')\n",
    "    ax[1].label_outer()\n",
    "    \n",
    "    \n",
    "    \n",
    "    # female_y_harm, female_y_perc = librosa.effects.hpss(female_s1_load)\n",
    "    # librosa.display.waveshow(female_y_harm, alpha=0.5, ax=ax[2], label='Female Harmonic')\n",
    "    # librosa.display.waveshow(female_y_perc, color='r', alpha=0.5, ax=ax[2], label='Female Percussive')\n",
    "    # male_y_harm, male_y_perc = librosa.effects.hpss(male_s1_load)\n",
    "    # librosa.display.waveshow(male_y_harm, alpha=0.5, ax=ax[2], label='Male Harmonic')\n",
    "    # librosa.display.waveshow(male_y_perc, color='g', alpha=0.5, ax=ax[2], label='Male Percussive')\n",
    "\n",
    "    # ax[2].set(title='Multiple waveforms')\n",
    "    # ax[2].legend()\n",
    "\n",
    "    # plt.close()"
   ]
  },
  {
   "cell_type": "code",
   "execution_count": 7,
   "id": "ca332d65-7919-4a6c-91d7-403951c88aa3",
   "metadata": {},
   "outputs": [],
   "source": [
    "# print(female_s1_load.shape, female_s1_load)\n",
    "# print(male_s1_load.shape, male_s1_load)"
   ]
  },
  {
   "cell_type": "code",
   "execution_count": 8,
   "id": "202dc8e4-f8f2-4c47-a16b-8ca49bcb08b2",
   "metadata": {},
   "outputs": [],
   "source": [
    "# create_plots(female_s1_load, male_s1_load)"
   ]
  },
  {
   "cell_type": "code",
   "execution_count": 9,
   "id": "72e316e7-96e3-4454-b829-e86a60805fa3",
   "metadata": {},
   "outputs": [],
   "source": [
    "# reduced_max = skimage.measure.block_reduce(female_s1_load, (2,2), np.max)\n",
    "# print(reduced_max)\n",
    "\n",
    "# reduced_mean = skimage.measure.block_reduce(female_s1_load, (2,2), np.mean)\n",
    "# print(reduced_mean)\n",
    "\n",
    "# reduced_min = skimage.measure.block_reduce(female_s1_load, (2,2), np.min)\n",
    "# print(reduced_min)"
   ]
  },
  {
   "cell_type": "code",
   "execution_count": 10,
   "id": "128d6261-358f-4bc1-87c2-1b0725a9b2bb",
   "metadata": {},
   "outputs": [],
   "source": [
    "# fig, ax = plt.subplots(nrows=3, sharex=True)\n",
    "# librosa.display.waveshow(reduced_max, ax=ax[0], color='r')\n",
    "# librosa.display.waveshow(reduced_mean, ax=ax[1], color='g')\n",
    "# librosa.display.waveshow(reduced_min, ax=ax[2], color='b')\n",
    "\n",
    "# ax[0].set(title='F: Envelope view, mono')\n",
    "# ax[0].label_outer()\n",
    "\n",
    "# plt.close()"
   ]
  },
  {
   "cell_type": "markdown",
   "id": "5eabce88-86c3-4321-8e76-fe61b425112c",
   "metadata": {},
   "source": [
    "# Reduce dimensions"
   ]
  },
  {
   "cell_type": "code",
   "execution_count": 21,
   "id": "3d738999-daaa-4560-80d6-bfae0527a4be",
   "metadata": {},
   "outputs": [],
   "source": [
    "def reduce_dim(specific_file):\n",
    "    \"\"\"\n",
    "    Parameters:\n",
    "    \n",
    "    Return:\n",
    "    \"\"\"\n",
    "    \n",
    "    N, D = specific_file.shape\n",
    "    # print(N, D)\n",
    "    reduced_dim_array = np.column_stack((np.repeat(np.arange(N),D), specific_file.reshape(N*D,-1)))\n",
    "    # df = pd.DataFrame(reduced_dim_file) \n",
    "    \n",
    "    return"
   ]
  },
  {
   "cell_type": "code",
   "execution_count": 22,
   "id": "874fc72c-7874-492a-8c36-6ab1e6918378",
   "metadata": {},
   "outputs": [],
   "source": [
    "# df.plot()"
   ]
  },
  {
   "cell_type": "code",
   "execution_count": 23,
   "id": "cc35d880-9a40-47c0-b6c7-4a9e2adba821",
   "metadata": {},
   "outputs": [
    {
     "name": "stdout",
     "output_type": "stream",
     "text": [
      "CANNOT find current path:  /Users/brinkley97/Documents/development/classes/csci_535_multimodal_probabilistic_learning/datasets/hw_2/features/acoustic_features/Session1/Ses01F_impro04/Ses01F_impro04_M016.npy\n",
      "CANNOT find current path:  /Users/brinkley97/Documents/development/classes/csci_535_multimodal_probabilistic_learning/datasets/hw_2/features/acoustic_features/Session1/Ses01F_impro04/Ses01F_impro04_M019.npy\n",
      "CANNOT find current path:  /Users/brinkley97/Documents/development/classes/csci_535_multimodal_probabilistic_learning/datasets/hw_2/features/acoustic_features/Session1/Ses01F_impro05/Ses01F_impro05_M028.npy\n",
      "CANNOT find current path:  /Users/brinkley97/Documents/development/classes/csci_535_multimodal_probabilistic_learning/datasets/hw_2/features/acoustic_features/Session1/Ses01M_script01_2/Ses01M_script01_2_M017.npy\n",
      "CANNOT find current path:  /Users/brinkley97/Documents/development/classes/csci_535_multimodal_probabilistic_learning/datasets/hw_2/features/acoustic_features/Session1/Ses01M_script01_3/Ses01M_script01_3_F000.npy\n",
      "CANNOT find current path:  /Users/brinkley97/Documents/development/classes/csci_535_multimodal_probabilistic_learning/datasets/hw_2/features/acoustic_features/Session2/Ses02F_impro02/Ses02F_impro02_F010.npy\n",
      "CANNOT find current path:  /Users/brinkley97/Documents/development/classes/csci_535_multimodal_probabilistic_learning/datasets/hw_2/features/acoustic_features/Session2/Ses02M_script02_2/Ses02M_script02_2_M045.npy\n",
      "CANNOT find current path:  /Users/brinkley97/Documents/development/classes/csci_535_multimodal_probabilistic_learning/datasets/hw_2/features/acoustic_features/Session3/Ses03M_script01_3/Ses03M_script01_3_F034.npy\n",
      "CANNOT find current path:  /Users/brinkley97/Documents/development/classes/csci_535_multimodal_probabilistic_learning/datasets/hw_2/features/acoustic_features/Session3/Ses03M_script01_3/Ses03M_script01_3_M038.npy\n"
     ]
    }
   ],
   "source": [
    "for audio_features_path in audio_features_paths:\n",
    "    # print(\"Current path with files is: \", audio_features_path)\n",
    "    path_exists = os.path.exists(audio_features_path)\n",
    "    # print(path_exists)\n",
    "    if path_exists == True:\n",
    "        # print(\"Current path with files is: \", audio_features_path)\n",
    "        load_audio_features_file = np.load(audio_features_path)\n",
    "        reduce_dim(load_audio_features_file)\n",
    "    else:\n",
    "        print(\"CANNOT find current path: \", audio_features_path)\n",
    "    "
   ]
  },
  {
   "cell_type": "code",
   "execution_count": null,
   "id": "f907aeba-d594-4dbd-a2e0-8943fc65990c",
   "metadata": {},
   "outputs": [],
   "source": []
  },
  {
   "cell_type": "code",
   "execution_count": null,
   "id": "839516d2-50ff-44c3-b4ac-08960ffc11c3",
   "metadata": {},
   "outputs": [],
   "source": []
  },
  {
   "cell_type": "code",
   "execution_count": null,
   "id": "5707801e-8efd-4ba0-8e0f-c7f8f0e7044e",
   "metadata": {},
   "outputs": [],
   "source": []
  },
  {
   "cell_type": "code",
   "execution_count": null,
   "id": "d07d366f-ded5-4072-9bdc-730b95591be7",
   "metadata": {},
   "outputs": [],
   "source": []
  },
  {
   "cell_type": "code",
   "execution_count": null,
   "id": "01b316b6-ee7f-4e4e-a12d-310e31eae101",
   "metadata": {},
   "outputs": [],
   "source": []
  }
 ],
 "metadata": {
  "kernelspec": {
   "display_name": "Python 3 (ipykernel)",
   "language": "python",
   "name": "python3"
  },
  "language_info": {
   "codemirror_mode": {
    "name": "ipython",
    "version": 3
   },
   "file_extension": ".py",
   "mimetype": "text/x-python",
   "name": "python",
   "nbconvert_exporter": "python",
   "pygments_lexer": "ipython3",
   "version": "3.9.16"
  }
 },
 "nbformat": 4,
 "nbformat_minor": 5
}

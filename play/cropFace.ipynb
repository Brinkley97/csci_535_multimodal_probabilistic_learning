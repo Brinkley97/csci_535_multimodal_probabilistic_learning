{
 "cells": [
  {
   "cell_type": "markdown",
   "id": "59281649-f273-4153-933e-b3f76eed43a8",
   "metadata": {},
   "source": [
    "# Crop Face with autocrop\n",
    "https://leblancfg.com/autocrop/"
   ]
  },
  {
   "cell_type": "code",
   "execution_count": 1,
   "id": "b4ed7d8d-c0de-4713-8c2b-976117e26773",
   "metadata": {},
   "outputs": [],
   "source": [
    "import os\n",
    "import imghdr\n",
    "\n",
    "from sys import exit\n",
    "from PIL import Image\n",
    "from autocrop import Cropper"
   ]
  },
  {
   "cell_type": "code",
   "execution_count": null,
   "id": "b8155300-54de-4d98-a33d-060f3370b60b",
   "metadata": {},
   "outputs": [],
   "source": []
  },
  {
   "cell_type": "code",
   "execution_count": 2,
   "id": "011bf209-66d9-4ff1-9a90-298de5b60610",
   "metadata": {},
   "outputs": [],
   "source": [
    "# BASE = '/Users/brinkley97/Documents/development/'\n",
    "# CLASS_PATH = 'classes/csci_535_multimodal_probabilistic_learning/'\n",
    "# DATASET_PATH = 'datasets/'\n",
    "# MSP_DATASET_PATH = 'msp/videos/r_and_t_frames/sub_set_r_frames/MSP-IMPROV-S01A-F03-R-FF01_frames/'\n",
    "# MSP_IMAGE = BASE + CLASS_PATH + DATASET_PATH + MSP_DATASET_PATH + 'frame0.jpg'\n",
    "# MSP_IMAGE\n",
    "\n",
    "# # /Users/brinkley97/Documents/development/classes/csci_535_multimodal_probabilistic_learning/datasets/"
   ]
  },
  {
   "cell_type": "code",
   "execution_count": 3,
   "id": "da01634a-8a7b-44de-8b99-0ecbbf47c4e7",
   "metadata": {},
   "outputs": [
    {
     "name": "stdout",
     "output_type": "stream",
     "text": [
      "/Users/brinkley97/Documents/development/classes/csci_535_multimodal_probabilistic_learning/datasets/msp/videos/r_and_t_frames/\n",
      "/Users/brinkley97/Documents/development/classes/csci_535_multimodal_probabilistic_learning/datasets/msp/videos/r_and_t_frames/r_frames/\n",
      "/Users/brinkley97/Documents/development/classes/csci_535_multimodal_probabilistic_learning/datasets/msp/videos/r_and_t_frames/t_frames/\n"
     ]
    }
   ],
   "source": [
    "# /Users/brinkley97/Documents/development/classes/csci_535_multimodal_probabilistic_learning/datasets/\n",
    "\n",
    "BASE = '/Users/brinkley97/Documents/development/'\n",
    "CLASS_PATH = 'classes/csci_535_multimodal_probabilistic_learning/'\n",
    "DATASET_PATH = 'datasets/'\n",
    "MSP_DATASET_PATH = 'msp/videos/'\n",
    "MSP_VIDEO_FILES = 'full_r_and_t_mspVideoPaths.csv'\n",
    "MSP_video_file_paths = BASE + CLASS_PATH + DATASET_PATH + MSP_DATASET_PATH + MSP_VIDEO_FILES\n",
    "\n",
    "r_and_t_video_files = BASE + CLASS_PATH + DATASET_PATH + MSP_DATASET_PATH + 'r_and_t_frames/'\n",
    "print(r_and_t_video_files)\n",
    "r_video_files = r_and_t_video_files + 'r_frames/'\n",
    "print(r_video_files)\n",
    "t_video_files = r_and_t_video_files + 't_frames/'\n",
    "print(t_video_files)\n",
    "save_r_cropped_frames = BASE + CLASS_PATH + DATASET_PATH + MSP_DATASET_PATH + 'face_r_frames/'\n",
    "# r_and_t_video_files\n",
    "\n",
    "SAVE_R_CROPPED_FRAMES_PATH = r_and_t_video_files + 'face_r_frames/'\n",
    "SAVE_T_CROPPED_FRAMES_PATH = r_and_t_video_files + 'face_t_frames/'"
   ]
  },
  {
   "cell_type": "code",
   "execution_count": 4,
   "id": "e9842d90-2512-4185-8239-fc97c2bd74eb",
   "metadata": {},
   "outputs": [],
   "source": [
    "cropper= Cropper()"
   ]
  },
  {
   "cell_type": "code",
   "execution_count": 5,
   "id": "5e69ce1f-e364-4844-94f4-187396af5818",
   "metadata": {},
   "outputs": [],
   "source": [
    "def crop_frame(path_to_video_frames, video_with_frames, save_location):\n",
    "    \"\"\"\n",
    "    Parameters:\n",
    "    path_to_video_frames -- py str (of path to each list of frames per video)\n",
    "    video with frames -- py list (of frame file name per video)\n",
    "    \n",
    "    Return:\n",
    "    extracted_features -- py\n",
    "    \"\"\"\n",
    "    \n",
    "    # print(video_with_frames)\n",
    "    # count_missing_frames = 0\n",
    "    \n",
    "    for video_with_frame in range(len(video_with_frames)):\n",
    "        specific_frame = video_with_frames[video_with_frame]\n",
    "        \n",
    "        frame_path_with_frames = path_to_video_frames + specific_frame\n",
    "        # print(frame_path_with_frames)\n",
    "        \n",
    "        frame = cropper.crop(frame_path_with_frames)\n",
    "        \n",
    "        if frame is None:\n",
    "            # print(specific_frame, frame)\n",
    "            # count_missing_frames += 1\n",
    "            continue\n",
    "        frame_to_face_cropper = Image.fromarray(frame)\n",
    "\n",
    "        path_to_save_cropped_face = save_location + specific_frame\n",
    "        # print(path_to_save_cropped_face)\n",
    "\n",
    "        frame_to_face_cropper.save(path_to_save_cropped_face)\n"
   ]
  },
  {
   "cell_type": "code",
   "execution_count": 6,
   "id": "e46e520f-4437-478c-832d-d3b8f3f05672",
   "metadata": {},
   "outputs": [],
   "source": [
    "def get_video_path(path_to_frames, SAVE_CROPPED_FRAMES_PATH):\n",
    "    \"\"\"\n",
    "    Parameters:\n",
    "    path_to_frames -- str (of a single path to all video frames)\n",
    "    feature_extractor -- transformers\n",
    "    \n",
    "    Function calls: \n",
    "    extract_features --\n",
    "    \n",
    "    Return\n",
    "    \"\"\"\n",
    "    store_features_from_frames = []\n",
    "    list_folders_with_frames_name = []\n",
    "    \n",
    "    count_number_files_in_dir = 0\n",
    "    frame_folder_files = os.listdir(path_to_frames)\n",
    "    # print(frame_folder_files)\n",
    "  \n",
    "    for frame_folder_file_idx in range(len(frame_folder_files)):\n",
    "        # print(frame_folder_file_idx)\n",
    "        folders_with_frames_name = frame_folder_files[frame_folder_file_idx]\n",
    "        path_to_video_frames = path_to_frames + folders_with_frames_name + \"/\"\n",
    "        # print(path_to_video_frames)\n",
    "        folder_exists = os.path.isdir(path_to_video_frames)\n",
    "        # print(folder_exists)\n",
    "        if folder_exists == True:\n",
    "            # print(folders_with_frames_name)\n",
    "            # list_folders_with_face_name.append(frame_folder_files[frame_folder_file_idx])            \n",
    "            list_frames_per_video = os.listdir(path_to_video_frames)\n",
    "            name_of_frame_folder = frame_folder_files[frame_folder_file_idx]\n",
    "            # print(name_of_frame_folder)\n",
    "            save_location = SAVE_CROPPED_FRAMES_PATH + name_of_frame_folder + \"_to_cropped_face/\"\n",
    "            save_location_folder_exists = os.path.exists(save_location)\n",
    "            # print(list_frames_per_video)\n",
    "            # if save_location_folder_exists == False:\n",
    "            save_location.replace(\" \", \"\")\n",
    "            # print(save_location)\n",
    "            os.mkdir(save_location)\n",
    "\n",
    "            croppings = crop_frame(path_to_video_frames, list_frames_per_video, save_location)\n",
    "            # print()\n",
    "\n",
    "#             count_number_files_in_dir += 1\n",
    "        else:\n",
    "            pass\n",
    "    # return store_features_from_frames, list_folders_with_face_name\n",
    "    # return folder_name_with_frame_dict"
   ]
  },
  {
   "cell_type": "code",
   "execution_count": 7,
   "id": "5fdf1fda-b280-4768-9a7c-a67b32d429c4",
   "metadata": {},
   "outputs": [],
   "source": [
    "# get_video_path(r_video_files, SAVE_R_CROPPED_FRAMES_PATH)"
   ]
  },
  {
   "cell_type": "code",
   "execution_count": 8,
   "id": "bdc40189-8971-4f32-88e7-62fa5459c753",
   "metadata": {},
   "outputs": [],
   "source": [
    "# x= cropper.crop(MSP_IMAGE)"
   ]
  },
  {
   "cell_type": "code",
   "execution_count": 9,
   "id": "a50ab31b-97ea-472b-8f2a-d02d65c6d016",
   "metadata": {},
   "outputs": [],
   "source": [
    "# c = Image.fromarray(x)"
   ]
  },
  {
   "cell_type": "code",
   "execution_count": 10,
   "id": "1aaeb88d-a681-4c29-89c7-5251a0c232e0",
   "metadata": {},
   "outputs": [],
   "source": [
    "# x= cropper.crop(MSP_IMAGE)\n",
    "# c = Image.fromarray(x)\n",
    "# save_r_cropped_frame_folder = BASE + CLASS_PATH + DATASET_PATH + 'msp/videos/r_and_t_frames/face_r_frames/' + 'cropped.png'\n",
    "\n",
    "# c.save(save_r_cropped_frame_folder)"
   ]
  },
  {
   "cell_type": "code",
   "execution_count": 11,
   "id": "a7207567-588d-43cb-b818-f1a521c8277e",
   "metadata": {},
   "outputs": [],
   "source": [
    "# save_r_cropped_frame_folder = BASE + CLASS_PATH + DATASET_PATH + 'msp/videos/r_and_t_frames/face_r_frames/' + 'cropped.png'\n",
    "\n",
    "# c.save(save_r_cropped_frame_folder)"
   ]
  },
  {
   "cell_type": "code",
   "execution_count": null,
   "id": "2b02b59e-2c9f-43c4-a755-66e805203324",
   "metadata": {},
   "outputs": [],
   "source": [
    "get_video_path(t_video_files, SAVE_T_CROPPED_FRAMES_PATH)"
   ]
  }
 ],
 "metadata": {
  "kernelspec": {
   "display_name": "Python 3 (ipykernel)",
   "language": "python",
   "name": "python3"
  },
  "language_info": {
   "codemirror_mode": {
    "name": "ipython",
    "version": 3
   },
   "file_extension": ".py",
   "mimetype": "text/x-python",
   "name": "python",
   "nbconvert_exporter": "python",
   "pygments_lexer": "ipython3",
   "version": "3.9.16"
  }
 },
 "nbformat": 4,
 "nbformat_minor": 5
}

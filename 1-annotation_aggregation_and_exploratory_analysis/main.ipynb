{
 "cells": [
  {
   "cell_type": "markdown",
   "id": "ecafe593-4477-4f39-819f-935377f025b5",
   "metadata": {
    "jp-MarkdownHeadingCollapsed": true,
    "tags": []
   },
   "source": [
    "# HW 1 Annotation aggregation and exploratory analysis"
   ]
  },
  {
   "cell_type": "markdown",
   "id": "eb84903c-284a-40b6-817b-6fadb4a782a7",
   "metadata": {
    "tags": []
   },
   "source": [
    "# TODOs\n",
    "\n",
    "1. [x] Imports and Load Data \n",
    "2. [ ] Compute the Fleiss’ kappa inter-annotator agreement on the set of videos in the provided tabulatedVotes.csv. Report and interpret the results using Table 1\n",
    "3. [ ] Go through a subset of 20 IPD videos in IPD 20.csv, see the [video clips here](https://drive.google.com/drive/folders/1-at00XhJTzUwV6T7j6V8ukLe4e-DcxVs?usp=sharing)\n",
    "4. [ ] Please pay attention to thefacial expressions. Choose one facial cue which you believe to have a positive correlation with Joy and onefacial cue with Surprise. For example “raised eyebrows” may have a positive correlation with the perceptionthat the person is signaling Surprise. Don’t limit yourself when selecting the facial cues.3. Confirm your suspicions and subjective observations from the previous task with statistical analysis. You cando this by manually annotating the videos for each facial cue and comparing your annotations to the raters’votes. You need to annotate and calculate the p-value from the Student t-test between the group of videoswith the facial cue of your choice and the group without. For simplicity, annotate the videos in IPD 20.csv.In column I (cue surprise) and column J (cue joy), mark Y or N for the facial cue of your choice. Forexample, if you choose “raised eyebrows” as the cue for Surprise, and you see the person raising eyebrows invideo 6 (first row), mark Y in column I (cue surprise) for the first row. Once you finish the annotations,perform t-test to compare the mean number of votes from the raters for Surprise between the group youmarked with Y in column I (cue surprise) and the group with N. Repeat the process to annotate andperform t-test for Joy\n",
    "5. [ ] Report the details of your work for the previous tasks and describe your findings in a few paragraphs.*Note*: You should implement your own function to compute the Fleiss’ kappa inter annotation agreement.You can use any packages for tasks 2-4"
   ]
  },
  {
   "cell_type": "markdown",
   "id": "46488f5b-47f4-470f-9786-a59251f3a2a6",
   "metadata": {
    "tags": []
   },
   "source": [
    "## 1. Imports and Load Data"
   ]
  },
  {
   "cell_type": "code",
   "execution_count": 1,
   "id": "f77fe85a-2b2d-49f8-b053-ab2837cd1d9d",
   "metadata": {},
   "outputs": [],
   "source": [
    "import pandas as pd"
   ]
  },
  {
   "cell_type": "code",
   "execution_count": 2,
   "id": "58c4e6d8-5328-45ea-8bfe-881d434b56eb",
   "metadata": {},
   "outputs": [],
   "source": [
    "base = \"/Users/brinkley97/Documents/development/\"\n",
    "class_path = \"classes/csci_535_multimodal_probabilistic_learning/datasets/ipd_data/\"\n",
    "dataset = \"tabulatedVotes.csv\"\n",
    "data = base + class_path + dataset "
   ]
  },
  {
   "cell_type": "code",
   "execution_count": 3,
   "id": "bbf31686-cff9-4fe7-8787-195e1b89db23",
   "metadata": {},
   "outputs": [],
   "source": [
    "def load_data(file):\n",
    "    original_data = pd.read_csv(file)\n",
    "    # original_data = pd.DataFrame(file)\n",
    "    copy_of_data = original_data.copy()\n",
    "    return copy_of_data"
   ]
  },
  {
   "cell_type": "code",
   "execution_count": 4,
   "id": "d55c8895-90b2-45e8-9345-59d52bc3e18b",
   "metadata": {},
   "outputs": [
    {
     "data": {
      "text/html": [
       "<div>\n",
       "<style scoped>\n",
       "    .dataframe tbody tr th:only-of-type {\n",
       "        vertical-align: middle;\n",
       "    }\n",
       "\n",
       "    .dataframe tbody tr th {\n",
       "        vertical-align: top;\n",
       "    }\n",
       "\n",
       "    .dataframe thead th {\n",
       "        text-align: right;\n",
       "    }\n",
       "</style>\n",
       "<table border=\"1\" class=\"dataframe\">\n",
       "  <thead>\n",
       "    <tr style=\"text-align: right;\">\n",
       "      <th></th>\n",
       "      <th>Anger</th>\n",
       "      <th>Disgust</th>\n",
       "      <th>Fear</th>\n",
       "      <th>Joy</th>\n",
       "      <th>Neutral</th>\n",
       "      <th>Sadness</th>\n",
       "      <th>Surprise</th>\n",
       "    </tr>\n",
       "  </thead>\n",
       "  <tbody>\n",
       "    <tr>\n",
       "      <th>0</th>\n",
       "      <td>0</td>\n",
       "      <td>0</td>\n",
       "      <td>0</td>\n",
       "      <td>17</td>\n",
       "      <td>0</td>\n",
       "      <td>1</td>\n",
       "      <td>2</td>\n",
       "    </tr>\n",
       "    <tr>\n",
       "      <th>1</th>\n",
       "      <td>0</td>\n",
       "      <td>0</td>\n",
       "      <td>1</td>\n",
       "      <td>15</td>\n",
       "      <td>3</td>\n",
       "      <td>0</td>\n",
       "      <td>1</td>\n",
       "    </tr>\n",
       "    <tr>\n",
       "      <th>2</th>\n",
       "      <td>2</td>\n",
       "      <td>1</td>\n",
       "      <td>2</td>\n",
       "      <td>4</td>\n",
       "      <td>10</td>\n",
       "      <td>1</td>\n",
       "      <td>0</td>\n",
       "    </tr>\n",
       "    <tr>\n",
       "      <th>3</th>\n",
       "      <td>0</td>\n",
       "      <td>0</td>\n",
       "      <td>0</td>\n",
       "      <td>15</td>\n",
       "      <td>1</td>\n",
       "      <td>2</td>\n",
       "      <td>2</td>\n",
       "    </tr>\n",
       "    <tr>\n",
       "      <th>4</th>\n",
       "      <td>1</td>\n",
       "      <td>0</td>\n",
       "      <td>0</td>\n",
       "      <td>14</td>\n",
       "      <td>2</td>\n",
       "      <td>1</td>\n",
       "      <td>2</td>\n",
       "    </tr>\n",
       "    <tr>\n",
       "      <th>...</th>\n",
       "      <td>...</td>\n",
       "      <td>...</td>\n",
       "      <td>...</td>\n",
       "      <td>...</td>\n",
       "      <td>...</td>\n",
       "      <td>...</td>\n",
       "      <td>...</td>\n",
       "    </tr>\n",
       "    <tr>\n",
       "      <th>95</th>\n",
       "      <td>0</td>\n",
       "      <td>0</td>\n",
       "      <td>0</td>\n",
       "      <td>13</td>\n",
       "      <td>2</td>\n",
       "      <td>1</td>\n",
       "      <td>4</td>\n",
       "    </tr>\n",
       "    <tr>\n",
       "      <th>96</th>\n",
       "      <td>0</td>\n",
       "      <td>0</td>\n",
       "      <td>1</td>\n",
       "      <td>14</td>\n",
       "      <td>1</td>\n",
       "      <td>0</td>\n",
       "      <td>4</td>\n",
       "    </tr>\n",
       "    <tr>\n",
       "      <th>97</th>\n",
       "      <td>0</td>\n",
       "      <td>1</td>\n",
       "      <td>0</td>\n",
       "      <td>12</td>\n",
       "      <td>4</td>\n",
       "      <td>1</td>\n",
       "      <td>2</td>\n",
       "    </tr>\n",
       "    <tr>\n",
       "      <th>98</th>\n",
       "      <td>2</td>\n",
       "      <td>4</td>\n",
       "      <td>0</td>\n",
       "      <td>10</td>\n",
       "      <td>1</td>\n",
       "      <td>3</td>\n",
       "      <td>0</td>\n",
       "    </tr>\n",
       "    <tr>\n",
       "      <th>99</th>\n",
       "      <td>0</td>\n",
       "      <td>0</td>\n",
       "      <td>2</td>\n",
       "      <td>16</td>\n",
       "      <td>1</td>\n",
       "      <td>0</td>\n",
       "      <td>1</td>\n",
       "    </tr>\n",
       "  </tbody>\n",
       "</table>\n",
       "<p>100 rows × 7 columns</p>\n",
       "</div>"
      ],
      "text/plain": [
       "    Anger  Disgust  Fear  Joy  Neutral  Sadness  Surprise\n",
       "0       0        0     0   17        0        1         2\n",
       "1       0        0     1   15        3        0         1\n",
       "2       2        1     2    4       10        1         0\n",
       "3       0        0     0   15        1        2         2\n",
       "4       1        0     0   14        2        1         2\n",
       "..    ...      ...   ...  ...      ...      ...       ...\n",
       "95      0        0     0   13        2        1         4\n",
       "96      0        0     1   14        1        0         4\n",
       "97      0        1     0   12        4        1         2\n",
       "98      2        4     0   10        1        3         0\n",
       "99      0        0     2   16        1        0         1\n",
       "\n",
       "[100 rows x 7 columns]"
      ]
     },
     "execution_count": 4,
     "metadata": {},
     "output_type": "execute_result"
    }
   ],
   "source": [
    "ipd_df_copy = load_data(data)\n",
    "categories_df = ipd_df_copy.drop(columns=[\"videoID\"])\n",
    "categories_df"
   ]
  },
  {
   "cell_type": "markdown",
   "id": "f5450d69-4c22-4858-a959-baf39575ba55",
   "metadata": {
    "tags": []
   },
   "source": [
    "## 2. Compute the Fleiss’ kappa\n",
    "\n",
    "- N is the total #items/videos (rows)\n",
    "- n is the #ratings per item/video = 20 [see section 3 Dataset in project description]\n",
    "    - $ n_{i} $ is a single/specific item from 1...N (single row)\n",
    "    - $ n_{j} $ is a single/specific category from j...k (single column)\n",
    "    - $ n_{ij} $ is #raters who assigned $i$-th item to the $j$-th category\n",
    "- k is the #categories into which assignments are made (columns)\n",
    "- $ p_{j} $ is the proportion of all assignments which were to the $j$-th category\n",
    "\n",
    "---\n",
    "\n",
    "## TODOs\n",
    "\n",
    "1. [x] Calculate $ p_{j} $\n",
    "2. [x] Calculate $ P_{i} $"
   ]
  },
  {
   "cell_type": "code",
   "execution_count": 5,
   "id": "a9b4756c-6cf4-48ce-b740-c500fe977721",
   "metadata": {},
   "outputs": [
    {
     "name": "stdout",
     "output_type": "stream",
     "text": [
      "   A  D\n",
      "0  1  4\n",
      "1  2  3\n",
      "2  5  0\n",
      "\n",
      "3\n"
     ]
    }
   ],
   "source": [
    "test_data = [\n",
    "            [1, 4],\n",
    "            [2, 3],\n",
    "            [5, 0]\n",
    "            ]\n",
    "test_df = pd.DataFrame(test_data, columns=[\"A\", \"D\"])\n",
    "print(test_df)\n",
    "test_columns = list(test_df.columns)\n",
    "# print(test_columns)\n",
    "test_N = len(test_df)\n",
    "print()\n",
    "print(test_N)\n",
    "test_n = 5"
   ]
  },
  {
   "cell_type": "code",
   "execution_count": 6,
   "id": "11c02148-b4f7-4b62-a95f-8bf33e4db08a",
   "metadata": {},
   "outputs": [],
   "source": [
    "N = len(categories_df)\n",
    "# print(N)\n",
    "n = 20\n",
    "# print(n)\n",
    "columns = list(categories_df.columns)\n",
    "# print(columns)\n",
    "k = len(columns)\n",
    "# print(k)"
   ]
  },
  {
   "cell_type": "markdown",
   "id": "2bf15d89-386c-4a47-9d8c-1e719108d9e0",
   "metadata": {
    "tags": []
   },
   "source": [
    "### 2.1 Calculate $ p_j $\n",
    "\n",
    "- The output shows the proportion of all the assignments for each category."
   ]
  },
  {
   "cell_type": "code",
   "execution_count": 7,
   "id": "12decda1-2b39-4a7a-8b02-bd6b57ccf5f3",
   "metadata": {},
   "outputs": [],
   "source": [
    "def proportion_per_category(category, N, n):\n",
    "    \"\"\"Calculate the proportion of votes for each category\n",
    "    \n",
    "    Arguments:\n",
    "    category -- pd Series (a specific category/column from the main DataFrame)\n",
    "    N -- int (total #items/rows)\n",
    "    n -- int (20 votes per item/row)\n",
    "    \n",
    "    Return:\n",
    "    category_proportion -- float (the proportion of votes for that specific category)\n",
    "    \"\"\"\n",
    "    \n",
    "    category_values = category.values\n",
    "    # print(category_values)\n",
    "    sum_category_values = category_values.sum()\n",
    "    # print(sum_category_values)\n",
    "    category_proportion = sum_category_values / (N * n)\n",
    "    # print(type(category_proportion))\n",
    "    \n",
    "    return category_proportion"
   ]
  },
  {
   "cell_type": "code",
   "execution_count": 8,
   "id": "4ecb74ed-9773-4cc0-b049-1457c66b5a37",
   "metadata": {},
   "outputs": [],
   "source": [
    "def calculate_p_j(categories_df, categories, N, n):\n",
    "    \"\"\"Calculate p_j\n",
    "    \n",
    "    Arguments:\n",
    "    category -- pd Series (a specific category/column from the main DataFrame)\n",
    "    N -- int (total #items/rows)\n",
    "    n -- int (20 votes per item/row)\n",
    "    \n",
    "    Functions:\n",
    "    proportion_per_category()\n",
    "    \n",
    "    Return:\n",
    "    category_proportions_df -- pd DataFrame (the proportion of votes for each category)\n",
    "    \n",
    "    \"\"\"\n",
    "    \n",
    "    store_proportions = []\n",
    "    \n",
    "    for category in range(len(categories)):\n",
    "        \n",
    "        specific_category = categories[category]\n",
    "        specific_category_series = categories_df[specific_category]\n",
    "        \n",
    "        proportion_for_specific_category = proportion_per_category(specific_category_series, N, n)\n",
    "        store_proportions.append(proportion_for_specific_category)\n",
    "    \n",
    "        \n",
    "    categories.append(\"p_j\")\n",
    "    sum_proportions = sum(store_proportions) \n",
    "    store_proportions.append(sum_proportions)\n",
    "    \n",
    "    category_proportions_df = pd.DataFrame([store_proportions], columns=categories)\n",
    "    \n",
    "    return category_proportions_df"
   ]
  },
  {
   "cell_type": "code",
   "execution_count": 9,
   "id": "c927e68b-a16f-44e2-bc1b-67651758a389",
   "metadata": {},
   "outputs": [
    {
     "data": {
      "text/html": [
       "<div>\n",
       "<style scoped>\n",
       "    .dataframe tbody tr th:only-of-type {\n",
       "        vertical-align: middle;\n",
       "    }\n",
       "\n",
       "    .dataframe tbody tr th {\n",
       "        vertical-align: top;\n",
       "    }\n",
       "\n",
       "    .dataframe thead th {\n",
       "        text-align: right;\n",
       "    }\n",
       "</style>\n",
       "<table border=\"1\" class=\"dataframe\">\n",
       "  <thead>\n",
       "    <tr style=\"text-align: right;\">\n",
       "      <th></th>\n",
       "      <th>Anger</th>\n",
       "      <th>Disgust</th>\n",
       "      <th>Fear</th>\n",
       "      <th>Joy</th>\n",
       "      <th>Neutral</th>\n",
       "      <th>Sadness</th>\n",
       "      <th>Surprise</th>\n",
       "      <th>p_j</th>\n",
       "    </tr>\n",
       "  </thead>\n",
       "  <tbody>\n",
       "    <tr>\n",
       "      <th>0</th>\n",
       "      <td>0.023</td>\n",
       "      <td>0.059</td>\n",
       "      <td>0.0505</td>\n",
       "      <td>0.4815</td>\n",
       "      <td>0.164</td>\n",
       "      <td>0.0575</td>\n",
       "      <td>0.1645</td>\n",
       "      <td>1.0</td>\n",
       "    </tr>\n",
       "  </tbody>\n",
       "</table>\n",
       "</div>"
      ],
      "text/plain": [
       "   Anger  Disgust    Fear     Joy  Neutral  Sadness  Surprise  p_j\n",
       "0  0.023    0.059  0.0505  0.4815    0.164   0.0575    0.1645  1.0"
      ]
     },
     "execution_count": 9,
     "metadata": {},
     "output_type": "execute_result"
    }
   ],
   "source": [
    "# calculate_p_j(test_df, test_columns, test_N, test_n)\n",
    "p_j = calculate_p_j(categories_df, columns, N, n)\n",
    "p_j"
   ]
  },
  {
   "cell_type": "markdown",
   "id": "402fc37d-6176-4322-8215-7365484a336e",
   "metadata": {
    "tags": []
   },
   "source": [
    "### 2.2 Calculate $ P_i $\n",
    "\n",
    "- The output shows the amount the raters agree per video."
   ]
  },
  {
   "cell_type": "code",
   "execution_count": 10,
   "id": "ed0ce17b-297f-406d-a910-bf0df099349a",
   "metadata": {},
   "outputs": [],
   "source": [
    "# test_df\n",
    "# categories_df"
   ]
  },
  {
   "cell_type": "code",
   "execution_count": 11,
   "id": "f6cc5b39-c6fc-4bbe-b13f-d3d89b2374ed",
   "metadata": {},
   "outputs": [],
   "source": [
    "def agreement_proportion_per_video(categories_df, row, n):\n",
    "    \"\"\"\n",
    "    \n",
    "    \"\"\"\n",
    "    \n",
    "    square_votes = categories_df.iloc[row] ** 2\n",
    "    # print(square_votes)\n",
    "    \n",
    "    sum_squared_votes = square_votes.sum()\n",
    "    # print(sum_squared_votes)\n",
    "    \n",
    "    rater_rater_agree_pairs = sum_squared_votes - n\n",
    "    # print(rater_rater_agree_pairs)\n",
    "    \n",
    "    all_possible_rater_rater_agree_pairs = n * (n - 1)\n",
    "    # print(all_possible_rater_rater_agree_pairs)\n",
    "    \n",
    "    raters_agree_per_video_ratio = rater_rater_agree_pairs / all_possible_rater_rater_agree_pairs\n",
    "    # print(raters_agree_per_video_ratio)\n",
    "    \n",
    "    return raters_agree_per_video_ratio"
   ]
  },
  {
   "cell_type": "code",
   "execution_count": 12,
   "id": "b29b031f-b683-45ee-8792-1d2b1f118007",
   "metadata": {},
   "outputs": [],
   "source": [
    "import numpy as np\n",
    "def calculate_P_i(categories_df, categories, N, n):\n",
    "    \"\"\"\n",
    "    \"\"\"\n",
    "    \n",
    "    store_video_agree_proportions = []\n",
    "    for row in range(N):\n",
    "        \n",
    "        agree_proportion = agreement_proportion_per_video(categories_df, row, n)\n",
    "        store_video_agree_proportions.append(agree_proportion)\n",
    "    \n",
    "    # print(store_video_agree_proportions)\n",
    "    # categories.append(\"P_i\")\n",
    "    # print(store_video_agree_proportions)\n",
    "    \n",
    "    video_agree_series = pd.Series(store_video_agree_proportions, name=\"P_i\")   \n",
    "    # print(video_agree_series)\n",
    "    \n",
    "    video_agree_df = pd.concat([categories_df, video_agree_series], axis=1)\n",
    "    \n",
    "    return video_agree_df"
   ]
  },
  {
   "cell_type": "code",
   "execution_count": 13,
   "id": "17a8f5e7-4b51-4b6c-84d0-eb5aabdc1851",
   "metadata": {},
   "outputs": [
    {
     "data": {
      "text/html": [
       "<div>\n",
       "<style scoped>\n",
       "    .dataframe tbody tr th:only-of-type {\n",
       "        vertical-align: middle;\n",
       "    }\n",
       "\n",
       "    .dataframe tbody tr th {\n",
       "        vertical-align: top;\n",
       "    }\n",
       "\n",
       "    .dataframe thead th {\n",
       "        text-align: right;\n",
       "    }\n",
       "</style>\n",
       "<table border=\"1\" class=\"dataframe\">\n",
       "  <thead>\n",
       "    <tr style=\"text-align: right;\">\n",
       "      <th></th>\n",
       "      <th>Anger</th>\n",
       "      <th>Disgust</th>\n",
       "      <th>Fear</th>\n",
       "      <th>Joy</th>\n",
       "      <th>Neutral</th>\n",
       "      <th>Sadness</th>\n",
       "      <th>Surprise</th>\n",
       "      <th>P_i</th>\n",
       "    </tr>\n",
       "  </thead>\n",
       "  <tbody>\n",
       "    <tr>\n",
       "      <th>0</th>\n",
       "      <td>0</td>\n",
       "      <td>0</td>\n",
       "      <td>0</td>\n",
       "      <td>17</td>\n",
       "      <td>0</td>\n",
       "      <td>1</td>\n",
       "      <td>2</td>\n",
       "      <td>0.721053</td>\n",
       "    </tr>\n",
       "    <tr>\n",
       "      <th>1</th>\n",
       "      <td>0</td>\n",
       "      <td>0</td>\n",
       "      <td>1</td>\n",
       "      <td>15</td>\n",
       "      <td>3</td>\n",
       "      <td>0</td>\n",
       "      <td>1</td>\n",
       "      <td>0.568421</td>\n",
       "    </tr>\n",
       "    <tr>\n",
       "      <th>2</th>\n",
       "      <td>2</td>\n",
       "      <td>1</td>\n",
       "      <td>2</td>\n",
       "      <td>4</td>\n",
       "      <td>10</td>\n",
       "      <td>1</td>\n",
       "      <td>0</td>\n",
       "      <td>0.278947</td>\n",
       "    </tr>\n",
       "    <tr>\n",
       "      <th>3</th>\n",
       "      <td>0</td>\n",
       "      <td>0</td>\n",
       "      <td>0</td>\n",
       "      <td>15</td>\n",
       "      <td>1</td>\n",
       "      <td>2</td>\n",
       "      <td>2</td>\n",
       "      <td>0.563158</td>\n",
       "    </tr>\n",
       "    <tr>\n",
       "      <th>4</th>\n",
       "      <td>1</td>\n",
       "      <td>0</td>\n",
       "      <td>0</td>\n",
       "      <td>14</td>\n",
       "      <td>2</td>\n",
       "      <td>1</td>\n",
       "      <td>2</td>\n",
       "      <td>0.489474</td>\n",
       "    </tr>\n",
       "    <tr>\n",
       "      <th>...</th>\n",
       "      <td>...</td>\n",
       "      <td>...</td>\n",
       "      <td>...</td>\n",
       "      <td>...</td>\n",
       "      <td>...</td>\n",
       "      <td>...</td>\n",
       "      <td>...</td>\n",
       "      <td>...</td>\n",
       "    </tr>\n",
       "    <tr>\n",
       "      <th>95</th>\n",
       "      <td>0</td>\n",
       "      <td>0</td>\n",
       "      <td>0</td>\n",
       "      <td>13</td>\n",
       "      <td>2</td>\n",
       "      <td>1</td>\n",
       "      <td>4</td>\n",
       "      <td>0.447368</td>\n",
       "    </tr>\n",
       "    <tr>\n",
       "      <th>96</th>\n",
       "      <td>0</td>\n",
       "      <td>0</td>\n",
       "      <td>1</td>\n",
       "      <td>14</td>\n",
       "      <td>1</td>\n",
       "      <td>0</td>\n",
       "      <td>4</td>\n",
       "      <td>0.510526</td>\n",
       "    </tr>\n",
       "    <tr>\n",
       "      <th>97</th>\n",
       "      <td>0</td>\n",
       "      <td>1</td>\n",
       "      <td>0</td>\n",
       "      <td>12</td>\n",
       "      <td>4</td>\n",
       "      <td>1</td>\n",
       "      <td>2</td>\n",
       "      <td>0.384211</td>\n",
       "    </tr>\n",
       "    <tr>\n",
       "      <th>98</th>\n",
       "      <td>2</td>\n",
       "      <td>4</td>\n",
       "      <td>0</td>\n",
       "      <td>10</td>\n",
       "      <td>1</td>\n",
       "      <td>3</td>\n",
       "      <td>0</td>\n",
       "      <td>0.289474</td>\n",
       "    </tr>\n",
       "    <tr>\n",
       "      <th>99</th>\n",
       "      <td>0</td>\n",
       "      <td>0</td>\n",
       "      <td>2</td>\n",
       "      <td>16</td>\n",
       "      <td>1</td>\n",
       "      <td>0</td>\n",
       "      <td>1</td>\n",
       "      <td>0.636842</td>\n",
       "    </tr>\n",
       "  </tbody>\n",
       "</table>\n",
       "<p>100 rows × 8 columns</p>\n",
       "</div>"
      ],
      "text/plain": [
       "    Anger  Disgust  Fear  Joy  Neutral  Sadness  Surprise       P_i\n",
       "0       0        0     0   17        0        1         2  0.721053\n",
       "1       0        0     1   15        3        0         1  0.568421\n",
       "2       2        1     2    4       10        1         0  0.278947\n",
       "3       0        0     0   15        1        2         2  0.563158\n",
       "4       1        0     0   14        2        1         2  0.489474\n",
       "..    ...      ...   ...  ...      ...      ...       ...       ...\n",
       "95      0        0     0   13        2        1         4  0.447368\n",
       "96      0        0     1   14        1        0         4  0.510526\n",
       "97      0        1     0   12        4        1         2  0.384211\n",
       "98      2        4     0   10        1        3         0  0.289474\n",
       "99      0        0     2   16        1        0         1  0.636842\n",
       "\n",
       "[100 rows x 8 columns]"
      ]
     },
     "execution_count": 13,
     "metadata": {},
     "output_type": "execute_result"
    }
   ],
   "source": [
    "# calculate_P_i(test_df, test_columns, test_N, test_n)\n",
    "P_i_df = calculate_P_i(categories_df, columns, N, n)\n",
    "P_i_df"
   ]
  },
  {
   "cell_type": "markdown",
   "id": "c693ed88-0684-483d-a21b-46396634bdf3",
   "metadata": {},
   "source": [
    "### 2.3 Compute $ \\bar{P} $\n",
    "\n",
    "- The output shows the mean of all $ P_i $'s"
   ]
  },
  {
   "cell_type": "code",
   "execution_count": 14,
   "id": "a47c68f8-4d00-4a72-8d25-3ed3803c7999",
   "metadata": {},
   "outputs": [
    {
     "data": {
      "text/plain": [
       "0.36573684210526325"
      ]
     },
     "execution_count": 14,
     "metadata": {},
     "output_type": "execute_result"
    }
   ],
   "source": [
    "P_bar = (P_i_df.loc[0:, \"P_i\"].sum()) / N\n",
    "P_bar"
   ]
  },
  {
   "cell_type": "markdown",
   "id": "0c5d8b8e-30d9-4cb0-bc84-f382a0b7a3db",
   "metadata": {},
   "source": [
    "### 2.4 Compute $ \\bar{P_e} $\n",
    "\n",
    "- The output shows each category being squared"
   ]
  },
  {
   "cell_type": "code",
   "execution_count": 15,
   "id": "c66c14c8-0a7c-497c-ad29-07c73af6feb9",
   "metadata": {},
   "outputs": [
    {
     "data": {
      "text/plain": [
       "0.295665"
      ]
     },
     "execution_count": 15,
     "metadata": {},
     "output_type": "execute_result"
    }
   ],
   "source": [
    "p_j_df = p_j.drop(columns=[\"p_j\"])\n",
    "square_p_js = (p_j_df ** 2)\n",
    "P_e_bar = square_p_js.iloc[0].sum()\n",
    "P_e_bar"
   ]
  },
  {
   "cell_type": "markdown",
   "id": "e6727a77-f409-4fb8-ac48-06edba8c65b5",
   "metadata": {
    "tags": []
   },
   "source": [
    "### 2.5 Compute $ k $"
   ]
  },
  {
   "cell_type": "code",
   "execution_count": 17,
   "id": "3ad56b84-c567-40c6-8408-aa3285096ca5",
   "metadata": {},
   "outputs": [
    {
     "data": {
      "text/plain": [
       "-0.22559315789473677"
      ]
     },
     "execution_count": 17,
     "metadata": {},
     "output_type": "execute_result"
    }
   ],
   "source": [
    "k = (P_bar - P_e_bar) / 1 - P_e_bar\n",
    "k"
   ]
  },
  {
   "cell_type": "code",
   "execution_count": null,
   "id": "0e2258f2-9786-43d4-b28f-67a3303809c4",
   "metadata": {},
   "outputs": [],
   "source": []
  },
  {
   "cell_type": "markdown",
   "id": "cd8fbbb9-164f-4478-b17e-b382d6733d8c",
   "metadata": {
    "tags": []
   },
   "source": [
    "# References"
   ]
  },
  {
   "cell_type": "code",
   "execution_count": null,
   "id": "92180152-e8fd-4375-a4fa-05a1135886fc",
   "metadata": {},
   "outputs": [],
   "source": []
  }
 ],
 "metadata": {
  "kernelspec": {
   "display_name": "Python 3",
   "language": "python",
   "name": "python3"
  },
  "language_info": {
   "codemirror_mode": {
    "name": "ipython",
    "version": 3
   },
   "file_extension": ".py",
   "mimetype": "text/x-python",
   "name": "python",
   "nbconvert_exporter": "python",
   "pygments_lexer": "ipython3",
   "version": "3.7.5"
  }
 },
 "nbformat": 4,
 "nbformat_minor": 5
}

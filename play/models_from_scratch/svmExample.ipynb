{
 "cells": [
  {
   "cell_type": "markdown",
   "id": "f93777b3-8e3b-4310-992c-b1fa067b8111",
   "metadata": {},
   "source": [
    "# Coding support vector machines in sklearn\n",
    "\n",
    "- BOOK: [Grokking ML](https://www.manning.com/books/grokking-machine-learning) by Luis G. Serrano\n",
    "- SOFTWARE: [Chapter_11_Support_Vector_Machines](https://github.com/luisguiserrano/manning/tree/master/Chapter_11_Support_Vector_Machines) by Luis G. Serrano\n",
    "- To help understand [HW 2 Multimodal Machine Learning for Emotion Recognition](https://github.com/Brinkley97/csci_535_multimodal_probabilistic_learning/tree/main/hw/2-multimodal_machine_learning_for_emotion_recognition), specifically [visual modality](https://github.com/Brinkley97/csci_535_multimodal_probabilistic_learning/blob/main/hw/2-multimodal_machine_learning_for_emotion_recognition/visual-main.ipynb) at the moment"
   ]
  },
  {
   "cell_type": "markdown",
   "id": "9a8e0fe2-7589-43c9-a340-a9493a9389ec",
   "metadata": {},
   "source": [
    "# Imports + Load Data"
   ]
  },
  {
   "cell_type": "code",
   "execution_count": 49,
   "id": "d9e586b0-b434-4bec-ac5d-07ff36b81345",
   "metadata": {},
   "outputs": [],
   "source": [
    "import pandas as pd\n",
    "import numpy as np\n",
    "\n",
    "from matplotlib import pyplot\n",
    "from sklearn.svm import SVC"
   ]
  },
  {
   "cell_type": "code",
   "execution_count": 4,
   "id": "35de4aee-a142-43fc-9e64-e61aa25a9041",
   "metadata": {},
   "outputs": [],
   "source": [
    "BASE = \"/Users/brinkley97/Documents/development/\"\n",
    "CLASS_PATH = \"classes/csci_535_multimodal_probabilistic_learning/\"\n",
    "DATASET_PATH = \"datasets/\"\n",
    "FILE = \"linear.csv\"\n",
    "file_path = BASE + CLASS_PATH + DATASET_PATH + FILE\n",
    "# file_path"
   ]
  },
  {
   "cell_type": "code",
   "execution_count": 53,
   "id": "63d5a042-97c2-46fe-933a-e4203869b3d1",
   "metadata": {},
   "outputs": [
    {
     "data": {
      "text/html": [
       "<div>\n",
       "<style scoped>\n",
       "    .dataframe tbody tr th:only-of-type {\n",
       "        vertical-align: middle;\n",
       "    }\n",
       "\n",
       "    .dataframe tbody tr th {\n",
       "        vertical-align: top;\n",
       "    }\n",
       "\n",
       "    .dataframe thead th {\n",
       "        text-align: right;\n",
       "    }\n",
       "</style>\n",
       "<table border=\"1\" class=\"dataframe\">\n",
       "  <thead>\n",
       "    <tr style=\"text-align: right;\">\n",
       "      <th></th>\n",
       "      <th>Unnamed: 0</th>\n",
       "      <th>x_1</th>\n",
       "      <th>x_2</th>\n",
       "      <th>y</th>\n",
       "    </tr>\n",
       "  </thead>\n",
       "  <tbody>\n",
       "    <tr>\n",
       "      <th>0</th>\n",
       "      <td>0</td>\n",
       "      <td>-2.921542</td>\n",
       "      <td>-2.924093</td>\n",
       "      <td>0</td>\n",
       "    </tr>\n",
       "    <tr>\n",
       "      <th>1</th>\n",
       "      <td>1</td>\n",
       "      <td>0.136782</td>\n",
       "      <td>0.540402</td>\n",
       "      <td>1</td>\n",
       "    </tr>\n",
       "    <tr>\n",
       "      <th>2</th>\n",
       "      <td>2</td>\n",
       "      <td>2.747296</td>\n",
       "      <td>1.547237</td>\n",
       "      <td>1</td>\n",
       "    </tr>\n",
       "    <tr>\n",
       "      <th>3</th>\n",
       "      <td>3</td>\n",
       "      <td>-2.780707</td>\n",
       "      <td>-2.673131</td>\n",
       "      <td>0</td>\n",
       "    </tr>\n",
       "    <tr>\n",
       "      <th>4</th>\n",
       "      <td>4</td>\n",
       "      <td>2.030421</td>\n",
       "      <td>1.329452</td>\n",
       "      <td>1</td>\n",
       "    </tr>\n",
       "    <tr>\n",
       "      <th>5</th>\n",
       "      <td>5</td>\n",
       "      <td>-0.314170</td>\n",
       "      <td>-2.591670</td>\n",
       "      <td>0</td>\n",
       "    </tr>\n",
       "    <tr>\n",
       "      <th>6</th>\n",
       "      <td>6</td>\n",
       "      <td>-1.896219</td>\n",
       "      <td>-0.516953</td>\n",
       "      <td>0</td>\n",
       "    </tr>\n",
       "    <tr>\n",
       "      <th>7</th>\n",
       "      <td>7</td>\n",
       "      <td>1.432148</td>\n",
       "      <td>0.841080</td>\n",
       "      <td>1</td>\n",
       "    </tr>\n",
       "  </tbody>\n",
       "</table>\n",
       "</div>"
      ],
      "text/plain": [
       "   Unnamed: 0       x_1       x_2  y\n",
       "0           0 -2.921542 -2.924093  0\n",
       "1           1  0.136782  0.540402  1\n",
       "2           2  2.747296  1.547237  1\n",
       "3           3 -2.780707 -2.673131  0\n",
       "4           4  2.030421  1.329452  1\n",
       "5           5 -0.314170 -2.591670  0\n",
       "6           6 -1.896219 -0.516953  0\n",
       "7           7  1.432148  0.841080  1"
      ]
     },
     "execution_count": 53,
     "metadata": {},
     "output_type": "execute_result"
    }
   ],
   "source": [
    "df = pd.read_csv(file_path)\n",
    "df.head(8)"
   ]
  },
  {
   "cell_type": "code",
   "execution_count": 9,
   "id": "2d19300f-a476-4489-81b0-1028c8236730",
   "metadata": {},
   "outputs": [],
   "source": [
    "X_df = df.loc[0:, ['x_1', 'x_2']]\n",
    "y_df = df.loc[0:, ['y']]\n",
    "\n",
    "X = np.array(X_df)\n",
    "y = np.array(y_df).astype(int)"
   ]
  },
  {
   "cell_type": "code",
   "execution_count": 10,
   "id": "94b002c3-c66b-4013-ae61-49015d5e7307",
   "metadata": {},
   "outputs": [
    {
     "data": {
      "text/plain": [
       "(60, (60, 2))"
      ]
     },
     "execution_count": 10,
     "metadata": {},
     "output_type": "execute_result"
    }
   ],
   "source": [
    "len(X), X.shape"
   ]
  },
  {
   "cell_type": "code",
   "execution_count": 11,
   "id": "f397ab36-bb4f-4aba-8f69-ff420e0140f3",
   "metadata": {},
   "outputs": [
    {
     "data": {
      "text/plain": [
       "(60, (60, 1))"
      ]
     },
     "execution_count": 11,
     "metadata": {},
     "output_type": "execute_result"
    }
   ],
   "source": [
    "len(y), y.shape"
   ]
  },
  {
   "cell_type": "code",
   "execution_count": 31,
   "id": "5618fafa-65c2-4715-95f9-542776dfd718",
   "metadata": {},
   "outputs": [
    {
     "data": {
      "text/html": [
       "<div>\n",
       "<style scoped>\n",
       "    .dataframe tbody tr th:only-of-type {\n",
       "        vertical-align: middle;\n",
       "    }\n",
       "\n",
       "    .dataframe tbody tr th {\n",
       "        vertical-align: top;\n",
       "    }\n",
       "\n",
       "    .dataframe thead th {\n",
       "        text-align: right;\n",
       "    }\n",
       "</style>\n",
       "<table border=\"1\" class=\"dataframe\">\n",
       "  <thead>\n",
       "    <tr style=\"text-align: right;\">\n",
       "      <th></th>\n",
       "      <th>y</th>\n",
       "      <th>x_1</th>\n",
       "      <th>x_2</th>\n",
       "    </tr>\n",
       "  </thead>\n",
       "  <tbody>\n",
       "    <tr>\n",
       "      <th>0</th>\n",
       "      <td>0</td>\n",
       "      <td>-2.921542</td>\n",
       "      <td>-2.924093</td>\n",
       "    </tr>\n",
       "    <tr>\n",
       "      <th>1</th>\n",
       "      <td>1</td>\n",
       "      <td>0.136782</td>\n",
       "      <td>0.540402</td>\n",
       "    </tr>\n",
       "    <tr>\n",
       "      <th>2</th>\n",
       "      <td>1</td>\n",
       "      <td>2.747296</td>\n",
       "      <td>1.547237</td>\n",
       "    </tr>\n",
       "    <tr>\n",
       "      <th>3</th>\n",
       "      <td>0</td>\n",
       "      <td>-2.780707</td>\n",
       "      <td>-2.673131</td>\n",
       "    </tr>\n",
       "    <tr>\n",
       "      <th>4</th>\n",
       "      <td>1</td>\n",
       "      <td>2.030421</td>\n",
       "      <td>1.329452</td>\n",
       "    </tr>\n",
       "  </tbody>\n",
       "</table>\n",
       "</div>"
      ],
      "text/plain": [
       "   y       x_1       x_2\n",
       "0  0 -2.921542 -2.924093\n",
       "1  1  0.136782  0.540402\n",
       "2  1  2.747296  1.547237\n",
       "3  0 -2.780707 -2.673131\n",
       "4  1  2.030421  1.329452"
      ]
     },
     "execution_count": 31,
     "metadata": {},
     "output_type": "execute_result"
    }
   ],
   "source": [
    "new_df = pd.concat([y_df, X_df], axis=1)\n",
    "new_df.head()"
   ]
  },
  {
   "cell_type": "code",
   "execution_count": 36,
   "id": "0884723f-9b28-4ae3-ab8c-e0d19da01d9f",
   "metadata": {},
   "outputs": [
    {
     "data": {
      "text/html": [
       "<div>\n",
       "<style scoped>\n",
       "    .dataframe tbody tr th:only-of-type {\n",
       "        vertical-align: middle;\n",
       "    }\n",
       "\n",
       "    .dataframe tbody tr th {\n",
       "        vertical-align: top;\n",
       "    }\n",
       "\n",
       "    .dataframe thead th {\n",
       "        text-align: right;\n",
       "    }\n",
       "</style>\n",
       "<table border=\"1\" class=\"dataframe\">\n",
       "  <thead>\n",
       "    <tr style=\"text-align: right;\">\n",
       "      <th></th>\n",
       "      <th>y</th>\n",
       "      <th>x_1</th>\n",
       "      <th>x_2</th>\n",
       "    </tr>\n",
       "  </thead>\n",
       "  <tbody>\n",
       "    <tr>\n",
       "      <th>0</th>\n",
       "      <td>0</td>\n",
       "      <td>-2.921542</td>\n",
       "      <td>-2.924093</td>\n",
       "    </tr>\n",
       "    <tr>\n",
       "      <th>3</th>\n",
       "      <td>0</td>\n",
       "      <td>-2.780707</td>\n",
       "      <td>-2.673131</td>\n",
       "    </tr>\n",
       "    <tr>\n",
       "      <th>5</th>\n",
       "      <td>0</td>\n",
       "      <td>-0.314170</td>\n",
       "      <td>-2.591670</td>\n",
       "    </tr>\n",
       "    <tr>\n",
       "      <th>6</th>\n",
       "      <td>0</td>\n",
       "      <td>-1.896219</td>\n",
       "      <td>-0.516953</td>\n",
       "    </tr>\n",
       "    <tr>\n",
       "      <th>9</th>\n",
       "      <td>0</td>\n",
       "      <td>-2.634456</td>\n",
       "      <td>1.428708</td>\n",
       "    </tr>\n",
       "  </tbody>\n",
       "</table>\n",
       "</div>"
      ],
      "text/plain": [
       "   y       x_1       x_2\n",
       "0  0 -2.921542 -2.924093\n",
       "3  0 -2.780707 -2.673131\n",
       "5  0 -0.314170 -2.591670\n",
       "6  0 -1.896219 -0.516953\n",
       "9  0 -2.634456  1.428708"
      ]
     },
     "execution_count": 36,
     "metadata": {},
     "output_type": "execute_result"
    }
   ],
   "source": [
    "# y0s = new_df.loc[0:, 'y'].values == 0\n",
    "# y0\n",
    "\n",
    "y0s = new_df.y == 0\n",
    "y0s_df = new_df[y0s]\n",
    "y0s_df.head()"
   ]
  },
  {
   "cell_type": "code",
   "execution_count": 38,
   "id": "80ffb3c9-07e4-4f29-8875-eb015b8870d6",
   "metadata": {},
   "outputs": [
    {
     "data": {
      "text/html": [
       "<div>\n",
       "<style scoped>\n",
       "    .dataframe tbody tr th:only-of-type {\n",
       "        vertical-align: middle;\n",
       "    }\n",
       "\n",
       "    .dataframe tbody tr th {\n",
       "        vertical-align: top;\n",
       "    }\n",
       "\n",
       "    .dataframe thead th {\n",
       "        text-align: right;\n",
       "    }\n",
       "</style>\n",
       "<table border=\"1\" class=\"dataframe\">\n",
       "  <thead>\n",
       "    <tr style=\"text-align: right;\">\n",
       "      <th></th>\n",
       "      <th>y</th>\n",
       "      <th>x_1</th>\n",
       "      <th>x_2</th>\n",
       "    </tr>\n",
       "  </thead>\n",
       "  <tbody>\n",
       "    <tr>\n",
       "      <th>1</th>\n",
       "      <td>1</td>\n",
       "      <td>0.136782</td>\n",
       "      <td>0.540402</td>\n",
       "    </tr>\n",
       "    <tr>\n",
       "      <th>2</th>\n",
       "      <td>1</td>\n",
       "      <td>2.747296</td>\n",
       "      <td>1.547237</td>\n",
       "    </tr>\n",
       "    <tr>\n",
       "      <th>4</th>\n",
       "      <td>1</td>\n",
       "      <td>2.030421</td>\n",
       "      <td>1.329452</td>\n",
       "    </tr>\n",
       "    <tr>\n",
       "      <th>7</th>\n",
       "      <td>1</td>\n",
       "      <td>1.432148</td>\n",
       "      <td>0.841080</td>\n",
       "    </tr>\n",
       "    <tr>\n",
       "      <th>8</th>\n",
       "      <td>1</td>\n",
       "      <td>0.885989</td>\n",
       "      <td>2.424742</td>\n",
       "    </tr>\n",
       "  </tbody>\n",
       "</table>\n",
       "</div>"
      ],
      "text/plain": [
       "   y       x_1       x_2\n",
       "1  1  0.136782  0.540402\n",
       "2  1  2.747296  1.547237\n",
       "4  1  2.030421  1.329452\n",
       "7  1  1.432148  0.841080\n",
       "8  1  0.885989  2.424742"
      ]
     },
     "execution_count": 38,
     "metadata": {},
     "output_type": "execute_result"
    }
   ],
   "source": [
    "\n",
    "\n",
    "y1s = new_df.y == 1\n",
    "y1s_df = new_df[y1s]\n",
    "y1s_df.head()"
   ]
  },
  {
   "cell_type": "code",
   "execution_count": 47,
   "id": "c8b0705a-79f8-4c34-bcfc-049b28083fcc",
   "metadata": {},
   "outputs": [
    {
     "data": {
      "text/plain": [
       "((60, 2), (30, 3), (30, 3))"
      ]
     },
     "execution_count": 47,
     "metadata": {},
     "output_type": "execute_result"
    }
   ],
   "source": [
    "np.shape(X_df), np.shape(y0s_df), np.shape(y1s_df)"
   ]
  },
  {
   "cell_type": "markdown",
   "id": "6b7c607a-3ca4-4611-afb5-d56a585a13fa",
   "metadata": {},
   "source": [
    "# Visual Representation of X and y"
   ]
  },
  {
   "cell_type": "code",
   "execution_count": 50,
   "id": "240a04df-4dd9-4637-8d2c-90763a0a449e",
   "metadata": {},
   "outputs": [],
   "source": [
    "def plot_points(features, labels):\n",
    "    \n",
    "    # X = np.array(features)\n",
    "    # y = np.array(labels)\n",
    "    \n",
    "    spam_emails = X[np.argwhere(y==1)]\n",
    "    # print(\"spam_emails:\", spam_emails)\n",
    "    not_spam_emails = X[np.argwhere(y==0)]\n",
    "    # print(\"not_spam_emails:\", not_spam_emails)\n",
    "    \n",
    "    \n",
    "    \n",
    "    pyplot.scatter([s[0][0] for s in spam_emails],\n",
    "                   [s[0][1] for s in spam_emails],\n",
    "                   s = 35,\n",
    "                   color = 'cyan',\n",
    "                   edgecolor = 'k',\n",
    "                   marker = '^')\n",
    "    pyplot.scatter([s[0][0] for s in not_spam_emails],\n",
    "                   [s[0][1] for s in not_spam_emails],\n",
    "                   s = 25,\n",
    "                   color = 'red',\n",
    "                   edgecolor = 'k',\n",
    "                   marker = 's')\n",
    "    pyplot.xlabel('x_1')\n",
    "    pyplot.ylabel('x_2')\n",
    "    pyplot.legend(['label 1','label 0'])"
   ]
  },
  {
   "cell_type": "code",
   "execution_count": 52,
   "id": "9fe16f96-21dc-405b-b71a-a7c9b19f5318",
   "metadata": {},
   "outputs": [
    {
     "data": {
      "image/png": "[encoded data removed]",
      "text/plain": [
       "<Figure size 640x480 with 1 Axes>"
      ]
     },
     "metadata": {},
     "output_type": "display_data"
    }
   ],
   "source": [
    "# print(X, y)\n",
    "plot_points(X, y)"
   ]
  },
  {
   "cell_type": "code",
   "execution_count": 58,
   "id": "fd65155a-e41a-4a6e-a783-8634f5073917",
   "metadata": {},
   "outputs": [],
   "source": [
    "# pyplot.scatter(y0s_df, y1s_df)\n",
    "# # color = 'red',\n",
    "# # edgecolor = 'k',\n",
    "# # marker = 's'\n",
    "# pyplot.xlabel('x_1')\n",
    "# pyplot.ylabel('x_2')\n",
    "# pyplot.legend(['label 1','label 0'])"
   ]
  },
  {
   "cell_type": "code",
   "execution_count": 54,
   "id": "0daa604c-4f20-4330-ac25-d2ad97cffbd4",
   "metadata": {},
   "outputs": [],
   "source": [
    "# pyplot.scatter(y0s_df, y1s_df)\n"
   ]
  },
  {
   "cell_type": "markdown",
   "id": "34244f2a-60bb-42fc-bc97-dac6174de2e2",
   "metadata": {},
   "source": [
    "# Without hyper-parameter tuning"
   ]
  },
  {
   "cell_type": "code",
   "execution_count": 56,
   "id": "be62b2fe-9238-4186-90c3-4a1857664395",
   "metadata": {},
   "outputs": [],
   "source": [
    "def plot_model(X, y, model):\n",
    "    X = np.array(X)\n",
    "    y = np.array(y)\n",
    "    plot_step = 0.01\n",
    "    x_min, x_max = X[:, 0].min() - 1, X[:, 0].max() + 1\n",
    "    y_min, y_max = X[:, 1].min() - 1, X[:, 1].max() + 1\n",
    "    xx, yy = np.meshgrid(np.arange(x_min, x_max, plot_step),\n",
    "                         np.arange(y_min, y_max, plot_step))\n",
    "    Z = model.predict(np.c_[xx.ravel(), yy.ravel()])\n",
    "    Z = Z.reshape(xx.shape)\n",
    "    pyplot.contour(xx, yy, Z,colors = 'k',linewidths = 3)\n",
    "    plot_points(X, y)\n",
    "    pyplot.contourf(xx, yy, Z, colors=['red', 'blue'], alpha=0.2, levels=range(-1,2))\n",
    "    pyplot.show()"
   ]
  },
  {
   "cell_type": "code",
   "execution_count": 57,
   "id": "b3196df5-08e7-4a24-bc4a-94e78e3d30d2",
   "metadata": {},
   "outputs": [
    {
     "name": "stderr",
     "output_type": "stream",
     "text": [
      "/Users/brinkley97/opt/anaconda3/envs/emotion_rec_from_audiovisual/lib/python3.9/site-packages/sklearn/utils/validation.py:63: DataConversionWarning: A column-vector y was passed when a 1d array was expected. Please change the shape of y to (n_samples, ), for example using ravel().\n",
      "  return f(*args, **kwargs)\n"
     ]
    },
    {
     "name": "stdout",
     "output_type": "stream",
     "text": [
      "Accuracy: 0.9333333333333333\n"
     ]
    },
    {
     "data": {
      "image/png": "[encoded data removed]",
      "text/plain": [
       "<Figure size 640x480 with 1 Axes>"
      ]
     },
     "metadata": {},
     "output_type": "display_data"
    }
   ],
   "source": [
    "svm_linear = SVC(kernel='linear') \n",
    "svm_linear.fit(X,y) \n",
    "print(\"Accuracy:\", svm_linear.score(X, y)) \n",
    "plot_model(X, y, svm_linear)"
   ]
  },
  {
   "cell_type": "code",
   "execution_count": null,
   "id": "44492db4-0aef-473c-9e1b-4477d9394f69",
   "metadata": {},
   "outputs": [],
   "source": []
  }
 ],
 "metadata": {
  "kernelspec": {
   "display_name": "Python 3 (ipykernel)",
   "language": "python",
   "name": "python3"
  },
  "language_info": {
   "codemirror_mode": {
    "name": "ipython",
    "version": 3
   },
   "file_extension": ".py",
   "mimetype": "text/x-python",
   "name": "python",
   "nbconvert_exporter": "python",
   "pygments_lexer": "ipython3",
   "version": "3.9.12"
  }
 },
 "nbformat": 4,
 "nbformat_minor": 5
}

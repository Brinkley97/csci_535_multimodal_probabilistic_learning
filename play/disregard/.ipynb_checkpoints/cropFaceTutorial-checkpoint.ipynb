{
 "cells": [
  {
   "cell_type": "markdown",
   "id": "59281649-f273-4153-933e-b3f76eed43a8",
   "metadata": {},
   "source": [
    "# Crop Face OpenCV\n"
   ]
  },
  {
   "cell_type": "code",
   "execution_count": 1,
   "id": "b8155300-54de-4d98-a33d-060f3370b60b",
   "metadata": {},
   "outputs": [],
   "source": [
    "import os\n",
    "import imghdr\n",
    "\n",
    "from PIL import Image\n",
    "from autocrop import Cropper"
   ]
  },
  {
   "cell_type": "code",
   "execution_count": 2,
   "id": "011bf209-66d9-4ff1-9a90-298de5b60610",
   "metadata": {},
   "outputs": [],
   "source": [
    "# BASE = '/Users/brinkley97/Documents/development/'\n",
    "# CLASS_PATH = 'classes/csci_535_multimodal_probabilistic_learning/'\n",
    "# DATASET_PATH = 'datasets/'\n",
    "# MSP_DATASET_PATH = 'msp/videos/r_and_t_frames/'\n",
    "\n",
    "# t_frames = 't_frames/'\n",
    "# t1 = 'MSP-IMPROV-S01A-F01-T-FM01_frames/'\n",
    "# T_MSP = BASE + CLASS_PATH + DATASET_PATH + MSP_DATASET_PATH + t_frames + t1\n",
    "# print(os.path.exists(T_MSP), T_MSP)\n",
    "# frames = os.listdir(T_MSP)\n",
    "# print(frames)\n",
    "\n",
    "# face_t_frames = 'face_t_frames/'\n",
    "# SAVE_T_CROP = T_MSP = BASE + CLASS_PATH + DATASET_PATH + MSP_DATASET_PATH + face_t_frames\n",
    "# print(os.path.exists(SAVE_T_CROP), SAVE_T_CROP)\n",
    "# # frames = os.listdir(SAVE_T_CROP)"
   ]
  },
  {
   "cell_type": "code",
   "execution_count": 18,
   "id": "91acfaf5-a71f-481c-a4c0-4c90dea547c7",
   "metadata": {},
   "outputs": [
    {
     "name": "stdout",
     "output_type": "stream",
     "text": [
      "True /Users/brinkley97/Documents/development/classes/csci_535_multimodal_probabilistic_learning/datasets/msp/videos/r_and_t_frames/r_frames/MSP-IMPROV-S01A-F02-R-FF01_frames/\n"
     ]
    }
   ],
   "source": [
    "f = '/Users/brinkley97/Documents/development/classes/csci_535_multimodal_probabilistic_learning/datasets/msp/videos/r_and_t_frames/r_frames/MSP-IMPROV-S01A-F02-R-FF01_frames/'\n",
    "print(os.path.exists(f), f)\n",
    "frames = os.listdir(f)\n",
    "# frames"
   ]
  },
  {
   "cell_type": "code",
   "execution_count": 19,
   "id": "75b5d82a-86e1-4176-895b-824662f98e46",
   "metadata": {},
   "outputs": [
    {
     "name": "stdout",
     "output_type": "stream",
     "text": [
      "True /Users/brinkley97/Documents/development/classes/csci_535_multimodal_probabilistic_learning/datasets/msp/videos/r_and_t_frames/face_r_frames/\n"
     ]
    }
   ],
   "source": [
    "save = '/Users/brinkley97/Documents/development/classes/csci_535_multimodal_probabilistic_learning/datasets/msp/videos/r_and_t_frames/face_r_frames/'\n",
    "print(os.path.exists(save), save)"
   ]
  },
  {
   "cell_type": "code",
   "execution_count": 20,
   "id": "988b10c2-36ba-4caa-880b-12e7de2ac67d",
   "metadata": {},
   "outputs": [
    {
     "ename": "FileExistsError",
     "evalue": "[Errno 17] File exists: '/Users/brinkley97/Documents/development/classes/csci_535_multimodal_probabilistic_learning/datasets/msp/videos/r_and_t_frames/face_r_frames/MSP-IMPROV-S01A-F02-R-FF01_frames_to_cropped_face/'",
     "output_type": "error",
     "traceback": [
      "\u001b[0;31m---------------------------------------------------------------------------\u001b[0m",
      "\u001b[0;31mFileExistsError\u001b[0m                           Traceback (most recent call last)",
      "Cell \u001b[0;32mIn[20], line 2\u001b[0m\n\u001b[1;32m      1\u001b[0m save_dir \u001b[38;5;241m=\u001b[39m save \u001b[38;5;241m+\u001b[39m \u001b[38;5;124m'\u001b[39m\u001b[38;5;124mMSP-IMPROV-S01A-F02-R-FF01_frames_to_cropped_face/\u001b[39m\u001b[38;5;124m'\u001b[39m\n\u001b[0;32m----> 2\u001b[0m \u001b[43mos\u001b[49m\u001b[38;5;241;43m.\u001b[39;49m\u001b[43mmkdir\u001b[49m\u001b[43m(\u001b[49m\u001b[43msave_dir\u001b[49m\u001b[43m)\u001b[49m\n",
      "\u001b[0;31mFileExistsError\u001b[0m: [Errno 17] File exists: '/Users/brinkley97/Documents/development/classes/csci_535_multimodal_probabilistic_learning/datasets/msp/videos/r_and_t_frames/face_r_frames/MSP-IMPROV-S01A-F02-R-FF01_frames_to_cropped_face/'"
     ]
    }
   ],
   "source": [
    "save_dir = save + 'MSP-IMPROV-S01A-F02-R-FF01_frames_to_cropped_face/'\n",
    "os.mkdir(save_dir)"
   ]
  },
  {
   "cell_type": "code",
   "execution_count": 13,
   "id": "e46e520f-4437-478c-832d-d3b8f3f05672",
   "metadata": {},
   "outputs": [],
   "source": [
    "# imghdr.what(MSP_IMAGE)\n",
    "cropper = Cropper()"
   ]
  },
  {
   "cell_type": "code",
   "execution_count": 14,
   "id": "b4ed7d8d-c0de-4713-8c2b-976117e26773",
   "metadata": {},
   "outputs": [],
   "source": [
    "for frame_idx in range(len(frames)):\n",
    "    # print(frames[frame_idx])\n",
    "    frame_to_crop = f + frames[frame_idx]\n",
    "    # print(frame_to_crop)\n",
    "    x= cropper.crop(frame_to_crop)\n",
    "    c = Image.fromarray(x)\n",
    "    \n",
    "    save_r_cropped_frame_folder = save_dir + frames[frame_idx]\n",
    "    # print(save_r_cropped_frame_folder)\n",
    "    c.save(save_r_cropped_frame_folder)"
   ]
  },
  {
   "cell_type": "code",
   "execution_count": null,
   "id": "e9842d90-2512-4185-8239-fc97c2bd74eb",
   "metadata": {},
   "outputs": [],
   "source": []
  },
  {
   "cell_type": "code",
   "execution_count": null,
   "id": "bdc40189-8971-4f32-88e7-62fa5459c753",
   "metadata": {},
   "outputs": [],
   "source": []
  },
  {
   "cell_type": "code",
   "execution_count": null,
   "id": "a50ab31b-97ea-472b-8f2a-d02d65c6d016",
   "metadata": {},
   "outputs": [],
   "source": []
  },
  {
   "cell_type": "code",
   "execution_count": 8,
   "id": "1aaeb88d-a681-4c29-89c7-5251a0c232e0",
   "metadata": {},
   "outputs": [],
   "source": [
    "# c"
   ]
  },
  {
   "cell_type": "code",
   "execution_count": null,
   "id": "a7207567-588d-43cb-b818-f1a521c8277e",
   "metadata": {},
   "outputs": [],
   "source": []
  },
  {
   "cell_type": "code",
   "execution_count": null,
   "id": "2b02b59e-2c9f-43c4-a755-66e805203324",
   "metadata": {},
   "outputs": [],
   "source": []
  }
 ],
 "metadata": {
  "kernelspec": {
   "display_name": "Python 3 (ipykernel)",
   "language": "python",
   "name": "python3"
  },
  "language_info": {
   "codemirror_mode": {
    "name": "ipython",
    "version": 3
   },
   "file_extension": ".py",
   "mimetype": "text/x-python",
   "name": "python",
   "nbconvert_exporter": "python",
   "pygments_lexer": "ipython3",
   "version": "3.9.12"
  }
 },
 "nbformat": 4,
 "nbformat_minor": 5
}

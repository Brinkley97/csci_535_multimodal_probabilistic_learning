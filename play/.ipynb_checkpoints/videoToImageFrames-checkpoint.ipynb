{
 "cells": [
  {
   "cell_type": "markdown",
   "id": "431c0045-eb13-4c06-bc82-a7569d75fa40",
   "metadata": {},
   "source": [
    "# Video To Image Frames"
   ]
  },
  {
   "cell_type": "code",
   "execution_count": 1,
   "id": "b7d9baca-f9b1-42cc-b538-41185d6f98e3",
   "metadata": {},
   "outputs": [],
   "source": [
    "import cv2\n",
    "import os"
   ]
  },
  {
   "cell_type": "code",
   "execution_count": 2,
   "id": "4f89224c-6afa-46e5-8a8f-e2692f75a948",
   "metadata": {},
   "outputs": [],
   "source": [
    "BASE = \"/Users/brinkley97/Documents/development/\"\n",
    "CLASS_PATH = \"classes/csci_535_multimodal_probabilistic_learning/\"\n",
    "DATASET_PATH = \"datasets/ipd_data/IPD_videos/\""
   ]
  },
  {
   "cell_type": "code",
   "execution_count": 3,
   "id": "26e19da8-e38a-4992-9ae9-fecbc338364b",
   "metadata": {},
   "outputs": [],
   "source": [
    "def save_frames_to_file(vidcap, video_frames_path):\n",
    "    \n",
    "    success, image = vidcap.read()\n",
    "    count = 0\n",
    "    \n",
    "    while success:\n",
    "\n",
    "        cv2.imwrite(video_frames_path + \"frame%d.jpg\" % count, image)     # save frame as JPEG file      \n",
    "        success,image = vidcap.read()\n",
    "        # print('Read a new frame: ', success)\n",
    "        count += 1"
   ]
  },
  {
   "cell_type": "code",
   "execution_count": 8,
   "id": "17b5f219-a371-49c5-b34f-dd1e083d8841",
   "metadata": {},
   "outputs": [],
   "source": [
    "def get_video(video_dir, videos):\n",
    "    \n",
    "    \n",
    "    # loop dir\n",
    "    for video in videos:\n",
    "        if video.endswith('.mp4'):\n",
    "            print(video)\n",
    "            video_frames_path = os.path.splitext(video_dir + video)[0] + \"_frames/\"\n",
    "            print(video_frames_path)\n",
    "            folder_exists = os.path.exists(video_frames_path)\n",
    "            # print(folder_exists)\n",
    "            \n",
    "            if folder_exists == False:\n",
    "                \n",
    "                os.mkdir(video_frames_path)\n",
    "\n",
    "                video_file = BASE + CLASS_PATH + DATASET_PATH + video\n",
    "                # print(video_file)\n",
    "                # video_file = BASE + CLASS_PATH + DATASET_PATH + 'video_6.mp4'\n",
    "                vidcap_n = cv2.VideoCapture(video_file)\n",
    "                save_frames_to_file(vidcap_n, video_frames_path)\n",
    "            else:\n",
    "                video_file = BASE + CLASS_PATH + DATASET_PATH + video\n",
    "                vidcap = cv2.VideoCapture(video_file)\n",
    "                save_frames_to_file(vidcap, video_frames_path)\n",
    "                # print(video_file)    "
   ]
  },
  {
   "cell_type": "code",
   "execution_count": null,
   "id": "630f2dd2-0293-41dc-8ac5-72bfdb09c616",
   "metadata": {},
   "outputs": [
    {
     "name": "stdout",
     "output_type": "stream",
     "text": [
      "video_2416.mp4\n",
      "/Users/brinkley97/Documents/development/classes/csci_535_multimodal_probabilistic_learning/datasets/ipd_data/IPD_videos/video_2416_frames/\n",
      "video_2406.mp4\n",
      "/Users/brinkley97/Documents/development/classes/csci_535_multimodal_probabilistic_learning/datasets/ipd_data/IPD_videos/video_2406_frames/\n",
      "video_3524.mp4\n",
      "/Users/brinkley97/Documents/development/classes/csci_535_multimodal_probabilistic_learning/datasets/ipd_data/IPD_videos/video_3524_frames/\n",
      "video_6639.mp4\n",
      "/Users/brinkley97/Documents/development/classes/csci_535_multimodal_probabilistic_learning/datasets/ipd_data/IPD_videos/video_6639_frames/\n",
      "video_193.mp4\n",
      "/Users/brinkley97/Documents/development/classes/csci_535_multimodal_probabilistic_learning/datasets/ipd_data/IPD_videos/video_193_frames/\n"
     ]
    }
   ],
   "source": [
    "# directory of images\n",
    "video_dir = BASE + CLASS_PATH + DATASET_PATH\n",
    "videos = os.listdir(video_dir)\n",
    "\n",
    "get_video(video_dir, videos) "
   ]
  },
  {
   "cell_type": "code",
   "execution_count": null,
   "id": "e403af7b-332b-4a9d-87b6-72665af02ffe",
   "metadata": {},
   "outputs": [],
   "source": []
  }
 ],
 "metadata": {
  "kernelspec": {
   "display_name": "Python 3 (ipykernel)",
   "language": "python",
   "name": "python3"
  },
  "language_info": {
   "codemirror_mode": {
    "name": "ipython",
    "version": 3
   },
   "file_extension": ".py",
   "mimetype": "text/x-python",
   "name": "python",
   "nbconvert_exporter": "python",
   "pygments_lexer": "ipython3",
   "version": "3.9.16"
  }
 },
 "nbformat": 4,
 "nbformat_minor": 5
}

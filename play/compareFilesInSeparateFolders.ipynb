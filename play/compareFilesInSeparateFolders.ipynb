{
 "cells": [
  {
   "cell_type": "markdown",
   "id": "c33ddc64-d5d5-4c93-a2c5-19e1be1e45ff",
   "metadata": {},
   "source": [
    "# Compare Files in Separate Folders"
   ]
  },
  {
   "cell_type": "code",
   "execution_count": 1,
   "id": "140db13c-d4ed-4417-ab93-62f439be3852",
   "metadata": {},
   "outputs": [],
   "source": [
    "import os\n",
    "import numpy as np"
   ]
  },
  {
   "cell_type": "code",
   "execution_count": 2,
   "id": "c1269579-7708-4fd2-8c77-b9d9cc521d32",
   "metadata": {},
   "outputs": [],
   "source": [
    "BASE = '/Users/brinkley97/Documents/development/'\n",
    "CLASS_PATH = 'classes/csci_535_multimodal_probabilistic_learning/'\n",
    "DATASET_PATH = 'datasets/project/'"
   ]
  },
  {
   "cell_type": "code",
   "execution_count": 94,
   "id": "5699934b-681e-4697-ae45-cc1603a30c01",
   "metadata": {},
   "outputs": [],
   "source": [
    "def compare_frames_to_faces(path_to_frames, path_to_faces, frames, faces):\n",
    "    \"\"\"\n",
    "    \"\"\"\n",
    "    \n",
    "    frames.sort()\n",
    "    faces.sort()\n",
    "    # print(frames)\n",
    "    # print(faces)\n",
    "    \n",
    "    faces_folder = []\n",
    "    missing_faces = []\n",
    "    missing_frames = []\n",
    "    \n",
    "    for face in faces[1:]:\n",
    "        # print(face)\n",
    "        # -16 to get the base name of emotion folder to compare\n",
    "        emotion_folder = face[:-16]\n",
    "        # print(emotion_folder)\n",
    "        # faces_folder.append(emotion_folder)\n",
    "        path_to_face_folder = path_to_faces + face + '/'\n",
    "        \n",
    "        all_faces_in_face = os.listdir(path_to_face_folder)\n",
    "        len_of_all_faces_in_face = len(all_faces_in_face)\n",
    "        # print(len_of_all_faces_in_face, all_faces_in_face)\n",
    "        # print(\"FACES:\", len_of_all_faces_in_face)\n",
    "        \n",
    "        for frame in frames[1:0]:\n",
    "            path_to_frame_folder = path_to_frames + frame + '/'\n",
    "            \n",
    "            all_frames_in_frame = os.listdir(path_to_frame_folder)\n",
    "            len_of_all_frames_in_frame = len(all_frames_in_frame)\n",
    "            # print(len_of_all_frames_in_frame, all_frames_in_frame)\n",
    "            \n",
    "            # print(\"FACE   FOLDER: \", face, \"#faces:\", len_of_all_faces_in_face) \n",
    "            # print(\"FRAMES FOLDER: \", frame, \"#frames:\", len_of_all_frames_in_frame)\n",
    "            # print()\n",
    "#             print(\"FACE FOLDER: \", emotion_folder, \"FRAMES FOLDERS: \", frame)\n",
    "#             print(\"FACES: \", len_of_all_faces_in_face, \"FRAMES:\", len_of_all_frames_in_frame)\n",
    "            \n",
    "            if len_of_all_faces_in_face == len_of_all_frames_in_frame:\n",
    "                print(\"FACE   FOLDER: \", face, \"#faces:\", len_of_all_faces_in_face) \n",
    "                print(\"FRAMES FOLDER: \", frame, \"#frames:\", len_of_all_frames_in_frame)\n",
    "                print()\n",
    "                break\n",
    "            else:\n",
    "                # print(emotion_folder)\n",
    "                # print(frame)\n",
    "                if emotion_folder == frame:\n",
    "                    print(\"MISSING\")\n",
    "                \n",
    "                    missing_faces.append(path_to_face_folder)\n",
    "                    missing_frames.append(path_to_frame_folder)\n",
    "                \n",
    "        \n",
    "    return missing_frames, missing_faces"
   ]
  },
  {
   "cell_type": "code",
   "execution_count": 95,
   "id": "e713ae8a-aafe-49e1-aa5c-fdf42d0d8928",
   "metadata": {},
   "outputs": [
    {
     "name": "stdout",
     "output_type": "stream",
     "text": [
      "653\n"
     ]
    }
   ],
   "source": [
    "MSP_T_VIDEOS_TO_FRAMES = BASE + CLASS_PATH + DATASET_PATH + 'msp_t/videos_to_frames_msp_t_opencv/'\n",
    "msp_t_videos_to_frames = os.listdir(MSP_T_VIDEOS_TO_FRAMES)\n",
    "print(len(msp_t_videos_to_frames))"
   ]
  },
  {
   "cell_type": "code",
   "execution_count": 96,
   "id": "8bc2e6a2-813e-4845-9a28-8e74b9187083",
   "metadata": {},
   "outputs": [
    {
     "name": "stdout",
     "output_type": "stream",
     "text": [
      "653\n"
     ]
    }
   ],
   "source": [
    "MSP_T_CROPPED_FRAMES = BASE + CLASS_PATH + DATASET_PATH  + 'msp_t/frames_to_faces_msp_t/'\n",
    "msp_t_frames_to_faces = os.listdir(MSP_T_CROPPED_FRAMES)\n",
    "print(len(msp_t_frames_to_faces))"
   ]
  },
  {
   "cell_type": "code",
   "execution_count": 97,
   "id": "b66ef228-a34d-4a8f-a11c-8577979ed022",
   "metadata": {},
   "outputs": [],
   "source": [
    "missing_frames, missing_faces = compare_frames_to_faces(MSP_T_VIDEOS_TO_FRAMES, MSP_T_CROPPED_FRAMES, msp_t_videos_to_frames, msp_t_frames_to_faces)"
   ]
  },
  {
   "cell_type": "code",
   "execution_count": 98,
   "id": "5b9eb41a-de7f-4274-aa40-7a75be19d8e1",
   "metadata": {},
   "outputs": [
    {
     "data": {
      "text/plain": [
       "[]"
      ]
     },
     "execution_count": 98,
     "metadata": {},
     "output_type": "execute_result"
    }
   ],
   "source": [
    "missing_frames"
   ]
  },
  {
   "cell_type": "code",
   "execution_count": 99,
   "id": "de6cd61f-1a1d-4806-aa82-0d7182729da9",
   "metadata": {},
   "outputs": [
    {
     "data": {
      "text/plain": [
       "[]"
      ]
     },
     "execution_count": 99,
     "metadata": {},
     "output_type": "execute_result"
    }
   ],
   "source": [
    "missing_faces"
   ]
  },
  {
   "cell_type": "code",
   "execution_count": null,
   "id": "fe1e90a9-1893-476f-962d-66899867ed8a",
   "metadata": {},
   "outputs": [],
   "source": []
  }
 ],
 "metadata": {
  "kernelspec": {
   "display_name": "Python 3 (ipykernel)",
   "language": "python",
   "name": "python3"
  },
  "language_info": {
   "codemirror_mode": {
    "name": "ipython",
    "version": 3
   },
   "file_extension": ".py",
   "mimetype": "text/x-python",
   "name": "python",
   "nbconvert_exporter": "python",
   "pygments_lexer": "ipython3",
   "version": "3.9.16"
  }
 },
 "nbformat": 4,
 "nbformat_minor": 5
}

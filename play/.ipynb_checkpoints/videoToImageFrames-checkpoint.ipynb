{
 "cells": [
  {
   "cell_type": "markdown",
   "id": "431c0045-eb13-4c06-bc82-a7569d75fa40",
   "metadata": {},
   "source": [
    "# Video To Image Frames"
   ]
  },
  {
   "cell_type": "code",
   "execution_count": null,
   "id": "b7d9baca-f9b1-42cc-b538-41185d6f98e3",
   "metadata": {},
   "outputs": [],
   "source": [
    "import cv2\n",
    "import os"
   ]
  },
  {
   "cell_type": "code",
   "execution_count": null,
   "id": "4f89224c-6afa-46e5-8a8f-e2692f75a948",
   "metadata": {},
   "outputs": [],
   "source": [
    "BASE = \"/Users/brinkley97/Documents/development/\"\n",
    "CLASS_PATH = \"classes/csci_535_multimodal_probabilistic_learning/\"\n",
    "IPD_DATASET_PATH = \"datasets/ipd_data/IPD_videos/\"\n",
    "CREMA_D_DATASET_PATH = \"datasets/git_lfs/CREMA-D/VideoFlash/\"\n",
    "MSP_DATASET_PATH = \"datasets/msp/videos/\""
   ]
  },
  {
   "cell_type": "code",
   "execution_count": null,
   "id": "26e19da8-e38a-4992-9ae9-fecbc338364b",
   "metadata": {},
   "outputs": [],
   "source": [
    "def save_frames_to_file(vidcap, video_frames_path):\n",
    "    \"\"\"\n",
    "    \n",
    "    vidcap -- cv video\n",
    "    video_frames_path -- str (path to save videos)\n",
    "    \n",
    "    \"\"\"\n",
    "    \n",
    "    success, image = vidcap.read()\n",
    "    count = 0\n",
    "    path_empty = os.listdir(video_frames_path)\n",
    "    \n",
    "    # Checking if the list is empty or not\n",
    "    if len(path_empty) == 0:\n",
    "        # print(\"Empty directory\")\n",
    "        while success:\n",
    "    \n",
    "            # save frame as JPEG file\n",
    "            cv2.imwrite(video_frames_path + \"frame%d.jpg\" % count, image)\n",
    "            success, image = vidcap.read()\n",
    "            # print('Read a new frame: ', success)\n",
    "            count += 1\n",
    "    else:\n",
    "        pass\n",
    "    \n",
    "    "
   ]
  },
  {
   "cell_type": "code",
   "execution_count": null,
   "id": "17b5f219-a371-49c5-b34f-dd1e083d8841",
   "metadata": {},
   "outputs": [],
   "source": [
    "def get_video(video_dir, videos):\n",
    "    \n",
    "    for video in videos:\n",
    "        '''\n",
    "        change file extension for \n",
    "            -- IPD to .mp4\n",
    "            -- CREMA-D to .flv\n",
    "            -- MSP to .avi\n",
    "        '''\n",
    "        \n",
    "        if video.endswith('.flv'):\n",
    "            print(video)\n",
    "            video_frames_path = os.path.splitext(video_dir + video)[0] + \"_frames/\"\n",
    "            # print(video_frames_path)\n",
    "            folder_exists = os.path.exists(video_frames_path)\n",
    "            # print(folder_exists)\n",
    "            \n",
    "            if folder_exists == False:\n",
    "                \n",
    "                os.mkdir(video_frames_path)\n",
    "                \n",
    "                '''\n",
    "                IPD\n",
    "                '''\n",
    "                # ipd_video_file_n = video_dir + video\n",
    "                # vidcap_n = cv2.VideoCapture(ipd_video_file_n)\n",
    "                # save_frames_to_file(vidcap_n, video_frames_path)\n",
    "                \n",
    "                '''\n",
    "                CREMA-D\n",
    "                '''\n",
    "                # cd_video_file_n = video_dir + video\n",
    "                # print(cd_video_file_n)\n",
    "                # vidcap_n = cv2.VideoCapture(cd_video_file_n)\n",
    "                # save_frames_to_file(vidcap_n, video_frames_path)\n",
    "                \n",
    "                '''\n",
    "                MSP\n",
    "                '''\n",
    "                # msp_video_file_n = video_dir + video\n",
    "                # print(msp_video_file_n)\n",
    "                # vidcap_n = cv2.VideoCapture(msp_video_file_n)\n",
    "                # save_frames_to_file(vidcap_n, video_frames_path)\n",
    "            else:\n",
    "                \n",
    "                '''\n",
    "                IPD\n",
    "                '''\n",
    "                # idp_video_file = video_dir + video\n",
    "                # ipd_vidcap = cv2.VideoCapture(idp_video_file)\n",
    "                # save_frames_to_file(ipd_vidcap, video_frames_path)\n",
    "                \n",
    "                \n",
    "                '''\n",
    "                CREMA-D\n",
    "                '''\n",
    "                # cd_video_file_n = video_dir + video\n",
    "                # # print(cd_video_file_n)\n",
    "                # vidcap = cv2.VideoCapture(cd_video_file_n)\n",
    "                # save_frames_to_file(vidcap_n, video_frames_path)\n",
    "                \n",
    "                '''\n",
    "                MSP\n",
    "                '''\n",
    "                # msp_video_file = video_dir + video\n",
    "                # # print(msp_video_file)\n",
    "                # vidcap = cv2.VideoCapture(msp_video_file)\n",
    "                # save_frames_to_file(vidcap, video_frames_path)\n",
    "                   "
   ]
  },
  {
   "cell_type": "code",
   "execution_count": null,
   "id": "630f2dd2-0293-41dc-8ac5-72bfdb09c616",
   "metadata": {},
   "outputs": [],
   "source": [
    "# directory of videos\n",
    "# video_dir = BASE + CLASS_PATH + IPD_DATASET_PATH\n",
    "# videos = os.listdir(video_dir)\n",
    "\n",
    "# get_video(video_dir, videos) "
   ]
  },
  {
   "cell_type": "code",
   "execution_count": 7,
   "id": "e403af7b-332b-4a9d-87b6-72665af02ffe",
   "metadata": {},
   "outputs": [],
   "source": [
    "# # directory of CREMA-D videos -- good to run\n",
    "# crema_d_video_dir = BASE + CLASS_PATH + CREMA_D_DATASET_PATH\n",
    "# crema_d_videos = os.listdir(crema_d_video_dir)\n",
    "\n",
    "# get_video(crema_d_video_dir, crema_d_videos) "
   ]
  },
  {
   "cell_type": "code",
   "execution_count": 7,
   "id": "65b9fd93-a107-4364-9a8c-500e2d155f1a",
   "metadata": {},
   "outputs": [],
   "source": [
    "# # directory of MSP videos -- good to run\n",
    "# r_video_dir = BASE + CLASS_PATH + MSP_DATASET_PATH + \"r_videos/\"\n",
    "# # print(r_video_dir)\n",
    "# r_videos = os.listdir(r_video_dir)\n",
    "# # print(r_videos)\n",
    "# get_video(r_video_dir, r_videos) "
   ]
  },
  {
   "cell_type": "code",
   "execution_count": 8,
   "id": "c297bc10-39f9-49ae-9993-381f9c8ff3d2",
   "metadata": {},
   "outputs": [],
   "source": [
    "# # directory of MSP videos -- good to run\n",
    "# t_video_dir = BASE + CLASS_PATH + MSP_DATASET_PATH + \"t_videos/\"\n",
    "# t_videos = os.listdir(t_video_dir)\n",
    "\n",
    "# get_video(t_video_dir, t_videos) "
   ]
  }
 ],
 "metadata": {
  "kernelspec": {
   "display_name": "Python 3 (ipykernel)",
   "language": "python",
   "name": "python3"
  },
  "language_info": {
   "codemirror_mode": {
    "name": "ipython",
    "version": 3
   },
   "file_extension": ".py",
   "mimetype": "text/x-python",
   "name": "python",
   "nbconvert_exporter": "python",
   "pygments_lexer": "ipython3",
   "version": "3.9.16"
  }
 },
 "nbformat": 4,
 "nbformat_minor": 5
}

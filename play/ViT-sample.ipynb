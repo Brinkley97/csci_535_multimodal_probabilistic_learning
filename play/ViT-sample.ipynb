{
 "cells": [
  {
   "cell_type": "markdown",
   "id": "73285297-aaac-4a84-9674-1e34fd5954c6",
   "metadata": {},
   "source": [
    "# Extracting Features with ViT\n",
    "- https://huggingface.co/docs/transformers/model_doc/vit#vision-transformer-vit\n",
    "- https://arxiv.org/abs/2010.11929"
   ]
  },
  {
   "cell_type": "code",
   "execution_count": 1,
   "id": "1dec1477-5216-45f8-8bd2-a178186168bf",
   "metadata": {},
   "outputs": [],
   "source": [
    "import os\n",
    "import torch\n",
    "import csv\n",
    "\n",
    "import pandas as pd\n",
    "import numpy as np\n",
    "# import torchvision.transforms as transforms\n",
    "\n",
    "# from PIL import Image\n",
    "# from transformers import ViTImageProcessor, ViTFeatureExtractor, ViTModel\n",
    "# from sklearn.model_selection import train_test_split, GridSearchCV"
   ]
  },
  {
   "cell_type": "code",
   "execution_count": 2,
   "id": "dba20bd1-54fe-4b63-af56-df2ee86d7a53",
   "metadata": {},
   "outputs": [],
   "source": [
    "BASE = '/Users/brinkley97/Documents/development/'\n",
    "CLASS_PATH = 'classes/csci_535_multimodal_probabilistic_learning/'\n",
    "DATASET_PATH = 'datasets/'"
   ]
  },
  {
   "cell_type": "code",
   "execution_count": null,
   "id": "e4fdf4ea-1350-468c-b1a4-1bcb9379d74b",
   "metadata": {},
   "outputs": [],
   "source": [
    "processor = ViTImageProcessor.from_pretrained('google/vit-base-patch16-224-in21k')\n",
    "model = ViTModel.from_pretrained('google/vit-base-patch16-224-in21k')"
   ]
  },
  {
   "cell_type": "code",
   "execution_count": 7,
   "id": "61987b25-6171-43d0-b448-b097b3447425",
   "metadata": {},
   "outputs": [],
   "source": [
    "def load_data(file):\n",
    "    original_data = pd.read_csv(file)\n",
    "    # original_data = pd.DataFrame(file)\n",
    "    copy_of_data = original_data.copy()\n",
    "    return copy_of_data"
   ]
  },
  {
   "cell_type": "code",
   "execution_count": 8,
   "id": "a58cb5d2-21d4-4523-a66a-27255a7b5234",
   "metadata": {},
   "outputs": [],
   "source": [
    "file_paths = BASE + CLASS_PATH + DATASET_PATH + 'cremaD_mspR_mspT.csv'"
   ]
  },
  {
   "cell_type": "code",
   "execution_count": 9,
   "id": "98a6401e-3beb-497b-8666-8f209a9c9130",
   "metadata": {},
   "outputs": [
    {
     "data": {
      "text/html": [
       "<div>\n",
       "<style scoped>\n",
       "    .dataframe tbody tr th:only-of-type {\n",
       "        vertical-align: middle;\n",
       "    }\n",
       "\n",
       "    .dataframe tbody tr th {\n",
       "        vertical-align: top;\n",
       "    }\n",
       "\n",
       "    .dataframe thead th {\n",
       "        text-align: right;\n",
       "    }\n",
       "</style>\n",
       "<table border=\"1\" class=\"dataframe\">\n",
       "  <thead>\n",
       "    <tr style=\"text-align: right;\">\n",
       "      <th></th>\n",
       "      <th>Unnamed: 0</th>\n",
       "      <th>CREMA-D Paths</th>\n",
       "      <th>MSP R Paths</th>\n",
       "      <th>MSP T Paths</th>\n",
       "    </tr>\n",
       "  </thead>\n",
       "  <tbody>\n",
       "    <tr>\n",
       "      <th>0</th>\n",
       "      <td>0</td>\n",
       "      <td>/Users/brinkley97/Documents/development/classe...</td>\n",
       "      <td>/Users/brinkley97/Documents/development/classe...</td>\n",
       "      <td>/Users/brinkley97/Documents/development/classe...</td>\n",
       "    </tr>\n",
       "    <tr>\n",
       "      <th>1</th>\n",
       "      <td>1</td>\n",
       "      <td>/Users/brinkley97/Documents/development/classe...</td>\n",
       "      <td>/Users/brinkley97/Documents/development/classe...</td>\n",
       "      <td>/Users/brinkley97/Documents/development/classe...</td>\n",
       "    </tr>\n",
       "    <tr>\n",
       "      <th>2</th>\n",
       "      <td>2</td>\n",
       "      <td>/Users/brinkley97/Documents/development/classe...</td>\n",
       "      <td>/Users/brinkley97/Documents/development/classe...</td>\n",
       "      <td>/Users/brinkley97/Documents/development/classe...</td>\n",
       "    </tr>\n",
       "    <tr>\n",
       "      <th>3</th>\n",
       "      <td>3</td>\n",
       "      <td>/Users/brinkley97/Documents/development/classe...</td>\n",
       "      <td>/Users/brinkley97/Documents/development/classe...</td>\n",
       "      <td>/Users/brinkley97/Documents/development/classe...</td>\n",
       "    </tr>\n",
       "    <tr>\n",
       "      <th>4</th>\n",
       "      <td>4</td>\n",
       "      <td>/Users/brinkley97/Documents/development/classe...</td>\n",
       "      <td>/Users/brinkley97/Documents/development/classe...</td>\n",
       "      <td>/Users/brinkley97/Documents/development/classe...</td>\n",
       "    </tr>\n",
       "    <tr>\n",
       "      <th>...</th>\n",
       "      <td>...</td>\n",
       "      <td>...</td>\n",
       "      <td>...</td>\n",
       "      <td>...</td>\n",
       "    </tr>\n",
       "    <tr>\n",
       "      <th>114818</th>\n",
       "      <td>114818</td>\n",
       "      <td>/Users/brinkley97/Documents/development/classe...</td>\n",
       "      <td>NaN</td>\n",
       "      <td>NaN</td>\n",
       "    </tr>\n",
       "    <tr>\n",
       "      <th>114819</th>\n",
       "      <td>114819</td>\n",
       "      <td>/Users/brinkley97/Documents/development/classe...</td>\n",
       "      <td>NaN</td>\n",
       "      <td>NaN</td>\n",
       "    </tr>\n",
       "    <tr>\n",
       "      <th>114820</th>\n",
       "      <td>114820</td>\n",
       "      <td>/Users/brinkley97/Documents/development/classe...</td>\n",
       "      <td>NaN</td>\n",
       "      <td>NaN</td>\n",
       "    </tr>\n",
       "    <tr>\n",
       "      <th>114821</th>\n",
       "      <td>114821</td>\n",
       "      <td>/Users/brinkley97/Documents/development/classe...</td>\n",
       "      <td>NaN</td>\n",
       "      <td>NaN</td>\n",
       "    </tr>\n",
       "    <tr>\n",
       "      <th>114822</th>\n",
       "      <td>114822</td>\n",
       "      <td>/Users/brinkley97/Documents/development/classe...</td>\n",
       "      <td>NaN</td>\n",
       "      <td>NaN</td>\n",
       "    </tr>\n",
       "  </tbody>\n",
       "</table>\n",
       "<p>114823 rows × 4 columns</p>\n",
       "</div>"
      ],
      "text/plain": [
       "        Unnamed: 0                                      CREMA-D Paths  \\\n",
       "0                0  /Users/brinkley97/Documents/development/classe...   \n",
       "1                1  /Users/brinkley97/Documents/development/classe...   \n",
       "2                2  /Users/brinkley97/Documents/development/classe...   \n",
       "3                3  /Users/brinkley97/Documents/development/classe...   \n",
       "4                4  /Users/brinkley97/Documents/development/classe...   \n",
       "...            ...                                                ...   \n",
       "114818      114818  /Users/brinkley97/Documents/development/classe...   \n",
       "114819      114819  /Users/brinkley97/Documents/development/classe...   \n",
       "114820      114820  /Users/brinkley97/Documents/development/classe...   \n",
       "114821      114821  /Users/brinkley97/Documents/development/classe...   \n",
       "114822      114822  /Users/brinkley97/Documents/development/classe...   \n",
       "\n",
       "                                              MSP R Paths  \\\n",
       "0       /Users/brinkley97/Documents/development/classe...   \n",
       "1       /Users/brinkley97/Documents/development/classe...   \n",
       "2       /Users/brinkley97/Documents/development/classe...   \n",
       "3       /Users/brinkley97/Documents/development/classe...   \n",
       "4       /Users/brinkley97/Documents/development/classe...   \n",
       "...                                                   ...   \n",
       "114818                                                NaN   \n",
       "114819                                                NaN   \n",
       "114820                                                NaN   \n",
       "114821                                                NaN   \n",
       "114822                                                NaN   \n",
       "\n",
       "                                              MSP T Paths  \n",
       "0       /Users/brinkley97/Documents/development/classe...  \n",
       "1       /Users/brinkley97/Documents/development/classe...  \n",
       "2       /Users/brinkley97/Documents/development/classe...  \n",
       "3       /Users/brinkley97/Documents/development/classe...  \n",
       "4       /Users/brinkley97/Documents/development/classe...  \n",
       "...                                                   ...  \n",
       "114818                                                NaN  \n",
       "114819                                                NaN  \n",
       "114820                                                NaN  \n",
       "114821                                                NaN  \n",
       "114822                                                NaN  \n",
       "\n",
       "[114823 rows x 4 columns]"
      ]
     },
     "execution_count": 9,
     "metadata": {},
     "output_type": "execute_result"
    }
   ],
   "source": [
    "dataset_paths_copy = load_data(file_paths)\n",
    "dataset_paths_copy"
   ]
  },
  {
   "cell_type": "code",
   "execution_count": null,
   "id": "c0f283bc-790a-4554-94f9-ce6722caff45",
   "metadata": {},
   "outputs": [],
   "source": [
    "def extract_features(specific_dataset_frames):\n",
    "    \"\"\"\n",
    "    Parameters:\n",
    "    faces_in_specific_folder_path -- py str (of all faces in a specific folder)\n",
    "    faces_file_names -- py list (of all the file names in a specific folder)\n",
    "    \n",
    "    Return:\n",
    "    extracted_features -- py\n",
    "    \"\"\"\n",
    "    \n",
    "    extracted_features_per_video = torch.empty((0, 197, 768))\n",
    "    \n",
    "    x = []\n",
    "    all_last_hidden_states = []\n",
    "    for specific_dataset_frame in range(len(specific_dataset_frames)):\n",
    "        # print(specific_dataset_frame)\n",
    "        \n",
    "        specific_frame_path = specific_dataset_frames[specific_dataset_frame]\n",
    "        specific_frame = Image.open(specific_frame_path)\n",
    "        # print(np.shape(specific_frame))\n",
    "\n",
    "        inputs = processor(images=specific_frame, return_tensors=\"pt\")\n",
    "        x.append(inputs)\n",
    "        # outputs = model(**inputs)\n",
    "\n",
    "#         # last_hidden_states == representation (1 and 2 with GradCam)\n",
    "        # last_hidden_states = outputs.last_hidden_state\n",
    "        # all_last_hidden_states.append(last_hidden_states)\n",
    "#         extracted_features_per_video = torch.vstack((extracted_features_per_video, last_hidden_states))\n",
    "        \n",
    "        \n",
    "    return x"
   ]
  },
  {
   "cell_type": "markdown",
   "id": "220f9b18-5f69-4863-a454-274d2015bcb4",
   "metadata": {},
   "source": [
    "# CREMA-D"
   ]
  },
  {
   "cell_type": "markdown",
   "id": "d0d59156-01b0-4b00-ba59-b04a418cd655",
   "metadata": {},
   "source": [
    "## Sample"
   ]
  },
  {
   "cell_type": "code",
   "execution_count": 10,
   "id": "869c7dfc-06c7-4af4-aab1-3a04609ed558",
   "metadata": {},
   "outputs": [
    {
     "data": {
      "text/html": [
       "<div>\n",
       "<style scoped>\n",
       "    .dataframe tbody tr th:only-of-type {\n",
       "        vertical-align: middle;\n",
       "    }\n",
       "\n",
       "    .dataframe tbody tr th {\n",
       "        vertical-align: top;\n",
       "    }\n",
       "\n",
       "    .dataframe thead th {\n",
       "        text-align: right;\n",
       "    }\n",
       "</style>\n",
       "<table border=\"1\" class=\"dataframe\">\n",
       "  <thead>\n",
       "    <tr style=\"text-align: right;\">\n",
       "      <th></th>\n",
       "      <th>Unnamed: 0</th>\n",
       "      <th>CREMA-D Paths</th>\n",
       "    </tr>\n",
       "  </thead>\n",
       "  <tbody>\n",
       "    <tr>\n",
       "      <th>0</th>\n",
       "      <td>0</td>\n",
       "      <td>/Users/brinkley97/Documents/development/classe...</td>\n",
       "    </tr>\n",
       "    <tr>\n",
       "      <th>1</th>\n",
       "      <td>1</td>\n",
       "      <td>/Users/brinkley97/Documents/development/classe...</td>\n",
       "    </tr>\n",
       "    <tr>\n",
       "      <th>2</th>\n",
       "      <td>2</td>\n",
       "      <td>/Users/brinkley97/Documents/development/classe...</td>\n",
       "    </tr>\n",
       "    <tr>\n",
       "      <th>3</th>\n",
       "      <td>3</td>\n",
       "      <td>/Users/brinkley97/Documents/development/classe...</td>\n",
       "    </tr>\n",
       "    <tr>\n",
       "      <th>4</th>\n",
       "      <td>4</td>\n",
       "      <td>/Users/brinkley97/Documents/development/classe...</td>\n",
       "    </tr>\n",
       "    <tr>\n",
       "      <th>...</th>\n",
       "      <td>...</td>\n",
       "      <td>...</td>\n",
       "    </tr>\n",
       "    <tr>\n",
       "      <th>374</th>\n",
       "      <td>374</td>\n",
       "      <td>/Users/brinkley97/Documents/development/classe...</td>\n",
       "    </tr>\n",
       "    <tr>\n",
       "      <th>375</th>\n",
       "      <td>375</td>\n",
       "      <td>/Users/brinkley97/Documents/development/classe...</td>\n",
       "    </tr>\n",
       "    <tr>\n",
       "      <th>376</th>\n",
       "      <td>376</td>\n",
       "      <td>/Users/brinkley97/Documents/development/classe...</td>\n",
       "    </tr>\n",
       "    <tr>\n",
       "      <th>377</th>\n",
       "      <td>377</td>\n",
       "      <td>/Users/brinkley97/Documents/development/classe...</td>\n",
       "    </tr>\n",
       "    <tr>\n",
       "      <th>378</th>\n",
       "      <td>378</td>\n",
       "      <td>/Users/brinkley97/Documents/development/classe...</td>\n",
       "    </tr>\n",
       "  </tbody>\n",
       "</table>\n",
       "<p>379 rows × 2 columns</p>\n",
       "</div>"
      ],
      "text/plain": [
       "     Unnamed: 0                                      CREMA-D Paths\n",
       "0             0  /Users/brinkley97/Documents/development/classe...\n",
       "1             1  /Users/brinkley97/Documents/development/classe...\n",
       "2             2  /Users/brinkley97/Documents/development/classe...\n",
       "3             3  /Users/brinkley97/Documents/development/classe...\n",
       "4             4  /Users/brinkley97/Documents/development/classe...\n",
       "..          ...                                                ...\n",
       "374         374  /Users/brinkley97/Documents/development/classe...\n",
       "375         375  /Users/brinkley97/Documents/development/classe...\n",
       "376         376  /Users/brinkley97/Documents/development/classe...\n",
       "377         377  /Users/brinkley97/Documents/development/classe...\n",
       "378         378  /Users/brinkley97/Documents/development/classe...\n",
       "\n",
       "[379 rows x 2 columns]"
      ]
     },
     "execution_count": 10,
     "metadata": {},
     "output_type": "execute_result"
    }
   ],
   "source": [
    "sample_crema_d = BASE + CLASS_PATH + DATASET_PATH + 'sampleCremaD.csv'\n",
    "load_sample_crema_d = load_data(sample_crema_d)\n",
    "load_sample_crema_d"
   ]
  },
  {
   "cell_type": "code",
   "execution_count": null,
   "id": "2ae56a4d-2706-4bcb-92df-1fd58d10b8de",
   "metadata": {},
   "outputs": [],
   "source": [
    "crema_d_paths = load_sample_crema_d[\"CREMA-D Paths\"]\n",
    "crema_d_paths"
   ]
  },
  {
   "cell_type": "code",
   "execution_count": null,
   "id": "25a0d157-4348-4c3a-acdd-09f838478432",
   "metadata": {},
   "outputs": [],
   "source": [
    "update_crema_d_paths = list(crema_d_paths)\n",
    "# update_crema_d_paths"
   ]
  },
  {
   "cell_type": "code",
   "execution_count": null,
   "id": "f0cc6916-5f13-4575-9f28-621f7f6501d9",
   "metadata": {},
   "outputs": [],
   "source": [
    "x_crema_d = extract_features(update_crema_d_paths)"
   ]
  },
  {
   "cell_type": "code",
   "execution_count": null,
   "id": "9126bd45-1f78-4788-b51e-52907fbea129",
   "metadata": {},
   "outputs": [],
   "source": [
    "type(x_crema_d)"
   ]
  },
  {
   "cell_type": "code",
   "execution_count": null,
   "id": "fa26c3a6-04f5-4fb2-8186-50f16b522cdb",
   "metadata": {},
   "outputs": [],
   "source": [
    "import pickle"
   ]
  },
  {
   "cell_type": "code",
   "execution_count": null,
   "id": "d41cb6c2-c390-4074-8f3a-a7389723d703",
   "metadata": {},
   "outputs": [],
   "source": [
    "sample_crema_d = BASE + CLASS_PATH + DATASET_PATH + 'inputs-sampleCremaD.txt'\n",
    "\n",
    "# d = {'a':0,'b':1,'c':2}\n",
    "with open(sample_crema_d, 'wb') as f:\n",
    "    pickle.dump(x_crema_d,f)  "
   ]
  },
  {
   "cell_type": "code",
   "execution_count": null,
   "id": "49955c34-ff47-49e7-ad48-d257756e5df3",
   "metadata": {},
   "outputs": [],
   "source": [
    "reading_sample_crema_d = pd.read_pickle(sample_crema_d)"
   ]
  },
  {
   "cell_type": "code",
   "execution_count": null,
   "id": "ffcd0903-58f2-4304-a705-769edd3282f4",
   "metadata": {},
   "outputs": [],
   "source": [
    "# reading_sample_crema_d"
   ]
  },
  {
   "cell_type": "code",
   "execution_count": null,
   "id": "bb2bcea0-0003-4fe2-b212-9138d500b12c",
   "metadata": {},
   "outputs": [],
   "source": [
    "all_last_hidden_states = []\n",
    "for specific_frame in range(len(reading_sample_crema_d)):\n",
    "    inputs = reading_sample_crema_d[specific_frame]\n",
    "    outputs = model(**inputs)\n",
    "    # last_hidden_states == representation (1 and 2 with GradCam)\n",
    "    last_hidden_states = outputs.last_hidden_state\n",
    "    all_last_hidden_states.append(last_hidden_states)"
   ]
  },
  {
   "cell_type": "code",
   "execution_count": null,
   "id": "0b61f4a9-c547-4569-ad74-6d3dece8e1d2",
   "metadata": {},
   "outputs": [],
   "source": [
    "# all_last_hidden_states"
   ]
  },
  {
   "cell_type": "code",
   "execution_count": null,
   "id": "f3cbd434-4a7b-4f39-afe5-d8ea58a8f46d",
   "metadata": {},
   "outputs": [],
   "source": [
    "sample_crema_d_hidden_states = BASE + CLASS_PATH + DATASET_PATH + 'hiddenStates-sampleCremaD.txt'\n",
    "\n",
    "# d = {'a':0,'b':1,'c':2}\n",
    "# with open(sample_crema_d_hidden_states, 'wb') as f:\n",
    "#     pickle.dump(all_last_hidden_states, f)  "
   ]
  },
  {
   "cell_type": "code",
   "execution_count": null,
   "id": "3dd9b782-ab32-440e-acc3-69b84abe8b96",
   "metadata": {},
   "outputs": [],
   "source": [
    "reading_sample_crema_d_hidden_states = pd.read_pickle(sample_crema_d_hidden_states)"
   ]
  },
  {
   "cell_type": "code",
   "execution_count": null,
   "id": "7a6509d1-bce5-483d-8b73-b05b4bfddb76",
   "metadata": {},
   "outputs": [],
   "source": [
    "# reading_sample_crema_d_hidden_states"
   ]
  },
  {
   "cell_type": "code",
   "execution_count": null,
   "id": "49ee0684-c2e2-4d54-82e7-ff7b59c2a3c4",
   "metadata": {},
   "outputs": [],
   "source": [
    "extracted_features_per_video = torch.empty((0, 197, 768))\n",
    "save_efs = []\n",
    "for specific_frame_hs in range(len(reading_sample_crema_d_hidden_states)):\n",
    "    \n",
    "    hs = reading_sample_crema_d_hidden_states[specific_frame_hs]\n",
    "    extracted_features_per_video = torch.vstack((extracted_features_per_video, hs))\n",
    "    save_efs.append(extracted_features_per_video)"
   ]
  },
  {
   "cell_type": "code",
   "execution_count": null,
   "id": "b36bbce9-68bf-49b7-a3e5-7338026c3230",
   "metadata": {},
   "outputs": [],
   "source": [
    "# save_efs"
   ]
  },
  {
   "cell_type": "code",
   "execution_count": 4,
   "id": "f8f4841c-070b-4b81-81b5-f6eb1c7c6229",
   "metadata": {},
   "outputs": [],
   "source": [
    "sample_crema_d_extracted_features = BASE + CLASS_PATH + DATASET_PATH + 'extractedFeatures-sampleCremaD.txt'"
   ]
  },
  {
   "cell_type": "code",
   "execution_count": null,
   "id": "a9f5870f-c5b7-49c2-84fe-4c044d62c303",
   "metadata": {},
   "outputs": [],
   "source": [
    "\n",
    "# np.savetxt(sample_crema_d_extracted_features, )\n",
    "torch.save(save_efs, sample_crema_d_extracted_features)\n",
    "\n",
    "# d = {'a':0,'b':1,'c':2}\n",
    "# with open(sample_crema_d_extracted_features, 'wb') as f:\n",
    "#     pickle.dump(save_efs, f)  "
   ]
  },
  {
   "cell_type": "code",
   "execution_count": null,
   "id": "3f7bc1e6-d469-4973-ae2e-cd2e161b9161",
   "metadata": {},
   "outputs": [],
   "source": [
    "reading_sample_crema_d_efs = pd.read_pickle(sample_crema_d_extracted_features)"
   ]
  },
  {
   "cell_type": "code",
   "execution_count": 5,
   "id": "1b7caf5c-3702-44d0-94dd-b112ecd6a0e9",
   "metadata": {},
   "outputs": [],
   "source": [
    "fe_crema_d = torch.load(sample_crema_d_extracted_features)"
   ]
  },
  {
   "cell_type": "code",
   "execution_count": 11,
   "id": "1eefe439-aeac-4794-8da5-edfc5d7058c3",
   "metadata": {},
   "outputs": [],
   "source": [
    "# fe_crema_d"
   ]
  },
  {
   "cell_type": "markdown",
   "id": "0e8ab986-a025-4dd6-88bb-376a6a2d7b22",
   "metadata": {},
   "source": [
    "## Actual"
   ]
  },
  {
   "cell_type": "code",
   "execution_count": 12,
   "id": "2f430d4e-89f3-4089-aa28-c913fd64ddd9",
   "metadata": {},
   "outputs": [
    {
     "data": {
      "text/plain": [
       "0         /Users/brinkley97/Documents/development/classe...\n",
       "1         /Users/brinkley97/Documents/development/classe...\n",
       "2         /Users/brinkley97/Documents/development/classe...\n",
       "3         /Users/brinkley97/Documents/development/classe...\n",
       "4         /Users/brinkley97/Documents/development/classe...\n",
       "                                ...                        \n",
       "114818    /Users/brinkley97/Documents/development/classe...\n",
       "114819    /Users/brinkley97/Documents/development/classe...\n",
       "114820    /Users/brinkley97/Documents/development/classe...\n",
       "114821    /Users/brinkley97/Documents/development/classe...\n",
       "114822    /Users/brinkley97/Documents/development/classe...\n",
       "Name: CREMA-D Paths, Length: 114823, dtype: object"
      ]
     },
     "execution_count": 12,
     "metadata": {},
     "output_type": "execute_result"
    }
   ],
   "source": [
    "crema_d_paths = dataset_paths_copy[\"CREMA-D Paths\"]\n",
    "crema_d_paths"
   ]
  },
  {
   "cell_type": "code",
   "execution_count": null,
   "id": "2930b166-b6f3-46f5-b12e-175c3279f68a",
   "metadata": {},
   "outputs": [],
   "source": [
    "x_crema_d, y_crema_d = extract_features(crema_d_paths)"
   ]
  },
  {
   "cell_type": "markdown",
   "id": "403ea4dd-01a5-447a-8044-e2d3df4a3d22",
   "metadata": {},
   "source": [
    "# MSP"
   ]
  },
  {
   "cell_type": "code",
   "execution_count": null,
   "id": "a1a76a63-b453-4e7b-b523-465526c18a2e",
   "metadata": {},
   "outputs": [],
   "source": [
    "MSP_DATASET_PATH = 'msp/videos/r_and_t_frames/'"
   ]
  },
  {
   "cell_type": "markdown",
   "id": "c02fd03d-4851-4ff3-aafc-adae7976ec18",
   "metadata": {},
   "source": [
    "## R"
   ]
  },
  {
   "cell_type": "code",
   "execution_count": null,
   "id": "bbfaa9be-33bf-48e0-82ca-066ec2d85948",
   "metadata": {},
   "outputs": [],
   "source": [
    "R_FRAMES_PATH = BASE + CLASS_PATH + DATASET_PATH + MSP_DATASET_PATH + 'r_frames/'\n",
    "# R_FRAMES_PATH"
   ]
  },
  {
   "cell_type": "code",
   "execution_count": null,
   "id": "e95ffea1-f5f0-438d-96fb-4830fdac5d99",
   "metadata": {},
   "outputs": [],
   "source": [
    "path_msp_r = get_video_path_for_feature_extraction(R_FRAMES_PATH)\n",
    "# path_msp_r"
   ]
  },
  {
   "cell_type": "code",
   "execution_count": null,
   "id": "011d6580-7575-4b36-8432-2d0a5c521f4d",
   "metadata": {},
   "outputs": [],
   "source": [
    "msp_r_df = pd.DataFrame(path_msp_r, columns=['MSP R Paths'])"
   ]
  },
  {
   "cell_type": "markdown",
   "id": "adbe4d8a-f833-46a4-a880-3343e863ee72",
   "metadata": {},
   "source": [
    "## T"
   ]
  },
  {
   "cell_type": "code",
   "execution_count": null,
   "id": "2ed58d29-f9ca-4213-a5a9-519d747a3946",
   "metadata": {},
   "outputs": [],
   "source": [
    "T_FRAMES_PATH = BASE + CLASS_PATH + DATASET_PATH + MSP_DATASET_PATH + 't_frames/'\n",
    "# T_FRAMES_PATH"
   ]
  },
  {
   "cell_type": "code",
   "execution_count": null,
   "id": "26a72548-1f49-4f5c-a064-51d290ad5681",
   "metadata": {},
   "outputs": [],
   "source": [
    "path_msp_t = get_video_path_for_feature_extraction(T_FRAMES_PATH)\n",
    "# path_msp_t"
   ]
  },
  {
   "cell_type": "code",
   "execution_count": null,
   "id": "5102d641-76b7-47c5-88aa-e79405d17c1d",
   "metadata": {},
   "outputs": [],
   "source": [
    "msp_t_df = pd.DataFrame(path_msp_t, columns=['MSP T Paths'])"
   ]
  }
 ],
 "metadata": {
  "kernelspec": {
   "display_name": "Python 3 (ipykernel)",
   "language": "python",
   "name": "python3"
  },
  "language_info": {
   "codemirror_mode": {
    "name": "ipython",
    "version": 3
   },
   "file_extension": ".py",
   "mimetype": "text/x-python",
   "name": "python",
   "nbconvert_exporter": "python",
   "pygments_lexer": "ipython3",
   "version": "3.9.16"
  },
  "toc-autonumbering": true
 },
 "nbformat": 4,
 "nbformat_minor": 5
}

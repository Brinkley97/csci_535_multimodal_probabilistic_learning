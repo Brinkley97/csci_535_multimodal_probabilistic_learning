{
 "cells": [
  {
   "cell_type": "markdown",
   "id": "ca35797a-0030-43cc-9d10-b658031644a6",
   "metadata": {},
   "source": [
    "# Implementing Grad-CAM in PyTorch Tutorial\n",
    "\n",
    "https://medium.com/@stepanulyanin/implementing-grad-cam-in-pytorch-ea0937c31e82"
   ]
  },
  {
   "cell_type": "code",
   "execution_count": 3,
   "id": "4dc843af-91ea-4e93-8abc-c9fb51388fb7",
   "metadata": {},
   "outputs": [],
   "source": [
    "import torch\n",
    "import os\n",
    "\n",
    "import numpy as np\n",
    "import torch.nn as nn\n",
    "import matplotlib.pyplot as plt\n",
    "\n",
    "from torch.utils import data\n",
    "from torchvision.models import vgg19\n",
    "from torchvision import transforms\n",
    "from torchvision import datasets"
   ]
  },
  {
   "cell_type": "code",
   "execution_count": 4,
   "id": "27c218da-b2d5-4dff-bc0a-a28c0bc31901",
   "metadata": {},
   "outputs": [
    {
     "data": {
      "text/plain": [
       "'/Users/brinkley97/Documents/development/classes/csci_535_multimodal_probabilistic_learning/datasets/test_grad_cam_files/'"
      ]
     },
     "execution_count": 4,
     "metadata": {},
     "output_type": "execute_result"
    }
   ],
   "source": [
    "BASE = '/Users/brinkley97/Documents/development/'\n",
    "CLASS_PATH = 'classes/csci_535_multimodal_probabilistic_learning/'\n",
    "DATASET_PATH = 'datasets/'\n",
    "GRAD_CAM = 'test_grad_cam_files/'\n",
    "PATH_TO_IMAGES = BASE + CLASS_PATH + DATASET_PATH + GRAD_CAM\n",
    "PATH_TO_IMAGES"
   ]
  },
  {
   "cell_type": "code",
   "execution_count": null,
   "id": "d712e216-c7da-42bd-8406-6ce6d124a7cb",
   "metadata": {},
   "outputs": [],
   "source": []
  },
  {
   "cell_type": "code",
   "execution_count": 7,
   "id": "7be5f722-babf-462f-97b9-e7b29a398cb5",
   "metadata": {},
   "outputs": [],
   "source": [
    "# for crema_d_grad_cam_path in range(len(crema_d_grad_cam_paths)):\n",
    "#     path_to_image = crema_d_grad_cam_paths[crema_d_grad_cam_path]\n",
    "# use the ImageNet transformation\n",
    "transform = transforms.Compose([transforms.Resize((224, 224)), \n",
    "                                transforms.ToTensor(),\n",
    "                                transforms.Normalize(mean=[0.485, 0.456, 0.406], std=[0.229, 0.224, 0.225])])\n",
    "\n",
    "# define a 1 image dataset\n",
    "dataset = datasets.ImageFolder(root=PATH_TO_IMAGES, transform=transform)\n",
    "\n",
    "# define the dataloader to load that single image\n",
    "dataloader = data.DataLoader(dataset=dataset, shuffle=False, batch_size=1)"
   ]
  },
  {
   "cell_type": "code",
   "execution_count": 8,
   "id": "752c5092-6d86-410e-b76b-8c780145b22c",
   "metadata": {},
   "outputs": [],
   "source": [
    "class VGG(nn.Module):\n",
    "    def __init__(self):\n",
    "        super(VGG, self).__init__()\n",
    "        \n",
    "        # get the pretrained VGG19 network\n",
    "        self.vgg = vgg19(pretrained=True)\n",
    "        \n",
    "        # disect the network to access its last convolutional layer\n",
    "        self.features_conv = self.vgg.features[:36]\n",
    "        \n",
    "        \n",
    "        # get the max pool of the features stem\n",
    "        self.max_pool = nn.MaxPool2d(kernel_size=2, stride=2, padding=0, dilation=1, ceil_mode=False)\n",
    "        \n",
    "        # get the classifier of the vgg19\n",
    "        self.classifier = self.vgg.classifier\n",
    "        \n",
    "        # placeholder for the gradients\n",
    "        self.gradients = None\n",
    "    \n",
    "    # hook for the gradients of the activations\n",
    "    def activations_hook(self, grad):\n",
    "        self.gradients = grad\n",
    "        \n",
    "    def forward(self, x):\n",
    "        x = self.features_conv(x)\n",
    "        \n",
    "        # register the hook\n",
    "        h = x.register_hook(self.activations_hook)\n",
    "        \n",
    "        # apply the remaining pooling\n",
    "        x = self.max_pool(x)\n",
    "        x = x.view((1, -1))\n",
    "        x = self.classifier(x)\n",
    "        return x\n",
    "    \n",
    "    # method for the gradient extraction\n",
    "    def get_activations_gradient(self):\n",
    "        return self.gradients\n",
    "    \n",
    "    # method for the activation exctraction\n",
    "    def get_activations(self, x):\n",
    "        return self.features_conv(x)"
   ]
  },
  {
   "cell_type": "code",
   "execution_count": 59,
   "id": "0a09c480-6901-46fa-99e1-f28bc20df99a",
   "metadata": {},
   "outputs": [],
   "source": [
    "# initialize the VGG model\n",
    "vgg = VGG()\n",
    "# print(vgg)\n",
    "\n",
    "# set the evaluation mode\n",
    "vgg.eval()\n",
    "\n",
    "# get the image from the dataloader\n",
    "img, _ = next(iter(dataloader))\n",
    "\n",
    "# get the most likely prediction of the model\n",
    "# pred = vgg(img).argmax(dim=1)\n",
    "pred = vgg(img)\n",
    "# print(pred)"
   ]
  },
  {
   "cell_type": "code",
   "execution_count": 10,
   "id": "077fbfcd-1e27-4bcf-a540-f657c088e2c0",
   "metadata": {},
   "outputs": [
    {
     "data": {
      "text/plain": [
       "<matplotlib.image.AxesImage at 0x13b163610>"
      ]
     },
     "execution_count": 10,
     "metadata": {},
     "output_type": "execute_result"
    },
    {
     "data": {
      "image/png": "[encoded data removed]",
      "text/plain": [
       "<Figure size 480x480 with 1 Axes>"
      ]
     },
     "metadata": {},
     "output_type": "display_data"
    }
   ],
   "source": [
    "pred[:, 386].backward()\n",
    "\n",
    "# pull the gradients out of the model\n",
    "gradients = vgg.get_activations_gradient()\n",
    "\n",
    "# pool the gradients across the channels\n",
    "pooled_gradients = torch.mean(gradients, dim=[0, 2, 3])\n",
    "\n",
    "# get the activations of the last convolutional layer\n",
    "activations = vgg.get_activations(img).detach()\n",
    "\n",
    "# # weight the channels by corresponding gradients\n",
    "for i in range(512):\n",
    "    activations[:, i, :, :] *= pooled_gradients[i]\n",
    "\n",
    "# pooled_gradients = torch.mean(gradients, dim=[0, 2, 3], keepdim=True)\n",
    "# activations = activations * pooled_gradients\n",
    "    \n",
    "# average the channels of the activations\n",
    "heatmap = torch.mean(activations, dim=1).squeeze()\n",
    "\n",
    "# relu on top of the heatmap\n",
    "# expression (2) in https://arxiv.org/pdf/1610.02391.pdf\n",
    "heatmap = np.maximum(heatmap, 0)\n",
    "\n",
    "# normalize the heatmap\n",
    "heatmap /= torch.max(heatmap)\n",
    "# print(\"heatmap:\", heatmap)\n",
    "\n",
    "# draw the heatmap\n",
    "plt.matshow(heatmap.squeeze())"
   ]
  },
  {
   "cell_type": "code",
   "execution_count": 117,
   "id": "70e96d96-22d3-4a03-b0a4-08ce87a9f720",
   "metadata": {},
   "outputs": [],
   "source": [
    "def outputs(heatmap, specific_emotion_folder, save_location):\n",
    "    emotion_with_frames = os.listdir(fea_folder)\n",
    "    # print()\n",
    "    for emotion_with_frame_idx in range(len(emotion_with_frames)):\n",
    "        specific_image_name = emotion_with_frames[emotion_with_frame_idx]\n",
    "        # print(specific_image_name)\n",
    "        specific_image_path = specific_emotion_folder + emotion_with_frames[emotion_with_frame_idx]\n",
    "        # print(specific_image_path)\n",
    "        \n",
    "        img = cv2.imread(specific_image_path)\n",
    "        # print(np.shape(img))\n",
    "        # print(type(heatmap))\n",
    "\n",
    "        img_heatmap =np.array(np.rot90(heatmap, -4))\n",
    "        reshape_heatmap = cv2.resize(img_heatmap, (500, 500))\n",
    "\n",
    "        heatmap = np.uint8(255 * reshape_heatmap)\n",
    "        heatmap = cv2.applyColorMap(heatmap, cv2.COLORMAP_JET)\n",
    "        image_with_heatmap = heatmap * 0.4 + img\n",
    "        \n",
    "        \n",
    "#         folder_exists = os.path.exists(save_location)\n",
    "#         if folder_exists == False:\n",
    "\n",
    "#             os.mkdir(save_location)\n",
    "        save_image = save_location + specific_image_name\n",
    "        # print(save_image)\n",
    "        cv2.imwrite(save_image, image_with_heatmap)"
   ]
  },
  {
   "cell_type": "code",
   "execution_count": 118,
   "id": "1642744e-7176-49c0-963d-d3ef10ed8132",
   "metadata": {},
   "outputs": [],
   "source": [
    "# outputs(heatmap, fea_folder, save_image_path)"
   ]
  },
  {
   "cell_type": "markdown",
   "id": "a5023618-fe85-4dd2-a21a-92786ea7dd1f",
   "metadata": {},
   "source": [
    "# Save all images"
   ]
  },
  {
   "cell_type": "code",
   "execution_count": 77,
   "id": "3058bdc2-f965-4f0a-90b6-fc1b5f6f234d",
   "metadata": {},
   "outputs": [],
   "source": [
    "save_image_path = PATH_TO_IMAGES + 'fea_output/'"
   ]
  },
  {
   "cell_type": "code",
   "execution_count": 73,
   "id": "a6647ea9-c0d8-44e0-94ed-95aaac397f47",
   "metadata": {},
   "outputs": [
    {
     "data": {
      "text/plain": [
       "'/Users/brinkley97/Documents/development/classes/csci_535_multimodal_probabilistic_learning/datasets/test_grad_cam_files/crema_d_fea/'"
      ]
     },
     "execution_count": 73,
     "metadata": {},
     "output_type": "execute_result"
    }
   ],
   "source": [
    "fea_folder = PATH_TO_IMAGES + 'crema_d_fea/'\n",
    "fea_folder"
   ]
  },
  {
   "cell_type": "code",
   "execution_count": 119,
   "id": "9e485f99-7243-40e4-a86d-53275cc7b858",
   "metadata": {},
   "outputs": [
    {
     "name": "stdout",
     "output_type": "stream",
     "text": [
      "\n"
     ]
    }
   ],
   "source": [
    "fea_images_with_heatmaps = outputs(heatmap, fea_folder, save_image_path)"
   ]
  },
  {
   "cell_type": "code",
   "execution_count": null,
   "id": "17e59440-0276-4a9f-9146-1c0dd7af94ad",
   "metadata": {},
   "outputs": [],
   "source": [
    "fea_folder\n",
    "fea_images_with_heatmaps = outputs(heatmap, fea_folder, save_image_path)"
   ]
  },
  {
   "cell_type": "code",
   "execution_count": null,
   "id": "bd4566d6-aefe-40c8-879d-f43b793f4bf4",
   "metadata": {},
   "outputs": [],
   "source": []
  }
 ],
 "metadata": {
  "kernelspec": {
   "display_name": "Python 3 (ipykernel)",
   "language": "python",
   "name": "python3"
  },
  "language_info": {
   "codemirror_mode": {
    "name": "ipython",
    "version": 3
   },
   "file_extension": ".py",
   "mimetype": "text/x-python",
   "name": "python",
   "nbconvert_exporter": "python",
   "pygments_lexer": "ipython3",
   "version": "3.9.16"
  }
 },
 "nbformat": 4,
 "nbformat_minor": 5
}

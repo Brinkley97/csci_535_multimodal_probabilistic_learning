{
 "cells": [
  {
   "cell_type": "markdown",
   "id": "f93777b3-8e3b-4310-992c-b1fa067b8111",
   "metadata": {},
   "source": [
    "# Coding support vector machines in sklearn\n",
    "\n",
    "- BOOK: [Grokking ML](https://www.manning.com/books/grokking-machine-learning) by Luis G. Serrano\n",
    "- SOFTWARE: [Chapter_11_Support_Vector_Machines](https://github.com/luisguiserrano/manning/tree/master/Chapter_11_Support_Vector_Machines) by Luis G. Serrano\n",
    "- To help understand [HW 2 Multimodal Machine Learning for Emotion Recognition](https://github.com/Brinkley97/csci_535_multimodal_probabilistic_learning/tree/main/hw/2-multimodal_machine_learning_for_emotion_recognition), specifically [visual modality](https://github.com/Brinkley97/csci_535_multimodal_probabilistic_learning/blob/main/hw/2-multimodal_machine_learning_for_emotion_recognition/visual-main.ipynb) at the moment"
   ]
  },
  {
   "cell_type": "markdown",
   "id": "9a8e0fe2-7589-43c9-a340-a9493a9389ec",
   "metadata": {},
   "source": [
    "# Imports + Load Data"
   ]
  },
  {
   "cell_type": "code",
   "execution_count": 1,
   "id": "d9e586b0-b434-4bec-ac5d-07ff36b81345",
   "metadata": {},
   "outputs": [],
   "source": [
    "import pandas as pd\n",
    "import numpy as np\n",
    "\n",
    "from matplotlib import pyplot"
   ]
  },
  {
   "cell_type": "code",
   "execution_count": 2,
   "id": "35de4aee-a142-43fc-9e64-e61aa25a9041",
   "metadata": {},
   "outputs": [
    {
     "data": {
      "text/plain": [
       "'/Users/brinkley97/Documents/development/classes/csci_535_multimodal_probabilistic_learning/datasets/linear.csv'"
      ]
     },
     "execution_count": 2,
     "metadata": {},
     "output_type": "execute_result"
    }
   ],
   "source": [
    "BASE = \"/Users/brinkley97/Documents/development/\"\n",
    "CLASS_PATH = \"classes/csci_535_multimodal_probabilistic_learning/\"\n",
    "DATASET_PATH = \"datasets/\"\n",
    "FILE = \"linear.csv\"\n",
    "file_path = BASE + CLASS_PATH + DATASET_PATH + FILE\n",
    "file_path"
   ]
  },
  {
   "cell_type": "code",
   "execution_count": 3,
   "id": "63d5a042-97c2-46fe-933a-e4203869b3d1",
   "metadata": {},
   "outputs": [
    {
     "data": {
      "text/html": [
       "<div>\n",
       "<style scoped>\n",
       "    .dataframe tbody tr th:only-of-type {\n",
       "        vertical-align: middle;\n",
       "    }\n",
       "\n",
       "    .dataframe tbody tr th {\n",
       "        vertical-align: top;\n",
       "    }\n",
       "\n",
       "    .dataframe thead th {\n",
       "        text-align: right;\n",
       "    }\n",
       "</style>\n",
       "<table border=\"1\" class=\"dataframe\">\n",
       "  <thead>\n",
       "    <tr style=\"text-align: right;\">\n",
       "      <th></th>\n",
       "      <th>Unnamed: 0</th>\n",
       "      <th>x_1</th>\n",
       "      <th>x_2</th>\n",
       "      <th>y</th>\n",
       "    </tr>\n",
       "  </thead>\n",
       "  <tbody>\n",
       "    <tr>\n",
       "      <th>0</th>\n",
       "      <td>0</td>\n",
       "      <td>-2.921542</td>\n",
       "      <td>-2.924093</td>\n",
       "      <td>0</td>\n",
       "    </tr>\n",
       "    <tr>\n",
       "      <th>1</th>\n",
       "      <td>1</td>\n",
       "      <td>0.136782</td>\n",
       "      <td>0.540402</td>\n",
       "      <td>1</td>\n",
       "    </tr>\n",
       "    <tr>\n",
       "      <th>2</th>\n",
       "      <td>2</td>\n",
       "      <td>2.747296</td>\n",
       "      <td>1.547237</td>\n",
       "      <td>1</td>\n",
       "    </tr>\n",
       "    <tr>\n",
       "      <th>3</th>\n",
       "      <td>3</td>\n",
       "      <td>-2.780707</td>\n",
       "      <td>-2.673131</td>\n",
       "      <td>0</td>\n",
       "    </tr>\n",
       "    <tr>\n",
       "      <th>4</th>\n",
       "      <td>4</td>\n",
       "      <td>2.030421</td>\n",
       "      <td>1.329452</td>\n",
       "      <td>1</td>\n",
       "    </tr>\n",
       "    <tr>\n",
       "      <th>5</th>\n",
       "      <td>5</td>\n",
       "      <td>-0.314170</td>\n",
       "      <td>-2.591670</td>\n",
       "      <td>0</td>\n",
       "    </tr>\n",
       "    <tr>\n",
       "      <th>6</th>\n",
       "      <td>6</td>\n",
       "      <td>-1.896219</td>\n",
       "      <td>-0.516953</td>\n",
       "      <td>0</td>\n",
       "    </tr>\n",
       "    <tr>\n",
       "      <th>7</th>\n",
       "      <td>7</td>\n",
       "      <td>1.432148</td>\n",
       "      <td>0.841080</td>\n",
       "      <td>1</td>\n",
       "    </tr>\n",
       "    <tr>\n",
       "      <th>8</th>\n",
       "      <td>8</td>\n",
       "      <td>0.885989</td>\n",
       "      <td>2.424742</td>\n",
       "      <td>1</td>\n",
       "    </tr>\n",
       "    <tr>\n",
       "      <th>9</th>\n",
       "      <td>9</td>\n",
       "      <td>-2.634456</td>\n",
       "      <td>1.428708</td>\n",
       "      <td>0</td>\n",
       "    </tr>\n",
       "    <tr>\n",
       "      <th>10</th>\n",
       "      <td>10</td>\n",
       "      <td>-0.883495</td>\n",
       "      <td>-2.718285</td>\n",
       "      <td>0</td>\n",
       "    </tr>\n",
       "    <tr>\n",
       "      <th>11</th>\n",
       "      <td>11</td>\n",
       "      <td>2.472788</td>\n",
       "      <td>2.624853</td>\n",
       "      <td>1</td>\n",
       "    </tr>\n",
       "    <tr>\n",
       "      <th>12</th>\n",
       "      <td>12</td>\n",
       "      <td>2.002937</td>\n",
       "      <td>-1.070396</td>\n",
       "      <td>1</td>\n",
       "    </tr>\n",
       "    <tr>\n",
       "      <th>13</th>\n",
       "      <td>13</td>\n",
       "      <td>2.197862</td>\n",
       "      <td>-2.787815</td>\n",
       "      <td>0</td>\n",
       "    </tr>\n",
       "    <tr>\n",
       "      <th>14</th>\n",
       "      <td>14</td>\n",
       "      <td>1.544245</td>\n",
       "      <td>-1.914605</td>\n",
       "      <td>0</td>\n",
       "    </tr>\n",
       "  </tbody>\n",
       "</table>\n",
       "</div>"
      ],
      "text/plain": [
       "    Unnamed: 0       x_1       x_2  y\n",
       "0            0 -2.921542 -2.924093  0\n",
       "1            1  0.136782  0.540402  1\n",
       "2            2  2.747296  1.547237  1\n",
       "3            3 -2.780707 -2.673131  0\n",
       "4            4  2.030421  1.329452  1\n",
       "5            5 -0.314170 -2.591670  0\n",
       "6            6 -1.896219 -0.516953  0\n",
       "7            7  1.432148  0.841080  1\n",
       "8            8  0.885989  2.424742  1\n",
       "9            9 -2.634456  1.428708  0\n",
       "10          10 -0.883495 -2.718285  0\n",
       "11          11  2.472788  2.624853  1\n",
       "12          12  2.002937 -1.070396  1\n",
       "13          13  2.197862 -2.787815  0\n",
       "14          14  1.544245 -1.914605  0"
      ]
     },
     "execution_count": 3,
     "metadata": {},
     "output_type": "execute_result"
    }
   ],
   "source": [
    "df = pd.read_csv(file_path)\n",
    "df.head(15)"
   ]
  },
  {
   "cell_type": "code",
   "execution_count": 4,
   "id": "2d19300f-a476-4489-81b0-1028c8236730",
   "metadata": {},
   "outputs": [],
   "source": [
    "X = np.array(df[['x_1', 'x_2']])\n",
    "y = np.array(df[['y']]).astype(int)"
   ]
  },
  {
   "cell_type": "code",
   "execution_count": 5,
   "id": "94b002c3-c66b-4013-ae61-49015d5e7307",
   "metadata": {},
   "outputs": [
    {
     "data": {
      "text/plain": [
       "(60, (60, 2))"
      ]
     },
     "execution_count": 5,
     "metadata": {},
     "output_type": "execute_result"
    }
   ],
   "source": [
    "len(X), X.shape"
   ]
  },
  {
   "cell_type": "code",
   "execution_count": 6,
   "id": "f397ab36-bb4f-4aba-8f69-ff420e0140f3",
   "metadata": {},
   "outputs": [
    {
     "data": {
      "text/plain": [
       "(60, (60, 1))"
      ]
     },
     "execution_count": 6,
     "metadata": {},
     "output_type": "execute_result"
    }
   ],
   "source": [
    "len(y), y.shape"
   ]
  },
  {
   "cell_type": "markdown",
   "id": "6b7c607a-3ca4-4611-afb5-d56a585a13fa",
   "metadata": {},
   "source": [
    "# Visual Representation of X and y"
   ]
  },
  {
   "cell_type": "code",
   "execution_count": 31,
   "id": "240a04df-4dd9-4637-8d2c-90763a0a449e",
   "metadata": {},
   "outputs": [],
   "source": [
    "def plot_points(features, labels):\n",
    "    \n",
    "    print(type(features))\n",
    "    \n",
    "    X = np.array(features)\n",
    "    # print(type(X))\n",
    "    y = np.array(labels)\n",
    "    # print(y)\n",
    "    \n",
    "    spam = X[np.argwhere(y==1)]\n",
    "    print(spam.shape)\n",
    "    ham = X[np.argwhere(y==0)]\n",
    "    print(ham.shape)\n",
    "    # for s in spam:\n",
    "    #     print(s)\n",
    "    #     print(s[0][0])\n",
    "    #     print(s[0][1])\n",
    "    \n",
    "    pyplot.scatter([s[0][0] for s in spam],\n",
    "                   [s[0][1] for s in spam],\n",
    "                   s = 35,\n",
    "                   color = 'cyan',\n",
    "                   edgecolor = 'k',\n",
    "                   marker = '^')\n",
    "    pyplot.scatter([s[0][0] for s in ham],\n",
    "                   [s[0][1] for s in ham],\n",
    "                   s = 25,\n",
    "                   color = 'red',\n",
    "                   edgecolor = 'k',\n",
    "                   marker = 's')\n",
    "    pyplot.xlabel('x_1')\n",
    "    pyplot.ylabel('x_2')\n",
    "    pyplot.legend(['label 1','label 0'])"
   ]
  },
  {
   "cell_type": "code",
   "execution_count": 32,
   "id": "9fe16f96-21dc-405b-b71a-a7c9b19f5318",
   "metadata": {},
   "outputs": [
    {
     "name": "stdout",
     "output_type": "stream",
     "text": [
      "(60, 2) (60, 1)\n",
      "<class 'numpy.ndarray'>\n",
      "(30, 2, 2)\n",
      "(30, 2, 2)\n"
     ]
    },
    {
     "data": {
      "image/png": "[encoded data removed]",
      "text/plain": [
       "<Figure size 640x480 with 1 Axes>"
      ]
     },
     "metadata": {},
     "output_type": "display_data"
    }
   ],
   "source": [
    "print(X.shape, y.shape)\n",
    "plot_points(X, y)"
   ]
  },
  {
   "cell_type": "code",
   "execution_count": null,
   "id": "fd65155a-e41a-4a6e-a783-8634f5073917",
   "metadata": {},
   "outputs": [],
   "source": []
  }
 ],
 "metadata": {
  "kernelspec": {
   "display_name": "Python 3 (ipykernel)",
   "language": "python",
   "name": "python3"
  },
  "language_info": {
   "codemirror_mode": {
    "name": "ipython",
    "version": 3
   },
   "file_extension": ".py",
   "mimetype": "text/x-python",
   "name": "python",
   "nbconvert_exporter": "python",
   "pygments_lexer": "ipython3",
   "version": "3.9.16"
  }
 },
 "nbformat": 4,
 "nbformat_minor": 5
}

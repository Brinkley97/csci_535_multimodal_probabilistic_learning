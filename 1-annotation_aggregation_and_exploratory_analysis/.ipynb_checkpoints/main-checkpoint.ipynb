{
 "cells": [
  {
   "cell_type": "markdown",
   "id": "ecafe593-4477-4f39-819f-935377f025b5",
   "metadata": {
    "jp-MarkdownHeadingCollapsed": true,
    "tags": []
   },
   "source": [
    "# HW 1 Annotation aggregation and exploratory analysis"
   ]
  },
  {
   "cell_type": "markdown",
   "id": "eb84903c-284a-40b6-817b-6fadb4a782a7",
   "metadata": {},
   "source": [
    "# TODOs\n",
    "\n",
    "1. [x] Imports and Load Data \n",
    "2. [ ] Compute the Fleiss’ kappa inter-annotator agreement on the set of videos in the provided tabulatedVotes.csv. Report and interpret the results using Table 1\n",
    "3. [ ] Go through a subset of 20 IPD videos in IPD 20.csv, see the [video clips here](https://drive.google.com/drive/folders/1-at00XhJTzUwV6T7j6V8ukLe4e-DcxVs?usp=sharing)\n",
    "4. [ ] Please pay attention to thefacial expressions. Choose one facial cue which you believe to have a positive correlation with Joy and onefacial cue with Surprise. For example “raised eyebrows” may have a positive correlation with the perceptionthat the person is signaling Surprise. Don’t limit yourself when selecting the facial cues.3. Confirm your suspicions and subjective observations from the previous task with statistical analysis. You cando this by manually annotating the videos for each facial cue and comparing your annotations to the raters’votes. You need to annotate and calculate the p-value from the Student t-test between the group of videoswith the facial cue of your choice and the group without. For simplicity, annotate the videos in IPD 20.csv.In column I (cue surprise) and column J (cue joy), mark Y or N for the facial cue of your choice. Forexample, if you choose “raised eyebrows” as the cue for Surprise, and you see the person raising eyebrows invideo 6 (first row), mark Y in column I (cue surprise) for the first row. Once you finish the annotations,perform t-test to compare the mean number of votes from the raters for Surprise between the group youmarked with Y in column I (cue surprise) and the group with N. Repeat the process to annotate andperform t-test for Joy\n",
    "5. [ ] Report the details of your work for the previous tasks and describe your findings in a few paragraphs.*Note*: You should implement your own function to compute the Fleiss’ kappa inter annotation agreement.You can use any packages for tasks 2-4"
   ]
  },
  {
   "cell_type": "markdown",
   "id": "46488f5b-47f4-470f-9786-a59251f3a2a6",
   "metadata": {
    "jp-MarkdownHeadingCollapsed": true,
    "tags": []
   },
   "source": [
    "## 1. Imports and Load Data"
   ]
  },
  {
   "cell_type": "code",
   "execution_count": 1,
   "id": "f77fe85a-2b2d-49f8-b053-ab2837cd1d9d",
   "metadata": {},
   "outputs": [],
   "source": [
    "import pandas as pd"
   ]
  },
  {
   "cell_type": "code",
   "execution_count": 2,
   "id": "58c4e6d8-5328-45ea-8bfe-881d434b56eb",
   "metadata": {},
   "outputs": [],
   "source": [
    "base = \"/Users/brinkley97/Documents/development/\"\n",
    "class_path = \"classes/csci_535_multimodal_probabilistic_learning/datasets/ipd_data/\"\n",
    "dataset = \"tabulatedVotes.csv\"\n",
    "data = base + class_path + dataset "
   ]
  },
  {
   "cell_type": "code",
   "execution_count": 3,
   "id": "bbf31686-cff9-4fe7-8787-195e1b89db23",
   "metadata": {},
   "outputs": [],
   "source": [
    "def load_data(file):\n",
    "    original_data = pd.read_csv(file)\n",
    "    # original_data = pd.DataFrame(file)\n",
    "    copy_of_data = original_data.copy()\n",
    "    return copy_of_data"
   ]
  },
  {
   "cell_type": "code",
   "execution_count": 4,
   "id": "d55c8895-90b2-45e8-9345-59d52bc3e18b",
   "metadata": {},
   "outputs": [
    {
     "data": {
      "text/html": [
       "<div>\n",
       "<style scoped>\n",
       "    .dataframe tbody tr th:only-of-type {\n",
       "        vertical-align: middle;\n",
       "    }\n",
       "\n",
       "    .dataframe tbody tr th {\n",
       "        vertical-align: top;\n",
       "    }\n",
       "\n",
       "    .dataframe thead th {\n",
       "        text-align: right;\n",
       "    }\n",
       "</style>\n",
       "<table border=\"1\" class=\"dataframe\">\n",
       "  <thead>\n",
       "    <tr style=\"text-align: right;\">\n",
       "      <th></th>\n",
       "      <th>Anger</th>\n",
       "      <th>Disgust</th>\n",
       "      <th>Fear</th>\n",
       "      <th>Joy</th>\n",
       "      <th>Neutral</th>\n",
       "      <th>Sadness</th>\n",
       "      <th>Surprise</th>\n",
       "    </tr>\n",
       "  </thead>\n",
       "  <tbody>\n",
       "    <tr>\n",
       "      <th>0</th>\n",
       "      <td>0</td>\n",
       "      <td>0</td>\n",
       "      <td>0</td>\n",
       "      <td>17</td>\n",
       "      <td>0</td>\n",
       "      <td>1</td>\n",
       "      <td>2</td>\n",
       "    </tr>\n",
       "    <tr>\n",
       "      <th>1</th>\n",
       "      <td>0</td>\n",
       "      <td>0</td>\n",
       "      <td>1</td>\n",
       "      <td>15</td>\n",
       "      <td>3</td>\n",
       "      <td>0</td>\n",
       "      <td>1</td>\n",
       "    </tr>\n",
       "    <tr>\n",
       "      <th>2</th>\n",
       "      <td>2</td>\n",
       "      <td>1</td>\n",
       "      <td>2</td>\n",
       "      <td>4</td>\n",
       "      <td>10</td>\n",
       "      <td>1</td>\n",
       "      <td>0</td>\n",
       "    </tr>\n",
       "    <tr>\n",
       "      <th>3</th>\n",
       "      <td>0</td>\n",
       "      <td>0</td>\n",
       "      <td>0</td>\n",
       "      <td>15</td>\n",
       "      <td>1</td>\n",
       "      <td>2</td>\n",
       "      <td>2</td>\n",
       "    </tr>\n",
       "    <tr>\n",
       "      <th>4</th>\n",
       "      <td>1</td>\n",
       "      <td>0</td>\n",
       "      <td>0</td>\n",
       "      <td>14</td>\n",
       "      <td>2</td>\n",
       "      <td>1</td>\n",
       "      <td>2</td>\n",
       "    </tr>\n",
       "    <tr>\n",
       "      <th>...</th>\n",
       "      <td>...</td>\n",
       "      <td>...</td>\n",
       "      <td>...</td>\n",
       "      <td>...</td>\n",
       "      <td>...</td>\n",
       "      <td>...</td>\n",
       "      <td>...</td>\n",
       "    </tr>\n",
       "    <tr>\n",
       "      <th>95</th>\n",
       "      <td>0</td>\n",
       "      <td>0</td>\n",
       "      <td>0</td>\n",
       "      <td>13</td>\n",
       "      <td>2</td>\n",
       "      <td>1</td>\n",
       "      <td>4</td>\n",
       "    </tr>\n",
       "    <tr>\n",
       "      <th>96</th>\n",
       "      <td>0</td>\n",
       "      <td>0</td>\n",
       "      <td>1</td>\n",
       "      <td>14</td>\n",
       "      <td>1</td>\n",
       "      <td>0</td>\n",
       "      <td>4</td>\n",
       "    </tr>\n",
       "    <tr>\n",
       "      <th>97</th>\n",
       "      <td>0</td>\n",
       "      <td>1</td>\n",
       "      <td>0</td>\n",
       "      <td>12</td>\n",
       "      <td>4</td>\n",
       "      <td>1</td>\n",
       "      <td>2</td>\n",
       "    </tr>\n",
       "    <tr>\n",
       "      <th>98</th>\n",
       "      <td>2</td>\n",
       "      <td>4</td>\n",
       "      <td>0</td>\n",
       "      <td>10</td>\n",
       "      <td>1</td>\n",
       "      <td>3</td>\n",
       "      <td>0</td>\n",
       "    </tr>\n",
       "    <tr>\n",
       "      <th>99</th>\n",
       "      <td>0</td>\n",
       "      <td>0</td>\n",
       "      <td>2</td>\n",
       "      <td>16</td>\n",
       "      <td>1</td>\n",
       "      <td>0</td>\n",
       "      <td>1</td>\n",
       "    </tr>\n",
       "  </tbody>\n",
       "</table>\n",
       "<p>100 rows × 7 columns</p>\n",
       "</div>"
      ],
      "text/plain": [
       "    Anger  Disgust  Fear  Joy  Neutral  Sadness  Surprise\n",
       "0       0        0     0   17        0        1         2\n",
       "1       0        0     1   15        3        0         1\n",
       "2       2        1     2    4       10        1         0\n",
       "3       0        0     0   15        1        2         2\n",
       "4       1        0     0   14        2        1         2\n",
       "..    ...      ...   ...  ...      ...      ...       ...\n",
       "95      0        0     0   13        2        1         4\n",
       "96      0        0     1   14        1        0         4\n",
       "97      0        1     0   12        4        1         2\n",
       "98      2        4     0   10        1        3         0\n",
       "99      0        0     2   16        1        0         1\n",
       "\n",
       "[100 rows x 7 columns]"
      ]
     },
     "execution_count": 4,
     "metadata": {},
     "output_type": "execute_result"
    }
   ],
   "source": [
    "ipd_df_copy = load_data(data)\n",
    "categories_df = ipd_df_copy.drop(columns=[\"videoID\"])\n",
    "categories_df"
   ]
  },
  {
   "cell_type": "markdown",
   "id": "f5450d69-4c22-4858-a959-baf39575ba55",
   "metadata": {},
   "source": [
    "## 2. Compute the Fleiss’ kappa\n",
    "\n",
    "- N is the total #items/videos (rows)\n",
    "- n is the #ratings per item/video = 20 [see section 3 Dataset in project description]\n",
    "    - $ n_{i} $ is a single/specific item from 1...N (single row)\n",
    "    - $ n_{j} $ is a single/specific category from j...k (single column)\n",
    "    - $ n_{ij} $ is #raters who assigned $i$-th item to the $j$-th category\n",
    "- k is the #categories into which assignments are made (columns)\n",
    "- $ p_{j} $ is the proportion of all assignments which were to the $j$-th category\n",
    "\n",
    "---\n",
    "## TODO\n",
    "1. [x] Calculate $ p_{j} $"
   ]
  },
  {
   "cell_type": "code",
   "execution_count": 5,
   "id": "11c02148-b4f7-4b62-a95f-8bf33e4db08a",
   "metadata": {},
   "outputs": [],
   "source": [
    "N = len(categories_df)\n",
    "# print(N)\n",
    "n = 20\n",
    "# print(n)\n",
    "columns = list(categories_df.columns)\n",
    "# print(columns)\n",
    "k = len(columns)\n",
    "# print(k)"
   ]
  },
  {
   "cell_type": "markdown",
   "id": "2bf15d89-386c-4a47-9d8c-1e719108d9e0",
   "metadata": {
    "tags": []
   },
   "source": [
    "### 2.1 Calculate $ p_j $"
   ]
  },
  {
   "cell_type": "code",
   "execution_count": 6,
   "id": "12decda1-2b39-4a7a-8b02-bd6b57ccf5f3",
   "metadata": {},
   "outputs": [],
   "source": [
    "def proportion_per_category(category, N, n):\n",
    "    \"\"\"Calculate the proportion of votes for each category\n",
    "    \n",
    "    Arguments:\n",
    "    category -- pd Series (a specific category/column from the main DataFrame)\n",
    "    N -- int (total #items/rows)\n",
    "    n -- int (20 votes per item/row)\n",
    "    \n",
    "    Return:\n",
    "    category_proportion -- float (the proportion of votes for that specific category)\n",
    "    \"\"\"\n",
    "    \n",
    "    category_values = category.values\n",
    "    # print(category_values)\n",
    "    sum_category_values = category_values.sum()\n",
    "    # print(sum_category_values)\n",
    "    category_proportion = sum_category_values / (N * n)\n",
    "    # print(type(category_proportion))\n",
    "    \n",
    "    return category_proportion"
   ]
  },
  {
   "cell_type": "code",
   "execution_count": 7,
   "id": "4ecb74ed-9773-4cc0-b049-1457c66b5a37",
   "metadata": {},
   "outputs": [],
   "source": [
    "def calculate_p_j(categories_df, categories, N, n):\n",
    "    \"\"\"Calculate p_j\n",
    "    \n",
    "    Arguments:\n",
    "    category -- pd Series (a specific category/column from the main DataFrame)\n",
    "    N -- int (total #items/rows)\n",
    "    n -- int (20 votes per item/row)\n",
    "    \n",
    "    Functions:\n",
    "    proportion_per_category()\n",
    "    \n",
    "    Return:\n",
    "    category_proportions_df -- pd DataFrame (the proportion of votes for each category)\n",
    "    \n",
    "    \"\"\"\n",
    "    \n",
    "    store_proportions = []\n",
    "    \n",
    "    for category in range(len(categories)):\n",
    "        \n",
    "        specific_category = categories[category]\n",
    "        specific_category_series = categories_df[specific_category]\n",
    "        \n",
    "        proportion_for_specific_category = proportion_per_category(specific_category_series, N, n)\n",
    "        store_proportions.append(proportion_for_specific_category)\n",
    "    \n",
    "    categories.append(\"p_j\")\n",
    "    sum_proportions = sum(store_proportions)   \n",
    "    store_proportions.append(sum_proportions)\n",
    "    \n",
    "    category_proportions_df = pd.DataFrame([store_proportions], columns=[categories])\n",
    "    \n",
    "    return category_proportions_df"
   ]
  },
  {
   "cell_type": "code",
   "execution_count": 8,
   "id": "c927e68b-a16f-44e2-bc1b-67651758a389",
   "metadata": {},
   "outputs": [
    {
     "data": {
      "text/html": [
       "<div>\n",
       "<style scoped>\n",
       "    .dataframe tbody tr th:only-of-type {\n",
       "        vertical-align: middle;\n",
       "    }\n",
       "\n",
       "    .dataframe tbody tr th {\n",
       "        vertical-align: top;\n",
       "    }\n",
       "\n",
       "    .dataframe thead tr th {\n",
       "        text-align: left;\n",
       "    }\n",
       "</style>\n",
       "<table border=\"1\" class=\"dataframe\">\n",
       "  <thead>\n",
       "    <tr>\n",
       "      <th></th>\n",
       "      <th>Anger</th>\n",
       "      <th>Disgust</th>\n",
       "      <th>Fear</th>\n",
       "      <th>Joy</th>\n",
       "      <th>Neutral</th>\n",
       "      <th>Sadness</th>\n",
       "      <th>Surprise</th>\n",
       "      <th>p_j</th>\n",
       "    </tr>\n",
       "  </thead>\n",
       "  <tbody>\n",
       "    <tr>\n",
       "      <th>0</th>\n",
       "      <td>0.023</td>\n",
       "      <td>0.059</td>\n",
       "      <td>0.0505</td>\n",
       "      <td>0.4815</td>\n",
       "      <td>0.164</td>\n",
       "      <td>0.0575</td>\n",
       "      <td>0.1645</td>\n",
       "      <td>1.0</td>\n",
       "    </tr>\n",
       "  </tbody>\n",
       "</table>\n",
       "</div>"
      ],
      "text/plain": [
       "   Anger Disgust    Fear     Joy Neutral Sadness Surprise  p_j\n",
       "0  0.023   0.059  0.0505  0.4815   0.164  0.0575   0.1645  1.0"
      ]
     },
     "execution_count": 8,
     "metadata": {},
     "output_type": "execute_result"
    }
   ],
   "source": [
    "calculate_p_j(categories_df, columns, N, n)"
   ]
  },
  {
   "cell_type": "markdown",
   "id": "402fc37d-6176-4322-8215-7365484a336e",
   "metadata": {},
   "source": [
    "### 2.2 Calculate $ P_i $\n"
   ]
  },
  {
   "cell_type": "code",
   "execution_count": 9,
   "id": "8a165b7b-0f49-40b8-9022-e6de7a535ad6",
   "metadata": {},
   "outputs": [],
   "source": [
    "def fleiss_kappa():\n",
    "    \"\"\"Calculate fleiss kapp\n",
    "    \n",
    "    \n",
    "    \"\"\"\n",
    "    \n",
    "    return "
   ]
  },
  {
   "cell_type": "code",
   "execution_count": null,
   "id": "3ad56b84-c567-40c6-8408-aa3285096ca5",
   "metadata": {},
   "outputs": [],
   "source": []
  },
  {
   "cell_type": "markdown",
   "id": "cd8fbbb9-164f-4478-b17e-b382d6733d8c",
   "metadata": {
    "tags": []
   },
   "source": [
    "# References"
   ]
  },
  {
   "cell_type": "code",
   "execution_count": null,
   "id": "92180152-e8fd-4375-a4fa-05a1135886fc",
   "metadata": {},
   "outputs": [],
   "source": []
  }
 ],
 "metadata": {
  "kernelspec": {
   "display_name": "Python 3 (ipykernel)",
   "language": "python",
   "name": "python3"
  },
  "language_info": {
   "codemirror_mode": {
    "name": "ipython",
    "version": 3
   },
   "file_extension": ".py",
   "mimetype": "text/x-python",
   "name": "python",
   "nbconvert_exporter": "python",
   "pygments_lexer": "ipython3",
   "version": "3.9.7"
  }
 },
 "nbformat": 4,
 "nbformat_minor": 5
}

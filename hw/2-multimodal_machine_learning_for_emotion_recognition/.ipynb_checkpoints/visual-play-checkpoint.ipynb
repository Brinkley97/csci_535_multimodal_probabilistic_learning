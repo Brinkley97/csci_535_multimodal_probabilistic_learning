{
 "cells": [
  {
   "cell_type": "markdown",
   "id": "7e79fb63-a451-4698-8ef0-208e6806b122",
   "metadata": {},
   "source": [
    "Playing around with data and code so will be unstructured. See [visual-main notebook]() for structure\n",
    "\n",
    "Load and run main notebook to get `visual_features_paths` variable"
   ]
  },
  {
   "cell_type": "code",
   "execution_count": 1,
   "id": "db78a5cf-1064-4bed-869f-47a900287f34",
   "metadata": {},
   "outputs": [],
   "source": [
    "main_notebook = 'main.ipynb'"
   ]
  },
  {
   "cell_type": "code",
   "execution_count": 2,
   "id": "589c0619-e7d7-4942-9097-1bdd9818be15",
   "metadata": {},
   "outputs": [],
   "source": [
    "# %load main_notebook\n",
    "main.ipynb"
   ]
  },
  {
   "cell_type": "code",
   "execution_count": 3,
   "id": "13001ba1-b17e-4054-977e-a5af0910f597",
   "metadata": {},
   "outputs": [],
   "source": [
    "%run 'main.ipynb'"
   ]
  },
  {
   "cell_type": "markdown",
   "id": "d8cefcaf-46e1-467c-9d93-363e75158b9b",
   "metadata": {},
   "source": [
    "# Plot image"
   ]
  },
  {
   "cell_type": "code",
   "execution_count": null,
   "id": "300f3b1f-81c3-4fc7-8712-e3f5fdd17010",
   "metadata": {},
   "outputs": [],
   "source": [
    "show_image = visual_features_paths[0]\n",
    "load_audio_features_file = np.load(show_image)\n",
    "# load_audio_features_file.images.shape"
   ]
  },
  {
   "cell_type": "code",
   "execution_count": null,
   "id": "88f8066f-0879-4b4b-8101-eb181df44252",
   "metadata": {},
   "outputs": [],
   "source": [
    "# print(visual_features_paths[0])\n",
    "%matplotlib widget "
   ]
  },
  {
   "cell_type": "code",
   "execution_count": null,
   "id": "849ca42f-5e94-4a39-a16d-e123f4d4abcf",
   "metadata": {},
   "outputs": [],
   "source": [
    "from PIL import Image\n",
    "# from numpy import *\n",
    "\n",
    "# im = array(Image.open('image.jpg'))\n",
    "Image.fromarray(load_audio_features_file).show()"
   ]
  },
  {
   "cell_type": "code",
   "execution_count": null,
   "id": "641dea4b-7ca5-4121-8ac3-dcb7a4e60806",
   "metadata": {},
   "outputs": [],
   "source": [
    "# import numpy as np\n",
    "# from keras.preprocessing.image import array_to_img\n",
    "from tensorflow.keras.utils import array_to_img\n",
    "\n",
    "\n",
    "# img = np.array([255,255], np.uint8)\n",
    "# b = array_to_img(img)\n",
    "c = array_to_img(load_audio_features_file)\n",
    "\n",
    "c"
   ]
  },
  {
   "cell_type": "code",
   "execution_count": null,
   "id": "93c0638b-1504-4c9d-9428-e89611b2855d",
   "metadata": {},
   "outputs": [],
   "source": [
    "from PIL import Image\n",
    "# from keras import array_to_img\n",
    "import tensorflow as tf\n",
    "\n",
    "# img = np.random.random(size=(50, 200, 3))\n",
    "pil_img = tf.keras.utils.array_to_img(load_audio_features_file)\n",
    "pil_img"
   ]
  },
  {
   "cell_type": "code",
   "execution_count": null,
   "id": "4bbd2660-6efa-4118-adc9-5c7f3cec00d6",
   "metadata": {},
   "outputs": [],
   "source": [
    "# PIL.Image.open(str(roses[0]))\n",
    "Image.open(str(load_audio_features_file))"
   ]
  },
  {
   "cell_type": "code",
   "execution_count": null,
   "id": "e97cec04-815b-44b5-b572-18de93700da7",
   "metadata": {},
   "outputs": [],
   "source": [
    "\n",
    "print(type(load_audio_features_file), load_audio_features_file.shape)\n",
    "plt.imshow(load_audio_features_file)\n",
    "plt.show()"
   ]
  },
  {
   "cell_type": "code",
   "execution_count": null,
   "id": "ff5035a9-dea1-4ff1-b265-dc8e150f8dbb",
   "metadata": {},
   "outputs": [],
   "source": [
    "%matplotlib notebook"
   ]
  },
  {
   "cell_type": "code",
   "execution_count": null,
   "id": "acacc7e3-f4a3-4fe4-a586-aee881d19195",
   "metadata": {},
   "outputs": [],
   "source": [
    "import matplotlib.pyplot as plt\n",
    "import matplotlib.cm as cm\n",
    "import matplotlib.animation as animation\n",
    "\n",
    "img = [] # some array of images\n",
    "frames = [] # for storing the generated images\n",
    "fig = plt.figure()\n",
    "viewer = fig.add_subplot(111)\n",
    "\n",
    "plt.ion() # Turns interactive mode on (probably unnecessary)\n",
    "fig.show() # Initially shows the figure\n",
    "# for i in range(6):\n",
    "#     frames.append([plt.imshow(img[i], cmap=cm.Greys_r,animated=True)])\n",
    "\n",
    "frames = load_audio_features_file.tolist()\n",
    "ani = animation.ArtistAnimation(fig, frames, interval=50, blit=True,\n",
    "                                repeat_delay=1000)\n",
    "# ani.save('movie.mp4')\n",
    "plt.show()"
   ]
  },
  {
   "cell_type": "code",
   "execution_count": null,
   "id": "96078b02-8b19-4d29-8432-e568d03ac155",
   "metadata": {},
   "outputs": [],
   "source": [
    "frames = load_audio_features_file.tolist()\n",
    "\n",
    "for i in range(len(frames)):\n",
    "    viewer.clear() # Clears the previous image\n",
    "    viewer.imshow(frames[i]) # Loads the new image\n",
    "    plt.pause(.1) # Delay in seconds\n",
    "    fig.canvas.draw() # Draws the image to the screen"
   ]
  },
  {
   "cell_type": "code",
   "execution_count": null,
   "id": "fc335e48-761d-4d78-ac83-5237d7142da3",
   "metadata": {},
   "outputs": [],
   "source": [
    "N, D = load_audio_features_file.shape\n",
    "plt.plot(N, D)\n",
    "print(type(load_audio_features_file))"
   ]
  },
  {
   "cell_type": "code",
   "execution_count": null,
   "id": "bd4f1a63-40ce-483b-9a32-5ac1f52cbf76",
   "metadata": {},
   "outputs": [],
   "source": [
    "def cv2numpy(cvarr):\n",
    "    a = np.asarray(cv.GetMat(cvarr))\n",
    "    return a\n"
   ]
  },
  {
   "cell_type": "code",
   "execution_count": null,
   "id": "ee5822e2-566e-410c-a829-a5debe28781b",
   "metadata": {},
   "outputs": [],
   "source": [
    "cv::Mat(sample, false)\n",
    "\n",
    "cv2::Mat(load_audio_features_file, false)"
   ]
  },
  {
   "cell_type": "code",
   "execution_count": null,
   "id": "0c32d45b-6c3f-438b-be10-b4111481cf0e",
   "metadata": {},
   "outputs": [],
   "source": [
    "def reduce_dim(specific_file):\n",
    "    \"\"\"\n",
    "    Parameters:\n",
    "    \n",
    "    Return:\n",
    "    \"\"\"\n",
    "    \n",
    "    N, D = specific_file.shape\n",
    "    # print(N, D)\n",
    "    reduced_dim_array = np.column_stack((np.repeat(np.arange(N),D), specific_file.reshape(N*D,-1)))\n",
    "    # df = pd.DataFrame(reduced_dim_file) \n",
    "    \n",
    "    return"
   ]
  },
  {
   "cell_type": "code",
   "execution_count": null,
   "id": "a974ad6e-8199-4326-bbef-9e676b470963",
   "metadata": {},
   "outputs": [],
   "source": [
    "for visual_features_path in visual_features_paths:\n",
    "    # print(\"Current path with files is: \", visual_features_path)\n",
    "    path_exists = os.path.exists(visual_features_path)\n",
    "    # print(path_exists)\n",
    "    if path_exists == True:\n",
    "        # print(\"Current path with files is: \", visual_features_path)\n",
    "        load_audio_features_file = np.load(visual_features_path)\n",
    "        # reduce_dim(load_audio_features_file)\n",
    "    else:\n",
    "        # print(\"CANNOT find current path: \", visual_features_path)\n",
    "        pass"
   ]
  },
  {
   "cell_type": "markdown",
   "id": "d1f01ac8-340b-4f51-9f1c-1ff23b4d278d",
   "metadata": {},
   "source": [
    "https://scikit-learn.org/stable/modules/generated/sklearn.model_selection.GridSearchCV.html#sklearn.model_selection.GridSearchCV"
   ]
  },
  {
   "cell_type": "code",
   "execution_count": null,
   "id": "ad03533c-25ec-4440-954b-2c7975ee827d",
   "metadata": {},
   "outputs": [],
   "source": [
    "\n",
    "iris = datasets.load_iris()\n",
    "parameters = {'kernel':('linear', 'rbf'), 'C':[1, 10]}\n",
    "svc = svm.SVC()\n",
    "svc"
   ]
  },
  {
   "cell_type": "code",
   "execution_count": null,
   "id": "0b9c0312-b879-4612-a924-29d13d3c2b14",
   "metadata": {},
   "outputs": [],
   "source": [
    "clf = GridSearchCV(svc, parameters)\n",
    "clf"
   ]
  },
  {
   "cell_type": "code",
   "execution_count": null,
   "id": "7f0c3af4-76f2-486e-8214-5da32edd2d00",
   "metadata": {},
   "outputs": [],
   "source": [
    "clf.fit(iris.data, iris.target)"
   ]
  },
  {
   "cell_type": "code",
   "execution_count": null,
   "id": "e28594a3-4a4e-4f58-8981-2843cef1677e",
   "metadata": {},
   "outputs": [],
   "source": [
    "sorted(clf.cv_results_.keys())"
   ]
  },
  {
   "cell_type": "code",
   "execution_count": null,
   "id": "b64285f4-1d77-473d-aafe-fc2def7ecbdc",
   "metadata": {},
   "outputs": [],
   "source": [
    "def reduce_temporal_dimension(visual_features_paths):\n",
    "    \"\"\"Reduce from 2D to 1D by removing the time dimension\n",
    "    \n",
    "    visual_features_paths -- list\n",
    "    \n",
    "    Return \n",
    "    reduced shapes of each input -- list\n",
    "    \"\"\"\n",
    "    reduced_visual_features = []\n",
    "    \n",
    "    for visual_features_path in visual_features_paths:\n",
    "        # print(\"Current path with files is: \", visual_features_path)\n",
    "        path_exists = os.path.exists(visual_features_path)\n",
    "        # print(path_exists)\n",
    "        if path_exists == True:\n",
    "            # print(\"Current path with files is: \", visual_features_path)\n",
    "            load_visual_features_file = np.load(visual_features_path)\n",
    "            # print(\"  Original Shape: \", np.shape(load_visual_features_file))\n",
    "            resampled_visual = np.mean(load_visual_features_file, axis=0)\n",
    "            reduced_visual_features.append(resampled_visual)\n",
    "            # print(\"  Reduced shape: \", np.shape(resampled_visual))\n",
    "            # print()\n",
    "        else:\n",
    "            # print()\n",
    "            # print(\"\\nCANNOT find current path: \", visual_features_path)\n",
    "            pass\n",
    "    return reduced_visual_features\n"
   ]
  },
  {
   "cell_type": "code",
   "execution_count": null,
   "id": "67275520-9459-4be5-8b17-e196fc9d5102",
   "metadata": {},
   "outputs": [],
   "source": [
    "reduced_temporal_dimensions = reduce_temporal_dimension(visual_features_paths)\n",
    "# type(reduced_temporal_dimensions), reduced_temporal_dimensions"
   ]
  },
  {
   "cell_type": "markdown",
   "id": "f86df189-79c6-4bf1-89bd-3ee8479a602e",
   "metadata": {},
   "source": [
    "https://scikit-learn.org/stable/modules/svm.html#multi-class-classification"
   ]
  },
  {
   "cell_type": "code",
   "execution_count": null,
   "id": "91b866b2-c84a-4f33-b130-339fec0d475a",
   "metadata": {},
   "outputs": [],
   "source": [
    "from sklearn import svm\n",
    "X = [[0], [1], [2], [3]]\n",
    "Y = [0, 1, 2, 3]\n",
    "svm = svm.SVC(decision_function_shape='ovo')\n",
    "svm.fit(X, Y)"
   ]
  },
  {
   "cell_type": "code",
   "execution_count": null,
   "id": "3ac712b5-48a2-4983-b23e-75cd6c670eb8",
   "metadata": {},
   "outputs": [],
   "source": [
    "dec = svm.decision_function([[1]])\n",
    "dec.shape[1],dec # 4 classes: 4*3/2 = 6"
   ]
  },
  {
   "cell_type": "code",
   "execution_count": null,
   "id": "7218a849-3d50-4cf1-ae4c-724776254da5",
   "metadata": {},
   "outputs": [],
   "source": [
    "svm.decision_function_shape = \"ovr\"\n",
    "dec = svm.decision_function([[1]])\n",
    "dec.shape[1], dec"
   ]
  },
  {
   "cell_type": "code",
   "execution_count": null,
   "id": "33cde865-00e3-4492-a010-5174da410d5d",
   "metadata": {},
   "outputs": [],
   "source": [
    "parameters = {'kernel':('linear', 'rbf'), 'C':[1, 10]}\n",
    "clf = skl_model_selection.GridSearchCV(svm, parameters, cv=10)\n",
    "clf"
   ]
  },
  {
   "cell_type": "markdown",
   "id": "c4634868-ab96-4f99-be81-879c10525db2",
   "metadata": {},
   "source": [
    "https://scikit-learn.org/stable/auto_examples/svm/plot_iris_svc.html#sphx-glr-auto-examples-svm-plot-iris-svc-py"
   ]
  },
  {
   "cell_type": "code",
   "execution_count": null,
   "id": "0304e6ab-c665-4e3f-929f-43691f7a4abd",
   "metadata": {},
   "outputs": [],
   "source": [
    "import matplotlib.pyplot as plt\n",
    "from sklearn import svm, datasets\n",
    "from sklearn.inspection import DecisionBoundaryDisplay\n",
    "\n",
    "\n",
    "# import some data to play with\n",
    "iris = datasets.load_iris()\n",
    "# Take the first two features. We could avoid this by using a two-dim dataset\n",
    "X = iris.data[:, :2]\n",
    "print(X.shape)\n",
    "y = iris.target\n",
    "print(y.shape)\n",
    "\n",
    "# we create an instance of SVM and fit out data. We do not scale our\n",
    "# data since we want to plot the support vectors\n",
    "C = 1.0  # SVM regularization parameter\n",
    "models = (\n",
    "    svm.SVC(kernel=\"linear\", C=C),\n",
    "    svm.LinearSVC(C=C, max_iter=10000),\n",
    "    svm.SVC(kernel=\"rbf\", gamma=0.7, C=C),\n",
    "    svm.SVC(kernel=\"poly\", degree=3, gamma=\"auto\", C=C),\n",
    ")\n",
    "models = (clf.fit(X, y) for clf in models)\n",
    "\n",
    "# title for the plots\n",
    "titles = (\n",
    "    \"SVC with linear kernel\",\n",
    "    \"LinearSVC (linear kernel)\",\n",
    "    \"SVC with RBF kernel\",\n",
    "    \"SVC with polynomial (degree 3) kernel\",\n",
    ")"
   ]
  },
  {
   "cell_type": "code",
   "execution_count": null,
   "id": "a9fe90cf-7b95-4c14-8ab1-8ce8cffc010c",
   "metadata": {},
   "outputs": [],
   "source": [
    "# Set-up 2x2 grid for plotting.\n",
    "fig, sub = plt.subplots(2, 2)\n",
    "plt.subplots_adjust(wspace=0.4, hspace=0.4)\n",
    "\n",
    "X0, X1 = X[:, 0], X[:, 1]\n",
    "\n",
    "for clf, title, ax in zip(models, titles, sub.flatten()):\n",
    "    disp = DecisionBoundaryDisplay.from_estimator(\n",
    "        clf,\n",
    "        X,\n",
    "        response_method=\"predict\",\n",
    "        cmap=plt.cm.coolwarm,\n",
    "        alpha=0.8,\n",
    "        ax=ax,\n",
    "        xlabel=iris.feature_names[0],\n",
    "        ylabel=iris.feature_names[1],\n",
    "    )\n",
    "    ax.scatter(X0, X1, c=y, cmap=plt.cm.coolwarm, s=20, edgecolors=\"k\")\n",
    "    ax.set_xticks(())\n",
    "    ax.set_yticks(())\n",
    "    ax.set_title(title)\n",
    "\n",
    "plt.show()"
   ]
  },
  {
   "cell_type": "code",
   "execution_count": 6,
   "id": "0855db06-9e6d-4932-b8d9-c9969b63ee11",
   "metadata": {},
   "outputs": [],
   "source": [
    "ys = features_with_y.loc[0:, 'emotion_labels']\n",
    "# ys"
   ]
  },
  {
   "cell_type": "code",
   "execution_count": 13,
   "id": "f7414c24-049e-420e-9f97-58997c3b9c67",
   "metadata": {},
   "outputs": [],
   "source": [
    "def reduce_temporal_dimension(visual_features_paths, ys):\n",
    "    \"\"\"Reduce from 2D to 1D by removing the time dimension\n",
    "    \n",
    "    visual_features_paths -- list\n",
    "    \n",
    "    Return \n",
    "    reduced shapes of each input -- list\n",
    "    \"\"\"\n",
    "    reduced_visual_features = []\n",
    "    true_labels = []\n",
    "    \n",
    "    for row in range(len(visual_features_paths)):\n",
    "        # print(ys[row])\n",
    "        # print(\"Current path with files is: \", visual_features_path)\n",
    "        path_exists = os.path.exists(visual_features_paths[row])\n",
    "        # print(path_exists)\n",
    "        if path_exists == True:\n",
    "            # print(\"Current path with files is: \", visual_features_path)\n",
    "            load_visual_features_file = np.load(visual_features_paths[row])\n",
    "            # print(\"  Original Shape: \", np.shape(load_visual_features_file))\n",
    "            resampled_visual = np.mean(load_visual_features_file, axis=0)\n",
    "            reduced_visual_features.append(resampled_visual)\n",
    "            # print(\"  Reduced shape: \", np.shape(resampled_visual))\n",
    "            # print()\n",
    "            true_labels.append(ys[row])\n",
    "        else:\n",
    "            # print()\n",
    "            \n",
    "            # print(\"\\nCANNOT find current path: \", visual_features_paths[row])\n",
    "            # print(\"DoNOT include\", ys[row])\n",
    "            pass\n",
    "    return reduced_visual_features, true_labels"
   ]
  },
  {
   "cell_type": "code",
   "execution_count": 14,
   "id": "cba38e05-3de4-4c55-9576-be06db038e2a",
   "metadata": {},
   "outputs": [
    {
     "data": {
      "text/plain": [
       "((1003, 2048), (1003,))"
      ]
     },
     "execution_count": 14,
     "metadata": {},
     "output_type": "execute_result"
    }
   ],
   "source": [
    "reduced_temporal_dimensions, true_labels = reduce_temporal_dimension(visual_features_paths, ys)\n",
    "np.shape(reduced_temporal_dimensions), np.shape(true_labels)"
   ]
  },
  {
   "cell_type": "code",
   "execution_count": 15,
   "id": "072ae38d-bdb6-4eb7-b41b-ef36cff8d012",
   "metadata": {},
   "outputs": [
    {
     "data": {
      "text/plain": [
       "(300, 703, 300, 703, 1003, 1003)"
      ]
     },
     "execution_count": 15,
     "metadata": {},
     "output_type": "execute_result"
    }
   ],
   "source": [
    "X_train, X_test, y_train, y_test = train_test_split(reduced_temporal_dimensions, true_labels, test_size=0.7, random_state=42)\n",
    "total_X = len(X_train) + len(X_test)\n",
    "total_Y = len(y_train) + len(y_test)\n",
    "len(X_train), len(X_test), len(y_train), len(y_test), total_X, total_Y"
   ]
  },
  {
   "cell_type": "code",
   "execution_count": 16,
   "id": "1822f170-dbb9-47b8-b3ef-3ce45af569c3",
   "metadata": {},
   "outputs": [
    {
     "data": {
      "text/plain": [
       "(90, 210, 90, 210, 300, 300, (90, 2048), (90,))"
      ]
     },
     "execution_count": 16,
     "metadata": {},
     "output_type": "execute_result"
    }
   ],
   "source": [
    "X_train, X_val, y_train, y_val = train_test_split(X_train, y_train, test_size=0.7, random_state=42)\n",
    "total_X = len(X_train) + len(X_val)\n",
    "total_Y = len(y_train) + len(y_val)\n",
    "len(X_train), len(X_val), len(y_train), len(y_val), total_X, total_Y, np.shape(X_train), np.shape(y_train)"
   ]
  },
  {
   "cell_type": "code",
   "execution_count": null,
   "id": "82bf7905-bf10-436a-9cce-c41660e05612",
   "metadata": {},
   "outputs": [],
   "source": [
    "# from matplotlib import pyplot as plt\n"
   ]
  },
  {
   "cell_type": "code",
   "execution_count": null,
   "id": "48c123a5-14e2-48ad-9428-8ce2d537caef",
   "metadata": {},
   "outputs": [],
   "source": [
    "def plot_points(features, labels):\n",
    "    \n",
    "    # print(type(features))\n",
    "    X = np.array(features)\n",
    "    # print(X)\n",
    "    y = np.array(labels)\n",
    "    # print(y)\n",
    "    \n",
    "    # print(\"y=0\", np.argwhere(y==0))\n",
    "    \n",
    "    anger = X[np.argwhere(y==0)]\n",
    "    # print(anger[0:8, 0:2].shape)\n",
    "    # for s in anger:\n",
    "    #     print(s)\n",
    "    #     print(s[0][0])\n",
    "    #     print(s[0][1])\n",
    "    sadness = X[np.argwhere(y==1)]\n",
    "    # print(sadness[0:8, 0:2].shape)\n",
    "    happiness = X[np.argwhere(y==2)]\n",
    "    # print(happiness[0:8, 0:2].shape)\n",
    "    neutral = X[np.argwhere(y==3)]\n",
    "    # print(neutral[0:8, 0:2].shape)\n",
    "    \n",
    "    plt.scatter([s[0][0] for s in anger],\n",
    "                   [s[0][1] for s in anger],\n",
    "                   s = 35,\n",
    "                   color = 'cyan',\n",
    "                   edgecolor = 'k',\n",
    "                   marker = '^')\n",
    "    \n",
    "    plt.scatter([s[0][0] for s in sadness],\n",
    "                   [s[0][1] for s in sadness],\n",
    "                   s = 25,\n",
    "                   color = 'red',\n",
    "                   edgecolor = 'k',\n",
    "                   marker = 's')\n",
    "    \n",
    "#     plt.scatter([s[0][0] for s in happiness],\n",
    "#                    [s[0][1] for s in happiness],\n",
    "#                    s = 25,\n",
    "#                    color = 'blue',\n",
    "#                    edgecolor = 'k',\n",
    "#                    marker = 'v')\n",
    "    \n",
    "    \n",
    "#     plt.scatter([s[0][0] for s in neutral],\n",
    "#                    [s[0][1] for s in neutral],\n",
    "#                    s = 25,\n",
    "#                    color = 'orange',\n",
    "#                    edgecolor = 'k',\n",
    "#                    marker = 'o')\n",
    "    plt.xlabel('x_1')\n",
    "    plt.ylabel('x_2')\n",
    "    plt.legend(['label 1','label 0'])\n",
    "    plt.show()"
   ]
  },
  {
   "cell_type": "code",
   "execution_count": null,
   "id": "38dcc6e4-0cc6-4c56-9116-575e64ff10de",
   "metadata": {},
   "outputs": [],
   "source": [
    "X_train = np.array([X_train]).reshape(60, 2048) \n",
    "print(X_train.shape)\n",
    "X_train_new = X_train[0:, 0:2]\n",
    "print(X_train_new.shape)\n",
    "\n",
    "y_train = np.array([y_train]).reshape(60, 1).astype(int)\n",
    "print(y_train.shape)\n",
    "# y_train_new = y_train[0:2, 0]\n",
    "# print(y_train_new.shape)\n",
    "\n",
    "# plot_points(X_train_new, y_train)"
   ]
  },
  {
   "cell_type": "code",
   "execution_count": null,
   "id": "34fb6371-40d7-4abb-a64e-5325072393ab",
   "metadata": {},
   "outputs": [],
   "source": []
  },
  {
   "cell_type": "code",
   "execution_count": null,
   "id": "db9e4131-fe67-47ab-bb00-4b1dea311d3a",
   "metadata": {},
   "outputs": [],
   "source": [
    "train_y_df = pd.DataFrame(y_train, columns=['y_train'])\n",
    "# train_y_df"
   ]
  },
  {
   "cell_type": "code",
   "execution_count": null,
   "id": "a438167f-a0b5-4b21-bce1-3b8cac839425",
   "metadata": {},
   "outputs": [],
   "source": [
    "train_X_df = pd.DataFrame(X_train)\n",
    "# train_X_df"
   ]
  },
  {
   "cell_type": "code",
   "execution_count": null,
   "id": "44c9ff85-de18-4e3d-a32e-cb9890a87914",
   "metadata": {},
   "outputs": [],
   "source": [
    "train_df = pd.concat([train_y_df, train_X_df], axis=1)\n",
    "# train_df"
   ]
  },
  {
   "cell_type": "code",
   "execution_count": null,
   "id": "d3af7cab-b61b-4f0c-b441-4fd2d282b46b",
   "metadata": {},
   "outputs": [],
   "source": [
    "# train_df.iloc[0:5, 0:3]\n",
    "# X = np.array(train_df[[0, 1]]) \n",
    "# # print(X)\n",
    "# y = np.array(train_df['y_train']).astype(int)\n",
    "# plot_points(X,y)\n",
    "# plt.show()"
   ]
  },
  {
   "cell_type": "code",
   "execution_count": 17,
   "id": "4ff3fc24-6f75-4120-a6d3-b4e12f7305ef",
   "metadata": {},
   "outputs": [
    {
     "data": {
      "text/plain": [
       "GridSearchCV(cv=10, estimator=LinearSVC(),\n",
       "             param_grid={'C': [0.01, 0.1, 10, 100],\n",
       "                         'fit_intercept': [True, False],\n",
       "                         'loss': ['hinge', 'squared_hinge'],\n",
       "                         'penalty': ['l2']},\n",
       "             return_train_score=True)"
      ]
     },
     "execution_count": 17,
     "metadata": {},
     "output_type": "execute_result"
    }
   ],
   "source": [
    "# estimator is LinearSVC()\n",
    "linear_classifier = svm.LinearSVC()\n",
    "parameters = param_grid = {\n",
    "    'C': [0.01, 0.1, 10, 100], \n",
    "    # 'class_weight': [1],\n",
    "    # 'dual':,\n",
    "    'fit_intercept': [True, False],\n",
    "    # 'intercept_scaling':,\n",
    "    'loss': ['hinge', 'squared_hinge'],\n",
    "    # 'max_iter':,\n",
    "     # 'multi_class': [1],\n",
    "    # 'penalty': ['l1', 'l2'],\n",
    "    'penalty': ['l2'],\n",
    "    # 'random_state':,\n",
    "    # 'tol': , \n",
    "    # 'verbose':    \n",
    "}\n",
    "\n",
    "classification = GridSearchCV(linear_classifier, param_grid=parameters, cv=10, return_train_score=True)\n",
    "classification"
   ]
  },
  {
   "cell_type": "code",
   "execution_count": 18,
   "id": "1159d2e9-c3f1-4da5-8b79-a31e20ead757",
   "metadata": {},
   "outputs": [
    {
     "data": {
      "text/plain": [
       "GridSearchCV(cv=10, estimator=LinearSVC(),\n",
       "             param_grid={'C': [0.01, 0.1, 10, 100],\n",
       "                         'fit_intercept': [True, False],\n",
       "                         'loss': ['hinge', 'squared_hinge'],\n",
       "                         'penalty': ['l2']},\n",
       "             return_train_score=True)"
      ]
     },
     "execution_count": 18,
     "metadata": {},
     "output_type": "execute_result"
    }
   ],
   "source": [
    "classification.fit(X_train, y_train)"
   ]
  },
  {
   "cell_type": "code",
   "execution_count": 19,
   "id": "d7daf8ce-0adf-42f7-ac61-2db65ee6a772",
   "metadata": {},
   "outputs": [
    {
     "name": "stdout",
     "output_type": "stream",
     "text": [
      "LinearSVC(C=0.01)\n"
     ]
    }
   ],
   "source": [
    "print(classification.best_estimator_)"
   ]
  },
  {
   "cell_type": "code",
   "execution_count": 24,
   "id": "f2097051-fcaa-47b3-959f-08e346a3de68",
   "metadata": {},
   "outputs": [
    {
     "name": "stdout",
     "output_type": "stream",
     "text": [
      "Accuracy:1.0\n"
     ]
    }
   ],
   "source": [
    "print(\"Accuracy:\"+ str(classification.score(X_train, y_train)))"
   ]
  },
  {
   "cell_type": "code",
   "execution_count": null,
   "id": "c4e41da6-e548-4d5a-91cb-7ae0bfa5b643",
   "metadata": {},
   "outputs": [],
   "source": [
    "# note difference in Accuracy with 'fit_intercept': [True'] vs 'fit_intercept': [False],\n",
    "print(classification.best_params_)\n",
    "print(\"Accuracy:\"+ str(classification.best_score_))"
   ]
  },
  {
   "cell_type": "code",
   "execution_count": 33,
   "id": "7a04cf0c-5b3b-4529-a105-2415c78ec8c9",
   "metadata": {},
   "outputs": [],
   "source": [
    "# classification.cv_results_"
   ]
  },
  {
   "cell_type": "code",
   "execution_count": 34,
   "id": "4f51dcb9-0322-4098-90a5-7c6ee2e98bbe",
   "metadata": {},
   "outputs": [],
   "source": [
    "y_pred = classification.predict(X_test)\n",
    "# y_pred"
   ]
  },
  {
   "cell_type": "code",
   "execution_count": 35,
   "id": "78585b43-a09a-411a-ab8e-44b4e2a250ab",
   "metadata": {},
   "outputs": [],
   "source": [
    "# print(classification_report(y_test, y_pred))"
   ]
  },
  {
   "cell_type": "code",
   "execution_count": 26,
   "id": "648eaa17-e0da-4427-8132-b81fbbcc3034",
   "metadata": {},
   "outputs": [
    {
     "name": "stdout",
     "output_type": "stream",
     "text": [
      "C = 0.1\n",
      "Accuracy: 1.0\n",
      "C = 100\n",
      "Accuracy: 1.0\n"
     ]
    }
   ],
   "source": [
    "svm_c_001 = svm.LinearSVC(C=0.01)\n",
    "svm_c_001.fit(X_train,y_train) \n",
    "print(\"C = 0.1\") \n",
    "print(\"Accuracy:\", svm_c_001.score(X_train,y_train)) \n",
    "# plot_model(X,y,svm_c_001)\n",
    "\n",
    "# C = 100 \n",
    "svm_c_100 = svm.LinearSVC(C=100) \n",
    "svm_c_100.fit(X_train,y_train)\n",
    "print(\"C = 100\") \n",
    "print(\"Accuracy:\", svm_c_100.score(X_train,y_train))"
   ]
  },
  {
   "cell_type": "code",
   "execution_count": 59,
   "id": "0e23fd95-a8ee-4db2-abb7-bf99c5787be4",
   "metadata": {},
   "outputs": [
    {
     "data": {
      "text/plain": [
       "0.3712660028449502"
      ]
     },
     "execution_count": 59,
     "metadata": {},
     "output_type": "execute_result"
    }
   ],
   "source": [
    "from sklearn.metrics import confusion_matrix,classification_report,accuracy_score\n",
    "accuracy = accuracy_score(y_test, y_pred)\n",
    "accuracy"
   ]
  },
  {
   "cell_type": "markdown",
   "id": "58316633-ae79-421c-a74a-56e553a682d9",
   "metadata": {},
   "source": [
    "# Before Hyper-Parameter Tuning"
   ]
  },
  {
   "cell_type": "code",
   "execution_count": 62,
   "id": "da8309be-8a8c-4efd-9692-88f91dd51e6e",
   "metadata": {},
   "outputs": [
    {
     "data": {
      "application/vnd.jupyter.widget-view+json": {
       "model_id": "0c101a0f62ff41528d9e95cdc068a885",
       "version_major": 2,
       "version_minor": 0
      },
      "image/png": "[encoded data removed]",
      "text/html": [
       "\n",
       "            <div style=\"display: inline-block;\">\n",
       "                <div class=\"jupyter-widgets widget-label\" style=\"text-align: center;\">\n",
       "                    Figure 1\n",
       "                </div>\n",
       "                <img src='data:image/png;base64,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' width=640.0/>\n",
       "            </div>\n",
       "        "
      ],
      "text/plain": [
       "Canvas(toolbar=Toolbar(toolitems=[('Home', 'Reset original view', 'home', 'home'), ('Back', 'Back to previous …"
      ]
     },
     "metadata": {},
     "output_type": "display_data"
    }
   ],
   "source": [
    "before_hp_model = svm.LinearSVC()\n",
    "before_hp_model.fit(X_train, y_train)\n",
    "y_pred = before_hp_model.predict(X_test)\n",
    "cm = confusion_matrix(y_test,y_pred)\n",
    "sns.heatmap(cm,annot=True,cmap='viridis')\n",
    "plt.show()"
   ]
  },
  {
   "cell_type": "code",
   "execution_count": 44,
   "id": "02afc52d-8b56-4435-aa52-f8d225145dda",
   "metadata": {},
   "outputs": [
    {
     "name": "stdout",
     "output_type": "stream",
     "text": [
      "              precision    recall  f1-score   support\n",
      "\n",
      "           0       0.29      0.51      0.37       140\n",
      "           1       0.36      0.36      0.36       166\n",
      "           2       0.19      0.10      0.13       105\n",
      "           3       0.53      0.41      0.46       292\n",
      "\n",
      "    accuracy                           0.37       703\n",
      "   macro avg       0.34      0.35      0.33       703\n",
      "weighted avg       0.39      0.37      0.37       703\n",
      "\n"
     ]
    }
   ],
   "source": [
    "print(classification_report(y_test,y_pred))"
   ]
  },
  {
   "cell_type": "markdown",
   "id": "c354bcad-5288-4055-9a59-f99a75fcab70",
   "metadata": {},
   "source": [
    "# After Hyper-Parameter Tuning"
   ]
  },
  {
   "cell_type": "code",
   "execution_count": 63,
   "id": "9d8fe22b-4ad7-4802-a34d-c07daf897004",
   "metadata": {},
   "outputs": [
    {
     "data": {
      "application/vnd.jupyter.widget-view+json": {
       "model_id": "28919ac15b7b4baa81c4eb4c57a3bb2b",
       "version_major": 2,
       "version_minor": 0
      },
      "image/png": "[encoded data removed]",
      "text/html": [
       "\n",
       "            <div style=\"display: inline-block;\">\n",
       "                <div class=\"jupyter-widgets widget-label\" style=\"text-align: center;\">\n",
       "                    Figure\n",
       "                </div>\n",
       "                <img src='data:image/png;base64,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' width=640.0/>\n",
       "            </div>\n",
       "        "
      ],
      "text/plain": [
       "Canvas(toolbar=Toolbar(toolitems=[('Home', 'Reset original view', 'home', 'home'), ('Back', 'Back to previous …"
      ]
     },
     "metadata": {},
     "output_type": "display_data"
    }
   ],
   "source": [
    "after_hp_model = svm.LinearSVC(C=0.01, fit_intercept=True, loss='squared_hinge', penalty='l2').fit(X_train, y_train)\n",
    "y_pred = after_hp_model.predict(X_test)\n",
    "cm = confusion_matrix(y_test,y_pred)\n",
    "sns.heatmap(cm,annot=True,cmap='viridis')\n",
    "plt.show()"
   ]
  },
  {
   "cell_type": "code",
   "execution_count": 52,
   "id": "8affd021-e51d-4bc5-a1d3-fbfd034ea532",
   "metadata": {},
   "outputs": [
    {
     "name": "stdout",
     "output_type": "stream",
     "text": [
      "              precision    recall  f1-score   support\n",
      "\n",
      "           0       0.30      0.46      0.36       140\n",
      "           1       0.38      0.43      0.40       166\n",
      "           2       0.23      0.14      0.18       105\n",
      "           3       0.52      0.41      0.46       292\n",
      "\n",
      "    accuracy                           0.38       703\n",
      "   macro avg       0.35      0.36      0.35       703\n",
      "weighted avg       0.40      0.38      0.38       703\n",
      "\n"
     ]
    }
   ],
   "source": [
    "print(classification_report(y_test,y_pred))"
   ]
  },
  {
   "cell_type": "code",
   "execution_count": 55,
   "id": "cf783df5-dffc-471f-97b2-0351a03b8dad",
   "metadata": {},
   "outputs": [],
   "source": [
    "after_hp_model = svm.LinearSVC(C=1, fit_intercept=True, loss='squared_hinge', penalty='l2').fit(X_train, y_train)\n",
    "y_pred = after_hp_model.predict(X_test)"
   ]
  },
  {
   "cell_type": "code",
   "execution_count": 56,
   "id": "5cef628f-5f24-443c-9dd5-dbdaf8739c7f",
   "metadata": {},
   "outputs": [
    {
     "name": "stdout",
     "output_type": "stream",
     "text": [
      "              precision    recall  f1-score   support\n",
      "\n",
      "           0       0.29      0.51      0.37       140\n",
      "           1       0.36      0.36      0.36       166\n",
      "           2       0.19      0.10      0.13       105\n",
      "           3       0.53      0.41      0.46       292\n",
      "\n",
      "    accuracy                           0.37       703\n",
      "   macro avg       0.34      0.35      0.33       703\n",
      "weighted avg       0.39      0.37      0.37       703\n",
      "\n"
     ]
    }
   ],
   "source": [
    "print(classification_report(y_test,y_pred))"
   ]
  },
  {
   "cell_type": "code",
   "execution_count": 57,
   "id": "0f3b1ea7-6ba4-4745-b5a2-7a1151096556",
   "metadata": {},
   "outputs": [],
   "source": [
    "after_hp_model = svm.LinearSVC(C=10, fit_intercept=True, loss='squared_hinge', penalty='l2').fit(X_train, y_train)\n",
    "y_pred = after_hp_model.predict(X_test)"
   ]
  },
  {
   "cell_type": "code",
   "execution_count": 58,
   "id": "55099852-f689-4773-a04e-b74f1ac65458",
   "metadata": {},
   "outputs": [
    {
     "name": "stdout",
     "output_type": "stream",
     "text": [
      "              precision    recall  f1-score   support\n",
      "\n",
      "           0       0.29      0.51      0.37       140\n",
      "           1       0.35      0.36      0.35       166\n",
      "           2       0.19      0.10      0.13       105\n",
      "           3       0.53      0.41      0.46       292\n",
      "\n",
      "    accuracy                           0.37       703\n",
      "   macro avg       0.34      0.35      0.33       703\n",
      "weighted avg       0.39      0.37      0.37       703\n",
      "\n"
     ]
    }
   ],
   "source": [
    "print(classification_report(y_test,y_pred))"
   ]
  },
  {
   "cell_type": "code",
   "execution_count": null,
   "id": "af473da0-8f29-4f54-9b0f-ce4072a8ed9c",
   "metadata": {},
   "outputs": [],
   "source": []
  }
 ],
 "metadata": {
  "kernelspec": {
   "display_name": "Python 3 (ipykernel)",
   "language": "python",
   "name": "python3"
  },
  "language_info": {
   "codemirror_mode": {
    "name": "ipython",
    "version": 3
   },
   "file_extension": ".py",
   "mimetype": "text/x-python",
   "name": "python",
   "nbconvert_exporter": "python",
   "pygments_lexer": "ipython3",
   "version": "3.9.16"
  }
 },
 "nbformat": 4,
 "nbformat_minor": 5
}

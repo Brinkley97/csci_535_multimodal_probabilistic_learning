{
 "cells": [
  {
   "cell_type": "markdown",
   "id": "f438db22-4bf7-4c3c-8939-a65abdd70226",
   "metadata": {},
   "source": [
    "# OpenFace Usage"
   ]
  },
  {
   "cell_type": "code",
   "execution_count": 1,
   "id": "76543ee0-392f-4409-b1b8-5999d86b54fd",
   "metadata": {},
   "outputs": [
    {
     "ename": "NameError",
     "evalue": "name 'args' is not defined",
     "output_type": "error",
     "traceback": [
      "\u001b[0;31m---------------------------------------------------------------------------\u001b[0m",
      "\u001b[0;31mNameError\u001b[0m                                 Traceback (most recent call last)",
      "Cell \u001b[0;32mIn[1], line 5\u001b[0m\n\u001b[1;32m      1\u001b[0m \u001b[38;5;28;01mimport\u001b[39;00m \u001b[38;5;21;01mopenface\u001b[39;00m\n\u001b[1;32m      3\u001b[0m \u001b[38;5;66;03m# `args` are parsed command-line arguments.\u001b[39;00m\n\u001b[0;32m----> 5\u001b[0m align \u001b[38;5;241m=\u001b[39m openface\u001b[38;5;241m.\u001b[39mAlignDlib(\u001b[43margs\u001b[49m\u001b[38;5;241m.\u001b[39mdlibFacePredictor)\n\u001b[1;32m      6\u001b[0m net \u001b[38;5;241m=\u001b[39m openface\u001b[38;5;241m.\u001b[39mTorchNeuralNet(args\u001b[38;5;241m.\u001b[39mnetworkModel, args\u001b[38;5;241m.\u001b[39mimgDim, cuda\u001b[38;5;241m=\u001b[39margs\u001b[38;5;241m.\u001b[39mcuda)\n\u001b[1;32m      8\u001b[0m \u001b[38;5;66;03m# `img` is a numpy matrix containing the RGB pixels of the image.\u001b[39;00m\n",
      "\u001b[0;31mNameError\u001b[0m: name 'args' is not defined"
     ]
    }
   ],
   "source": [
    "import openface\n",
    "\n",
    "# `args` are parsed command-line arguments.\n",
    "\n",
    "align = openface.AlignDlib(args.dlibFacePredictor)\n",
    "net = openface.TorchNeuralNet(args.networkModel, args.imgDim, cuda=args.cuda)\n",
    "\n",
    "# `img` is a numpy matrix containing the RGB pixels of the image.\n",
    "bb = align.getLargestFaceBoundingBox(img)\n",
    "alignedFace = align.align(args.imgDim, img, bb,\n",
    "                          landmarkIndices=openface.AlignDlib.OUTER_EYES_AND_NOSE)\n",
    "rep1 = net.forward(alignedFace)\n",
    "\n",
    "# `rep2` obtained similarly.\n",
    "d = rep1 - rep2\n",
    "distance = np.dot(d, d)"
   ]
  },
  {
   "cell_type": "code",
   "execution_count": null,
   "id": "b35abead-9e37-4010-9522-46180b1efdfc",
   "metadata": {},
   "outputs": [],
   "source": []
  }
 ],
 "metadata": {
  "kernelspec": {
   "display_name": "Python 3 (ipykernel)",
   "language": "python",
   "name": "python3"
  },
  "language_info": {
   "codemirror_mode": {
    "name": "ipython",
    "version": 3
   },
   "file_extension": ".py",
   "mimetype": "text/x-python",
   "name": "python",
   "nbconvert_exporter": "python",
   "pygments_lexer": "ipython3",
   "version": "3.9.16"
  }
 },
 "nbformat": 4,
 "nbformat_minor": 5
}

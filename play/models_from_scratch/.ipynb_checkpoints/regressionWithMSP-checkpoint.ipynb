{
 "cells": [
  {
   "cell_type": "markdown",
   "id": "247117c7-cd91-4735-80b9-8ec7eb153417",
   "metadata": {},
   "source": [
    "# Regression with MSP"
   ]
  },
  {
   "cell_type": "code",
   "execution_count": 1,
   "id": "4252919f-0178-402d-9dc4-fc0b372bdf55",
   "metadata": {},
   "outputs": [],
   "source": [
    "import os\n",
    "import torch\n",
    "\n",
    "import pandas as pd\n",
    "import numpy as np\n",
    "\n",
    "from sklearn.model_selection import train_test_split, GridSearchCV"
   ]
  },
  {
   "cell_type": "markdown",
   "id": "93d9630d-1b29-4d0e-abca-28805754af86",
   "metadata": {},
   "source": [
    "# Load Data"
   ]
  },
  {
   "cell_type": "code",
   "execution_count": 9,
   "id": "82ea4b6c-9dad-441d-95de-f9e7b98ff50e",
   "metadata": {},
   "outputs": [],
   "source": [
    "BASE = '/Users/brinkley97/Documents/development/'\n",
    "CLASS_PATH = 'classes/csci_535_multimodal_probabilistic_learning/'\n",
    "DATASET_PATH = 'datasets/'"
   ]
  },
  {
   "cell_type": "code",
   "execution_count": 10,
   "id": "368eb070-e13f-467f-b5ad-9ee0770566f5",
   "metadata": {},
   "outputs": [],
   "source": [
    "def load_data(file):\n",
    "    original_data = pd.read_csv(file)\n",
    "    # original_data = pd.DataFrame(file)\n",
    "    copy_of_data = original_data.copy()\n",
    "    return copy_of_data"
   ]
  },
  {
   "cell_type": "code",
   "execution_count": 11,
   "id": "c4bd20b1-0298-45b3-b6c8-c7ae6a096e5a",
   "metadata": {},
   "outputs": [],
   "source": [
    "file_paths = BASE + CLASS_PATH + DATASET_PATH + 'cremaD_mspR_mspT.csv'"
   ]
  },
  {
   "cell_type": "code",
   "execution_count": 12,
   "id": "884d8777-1137-4533-a3dc-7e90825b4aef",
   "metadata": {},
   "outputs": [
    {
     "data": {
      "text/html": [
       "<div>\n",
       "<style scoped>\n",
       "    .dataframe tbody tr th:only-of-type {\n",
       "        vertical-align: middle;\n",
       "    }\n",
       "\n",
       "    .dataframe tbody tr th {\n",
       "        vertical-align: top;\n",
       "    }\n",
       "\n",
       "    .dataframe thead th {\n",
       "        text-align: right;\n",
       "    }\n",
       "</style>\n",
       "<table border=\"1\" class=\"dataframe\">\n",
       "  <thead>\n",
       "    <tr style=\"text-align: right;\">\n",
       "      <th></th>\n",
       "      <th>Unnamed: 0</th>\n",
       "      <th>CREMA-D Paths</th>\n",
       "      <th>MSP R Paths</th>\n",
       "      <th>MSP T Paths</th>\n",
       "    </tr>\n",
       "  </thead>\n",
       "  <tbody>\n",
       "    <tr>\n",
       "      <th>0</th>\n",
       "      <td>0</td>\n",
       "      <td>/Users/brinkley97/Documents/development/classe...</td>\n",
       "      <td>/Users/brinkley97/Documents/development/classe...</td>\n",
       "      <td>/Users/brinkley97/Documents/development/classe...</td>\n",
       "    </tr>\n",
       "    <tr>\n",
       "      <th>1</th>\n",
       "      <td>1</td>\n",
       "      <td>/Users/brinkley97/Documents/development/classe...</td>\n",
       "      <td>/Users/brinkley97/Documents/development/classe...</td>\n",
       "      <td>/Users/brinkley97/Documents/development/classe...</td>\n",
       "    </tr>\n",
       "    <tr>\n",
       "      <th>2</th>\n",
       "      <td>2</td>\n",
       "      <td>/Users/brinkley97/Documents/development/classe...</td>\n",
       "      <td>/Users/brinkley97/Documents/development/classe...</td>\n",
       "      <td>/Users/brinkley97/Documents/development/classe...</td>\n",
       "    </tr>\n",
       "    <tr>\n",
       "      <th>3</th>\n",
       "      <td>3</td>\n",
       "      <td>/Users/brinkley97/Documents/development/classe...</td>\n",
       "      <td>/Users/brinkley97/Documents/development/classe...</td>\n",
       "      <td>/Users/brinkley97/Documents/development/classe...</td>\n",
       "    </tr>\n",
       "    <tr>\n",
       "      <th>4</th>\n",
       "      <td>4</td>\n",
       "      <td>/Users/brinkley97/Documents/development/classe...</td>\n",
       "      <td>/Users/brinkley97/Documents/development/classe...</td>\n",
       "      <td>/Users/brinkley97/Documents/development/classe...</td>\n",
       "    </tr>\n",
       "    <tr>\n",
       "      <th>...</th>\n",
       "      <td>...</td>\n",
       "      <td>...</td>\n",
       "      <td>...</td>\n",
       "      <td>...</td>\n",
       "    </tr>\n",
       "    <tr>\n",
       "      <th>114818</th>\n",
       "      <td>114818</td>\n",
       "      <td>/Users/brinkley97/Documents/development/classe...</td>\n",
       "      <td>NaN</td>\n",
       "      <td>NaN</td>\n",
       "    </tr>\n",
       "    <tr>\n",
       "      <th>114819</th>\n",
       "      <td>114819</td>\n",
       "      <td>/Users/brinkley97/Documents/development/classe...</td>\n",
       "      <td>NaN</td>\n",
       "      <td>NaN</td>\n",
       "    </tr>\n",
       "    <tr>\n",
       "      <th>114820</th>\n",
       "      <td>114820</td>\n",
       "      <td>/Users/brinkley97/Documents/development/classe...</td>\n",
       "      <td>NaN</td>\n",
       "      <td>NaN</td>\n",
       "    </tr>\n",
       "    <tr>\n",
       "      <th>114821</th>\n",
       "      <td>114821</td>\n",
       "      <td>/Users/brinkley97/Documents/development/classe...</td>\n",
       "      <td>NaN</td>\n",
       "      <td>NaN</td>\n",
       "    </tr>\n",
       "    <tr>\n",
       "      <th>114822</th>\n",
       "      <td>114822</td>\n",
       "      <td>/Users/brinkley97/Documents/development/classe...</td>\n",
       "      <td>NaN</td>\n",
       "      <td>NaN</td>\n",
       "    </tr>\n",
       "  </tbody>\n",
       "</table>\n",
       "<p>114823 rows × 4 columns</p>\n",
       "</div>"
      ],
      "text/plain": [
       "        Unnamed: 0                                      CREMA-D Paths  \\\n",
       "0                0  /Users/brinkley97/Documents/development/classe...   \n",
       "1                1  /Users/brinkley97/Documents/development/classe...   \n",
       "2                2  /Users/brinkley97/Documents/development/classe...   \n",
       "3                3  /Users/brinkley97/Documents/development/classe...   \n",
       "4                4  /Users/brinkley97/Documents/development/classe...   \n",
       "...            ...                                                ...   \n",
       "114818      114818  /Users/brinkley97/Documents/development/classe...   \n",
       "114819      114819  /Users/brinkley97/Documents/development/classe...   \n",
       "114820      114820  /Users/brinkley97/Documents/development/classe...   \n",
       "114821      114821  /Users/brinkley97/Documents/development/classe...   \n",
       "114822      114822  /Users/brinkley97/Documents/development/classe...   \n",
       "\n",
       "                                              MSP R Paths  \\\n",
       "0       /Users/brinkley97/Documents/development/classe...   \n",
       "1       /Users/brinkley97/Documents/development/classe...   \n",
       "2       /Users/brinkley97/Documents/development/classe...   \n",
       "3       /Users/brinkley97/Documents/development/classe...   \n",
       "4       /Users/brinkley97/Documents/development/classe...   \n",
       "...                                                   ...   \n",
       "114818                                                NaN   \n",
       "114819                                                NaN   \n",
       "114820                                                NaN   \n",
       "114821                                                NaN   \n",
       "114822                                                NaN   \n",
       "\n",
       "                                              MSP T Paths  \n",
       "0       /Users/brinkley97/Documents/development/classe...  \n",
       "1       /Users/brinkley97/Documents/development/classe...  \n",
       "2       /Users/brinkley97/Documents/development/classe...  \n",
       "3       /Users/brinkley97/Documents/development/classe...  \n",
       "4       /Users/brinkley97/Documents/development/classe...  \n",
       "...                                                   ...  \n",
       "114818                                                NaN  \n",
       "114819                                                NaN  \n",
       "114820                                                NaN  \n",
       "114821                                                NaN  \n",
       "114822                                                NaN  \n",
       "\n",
       "[114823 rows x 4 columns]"
      ]
     },
     "execution_count": 12,
     "metadata": {},
     "output_type": "execute_result"
    }
   ],
   "source": [
    "dataset_paths_copy = load_data(file_paths)\n",
    "dataset_paths_copy"
   ]
  },
  {
   "cell_type": "code",
   "execution_count": 56,
   "id": "d813cd6d-06db-46e4-99e1-1ac71ca8108c",
   "metadata": {},
   "outputs": [],
   "source": [
    "pd.set_option('max_colwidth', 170)\n",
    "pd.set_option('display.max_rows', 500)"
   ]
  },
  {
   "cell_type": "code",
   "execution_count": 61,
   "id": "414ea3a2-c086-4473-b1ff-909ed258cbde",
   "metadata": {},
   "outputs": [],
   "source": [
    "msp_r_df = dataset_paths_copy.loc[0:300, 'MSP R Paths']\n",
    "# msp_r_df"
   ]
  },
  {
   "cell_type": "code",
   "execution_count": 62,
   "id": "eb8124af-1e0b-4148-84ef-3c29f4f3aa47",
   "metadata": {},
   "outputs": [],
   "source": [
    "msp_t_df = dataset_paths_copy.loc[0:300, 'MSP T Paths']\n",
    "# msp_t_df"
   ]
  },
  {
   "cell_type": "code",
   "execution_count": 80,
   "id": "2ca3947f-3f75-452d-a4eb-3cbde6bf2abe",
   "metadata": {},
   "outputs": [],
   "source": [
    "pd.set_option('display.max_rows', 200)"
   ]
  },
  {
   "cell_type": "code",
   "execution_count": 81,
   "id": "115ce895-fc8b-46b1-a1ee-5023ae4c72c3",
   "metadata": {},
   "outputs": [
    {
     "data": {
      "text/plain": [
       "0      /Users/brinkley97/Documents/development/classes/csci_535_multimodal_probabilistic_learning/datasets/msp/videos/r_and_t_frames/r_frames/MSP-IMPROV-S07A-F03-R-FF01_fram...\n",
       "1      /Users/brinkley97/Documents/development/classes/csci_535_multimodal_probabilistic_learning/datasets/msp/videos/r_and_t_frames/r_frames/MSP-IMPROV-S07A-F03-R-FF01_fram...\n",
       "2      /Users/brinkley97/Documents/development/classes/csci_535_multimodal_probabilistic_learning/datasets/msp/videos/r_and_t_frames/r_frames/MSP-IMPROV-S07A-F03-R-FF01_fram...\n",
       "3      /Users/brinkley97/Documents/development/classes/csci_535_multimodal_probabilistic_learning/datasets/msp/videos/r_and_t_frames/r_frames/MSP-IMPROV-S07A-F03-R-FF01_fram...\n",
       "4      /Users/brinkley97/Documents/development/classes/csci_535_multimodal_probabilistic_learning/datasets/msp/videos/r_and_t_frames/r_frames/MSP-IMPROV-S07A-F03-R-FF01_fram...\n",
       "                                                                                         ...                                                                                    \n",
       "597    /Users/brinkley97/Documents/development/classes/csci_535_multimodal_probabilistic_learning/datasets/msp/videos/r_and_t_frames/t_frames/MSP-IMPROV-S11H-F05-T-FM01_fram...\n",
       "598    /Users/brinkley97/Documents/development/classes/csci_535_multimodal_probabilistic_learning/datasets/msp/videos/r_and_t_frames/t_frames/MSP-IMPROV-S11H-F05-T-FM01_fram...\n",
       "599    /Users/brinkley97/Documents/development/classes/csci_535_multimodal_probabilistic_learning/datasets/msp/videos/r_and_t_frames/t_frames/MSP-IMPROV-S11H-F05-T-FM01_fram...\n",
       "600    /Users/brinkley97/Documents/development/classes/csci_535_multimodal_probabilistic_learning/datasets/msp/videos/r_and_t_frames/t_frames/MSP-IMPROV-S11H-F05-T-FM01_fram...\n",
       "601    /Users/brinkley97/Documents/development/classes/csci_535_multimodal_probabilistic_learning/datasets/msp/videos/r_and_t_frames/t_frames/MSP-IMPROV-S11H-F05-T-FM01_fram...\n",
       "Length: 602, dtype: object"
      ]
     },
     "execution_count": 81,
     "metadata": {},
     "output_type": "execute_result"
    }
   ],
   "source": [
    "msp_df = pd.concat([msp_r_df, msp_t_df], ignore_index=True)\n",
    "msp_df"
   ]
  },
  {
   "cell_type": "code",
   "execution_count": 3,
   "id": "f6158304-5430-4f11-9204-0e74dbf08680",
   "metadata": {},
   "outputs": [],
   "source": [
    "msp_r_extracted_features = BASE + CLASS_PATH + DATASET_PATH + 'subsets_vit/extractedFeatures-mspR_subset.txt'\n",
    "msp_t_extracted_features = BASE + CLASS_PATH + DATASET_PATH + 'subsets_vit/extractedFeatures-mspT_subset.txt'"
   ]
  },
  {
   "cell_type": "code",
   "execution_count": 4,
   "id": "7e691926-dd38-4d08-a029-2cf847539d13",
   "metadata": {},
   "outputs": [],
   "source": [
    "features_extracted_msp_r = torch.load(msp_r_extracted_features)"
   ]
  },
  {
   "cell_type": "code",
   "execution_count": null,
   "id": "4c23a161-d3ee-4120-bab2-c88987e7b952",
   "metadata": {},
   "outputs": [],
   "source": [
    "features_extracted_msp_t = torch.load(msp_t_extracted_features)"
   ]
  },
  {
   "cell_type": "code",
   "execution_count": null,
   "id": "c6dbcabd-2f22-4f5e-b36f-19b18f79e711",
   "metadata": {},
   "outputs": [],
   "source": [
    "# fe_msp_r"
   ]
  },
  {
   "cell_type": "code",
   "execution_count": 58,
   "id": "6e9d2939-c5a9-4808-ab9d-f8058a775b4c",
   "metadata": {},
   "outputs": [],
   "source": [
    "# fe_msp_t"
   ]
  },
  {
   "cell_type": "code",
   "execution_count": 96,
   "id": "ac977bfc-0e2a-4d87-8ee0-934c1ce379fa",
   "metadata": {},
   "outputs": [],
   "source": [
    "msp_df.columns = ['Path to MSP File']"
   ]
  },
  {
   "cell_type": "code",
   "execution_count": 97,
   "id": "637ab726-2711-48ab-8b51-12786400f462",
   "metadata": {},
   "outputs": [],
   "source": [
    "emotion_labels = pd.DataFrame(columns=['A', 'H', 'N', 'S'])"
   ]
  },
  {
   "cell_type": "code",
   "execution_count": 98,
   "id": "122f9e0a-2920-4118-901b-95c43b4fee86",
   "metadata": {},
   "outputs": [
    {
     "data": {
      "text/html": [
       "<div>\n",
       "<style scoped>\n",
       "    .dataframe tbody tr th:only-of-type {\n",
       "        vertical-align: middle;\n",
       "    }\n",
       "\n",
       "    .dataframe tbody tr th {\n",
       "        vertical-align: top;\n",
       "    }\n",
       "\n",
       "    .dataframe thead th {\n",
       "        text-align: right;\n",
       "    }\n",
       "</style>\n",
       "<table border=\"1\" class=\"dataframe\">\n",
       "  <thead>\n",
       "    <tr style=\"text-align: right;\">\n",
       "      <th></th>\n",
       "      <th>A</th>\n",
       "      <th>H</th>\n",
       "      <th>N</th>\n",
       "      <th>S</th>\n",
       "    </tr>\n",
       "  </thead>\n",
       "  <tbody>\n",
       "  </tbody>\n",
       "</table>\n",
       "</div>"
      ],
      "text/plain": [
       "Empty DataFrame\n",
       "Columns: [A, H, N, S]\n",
       "Index: []"
      ]
     },
     "execution_count": 98,
     "metadata": {},
     "output_type": "execute_result"
    }
   ],
   "source": [
    "emotion_labels"
   ]
  },
  {
   "cell_type": "code",
   "execution_count": 99,
   "id": "9500de90-84a4-4e2b-8fa0-51a84981f4c5",
   "metadata": {},
   "outputs": [],
   "source": [
    "msp_with_emotion_labels_df = pd.concat([msp_df, emotion_labels], axis=1)"
   ]
  },
  {
   "cell_type": "code",
   "execution_count": 105,
   "id": "4b48ad05-46fd-4972-a3d4-6ce306c9e381",
   "metadata": {},
   "outputs": [],
   "source": [
    "cols = list(msp_with_emotion_labels_df.keys())"
   ]
  },
  {
   "cell_type": "code",
   "execution_count": 106,
   "id": "6b95c5b3-ef41-47ab-89cd-e3de7a3c3832",
   "metadata": {},
   "outputs": [],
   "source": [
    "cols[0] = 'Path to MSP File'"
   ]
  },
  {
   "cell_type": "code",
   "execution_count": 107,
   "id": "76f47c06-4a34-4809-b848-044ddb3af50c",
   "metadata": {},
   "outputs": [
    {
     "data": {
      "text/plain": [
       "['Path to MSP File', 'A', 'H', 'N', 'S']"
      ]
     },
     "execution_count": 107,
     "metadata": {},
     "output_type": "execute_result"
    }
   ],
   "source": [
    "cols"
   ]
  },
  {
   "cell_type": "code",
   "execution_count": 108,
   "id": "101c428a-3874-46b1-8e71-265a3cb5017d",
   "metadata": {},
   "outputs": [],
   "source": [
    "msp_with_emotion_labels_df.columns = cols"
   ]
  },
  {
   "cell_type": "code",
   "execution_count": 109,
   "id": "d20dd416-5410-48aa-8e6e-4f349895f2ee",
   "metadata": {},
   "outputs": [
    {
     "data": {
      "text/html": [
       "<div>\n",
       "<style scoped>\n",
       "    .dataframe tbody tr th:only-of-type {\n",
       "        vertical-align: middle;\n",
       "    }\n",
       "\n",
       "    .dataframe tbody tr th {\n",
       "        vertical-align: top;\n",
       "    }\n",
       "\n",
       "    .dataframe thead th {\n",
       "        text-align: right;\n",
       "    }\n",
       "</style>\n",
       "<table border=\"1\" class=\"dataframe\">\n",
       "  <thead>\n",
       "    <tr style=\"text-align: right;\">\n",
       "      <th></th>\n",
       "      <th>Path to MSP File</th>\n",
       "      <th>A</th>\n",
       "      <th>H</th>\n",
       "      <th>N</th>\n",
       "      <th>S</th>\n",
       "    </tr>\n",
       "  </thead>\n",
       "  <tbody>\n",
       "    <tr>\n",
       "      <th>0</th>\n",
       "      <td>/Users/brinkley97/Documents/development/classes/csci_535_multimodal_probabilistic_learning/datasets/msp/videos/r_and_t_frames/r_frames/MSP-IMPROV-S07A-F03-R-FF01_fram...</td>\n",
       "      <td>NaN</td>\n",
       "      <td>NaN</td>\n",
       "      <td>NaN</td>\n",
       "      <td>NaN</td>\n",
       "    </tr>\n",
       "    <tr>\n",
       "      <th>1</th>\n",
       "      <td>/Users/brinkley97/Documents/development/classes/csci_535_multimodal_probabilistic_learning/datasets/msp/videos/r_and_t_frames/r_frames/MSP-IMPROV-S07A-F03-R-FF01_fram...</td>\n",
       "      <td>NaN</td>\n",
       "      <td>NaN</td>\n",
       "      <td>NaN</td>\n",
       "      <td>NaN</td>\n",
       "    </tr>\n",
       "    <tr>\n",
       "      <th>2</th>\n",
       "      <td>/Users/brinkley97/Documents/development/classes/csci_535_multimodal_probabilistic_learning/datasets/msp/videos/r_and_t_frames/r_frames/MSP-IMPROV-S07A-F03-R-FF01_fram...</td>\n",
       "      <td>NaN</td>\n",
       "      <td>NaN</td>\n",
       "      <td>NaN</td>\n",
       "      <td>NaN</td>\n",
       "    </tr>\n",
       "    <tr>\n",
       "      <th>3</th>\n",
       "      <td>/Users/brinkley97/Documents/development/classes/csci_535_multimodal_probabilistic_learning/datasets/msp/videos/r_and_t_frames/r_frames/MSP-IMPROV-S07A-F03-R-FF01_fram...</td>\n",
       "      <td>NaN</td>\n",
       "      <td>NaN</td>\n",
       "      <td>NaN</td>\n",
       "      <td>NaN</td>\n",
       "    </tr>\n",
       "    <tr>\n",
       "      <th>4</th>\n",
       "      <td>/Users/brinkley97/Documents/development/classes/csci_535_multimodal_probabilistic_learning/datasets/msp/videos/r_and_t_frames/r_frames/MSP-IMPROV-S07A-F03-R-FF01_fram...</td>\n",
       "      <td>NaN</td>\n",
       "      <td>NaN</td>\n",
       "      <td>NaN</td>\n",
       "      <td>NaN</td>\n",
       "    </tr>\n",
       "    <tr>\n",
       "      <th>...</th>\n",
       "      <td>...</td>\n",
       "      <td>...</td>\n",
       "      <td>...</td>\n",
       "      <td>...</td>\n",
       "      <td>...</td>\n",
       "    </tr>\n",
       "    <tr>\n",
       "      <th>598</th>\n",
       "      <td>/Users/brinkley97/Documents/development/classes/csci_535_multimodal_probabilistic_learning/datasets/msp/videos/r_and_t_frames/t_frames/MSP-IMPROV-S11H-F05-T-FM01_fram...</td>\n",
       "      <td>NaN</td>\n",
       "      <td>NaN</td>\n",
       "      <td>NaN</td>\n",
       "      <td>NaN</td>\n",
       "    </tr>\n",
       "    <tr>\n",
       "      <th>599</th>\n",
       "      <td>/Users/brinkley97/Documents/development/classes/csci_535_multimodal_probabilistic_learning/datasets/msp/videos/r_and_t_frames/t_frames/MSP-IMPROV-S11H-F05-T-FM01_fram...</td>\n",
       "      <td>NaN</td>\n",
       "      <td>NaN</td>\n",
       "      <td>NaN</td>\n",
       "      <td>NaN</td>\n",
       "    </tr>\n",
       "    <tr>\n",
       "      <th>600</th>\n",
       "      <td>/Users/brinkley97/Documents/development/classes/csci_535_multimodal_probabilistic_learning/datasets/msp/videos/r_and_t_frames/t_frames/MSP-IMPROV-S11H-F05-T-FM01_fram...</td>\n",
       "      <td>NaN</td>\n",
       "      <td>NaN</td>\n",
       "      <td>NaN</td>\n",
       "      <td>NaN</td>\n",
       "    </tr>\n",
       "    <tr>\n",
       "      <th>601</th>\n",
       "      <td>/Users/brinkley97/Documents/development/classes/csci_535_multimodal_probabilistic_learning/datasets/msp/videos/r_and_t_frames/t_frames/MSP-IMPROV-S11H-F05-T-FM01_fram...</td>\n",
       "      <td>NaN</td>\n",
       "      <td>NaN</td>\n",
       "      <td>NaN</td>\n",
       "      <td>NaN</td>\n",
       "    </tr>\n",
       "    <tr>\n",
       "      <th>Angry</th>\n",
       "      <td>0</td>\n",
       "      <td>NaN</td>\n",
       "      <td>NaN</td>\n",
       "      <td>NaN</td>\n",
       "      <td>NaN</td>\n",
       "    </tr>\n",
       "  </tbody>\n",
       "</table>\n",
       "<p>603 rows × 5 columns</p>\n",
       "</div>"
      ],
      "text/plain": [
       "                                                                                                                                                                Path to MSP File    A    H    N    S\n",
       "0      /Users/brinkley97/Documents/development/classes/csci_535_multimodal_probabilistic_learning/datasets/msp/videos/r_and_t_frames/r_frames/MSP-IMPROV-S07A-F03-R-FF01_fram...  NaN  NaN  NaN  NaN\n",
       "1      /Users/brinkley97/Documents/development/classes/csci_535_multimodal_probabilistic_learning/datasets/msp/videos/r_and_t_frames/r_frames/MSP-IMPROV-S07A-F03-R-FF01_fram...  NaN  NaN  NaN  NaN\n",
       "2      /Users/brinkley97/Documents/development/classes/csci_535_multimodal_probabilistic_learning/datasets/msp/videos/r_and_t_frames/r_frames/MSP-IMPROV-S07A-F03-R-FF01_fram...  NaN  NaN  NaN  NaN\n",
       "3      /Users/brinkley97/Documents/development/classes/csci_535_multimodal_probabilistic_learning/datasets/msp/videos/r_and_t_frames/r_frames/MSP-IMPROV-S07A-F03-R-FF01_fram...  NaN  NaN  NaN  NaN\n",
       "4      /Users/brinkley97/Documents/development/classes/csci_535_multimodal_probabilistic_learning/datasets/msp/videos/r_and_t_frames/r_frames/MSP-IMPROV-S07A-F03-R-FF01_fram...  NaN  NaN  NaN  NaN\n",
       "...                                                                                                                                                                          ...  ...  ...  ...  ...\n",
       "598    /Users/brinkley97/Documents/development/classes/csci_535_multimodal_probabilistic_learning/datasets/msp/videos/r_and_t_frames/t_frames/MSP-IMPROV-S11H-F05-T-FM01_fram...  NaN  NaN  NaN  NaN\n",
       "599    /Users/brinkley97/Documents/development/classes/csci_535_multimodal_probabilistic_learning/datasets/msp/videos/r_and_t_frames/t_frames/MSP-IMPROV-S11H-F05-T-FM01_fram...  NaN  NaN  NaN  NaN\n",
       "600    /Users/brinkley97/Documents/development/classes/csci_535_multimodal_probabilistic_learning/datasets/msp/videos/r_and_t_frames/t_frames/MSP-IMPROV-S11H-F05-T-FM01_fram...  NaN  NaN  NaN  NaN\n",
       "601    /Users/brinkley97/Documents/development/classes/csci_535_multimodal_probabilistic_learning/datasets/msp/videos/r_and_t_frames/t_frames/MSP-IMPROV-S11H-F05-T-FM01_fram...  NaN  NaN  NaN  NaN\n",
       "Angry                                                                                                                                                                          0  NaN  NaN  NaN  NaN\n",
       "\n",
       "[603 rows x 5 columns]"
      ]
     },
     "execution_count": 109,
     "metadata": {},
     "output_type": "execute_result"
    }
   ],
   "source": [
    "msp_with_emotion_labels_df"
   ]
  },
  {
   "cell_type": "code",
   "execution_count": null,
   "id": "3f216ecf-c7ba-4e53-a99b-74b89bacffe5",
   "metadata": {},
   "outputs": [],
   "source": []
  }
 ],
 "metadata": {
  "kernelspec": {
   "display_name": "Python 3 (ipykernel)",
   "language": "python",
   "name": "python3"
  },
  "language_info": {
   "codemirror_mode": {
    "name": "ipython",
    "version": 3
   },
   "file_extension": ".py",
   "mimetype": "text/x-python",
   "name": "python",
   "nbconvert_exporter": "python",
   "pygments_lexer": "ipython3",
   "version": "3.9.16"
  }
 },
 "nbformat": 4,
 "nbformat_minor": 5
}

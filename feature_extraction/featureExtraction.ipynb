{
 "cells": [
  {
   "cell_type": "markdown",
   "id": "b0a5de61-c8c3-4f98-a161-3436430c8588",
   "metadata": {},
   "source": [
    "# Data Engineering - Extracting the MFCC Feature Sets\n",
    "\n",
    "- There are 7442 wav files in CREMA-D. We will use openSMILE to extract the MFCC from the wav files. These files will be saved as csv."
   ]
  },
  {
   "cell_type": "code",
   "execution_count": null,
   "id": "a41d235f-7ee0-4af4-9576-15088dab4066",
   "metadata": {},
   "outputs": [],
   "source": [
    "path_to_development = \"/Users/brinkley97/Documents/development/classes/\""
   ]
  },
  {
   "cell_type": "code",
   "execution_count": null,
   "id": "b88feab8-7ef1-4c9f-bda3-2c41239a6790",
   "metadata": {},
   "outputs": [],
   "source": [
    "path_to_opensmile = 'csci_535_interpretable_emotion_recognition_from_audiovisual/opensmile/'\n",
    "# smile_extract = './SMILExtract'\n",
    "smile_extract = 'SMILExtract'\n",
    "smile_extract = path_to_development + path_to_opensmile + smile_extract\n",
    "print(smile_extract)\n",
    "# !smile_extract SMILExtract -C config/features_to_extract/MFCC12_E_D_A.conf -I example-audio/media-interpretation.wav -O output/output.mfcc12_E_D_A.csv"
   ]
  },
  {
   "cell_type": "markdown",
   "id": "875c1b70-afde-4b82-a4a4-054d5cd312f8",
   "metadata": {},
   "source": [
    "## Imports + Load Data"
   ]
  },
  {
   "cell_type": "code",
   "execution_count": null,
   "id": "9999b737-e020-4bbd-8ad6-fe740bd05497",
   "metadata": {},
   "outputs": [],
   "source": [
    "# to loop files\n",
    "import os"
   ]
  },
  {
   "cell_type": "code",
   "execution_count": 185,
   "id": "0d6215cf-fbd3-4530-9885-74972e7eab25",
   "metadata": {},
   "outputs": [],
   "source": [
    "# for f in $(ls -1 /Users/brinkley97/Documents/development/classes/csci_535_multimodal_probabilistic_learning/git_lfs/CREMA-D/AudioWAV/); do ./SMILExtract SMILExtract -C config/MFCC12_0_D_A.conf -I $f -O $f./Users/brinkley97/Documents/development/classes/csci_535_multimodal_probabilistic_learning/feature_extraction/open_smile_csv_output/output.mfcc12_E_D_A.csv ; done;\n",
    "\n",
    "\n",
    "# for f in $(ls -1 /Users/brinkley97/Documents/development/classes/csci_535_interpretable_emotion_recognition_from_audiovisual/opensmile/example-audio/); do ./SMILExtract SMILExtract -C config/features_to_extract/ -I $f -O $f./Users/brinkley97/Documents/development/classes/csci_535_multimodal_probabilistic_learning/feature_extraction/open_smile_csv_output/output.mfcc_0_D_A.csv ; done;\n",
    "\n",
    "\n",
    "# for f in $(ls -1 /Users/brinkley97/Documents/development/classes/csci_535_interpretable_emotion_recognition_from_audiovisual/opensmile/example-audio/); do ./SMILExtract SMILExtract -C config/features_to_extract/MFCC12_0_D_A.conf -I $f -O $f./Users/brinkley97/Documents/development/classes/csci_535_multimodal_probabilistic_learning/feature_extraction/open_smile_csv_output/output.mfcc0_D_A.csv ; done;\n",
    "\n",
    "# print files in directory\n",
    "# !for f in \"/Users/brinkley97/Documents/development/classes/csci_535_interpretable_emotion_recognition_from_audiovisual/opensmile/example-audio\"/*; do echo \"$f\"; done\n",
    "\n",
    "# run opensmile\n",
    "    # !for f in \"/Users/brinkley97/Documents/development/classes/csci_535_interpretable_emotion_recognition_from_audiovisual/opensmile/example-audio\"/*; do /Users/brinkley97/Documents/development/classes/csci_535_interpretable_emotion_recognition_from_audiovisual/opensmile/./SMILExtract SMILExtract; done "
   ]
  },
  {
   "cell_type": "code",
   "execution_count": 240,
   "id": "66fde020-3a07-432d-a644-d8bb9ff7f7cd",
   "metadata": {},
   "outputs": [],
   "source": [
    "def run_open_smile():\n",
    "\n",
    "    # open_smile_wav = \"/Users/brinkley97/Documents/development/classes/csci_535_interpretable_emotion_recognition_from_audiovisual/opensmile/example-audio/\"\n",
    "\n",
    "    !for f in \"/Users/brinkley97/Documents/development/classes/csci_535_interpretable_emotion_recognition_from_audiovisual/opensmile/example-audio\"/*; do /Users/brinkley97/Documents/development/classes/csci_535_interpretable_emotion_recognition_from_audiovisual/opensmile/./SMILExtract SMILExtract -C /Users/brinkley97/Documents/development/classes/csci_535_interpretable_emotion_recognition_from_audiovisual/opensmile/config/features_to_extract/MFCC12_0_D_A.conf -I $f -O /Users/brinkley97/Documents/development/classes/csci_535_multimodal_probabilistic_learning/feature_extraction/open_smile_csv_output/f.mfcc.csv; done;"
   ]
  },
  {
   "cell_type": "code",
   "execution_count": 241,
   "id": "3898c1f6-47c1-4c96-8f9e-ec3fa3142a64",
   "metadata": {},
   "outputs": [
    {
     "name": "stdout",
     "output_type": "stream",
     "text": [
      "(\u001b[1;34mMSG\u001b[0m) [2] \u001b[1;37mSMILExtract\u001b[0m: openSMILE starting!\n",
      "(\u001b[1;34mMSG\u001b[0m) [2] \u001b[1;37mSMILExtract\u001b[0m: config file is: /Users/brinkley97/Documents/development/classes/csci_535_interpretable_emotion_recognition_from_audiovisual/opensmile/config/features_to_extract/MFCC12_0_D_A.conf\n",
      "(\u001b[1;34mMSG\u001b[0m) [2] \u001b[1;37mcComponentManager\u001b[0m: successfully registered 102 component types.\n",
      "(\u001b[1;34mMSG\u001b[0m) [2] \u001b[1;37minstance 'lldcsvsink'\u001b[0m: No filename given, disabling this sink component.\n",
      "(\u001b[1;34mMSG\u001b[0m) [2] \u001b[1;37minstance 'lldarffsink'\u001b[0m: No filename given, disabling this sink component.\n",
      "(\u001b[1;34mMSG\u001b[0m) [2] \u001b[1;37mcComponentManager\u001b[0m: successfully finished createInstances (15 component instances were finalised, 1 data memories were finalised)\n",
      "(\u001b[1;34mMSG\u001b[0m) [2] \u001b[1;37mcComponentManager\u001b[0m: starting single thread processing loop\n",
      "(\u001b[1;34mMSG\u001b[0m) [2] \u001b[1;37mcComponentManager\u001b[0m: Processing finished! System ran for 534 ticks.\n",
      "(\u001b[1;34mMSG\u001b[0m) [2] \u001b[1;37mSMILExtract\u001b[0m: openSMILE starting!\n",
      "(\u001b[1;34mMSG\u001b[0m) [2] \u001b[1;37mSMILExtract\u001b[0m: config file is: /Users/brinkley97/Documents/development/classes/csci_535_interpretable_emotion_recognition_from_audiovisual/opensmile/config/features_to_extract/MFCC12_0_D_A.conf\n",
      "(\u001b[1;34mMSG\u001b[0m) [2] \u001b[1;37mcComponentManager\u001b[0m: successfully registered 102 component types.\n",
      "(\u001b[1;34mMSG\u001b[0m) [2] \u001b[1;37minstance 'lldcsvsink'\u001b[0m: No filename given, disabling this sink component.\n",
      "(\u001b[1;34mMSG\u001b[0m) [2] \u001b[1;37minstance 'lldarffsink'\u001b[0m: No filename given, disabling this sink component.\n",
      "(\u001b[1;34mMSG\u001b[0m) [2] \u001b[1;37mcComponentManager\u001b[0m: successfully finished createInstances (15 component instances were finalised, 1 data memories were finalised)\n",
      "(\u001b[1;34mMSG\u001b[0m) [2] \u001b[1;37mcComponentManager\u001b[0m: starting single thread processing loop\n",
      "(\u001b[1;34mMSG\u001b[0m) [2] \u001b[1;37mcComponentManager\u001b[0m: Processing finished! System ran for 213 ticks.\n"
     ]
    }
   ],
   "source": [
    "run_open_smile()"
   ]
  },
  {
   "cell_type": "code",
   "execution_count": 327,
   "id": "f8c04d68-701e-45af-a803-cd737689ccea",
   "metadata": {},
   "outputs": [
    {
     "name": "stdout",
     "output_type": "stream",
     "text": [
      "/Users/brinkley97/Documents/development/classes/csci_535_interpretable_emotion_recognition_from_audiovisual/opensmile/example-audio/media-interpretation\n",
      "/Users/brinkley97/Documents/development/classes/csci_535_interpretable_emotion_recognition_from_audiovisual/opensmile/example-audio/opensmile\n",
      ".wav\n",
      ".wav\n",
      "mv /Users/brinkley97/Documents/development/classes/csci_535_interpretable_emotion_recognition_from_audiovisual/opensmile/example-audio/media-interpretation.csv\n",
      "mv /Users/brinkley97/Documents/development/classes/csci_535_interpretable_emotion_recognition_from_audiovisual/opensmile/example-audio/opensmile.csv\n"
     ]
    }
   ],
   "source": [
    "# get up to .\n",
    "!for f in \"/Users/brinkley97/Documents/development/classes/csci_535_interpretable_emotion_recognition_from_audiovisual/opensmile/example-audio/\"*.wav; do echo ${f%.*}; done;\n",
    "\n",
    "# get last wav\n",
    "!for f in \"/Users/brinkley97/Documents/development/classes/csci_535_interpretable_emotion_recognition_from_audiovisual/opensmile/example-audio/\"*.wav; do echo ${f: -4}; done;\n",
    "\n",
    "# need to move to new directory... trying to output --- https://www.youtube.com/watch?v=dVUAB0yTyK4\n",
    "!for f in \"/Users/brinkley97/Documents/development/classes/csci_535_interpretable_emotion_recognition_from_audiovisual/opensmile/example-audio/\"*.wav; do echo \"mv ${f%.*}.csv\"  ; done;"
   ]
  },
  {
   "cell_type": "code",
   "execution_count": 297,
   "id": "834cd868-b076-4ff4-a07d-3aba9e1d1ed3",
   "metadata": {},
   "outputs": [
    {
     "name": "stdout",
     "output_type": "stream",
     "text": [
      "(\u001b[1;34mMSG\u001b[0m) [2] \u001b[1;37mSMILExtract\u001b[0m: openSMILE starting!\n",
      "(\u001b[1;34mMSG\u001b[0m) [2] \u001b[1;37mSMILExtract\u001b[0m: config file is: /Users/brinkley97/Documents/development/classes/csci_535_interpretable_emotion_recognition_from_audiovisual/opensmile/config/features_to_extract/MFCC12_0_D_A.conf\n",
      "(\u001b[1;34mMSG\u001b[0m) [2] \u001b[1;37mcComponentManager\u001b[0m: successfully registered 102 component types.\n",
      "(\u001b[1;34mMSG\u001b[0m) [2] \u001b[1;37minstance 'lldcsvsink'\u001b[0m: No filename given, disabling this sink component.\n",
      "(\u001b[1;34mMSG\u001b[0m) [2] \u001b[1;37minstance 'lldarffsink'\u001b[0m: No filename given, disabling this sink component.\n",
      "(\u001b[1;31mERR\u001b[0m) [1] \u001b[1;37mcCsvSink\u001b[0m: Error opening file '/Users/brinkley97/Documents/development/classes/csci_535_multimodal_probabilistic_learning/feature_extraction/open_smile_csv_output//Users/brinkley97/Documents/development/classes/csci_535_interpretable_emotion_recognition_from_audiovisual/opensmile/example-audio/media-interpretation.csv' for writing (component instance 'csvSink', type 'cCsvSink')\n",
      "(\u001b[1;34mMSG\u001b[0m) [2] \u001b[1;37mSMILExtract\u001b[0m: openSMILE starting!\n",
      "(\u001b[1;34mMSG\u001b[0m) [2] \u001b[1;37mSMILExtract\u001b[0m: config file is: /Users/brinkley97/Documents/development/classes/csci_535_interpretable_emotion_recognition_from_audiovisual/opensmile/config/features_to_extract/MFCC12_0_D_A.conf\n",
      "(\u001b[1;34mMSG\u001b[0m) [2] \u001b[1;37mcComponentManager\u001b[0m: successfully registered 102 component types.\n",
      "(\u001b[1;34mMSG\u001b[0m) [2] \u001b[1;37minstance 'lldcsvsink'\u001b[0m: No filename given, disabling this sink component.\n",
      "(\u001b[1;34mMSG\u001b[0m) [2] \u001b[1;37minstance 'lldarffsink'\u001b[0m: No filename given, disabling this sink component.\n",
      "(\u001b[1;31mERR\u001b[0m) [1] \u001b[1;37mcCsvSink\u001b[0m: Error opening file '/Users/brinkley97/Documents/development/classes/csci_535_multimodal_probabilistic_learning/feature_extraction/open_smile_csv_output//Users/brinkley97/Documents/development/classes/csci_535_interpretable_emotion_recognition_from_audiovisual/opensmile/example-audio/opensmile.csv' for writing (component instance 'csvSink', type 'cCsvSink')\n"
     ]
    }
   ],
   "source": [
    "    !for f in \"/Users/brinkley97/Documents/development/classes/csci_535_interpretable_emotion_recognition_from_audiovisual/opensmile/example-audio\"/*; do /Users/brinkley97/Documents/development/classes/csci_535_interpretable_emotion_recognition_from_audiovisual/opensmile/./SMILExtract SMILExtract -C /Users/brinkley97/Documents/development/classes/csci_535_interpretable_emotion_recognition_from_audiovisual/opensmile/config/features_to_extract/MFCC12_0_D_A.conf -I $f -O /Users/brinkley97/Documents/development/classes/csci_535_multimodal_probabilistic_learning/feature_extraction/open_smile_csv_output/${f%.*}.csv; done;"
   ]
  },
  {
   "cell_type": "code",
   "execution_count": null,
   "id": "ab0aab03-7eb0-4c12-a4f7-e4911f1dc2ab",
   "metadata": {},
   "outputs": [],
   "source": []
  },
  {
   "cell_type": "code",
   "execution_count": 174,
   "id": "5f607f0b-7658-44c8-b0f9-ea2faf12125e",
   "metadata": {},
   "outputs": [
    {
     "ename": "IndentationError",
     "evalue": "expected an indented block (1247255052.py, line 13)",
     "output_type": "error",
     "traceback": [
      "\u001b[0;36m  Cell \u001b[0;32mIn[174], line 13\u001b[0;36m\u001b[0m\n\u001b[0;31m    \u001b[0m\n\u001b[0m    ^\u001b[0m\n\u001b[0;31mIndentationError\u001b[0m\u001b[0;31m:\u001b[0m expected an indented block\n"
     ]
    }
   ],
   "source": [
    "crema_d_wav_files = 'csci_535_multimodal_probabilistic_learning/git_lfs/CREMA-D/AudioWAV/'\n",
    "wav_files_dir = path_to_development + crema_d_wav_files\n",
    "\n",
    "wav_files = os.listdir(wav_files_dir)\n",
    "total_wav_files = len(wav_files)\n",
    "print(total_wav_files)\n",
    "\n",
    "voiceFeatures = []\n",
    "\n",
    "# loop dir\n",
    "for wav_file in wav_files:\n",
    "    # print(wav_file)\n",
    "    \n"
   ]
  },
  {
   "cell_type": "code",
   "execution_count": null,
   "id": "65f32059-8aef-444d-8e69-29efd55396fa",
   "metadata": {},
   "outputs": [],
   "source": [
    "!echo hello > test1"
   ]
  },
  {
   "cell_type": "code",
   "execution_count": null,
   "id": "2c8fadf5-6921-4986-8c52-7ed8069ecd33",
   "metadata": {},
   "outputs": [],
   "source": [
    "!cat test1"
   ]
  },
  {
   "cell_type": "markdown",
   "id": "41c3f73d-f292-4afe-a77a-8fc5929ed8ee",
   "metadata": {},
   "source": [
    "## Read MFCC CSVs"
   ]
  },
  {
   "cell_type": "markdown",
   "id": "6adb1993-4856-447d-8919-abe22dd5e12b",
   "metadata": {},
   "source": [
    "## Plot MFCCs"
   ]
  },
  {
   "cell_type": "code",
   "execution_count": null,
   "id": "b83223ac-bf18-4d14-9594-c4942036f894",
   "metadata": {},
   "outputs": [],
   "source": []
  }
 ],
 "metadata": {
  "kernelspec": {
   "display_name": "Python 3",
   "language": "python",
   "name": "python3"
  },
  "language_info": {
   "codemirror_mode": {
    "name": "ipython",
    "version": 3
   },
   "file_extension": ".py",
   "mimetype": "text/x-python",
   "name": "python",
   "nbconvert_exporter": "python",
   "pygments_lexer": "ipython3",
   "version": "3.7.5"
  }
 },
 "nbformat": 4,
 "nbformat_minor": 5
}

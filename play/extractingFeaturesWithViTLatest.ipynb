{
 "cells": [
  {
   "cell_type": "markdown",
   "id": "526eb316-dbc5-4c1f-a440-f4a67ae15952",
   "metadata": {},
   "source": [
    "# Extract Features with ViT"
   ]
  },
  {
   "cell_type": "code",
   "execution_count": 1,
   "id": "09112eaf-3bcf-48d0-9b3e-e6c2ce8fbe0d",
   "metadata": {
    "tags": []
   },
   "outputs": [],
   "source": [
    "# !pip3 install torch"
   ]
  },
  {
   "cell_type": "code",
   "execution_count": 2,
   "id": "b29ee2b2-b24e-4794-8ed3-cd15f7f48e3f",
   "metadata": {},
   "outputs": [],
   "source": [
    "import os\n",
    "import sys\n",
    "import csv\n",
    "import pickle\n",
    "import torch\n",
    "\n",
    "import pandas as pd\n",
    "import numpy as np\n",
    "\n",
    "from transformers import ViTFeatureExtractor, ViTModel\n",
    "from PIL import Image"
   ]
  },
  {
   "cell_type": "markdown",
   "id": "dd3d81f1-7fcf-4000-887a-4849e6c689fb",
   "metadata": {},
   "source": [
    "# Load Data"
   ]
  },
  {
   "cell_type": "code",
   "execution_count": 3,
   "id": "44b83bf6-9f05-4f67-af09-4d00acd6546e",
   "metadata": {},
   "outputs": [],
   "source": [
    "BASE = '/Users/brinkley97/Documents/development/'\n",
    "CLASS_PATH = 'classes/csci_535_multimodal_probabilistic_learning/'\n",
    "DATASET_PATH = 'datasets/project/'"
   ]
  },
  {
   "cell_type": "code",
   "execution_count": 4,
   "id": "5980cb14-3d2d-4a58-b79e-e35c8a8ab83c",
   "metadata": {},
   "outputs": [],
   "source": [
    "def load_data(file):\n",
    "    original_data = pd.read_csv(file)\n",
    "    # original_data = pd.DataFrame(file)\n",
    "    copy_of_data = original_data.copy()\n",
    "    return copy_of_data"
   ]
  },
  {
   "cell_type": "code",
   "execution_count": 5,
   "id": "bfe23f02-b429-4dd9-865c-2603b5491d6f",
   "metadata": {},
   "outputs": [],
   "source": [
    "file_paths_msp_t = BASE + CLASS_PATH + DATASET_PATH + 'msp_t/all_paths_to_msp_t_faces.zip'"
   ]
  },
  {
   "cell_type": "code",
   "execution_count": 6,
   "id": "c29caf4d-28e4-4823-89cd-64ac9fdee71c",
   "metadata": {},
   "outputs": [],
   "source": [
    "dataset_paths_copy_msp_t = load_data(file_paths_msp_t)"
   ]
  },
  {
   "cell_type": "code",
   "execution_count": 7,
   "id": "afcc4322-233f-4cae-9256-38193f03fdc0",
   "metadata": {},
   "outputs": [
    {
     "data": {
      "text/html": [
       "<div>\n",
       "<style scoped>\n",
       "    .dataframe tbody tr th:only-of-type {\n",
       "        vertical-align: middle;\n",
       "    }\n",
       "\n",
       "    .dataframe tbody tr th {\n",
       "        vertical-align: top;\n",
       "    }\n",
       "\n",
       "    .dataframe thead th {\n",
       "        text-align: right;\n",
       "    }\n",
       "</style>\n",
       "<table border=\"1\" class=\"dataframe\">\n",
       "  <thead>\n",
       "    <tr style=\"text-align: right;\">\n",
       "      <th></th>\n",
       "      <th>Unnamed: 0</th>\n",
       "      <th>msp_t</th>\n",
       "    </tr>\n",
       "  </thead>\n",
       "  <tbody>\n",
       "    <tr>\n",
       "      <th>0</th>\n",
       "      <td>0</td>\n",
       "      <td>/Users/brinkley97/Documents/development/classe...</td>\n",
       "    </tr>\n",
       "    <tr>\n",
       "      <th>1</th>\n",
       "      <td>1</td>\n",
       "      <td>/Users/brinkley97/Documents/development/classe...</td>\n",
       "    </tr>\n",
       "    <tr>\n",
       "      <th>2</th>\n",
       "      <td>2</td>\n",
       "      <td>/Users/brinkley97/Documents/development/classe...</td>\n",
       "    </tr>\n",
       "    <tr>\n",
       "      <th>3</th>\n",
       "      <td>3</td>\n",
       "      <td>/Users/brinkley97/Documents/development/classe...</td>\n",
       "    </tr>\n",
       "    <tr>\n",
       "      <th>4</th>\n",
       "      <td>4</td>\n",
       "      <td>/Users/brinkley97/Documents/development/classe...</td>\n",
       "    </tr>\n",
       "    <tr>\n",
       "      <th>...</th>\n",
       "      <td>...</td>\n",
       "      <td>...</td>\n",
       "    </tr>\n",
       "    <tr>\n",
       "      <th>647</th>\n",
       "      <td>647</td>\n",
       "      <td>/Users/brinkley97/Documents/development/classe...</td>\n",
       "    </tr>\n",
       "    <tr>\n",
       "      <th>648</th>\n",
       "      <td>648</td>\n",
       "      <td>/Users/brinkley97/Documents/development/classe...</td>\n",
       "    </tr>\n",
       "    <tr>\n",
       "      <th>649</th>\n",
       "      <td>649</td>\n",
       "      <td>/Users/brinkley97/Documents/development/classe...</td>\n",
       "    </tr>\n",
       "    <tr>\n",
       "      <th>650</th>\n",
       "      <td>650</td>\n",
       "      <td>/Users/brinkley97/Documents/development/classe...</td>\n",
       "    </tr>\n",
       "    <tr>\n",
       "      <th>651</th>\n",
       "      <td>651</td>\n",
       "      <td>/Users/brinkley97/Documents/development/classe...</td>\n",
       "    </tr>\n",
       "  </tbody>\n",
       "</table>\n",
       "<p>652 rows × 2 columns</p>\n",
       "</div>"
      ],
      "text/plain": [
       "     Unnamed: 0                                              msp_t\n",
       "0             0  /Users/brinkley97/Documents/development/classe...\n",
       "1             1  /Users/brinkley97/Documents/development/classe...\n",
       "2             2  /Users/brinkley97/Documents/development/classe...\n",
       "3             3  /Users/brinkley97/Documents/development/classe...\n",
       "4             4  /Users/brinkley97/Documents/development/classe...\n",
       "..          ...                                                ...\n",
       "647         647  /Users/brinkley97/Documents/development/classe...\n",
       "648         648  /Users/brinkley97/Documents/development/classe...\n",
       "649         649  /Users/brinkley97/Documents/development/classe...\n",
       "650         650  /Users/brinkley97/Documents/development/classe...\n",
       "651         651  /Users/brinkley97/Documents/development/classe...\n",
       "\n",
       "[652 rows x 2 columns]"
      ]
     },
     "execution_count": 7,
     "metadata": {},
     "output_type": "execute_result"
    }
   ],
   "source": [
    "dataset_paths_copy_msp_t"
   ]
  },
  {
   "cell_type": "markdown",
   "id": "b5916135-24a5-4b51-ac43-dd6e50cbd829",
   "metadata": {},
   "source": [
    "# ViT"
   ]
  },
  {
   "cell_type": "code",
   "execution_count": 8,
   "id": "05ac2bd4-a77b-4ee9-975e-acf489d90cd7",
   "metadata": {},
   "outputs": [
    {
     "name": "stderr",
     "output_type": "stream",
     "text": [
      "/Users/brinkley97/opt/anaconda3/envs/extract_features_535/lib/python3.9/site-packages/transformers/models/vit/feature_extraction_vit.py:28: FutureWarning: The class ViTFeatureExtractor is deprecated and will be removed in version 5 of Transformers. Please use ViTImageProcessor instead.\n",
      "  warnings.warn(\n",
      "Some weights of ViTModel were not initialized from the model checkpoint at facebook/dino-vitb16 and are newly initialized: ['pooler.dense.bias', 'pooler.dense.weight']\n",
      "You should probably TRAIN this model on a down-stream task to be able to use it for predictions and inference.\n"
     ]
    }
   ],
   "source": [
    "feature_extractor = ViTFeatureExtractor.from_pretrained('facebook/dino-vitb16')\n",
    "model = ViTModel.from_pretrained('facebook/dino-vitb16')"
   ]
  },
  {
   "cell_type": "markdown",
   "id": "13a87f58-e031-4040-851f-c75c295cb10d",
   "metadata": {},
   "source": [
    "# Extract Features"
   ]
  },
  {
   "cell_type": "code",
   "execution_count": null,
   "id": "602d15c9-b808-431d-ab89-f2de8e6f0600",
   "metadata": {},
   "outputs": [],
   "source": [
    "# def extract_features(path_to_folders, path_to_save_extracted_features, save_file_name_msp_t):\n",
    "#     \"\"\"\n",
    "#     \"\"\"\n",
    "#     len(path_to_folders)\n",
    "    \n",
    "#     store_extracted_features_msp_t = []\n",
    "    \n",
    "#     for path_to_folders_idx in range(len(path_to_folders)):\n",
    "#         path_to_face_folder = path_to_folders[path_to_folders_idx]\n",
    "#         # print(path_to_folders_idx, path_to_face_folder)\n",
    "        \n",
    "#         specific_folder_name = path_to_face_folder[136:-24]\n",
    "#         print(path_to_folders_idx, specific_folder_name)\n",
    "#         save_extracted_features_path = path_to_save_extracted_features + specific_folder_name + '_extracted_features/'\n",
    "#         folder_exists = os.path.exists(save_extracted_features_path)\n",
    "        \n",
    "#         single_folder_all_faces = os.listdir(path_to_face_folder)\n",
    "#         store_folder_extracted_features = []\n",
    "        \n",
    "#         if folder_exists == False:\n",
    "#             # print('create folder')\n",
    "#             os.mkdir(save_extracted_features_path)\n",
    "        \n",
    "        \n",
    "        \n",
    "#             for single_folder_all_faces_idx in range(len(single_folder_all_faces)):\n",
    "#                 image_name = single_folder_all_faces[single_folder_all_faces_idx]\n",
    "\n",
    "#                 path_to_image = path_to_face_folder + image_name\n",
    "#                 image = Image.open(path_to_image)\n",
    "\n",
    "#                 inputs = feature_extractor(images=image, return_tensors=\"pt\")\n",
    "#                 outputs = model(**inputs)\n",
    "#                 last_hidden_states = outputs.last_hidden_state\n",
    "                \n",
    "#                 create_image_name = image_name[:-4]\n",
    "#                 save_extracted_feature = save_extracted_features_path + create_image_name + '_' + save_file_name_msp_t\n",
    "#                 # print(save_extracted_feature)\n",
    "#                 torch.save(last_hidden_states, save_extracted_feature)\n",
    "\n",
    "#                 store_folder_extracted_features.append(last_hidden_states)\n",
    "#         store_extracted_features_msp_t.append(store_folder_extracted_features)\n",
    "    \n",
    "#     return store_extracted_features_msp_t"
   ]
  },
  {
   "cell_type": "code",
   "execution_count": null,
   "id": "ed288c02-9047-4849-9b0e-71767c4ddc6d",
   "metadata": {},
   "outputs": [],
   "source": [
    "msp_t_faces = dataset_paths_copy_msp_t['msp_t']\n",
    "list_msp_t_faces = list(msp_t_faces)\n",
    "# list_msp_t_faces"
   ]
  },
  {
   "cell_type": "code",
   "execution_count": null,
   "id": "4b994975-bb6f-4ce0-97a4-d41528c87f67",
   "metadata": {},
   "outputs": [],
   "source": [
    "save_extracted_features_msp_t = BASE + CLASS_PATH + DATASET_PATH + 'msp_t/extracted_features_vit_msp_t/'\n",
    "save_file_name_msp_t = 'resnet_extracted_features_msp_t.pt'"
   ]
  },
  {
   "cell_type": "code",
   "execution_count": null,
   "id": "91947098-7378-4d67-b371-f166384f2c04",
   "metadata": {},
   "outputs": [],
   "source": [
    "# NOT Locally"
   ]
  },
  {
   "cell_type": "code",
   "execution_count": 9,
   "id": "a6d8335d-40c2-48f6-97b5-9d1b98a3e078",
   "metadata": {},
   "outputs": [
    {
     "data": {
      "text/plain": [
       "'/Users/brinkley97/Documents/development/classes/csci_535_multimodal_probabilistic_learning/datasets/project/msp_t/extracted_features_vit_msp_t/save_vit_extracted_features_msp_t'"
      ]
     },
     "execution_count": 9,
     "metadata": {},
     "output_type": "execute_result"
    }
   ],
   "source": [
    "save_vit_extracted_features_msp_t = BASE + CLASS_PATH + DATASET_PATH + 'msp_t/extracted_features_vit_msp_t/save_vit_extracted_features_msp_t'\n",
    "save_vit_extracted_features_msp_t"
   ]
  },
  {
   "cell_type": "code",
   "execution_count": 10,
   "id": "fa72d392-a27e-4f91-8845-b917d0d168f2",
   "metadata": {},
   "outputs": [],
   "source": [
    "# save_vit_extracted_features_msp_t2 = BASE + CLASS_PATH + DATASET_PATH + 'msp_t/extracted_features_vit_msp_t/save_vit_extracted_features_msp_t2'\n"
   ]
  },
  {
   "cell_type": "code",
   "execution_count": 11,
   "id": "0eb6d30e-bb24-4999-ac5b-2482efde7b97",
   "metadata": {},
   "outputs": [],
   "source": [
    "def write_list(list_to_save, file):\n",
    "    \n",
    "    # store list in binary file so 'wb' mode\n",
    "    with open(file, 'wb') as fp:\n",
    "        pickle.dump(list_to_save, fp)\n",
    "        # print('Done writing list into a binary file')"
   ]
  },
  {
   "cell_type": "code",
   "execution_count": 12,
   "id": "29d3b730-7318-4e51-bb91-f751bf156394",
   "metadata": {},
   "outputs": [],
   "source": [
    "def extract_features(path_to_folders, store_extracted_features_file):\n",
    "    \"\"\"\n",
    "    \"\"\"\n",
    "    len(path_to_folders)\n",
    "    \n",
    "    store_extracted_features_msp_t = []\n",
    "    store_folder_extracted_features = []\n",
    "\n",
    "    for path_to_folders_idx in range(len(path_to_folders)):\n",
    "        path_to_face_folder = path_to_folders[path_to_folders_idx]\n",
    "        print(path_to_folders_idx, path_to_face_folder)\n",
    "        \n",
    "        single_folder_all_faces = os.listdir(path_to_face_folder)\n",
    "        \n",
    "       \n",
    "        for single_folder_all_faces_idx in range(len(single_folder_all_faces)):\n",
    "            image_name = single_folder_all_faces[single_folder_all_faces_idx]\n",
    "\n",
    "            path_to_image = path_to_face_folder + image_name\n",
    "            image = Image.open(path_to_image)\n",
    "\n",
    "            inputs = feature_extractor(images=image, return_tensors=\"pt\")\n",
    "            outputs = model(**inputs)\n",
    "            last_hidden_states = outputs.last_hidden_state \n",
    "            store_folder_extracted_features.append(last_hidden_states)\n",
    "            \n",
    "        store_extracted_features_msp_t.append(store_folder_extracted_features)\n",
    "        write_list(store_extracted_features_msp_t, store_extracted_features_file)\n",
    "    \n",
    "    return store_extracted_features_msp_t"
   ]
  },
  {
   "cell_type": "code",
   "execution_count": 13,
   "id": "d961df16-b10f-4693-86fb-d760e125a631",
   "metadata": {},
   "outputs": [],
   "source": [
    "msp_t_faces = dataset_paths_copy_msp_t['msp_t']\n",
    "list_msp_t_faces = list(msp_t_faces)\n",
    "# list_msp_t_faces"
   ]
  },
  {
   "cell_type": "code",
   "execution_count": null,
   "id": "a2affa2d-a18c-4544-b731-a7665ba73ad5",
   "metadata": {},
   "outputs": [
    {
     "name": "stdout",
     "output_type": "stream",
     "text": [
      "0 /Users/brinkley97/Documents/development/classes/csci_535_multimodal_probabilistic_learning/datasets/project/msp_t/frames_to_faces_msp_t/MSP-IMPROV-S04A-F01-T-FM01_frames_to_cropped_face/\n",
      "1 /Users/brinkley97/Documents/development/classes/csci_535_multimodal_probabilistic_learning/datasets/project/msp_t/frames_to_faces_msp_t/MSP-IMPROV-S12A-M02-T-MF01_frames_to_cropped_face/\n",
      "2 /Users/brinkley97/Documents/development/classes/csci_535_multimodal_probabilistic_learning/datasets/project/msp_t/frames_to_faces_msp_t/MSP-IMPROV-S06H-M01-T-MF01_frames_to_cropped_face/\n",
      "3 /Users/brinkley97/Documents/development/classes/csci_535_multimodal_probabilistic_learning/datasets/project/msp_t/frames_to_faces_msp_t/MSP-IMPROV-S10S-F06-T-FM01_frames_to_cropped_face/\n",
      "4 /Users/brinkley97/Documents/development/classes/csci_535_multimodal_probabilistic_learning/datasets/project/msp_t/frames_to_faces_msp_t/MSP-IMPROV-S04N-F06-T-FM01_frames_to_cropped_face/\n",
      "5 /Users/brinkley97/Documents/development/classes/csci_535_multimodal_probabilistic_learning/datasets/project/msp_t/frames_to_faces_msp_t/MSP-IMPROV-S14S-F04-T-FM01_frames_to_cropped_face/\n",
      "6 /Users/brinkley97/Documents/development/classes/csci_535_multimodal_probabilistic_learning/datasets/project/msp_t/frames_to_faces_msp_t/MSP-IMPROV-S02H-M03-T-MF01_frames_to_cropped_face/\n",
      "7 /Users/brinkley97/Documents/development/classes/csci_535_multimodal_probabilistic_learning/datasets/project/msp_t/frames_to_faces_msp_t/MSP-IMPROV-S06S-M05-T-MF01_frames_to_cropped_face/\n",
      "8 /Users/brinkley97/Documents/development/classes/csci_535_multimodal_probabilistic_learning/datasets/project/msp_t/frames_to_faces_msp_t/MSP-IMPROV-S10H-F02-T-FM01_frames_to_cropped_face/\n",
      "9 /Users/brinkley97/Documents/development/classes/csci_535_multimodal_probabilistic_learning/datasets/project/msp_t/frames_to_faces_msp_t/MSP-IMPROV-S12N-M05-T-MF01_frames_to_cropped_face/\n",
      "10 /Users/brinkley97/Documents/development/classes/csci_535_multimodal_probabilistic_learning/datasets/project/msp_t/frames_to_faces_msp_t/MSP-IMPROV-S07N-F02-T-FM01_frames_to_cropped_face/\n",
      "11 /Users/brinkley97/Documents/development/classes/csci_535_multimodal_probabilistic_learning/datasets/project/msp_t/frames_to_faces_msp_t/MSP-IMPROV-S01S-M03-T-MF01_frames_to_cropped_face/\n",
      "12 /Users/brinkley97/Documents/development/classes/csci_535_multimodal_probabilistic_learning/datasets/project/msp_t/frames_to_faces_msp_t/MSP-IMPROV-S05H-M05-T-MF01_frames_to_cropped_face/\n",
      "13 /Users/brinkley97/Documents/development/classes/csci_535_multimodal_probabilistic_learning/datasets/project/msp_t/frames_to_faces_msp_t/MSP-IMPROV-S13S-F02-T-FM01_frames_to_cropped_face/\n",
      "14 /Users/brinkley97/Documents/development/classes/csci_535_multimodal_probabilistic_learning/datasets/project/msp_t/frames_to_faces_msp_t/MSP-IMPROV-S05S-M01-T-MF01_frames_to_cropped_face/\n"
     ]
    }
   ],
   "source": [
    "extracted_features_msp_t = extract_features(list_msp_t_faces, save_vit_extracted_features_msp_t)"
   ]
  },
  {
   "cell_type": "code",
   "execution_count": null,
   "id": "90507b0e-4160-46e3-bd46-9f0dd6835e92",
   "metadata": {},
   "outputs": [],
   "source": [
    "len(extracted_features_msp_t)"
   ]
  },
  {
   "cell_type": "code",
   "execution_count": null,
   "id": "7bd15407-ce43-405c-bf8c-1ce65738cddc",
   "metadata": {},
   "outputs": [],
   "source": [
    "len(extracted_features_msp_t[0]), len(extracted_features_msp_t[1])"
   ]
  },
  {
   "cell_type": "code",
   "execution_count": null,
   "id": "f19a54ee-59ea-4a7e-9d45-17619d83c3c2",
   "metadata": {},
   "outputs": [],
   "source": [
    "# extracted_features_msp_t[0][4].shape, extracted_features_msp_t[0][4].shape, extracted_features_msp_t[0][4].shape, extracted_features_msp_t[0][4].shape"
   ]
  },
  {
   "cell_type": "code",
   "execution_count": null,
   "id": "2c79644a-099c-4b0a-8b6a-842fcf2fe5ae",
   "metadata": {},
   "outputs": [],
   "source": [
    "# Read list to memory\n",
    "def read_list(list_of_features):\n",
    "    # for reading also binary mode is important\n",
    "    with open(list_of_features, 'rb') as fp:\n",
    "        n_list = pickle.load(fp)\n",
    "        return n_list"
   ]
  },
  {
   "cell_type": "code",
   "execution_count": null,
   "id": "35587616-3988-493f-a19d-2e5326c5e2b1",
   "metadata": {},
   "outputs": [],
   "source": [
    "reading = read_list(save_vit_extracted_features_msp_t)"
   ]
  },
  {
   "cell_type": "code",
   "execution_count": null,
   "id": "97d70e99-b95e-46cb-8d1a-965c00654cb4",
   "metadata": {},
   "outputs": [],
   "source": [
    "len(reading)"
   ]
  },
  {
   "cell_type": "code",
   "execution_count": null,
   "id": "fe616764-a577-4e0e-a2ad-ca5738bd60a9",
   "metadata": {},
   "outputs": [],
   "source": [
    "reading = read_list(save_vit_extracted_features_msp_t2)"
   ]
  },
  {
   "cell_type": "code",
   "execution_count": null,
   "id": "aa32b814-0e41-4bd3-8a1b-34e0da0a2cce",
   "metadata": {},
   "outputs": [],
   "source": [
    "len(reading[0])"
   ]
  },
  {
   "cell_type": "code",
   "execution_count": null,
   "id": "33b50a4c-7579-46b4-9cc1-dfa555c01ad6",
   "metadata": {},
   "outputs": [],
   "source": []
  },
  {
   "cell_type": "code",
   "execution_count": null,
   "id": "69bf3768-604c-4cf5-88e0-5eb9f49f52e3",
   "metadata": {},
   "outputs": [],
   "source": []
  },
  {
   "cell_type": "code",
   "execution_count": null,
   "id": "35f212ce-588d-404d-9bc5-57590797b6ca",
   "metadata": {},
   "outputs": [],
   "source": [
    "stop timer"
   ]
  }
 ],
 "metadata": {
  "kernelspec": {
   "display_name": "Python 3 (ipykernel)",
   "language": "python",
   "name": "python3"
  },
  "language_info": {
   "codemirror_mode": {
    "name": "ipython",
    "version": 3
   },
   "file_extension": ".py",
   "mimetype": "text/x-python",
   "name": "python",
   "nbconvert_exporter": "python",
   "pygments_lexer": "ipython3",
   "version": "3.9.12"
  }
 },
 "nbformat": 4,
 "nbformat_minor": 5
}

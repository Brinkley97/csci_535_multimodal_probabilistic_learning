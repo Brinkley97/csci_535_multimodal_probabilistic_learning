{
 "cells": [
  {
   "cell_type": "markdown",
   "id": "85074237-6393-45da-8888-b6f48838018f",
   "metadata": {},
   "source": [
    "# Convert Video to Frames\n",
    "- moviepy: https://www.thepythoncode.com/article/extract-frames-from-videos-in-python"
   ]
  },
  {
   "cell_type": "code",
   "execution_count": 2,
   "id": "703eb9e1-be72-4762-a8a7-5980c35b2dbe",
   "metadata": {},
   "outputs": [
    {
     "name": "stdout",
     "output_type": "stream",
     "text": [
      "\u001b[31mERROR: Could not find a version that satisfies the requirement opencv (from versions: none)\u001b[0m\n",
      "\u001b[31mERROR: No matching distribution found for opencv\u001b[0m\n"
     ]
    }
   ],
   "source": [
    "# !pip install moviepy"
   ]
  },
  {
   "cell_type": "code",
   "execution_count": 1,
   "id": "3a98106b-cfb9-4fc6-829d-b0e3e8ed1302",
   "metadata": {},
   "outputs": [
    {
     "ename": "ModuleNotFoundError",
     "evalue": "No module named 'cv2'",
     "output_type": "error",
     "traceback": [
      "\u001b[0;31m---------------------------------------------------------------------------\u001b[0m",
      "\u001b[0;31mModuleNotFoundError\u001b[0m                       Traceback (most recent call last)",
      "Input \u001b[0;32mIn [1]\u001b[0m, in \u001b[0;36m<cell line: 2>\u001b[0;34m()\u001b[0m\n\u001b[1;32m      1\u001b[0m \u001b[38;5;28;01mimport\u001b[39;00m \u001b[38;5;21;01mos\u001b[39;00m\n\u001b[0;32m----> 2\u001b[0m \u001b[38;5;28;01mimport\u001b[39;00m \u001b[38;5;21;01mcv2\u001b[39;00m\n\u001b[1;32m      4\u001b[0m \u001b[38;5;28;01mimport\u001b[39;00m \u001b[38;5;21;01mnumpy\u001b[39;00m \u001b[38;5;28;01mas\u001b[39;00m \u001b[38;5;21;01mnp\u001b[39;00m\n\u001b[1;32m      6\u001b[0m \u001b[38;5;28;01mfrom\u001b[39;00m \u001b[38;5;21;01mdatetime\u001b[39;00m \u001b[38;5;28;01mimport\u001b[39;00m timedelta\n",
      "\u001b[0;31mModuleNotFoundError\u001b[0m: No module named 'cv2'"
     ]
    }
   ],
   "source": [
    "import os\n",
    "import cv2\n",
    "\n",
    "import numpy as np\n",
    "\n",
    "from datetime import timedelta\n",
    "from moviepy.editor import VideoFileClip\n"
   ]
  },
  {
   "cell_type": "code",
   "execution_count": null,
   "id": "734058e4-7dd1-4f83-a9d2-ceb562f67a30",
   "metadata": {},
   "outputs": [],
   "source": [
    "BASE = '/Users/brinkley97/Documents/development/'\n",
    "CLASS_PATH = 'classes/csci_535_multimodal_probabilistic_learning/'\n",
    "DATASET_PATH = 'datasets/project/'"
   ]
  },
  {
   "cell_type": "code",
   "execution_count": null,
   "id": "ce33b384-7485-4ed9-a508-a110ac72b368",
   "metadata": {},
   "outputs": [],
   "source": [
    "# def save_frames_to_file_open_cv(vidcap, video_frames_path, video):\n",
    "#     \"\"\"\n",
    "\n",
    "#     vidcap -- cv video\n",
    "#     video_frames_path -- str (path to save videos)\n",
    "\n",
    "#     \"\"\"\n",
    "#     success, image = vidcap.read()\n",
    "#     count = 0\n",
    "#     path_empty = os.listdir(video_frames_path)\n",
    "\n",
    "#     # Checking if the list is empty or not\n",
    "#     if len(path_empty) == 0:\n",
    "#       # print(\"Empty directory\")\n",
    "#       while success:\n",
    "#         # print(video_frames_path + video + \"frame%d.jpg\")\n",
    "#         # save frame as JPEG file\n",
    "#         cv2.imwrite(video_frames_path + video + \"_frame%d.jpg\" % count, image)\n",
    "#         success, image = vidcap.read()\n",
    "#         # print('Read a new frame: ', success)\n",
    "#         count += 1\n",
    "#     else:\n",
    "#         pass\n",
    "    "
   ]
  },
  {
   "cell_type": "code",
   "execution_count": null,
   "id": "e6798827-812e-41e6-9342-43cdcb2225b3",
   "metadata": {},
   "outputs": [],
   "source": [
    "def format_timedelta_moviepy(td):\n",
    "    \"\"\"Utility function to format timedelta objects in a cool way (e.g 00:00:20.05) omitting microseconds and retaining milliseconds\"\"\"\n",
    "    result = str(td)\n",
    "    try:\n",
    "        result, ms = result.split(\".\")\n",
    "    except ValueError:\n",
    "        return (result + \".00\").replace(\":\", \"-\")\n",
    "    ms = int(ms)\n",
    "    ms = round(ms / 1e4)\n",
    "    return f\"{result}.{ms:02}\".replace(\":\", \"-\")"
   ]
  },
  {
   "cell_type": "code",
   "execution_count": null,
   "id": "56d2c8a9-dff0-415e-8b12-4b83d51b34f0",
   "metadata": {},
   "outputs": [],
   "source": [
    "def save_frames_to_file_moviepy(video_file, save_path, video_name):\n",
    "    \"\"\"\n",
    "    \"\"\"\n",
    "    count = 0\n",
    "    # load the video clip\n",
    "    video_clip = VideoFileClip(video_file)\n",
    "    print(video_clip.fps)\n",
    "    \n",
    "    SAVING_FRAMES_PER_SECOND = 100\n",
    "    # if the SAVING_FRAMES_PER_SECOND is above video FPS, then set it to FPS (as maximum)\n",
    "    saving_frames_per_second = min(video_clip.fps, SAVING_FRAMES_PER_SECOND)\n",
    "    \n",
    "    \n",
    "    # if SAVING_FRAMES_PER_SECOND is set to 0, step is 1/fps, else 1/SAVING_FRAMES_PER_SECOND\n",
    "    step = 1 / video_clip.fps if saving_frames_per_second == 0 else 1 / saving_frames_per_second\n",
    "    \n",
    "    # iterate over each possible frame\n",
    "    for current_duration in np.arange(0, video_clip.duration, step):\n",
    "        # print(current_duration)\n",
    "        # format the file name and save it\n",
    "        frame_duration_formatted = format_timedelta_moviepy(timedelta(seconds=current_duration))\n",
    "        # frame_filename = os.path.join(filename, f\"frame{frame_duration_formatted}.jpg\")\n",
    "        \n",
    "        save_video_file_name = save_path + video_name + \"_frame%d.jpg\" % count\n",
    "        print(save_video_file_name)\n",
    "        # save the frame with the current duration\n",
    "        video_clip.save_frame(save_video_file_name, current_duration)\n",
    "        count += 1"
   ]
  },
  {
   "cell_type": "code",
   "execution_count": null,
   "id": "63545f56-0fbf-4d91-8f58-b1af87196d47",
   "metadata": {},
   "outputs": [],
   "source": [
    "def get_video(video_dir, videos, new_path):\n",
    "    '''\n",
    "    video_dir -- py str (of the path where the videos are located)\n",
    "    videos -- py list (of all videos in video_dir)\n",
    "    new_path -- py str (of where to save the frames)\n",
    "    \n",
    "    change file extension for \n",
    "    -- IPD to .mp4\n",
    "    -- CREMA-D to .flv\n",
    "    -- MSP to .avi\n",
    "    '''\n",
    "\n",
    "    for video_idx in range(len(videos)):\n",
    "        video = videos[video_idx]\n",
    "        \n",
    "        if video.endswith('.avi'):\n",
    "            print(video_idx, video)\n",
    "            # print(video)\n",
    "            video_name = os.path.splitext(video)[0]\n",
    "            # print(video_name)\n",
    "            \n",
    "            save_video_frames_path = new_path + video_name + \"_frames/\"\n",
    "            # print(video_frames_path)\n",
    "            \n",
    "            folder_exists = os.path.exists(save_video_frames_path)\n",
    "            # print(folder_exists)\n",
    "\n",
    "            if folder_exists == False:\n",
    "                # print('create folder')\n",
    "                os.mkdir(save_video_frames_path)\n",
    "\n",
    "                '''\n",
    "                CREMA-D\n",
    "                '''\n",
    "                # cd_video_file = video_dir + video\n",
    "                # # print(cd_video_file)\n",
    "                # vidcap = cv2.VideoCapture(cd_video_file)\n",
    "                # save_frames_to_file_open_cv(vidcap, save_video_frames_path, video_name)\n",
    "\n",
    "                '''\n",
    "                MSP\n",
    "                '''\n",
    "                \n",
    "                # opencv\n",
    "                # msp_video_file = video_dir + video\n",
    "                # print(msp_video_file)\n",
    "                # vidcap = cv2.VideoCapture(cd_video_file)\n",
    "                # save_frames_to_file_open_cv(vidcap, save_video_frames_path, video_name)\n",
    "                \n",
    "                # moviepy\n",
    "                msp_video_file = video_dir + video\n",
    "                save_frames_to_file_moviepy(msp_video_file, save_video_frames_path, video_name)\n",
    "            else:\n",
    "                print('dont create folder', video_name)\n",
    "                '''\n",
    "                CREMA-D\n",
    "                '''\n",
    "                # cd_video_file_2 = video_dir + video\n",
    "                # # print(cd_video_file)\n",
    "                # vidcap_2 = cv2.VideoCapture(cd_video_file_2)\n",
    "                # save_frames_to_file_open_cv(vidcap_2, video_frames_path, video_name)"
   ]
  },
  {
   "cell_type": "code",
   "execution_count": null,
   "id": "cf0ea1f8-a3d6-46ce-9b16-2501aad4b829",
   "metadata": {},
   "outputs": [],
   "source": [
    "# !git lfs clone https://github.com/CheyneyComputerScience/CREMA-D.git"
   ]
  },
  {
   "cell_type": "code",
   "execution_count": null,
   "id": "c83314ae-947a-4af3-93ca-8db033cf8cb2",
   "metadata": {},
   "outputs": [],
   "source": [
    "# # crema_d_video_dir = \"CREMA-D/sample_VideoFlash/\"\n",
    "# crema_d_video_dir = BASE + CLASS_PATH + DATASET_PATH + 'sample_VideoFlash/'\n",
    "\n",
    "# # print(crema_d_video_dir)\n",
    "# crema_d_videos = os.listdir(crema_d_video_dir)\n",
    "# # print(len(crema_d_videos))\n",
    "\n",
    "\n",
    "# # new_path = BASE + CLASS_PATH + DATASET_PATH + 'crema_d/videos_to_frames_c_d/' \n",
    "# new_path = BASE + CLASS_PATH + DATASET_PATH + 'sample_crema_d/videos_to_frames/' \n",
    "\n",
    "# # print(\"New path: \", new_path)\n",
    "\n",
    "# # print(crema_d_video_dir)\n",
    "# # print(crema_d_videos)\n",
    "\n",
    "# get_video(crema_d_video_dir, crema_d_videos, new_path) "
   ]
  },
  {
   "cell_type": "code",
   "execution_count": null,
   "id": "a7e07117-9fc1-4167-9e43-9d46ef0d12e2",
   "metadata": {},
   "outputs": [],
   "source": [
    "# directory of MSP videos -- good to run\n",
    "\n",
    "r_video_dir = BASE + CLASS_PATH + DATASET_PATH + 'msp_r/r_videos/'\n",
    "# print(r_video_dir)\n",
    "r_videos = os.listdir(r_video_dir)\n",
    "# print(r_videos)\n",
    "\n",
    "new_path = BASE + CLASS_PATH + DATASET_PATH + 'msp_r/videos_to_frames_msp_r/' \n",
    "\n",
    "# get_video(r_video_dir, r_videos, new_path) "
   ]
  },
  {
   "cell_type": "code",
   "execution_count": null,
   "id": "35054be9-e682-4381-9307-fa90b66171af",
   "metadata": {},
   "outputs": [],
   "source": [
    "# directory of MSP videos -- good to run\n",
    "\n",
    "t_video_dir = BASE + CLASS_PATH + DATASET_PATH + 'msp_t/t_videos/'\n",
    "# print(t_video_dir)\n",
    "t_videos = os.listdir(t_video_dir)\n",
    "# print(t_videos)\n",
    "\n",
    "new_path = BASE + CLASS_PATH + DATASET_PATH + 'msp_t/videos_to_frames_msp_t_moviepy/' \n",
    "\n",
    "get_video(t_video_dir, t_videos, new_path) "
   ]
  },
  {
   "cell_type": "code",
   "execution_count": null,
   "id": "e83873ea-e8f2-4f09-a975-668f899a153c",
   "metadata": {},
   "outputs": [],
   "source": []
  }
 ],
 "metadata": {
  "kernelspec": {
   "display_name": "Python 3 (ipykernel)",
   "language": "python",
   "name": "python3"
  },
  "language_info": {
   "codemirror_mode": {
    "name": "ipython",
    "version": 3
   },
   "file_extension": ".py",
   "mimetype": "text/x-python",
   "name": "python",
   "nbconvert_exporter": "python",
   "pygments_lexer": "ipython3",
   "version": "3.9.12"
  }
 },
 "nbformat": 4,
 "nbformat_minor": 5
}

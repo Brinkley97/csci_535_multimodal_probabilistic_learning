{
 "cells": [
  {
   "cell_type": "markdown",
   "id": "7e79fb63-a451-4698-8ef0-208e6806b122",
   "metadata": {},
   "source": [
    "# HW 2 Multimodal Machine Learning for Emotion Recognition\n",
    "\n",
    "- main with sub notebooks\n",
    "    1. audio (acoustic) \n",
    "    2. text (lexical) \n",
    "    3. visual (this notebook)\n",
    "    \n",
    "- `%load` and `%run` with [cell magic](https://ipython.readthedocs.io/en/stable/interactive/magics.html#magic-load): This allows us to get code from another notebook"
   ]
  },
  {
   "cell_type": "code",
   "execution_count": 3,
   "id": "db78a5cf-1064-4bed-869f-47a900287f34",
   "metadata": {},
   "outputs": [],
   "source": [
    "main_notebook = 'main.ipynb'"
   ]
  },
  {
   "cell_type": "code",
   "execution_count": 4,
   "id": "589c0619-e7d7-4942-9097-1bdd9818be15",
   "metadata": {},
   "outputs": [],
   "source": [
    "# %load main_notebook\n",
    "main.ipynb"
   ]
  },
  {
   "cell_type": "code",
   "execution_count": 5,
   "id": "13001ba1-b17e-4054-977e-a5af0910f597",
   "metadata": {},
   "outputs": [],
   "source": [
    "%run 'main.ipynb'"
   ]
  },
  {
   "cell_type": "markdown",
   "id": "52f71f33-1c24-4e47-86c5-cbaa071a2e87",
   "metadata": {},
   "source": [
    "# TODOS"
   ]
  },
  {
   "cell_type": "markdown",
   "id": "ae72a042-0bd5-4728-af79-fdb1ca54bbaf",
   "metadata": {},
   "source": [
    "## Load Data"
   ]
  },
  {
   "cell_type": "markdown",
   "id": "c2a01692-36e2-45ca-9504-932cf84ca286",
   "metadata": {},
   "source": [
    "- If video, the original video will be a 3D with a T dimension. This specific case, we have a 2D of (T, 2048) which is based on the ResNet encoder"
   ]
  },
  {
   "cell_type": "code",
   "execution_count": 8,
   "id": "d1d90de4-7088-46b2-a5c9-de10f93a9bad",
   "metadata": {},
   "outputs": [],
   "source": [
    "# visual_features_paths"
   ]
  },
  {
   "cell_type": "code",
   "execution_count": 9,
   "id": "6ff97cf8-1eea-4509-ac02-1f166a683252",
   "metadata": {},
   "outputs": [],
   "source": [
    "ys = features_with_y.loc[0:, 'emotion_labels']\n",
    "# ys"
   ]
  },
  {
   "cell_type": "markdown",
   "id": "2833d81e-07e6-4558-8cd0-1750afc0e953",
   "metadata": {},
   "source": [
    "## 1. Reduce Temporal Dimension"
   ]
  },
  {
   "cell_type": "code",
   "execution_count": 10,
   "id": "a974ad6e-8199-4326-bbef-9e676b470963",
   "metadata": {},
   "outputs": [],
   "source": [
    "def reduce_temporal_dimension(visual_features_paths, ys):\n",
    "    \"\"\"Reduce from 2D to 1D by removing the time dimension\n",
    "    \n",
    "    visual_features_paths -- list\n",
    "    \n",
    "    Return \n",
    "    reduced shapes of each input -- list\n",
    "    \"\"\"\n",
    "    reduced_visual_features = []\n",
    "    true_labels = []\n",
    "    \n",
    "    for row in range(len(visual_features_paths)):\n",
    "        # print(ys[row])\n",
    "        # print(\"Current path with files is: \", visual_features_path)\n",
    "        path_exists = os.path.exists(visual_features_paths[row])\n",
    "        # print(path_exists)\n",
    "        if path_exists == True:\n",
    "            # print(\"Current path with files is: \", visual_features_path)\n",
    "            load_visual_features_file = np.load(visual_features_paths[row])\n",
    "            # print(\"  Original Shape: \", np.shape(load_visual_features_file))\n",
    "            resampled_visual = np.mean(load_visual_features_file, axis=0)\n",
    "            reduced_visual_features.append(resampled_visual)\n",
    "            # print(\"  Reduced shape: \", np.shape(resampled_visual))\n",
    "            # print()\n",
    "            true_labels.append(ys[row])\n",
    "        else:\n",
    "            # print()\n",
    "            \n",
    "            # print(\"\\nCANNOT find current path: \", visual_features_paths[row])\n",
    "            # print(\"DoNOT include\", ys[row])\n",
    "            pass\n",
    "    return reduced_visual_features, true_labels"
   ]
  },
  {
   "cell_type": "code",
   "execution_count": 11,
   "id": "ad03533c-25ec-4440-954b-2c7975ee827d",
   "metadata": {},
   "outputs": [
    {
     "data": {
      "text/plain": [
       "((1003, 2048), (1003,))"
      ]
     },
     "execution_count": 11,
     "metadata": {},
     "output_type": "execute_result"
    }
   ],
   "source": [
    "reduced_temporal_dimensions, true_labels = reduce_temporal_dimension(visual_features_paths, ys)\n",
    "np.shape(reduced_temporal_dimensions), np.shape(true_labels)"
   ]
  },
  {
   "cell_type": "markdown",
   "id": "c6b25023-871b-487a-83b2-67930ee8f389",
   "metadata": {},
   "source": [
    "## 2. Perform a 4-Class Emotion Classification\n",
    "\n",
    "See my [HW 2 Notes](https://detraviousjbrinkley.notion.site/HW-2-Multimodal-Machine-Learning-for-Emotion-Recognition-4967e03039b04f20907996de25f6068a) for more details on \n",
    "1. Support Vector Machine (SVM)\n",
    "2. Support Vector Classification (SVC)\n",
    "3. Note that LinearSVC does not accept parameter kernel, as this is assumed to be linear per the [SVM documentation](https://scikit-learn.org/stable/modules/svm.html#multi-class-classification)"
   ]
  },
  {
   "cell_type": "markdown",
   "id": "7d51eecf-5f47-4a76-9bbf-5f6cb5f0cae7",
   "metadata": {},
   "source": [
    "### Split Data\n",
    "`train_test_split` from https://datascience.stackexchange.com/questions/15135/train-test-validation-set-splitting-in-sklearn"
   ]
  },
  {
   "cell_type": "code",
   "execution_count": 12,
   "id": "a30f680d-0e65-43cc-afaa-9ac3b6dcdfe8",
   "metadata": {},
   "outputs": [
    {
     "data": {
      "text/plain": [
       "(300, 703, 300, 703, 1003, 1003)"
      ]
     },
     "execution_count": 12,
     "metadata": {},
     "output_type": "execute_result"
    }
   ],
   "source": [
    "X_train, X_test, y_train, y_test = train_test_split(reduced_temporal_dimensions, true_labels, test_size=0.7, random_state=42)\n",
    "total_X = len(X_train) + len(X_test)\n",
    "total_Y = len(y_train) + len(y_test)\n",
    "len(X_train), len(X_test), len(y_train), len(y_test), total_X, total_Y"
   ]
  },
  {
   "cell_type": "code",
   "execution_count": 13,
   "id": "8b163fa8-4456-4e4b-b936-31888fcf44cc",
   "metadata": {},
   "outputs": [
    {
     "data": {
      "text/plain": [
       "(90, 210, 90, 210, 300, 300)"
      ]
     },
     "execution_count": 13,
     "metadata": {},
     "output_type": "execute_result"
    }
   ],
   "source": [
    "X_train, X_val, y_train, y_val = train_test_split(X_train, y_train, test_size=0.7, random_state=42) # 0.25 x 0.8 = 0.2\n",
    "total_X = len(X_train) + len(X_val)\n",
    "total_Y = len(y_train) + len(y_val)\n",
    "len(X_train), len(X_val), len(y_train), len(y_val), total_X, total_Y"
   ]
  },
  {
   "cell_type": "markdown",
   "id": "1c57deba-e857-4139-822e-e39c98a87fdb",
   "metadata": {},
   "source": [
    "### Without Hyper-Parameter Tuning\n",
    "\n",
    "- `score()` uses coefficient of determination. The coefficient will have a value in the range [0, 1], where 0 implies that we cannot predict the target output correctly, while a value of 1 implies we can perfectly predict the output with no error. Read more: (1) https://pyimagesearch.com/2021/05/17/introduction-to-hyperparameter-tuning-with-scikit-learn-and-python/ or (2) https://stattrek.com/statistics/dictionary?definition=coefficient_of_determination\n",
    "\n",
    "- Output of `score()` shows that we obtain a coefficient of determination value of 1, meaning that 100% of the variance in Y (our 4 different emotion classes) is predictable based on X (our **visual** feature values)"
   ]
  },
  {
   "cell_type": "code",
   "execution_count": 46,
   "id": "ad824dc9-eece-4c56-be35-4b6319901aaf",
   "metadata": {},
   "outputs": [
    {
     "name": "stdout",
     "output_type": "stream",
     "text": [
      "[INFO] training our linear support vector classification estimator\n",
      "[INFO] evaluating...\n",
      "1.0\n",
      "[INFO] classification on TEST...\n"
     ]
    },
    {
     "data": {
      "application/vnd.jupyter.widget-view+json": {
       "model_id": "db239e3344b14150bc9647f55b1d2f84",
       "version_major": 2,
       "version_minor": 0
      },
      "image/png": "[encoded data removed]",
      "text/html": [
       "\n",
       "            <div style=\"display: inline-block;\">\n",
       "                <div class=\"jupyter-widgets widget-label\" style=\"text-align: center;\">\n",
       "                    Figure\n",
       "                </div>\n",
       "                <img src='data:image/png;base64,iVBORw0KGgoAAAANSUhEUgAAAoAAAAHgCAYAAAA10dzkAAAAOXRFWHRTb2Z0d2FyZQBNYXRwbG90bGliIHZlcnNpb24zLjYuMywgaHR0cHM6Ly9tYXRwbG90bGliLm9yZy/P9b71AAAACXBIWXMAAA9hAAAPYQGoP6dpAAA++ElEQVR4nO3deVxVdf7H8fdluyACgiaIS+JE5Z65jZqJpTTmkjmTli1ulaY5Q5YamaUtMtmM2k9Ls3KrMW2mLJvKpEUdIxM1NbVcETcQF0RAvGz39wd27YbmSa9cOef1fDzOo+73fO/lA4i++Xy/51yb0+l0CgAAAJbh4+0CAAAAULEIgAAAABZDAAQAALAYAiAAAIDFEAABAAAshgAIAABgMQRAAAAAiyEAAgAAWAwBEAAAwGIIgAAAABZDAAQAALAYAiAAAIDFEAABAAAshgAIAABgMQRAAAAAiyEAAgAAWAwBEAAAwGIIgAAAABZDAAQAALAYAiAAAIDFEAABAAAshgAIAABgMQRAAAAAiyEAAgAAWAwBEAAAwGIIgAAAABZDAAQAALAYAiAAAIDFEAABAAAshgAIAABgMQRAAAAAiyEAAgAAWAwBEAAAwGIIgAAAABZDAAQAALAYAiAAAIDFEAABAAAshgAIAABgMQRAAAAAiyEAAgAAWAwBEAAAwGIIgAAAABZDAAQAALAYAiAAAIDFEAABAAAshgAIAABgMQRAAAAAiyEAAgAAWAwBEAAAwGIIgAAAABZDAAQAALAYAiAAAIDFEAABAMAlWbVqlXr27Kno6GjZbDZ9+OGHrnNFRUUaO3asmjZtquDgYEVHR+uBBx7QoUOH3F7D4XBo5MiRqlGjhoKDg9WrVy8dOHCggj8T6yAAAgCAS5Kfn6/mzZtrxowZ5c6dOnVKGzZs0Pjx47VhwwZ98MEH2rFjh3r16uU2LyEhQUuWLNGiRYu0evVq5eXlqUePHiopKamoT8NSbE6n0+ntIgAAgDnYbDYtWbJEvXv3Pu+c1NRUtWnTRunp6apXr55ycnJ01VVX6e2331a/fv0kSYcOHVLdunX16aef6rbbbqug6q2DDiAAAKhQOTk5stlsqlatmiRp/fr1KioqUnx8vGtOdHS0mjRpopSUFC9VaW5+3i4AAABceRwOhxwOh9uY3W6X3W6/pNc9ffq0nnzySfXv31+hoaGSpMzMTAUEBCg8PNxtbmRkpDIzMy/p4+HcCICXqP68l7xdAs64fkqut0vAGc4dad4uAb9Q2qqRt0vAGcmrx132j1Gaea1HXidpVn9NnDjRbezZZ5/VhAkTLvo1i4qKdPfdd6u0tFSvvfbaBec7nU7ZbLaL/ng4PwIgAAAmUqpSj7xOYmKiRo0a5TZ2Kd2/oqIi9e3bV2lpafrqq69c3T9JioqKUmFhobKzs926gFlZWWrfvv1Ff0ycH3sAAQAwkRJnqUcOu92u0NBQt+NiA+DP4W/nzp364osvVL16dbfzLVu2lL+/v5KTk11jGRkZ2rJlCwHwMqEDCAAALkleXp527drlepyWlqaNGzcqIiJC0dHR+stf/qINGzbov//9r0pKSlz7+iIiIhQQEKCwsDANGTJEjz/+uKpXr66IiAg98cQTatq0qbp06eKtT8vUCIAAAJhIqSr+7m7r1q1T586dXY9/XjoeMGCAJkyYoKVLl0qSbrjhBrfnff3114qLi5MkTZ06VX5+furbt68KCgp06623at68efL19a2Qz8FqCIAAAJiIp/YA/h5xcXH6rdsKG7nlcGBgoKZPn67p06d7sjScB3sAAQAALIYOIAAAJlLCG3zBAAIgAAAm4o09gKh8WAIGAACwGDqAAACYSAkdQBhAAAQAwERYAoYRLAEDAABYDB1AAABMhKuAYQQBEAAAE6n420CjMiIAAgBgIlwEAiPYAwgAAGAxdAABADCREhqAMIAACACAibAHEEawBAwAAGAxdAABADCREtm8XQIqAQIgAAAmUsoeQBjAEjAAAIDF0AEEAMBEWAKGEQRAAABMhAAII1gCBgAAsBg6gAAAmEipkw4gLowACACAibAEDCMIgAAAmEgJu7tgAH9KAAAALIYOIAAAJsIeQBhBAAQAwETYAwgjWAIGAACwGDqAAACYSImT3g4ujAAIAICJlLK4BwP4UwIAAGAxdAABADARLgKBEQRAAABMhD2AMII/JQAAABZDBxAAABMpZQkYBhAALWL1X4apTtWwcuMLftyg59Z+qSdu7Ki4On9Qvaphyi1yaPWhdL20fqWyCvK8UK259Rtyszrc2kh1Yq5SoaNI2zbu05xpy3Vg71HXnMef76Oud9zo9rwfN+/XY/e9XtHlml6Tm67XXY91V2yLGFWPDteEu6bo24/Xu87f93Qfxd3VTlfViVBRYYl2fZ+muc++p+2pu71Ytfn06H2jeva+UZG1qkmS0tOO6J15q5W65uzX+f7BHdW9VwtVDQnUT9sOafqUZUpPO3qeV7Qu3gsYRhAALaLXx/Pl63P2L4Vrq9XQv267W5+m/6QgPz81rh6l6ZtS9OPxLIXZA/VMm1v15q191Ou/C7xYtTk1bVVfHy/6Tju2HpSPr48GjuyiF2cN1MN3viJHQZFrXurqHZoy/gPX46KiEm+Ua3qBVeza88M+LV+wUs8sfqzc+YM7M/XqY/OUkZYle2CA7vxrNyX990kNajxKOUdzvVCxOR09kqu3Zn2tgwezJUnx3ZppYtJdemTwm0pPO6p+97bTn/u11T9e/FgH9h9X/wEd9NLU/hp0zywVFBR6uforC3sAYQQB0CKOOwrcHj/S9I/aezJbazL3S5LuX77Y7fyza5K1tOcARQeH6FA+/8h50tOPuIfqKc98oMUrn1Jso9rasn6va7yosFjZx+jAXm7rlm/SuuWbznv+68Upbo9nj/mXug3qrJim9bTx662XuzzLWPPNTrfHc2evUI/eN6pho9pKTzuqO+9qo3cXfKPVq7ZLkl5+8WO9tzRBt8Q31icffe+NkoFKzTIB8MCBA5o5c6ZSUlKUmZkpm82myMhItW/fXsOGDVPdunW9XWKF8ffxUe8GjfTm1tTzzgkJsKvU6dTJQkcFVmZNVaoGSpJyc065jTdrFaNFK55U3snT+mH9Xs2bnqyc4/neKBFn+Pn76vYhnZV3Il97Nqd7uxzT8vGx6ebODRUY6K9tWw8qKrqaqteoqnVr97jmFBWVaPPGfWrUpA4B8Fe4ETSMsEQAXL16tbp166a6desqPj5e8fHxcjqdysrK0ocffqjp06frs88+U4cOHbxdaoWIr3etQgMC9Z9dW8553u7rq7EtO+mjPduUV8TSyuU2dHQ3bdmwV+m7slxjqat36H/Lt+hwxglF1Q7XAyO66KU3B2tkv9dYCvaCtt1aKPHtR2WvEqDjGSeU2P3vOkl31uPqN7hK/zdroAIC/FRQUKiJT/1H+/YeVaMmtSVJJ371C1B2dr4iI0O9UeoVrcTJRSC4MEsEwMcee0wPPvigpk6det7zCQkJSk09f0dMkhwOhxwO946Ys6hYNv/K9WXsF9tMKw7uOecFHn42H03v1Es+NpvGr1nuheqsZcRTPRQTG6XHB77hNr7q87PhPH1XlnZuPaj5nz+hNjdfp2++3FbRZVrexpXbNLzNUwqtEaJugztr3L9G6q8dn1XOkZPeLs1UDuw7pmGD3lTVqoG6Ke46jR7XU4+PfMd13vmr+bZzjAEwxhJ94i1btmjYsGHnPT906FBt2XLubtgvJSUlKSwszO3I+eRrT5Z62dUODlWHWldr8Y7ye578bD56Ne4O1a1aTfctX0z37zJ75Mnu+mNcQ415cI6OHv7tIHH8aJ6yDp1QdL3qFVQdfslxyqFDew7rp7W7NHXYGyopLtWfBsZ5uyzTKS4u1aGD2dqxPUNzXl+hPbuzdOddrXX8TOcvPCLYbX618GBlsy2inBL5eOSAuVniO1yrVi2lpKSc9/y3336rWrVqXfB1EhMTlZOT43aEde/syVIvu7tim+rY6VP66oD7LSx+Dn/1Q8N17+eLdMJx2ksVWsPwxB7qcGtjjX1wjg6fuerxt4SEBemqqDAd56rTK4LNJvnbK1fnvzKySQrw91XmoRM6djRPLVvHuM75+fmo2Q31tG3LAe8VeIUqdfp45IC5WeJvsCeeeELDhg3T+vXr1bVrV0VGRspmsykzM1PJycl68803NW3atAu+jt1ul91udxurTMu/Nkl/uaap3t+9RSXOswsnvjabZnburcbVIzXki//I18dHVwWV/aZ9wlGgotJSL1VsTiPG9VTnbs008W//UkG+Q+HVq0qS8vNOq9BRrMCgAN03/BZ9k7xVx4/mKjI6XAP/2lU5J04pheVfjwsMtiv6D1Gux1H1r1KDZlcrNztPJ4/lqf+Td+jb/27Q8cwTCo2oqh5Du6hG7Qj97/3vvFi1+Qx+OE5r1+zWkayTCqoSoM5dGqtZi6v11OOLJElL/r1W99zfQQcPZOvg/uO654H2cjiK9NVyrsQGLkblSS+XYPjw4apevbqmTp2q119/XSUlZZvofX191bJlSy1YsEB9+/b1cpWX303R9VWnapje27nZbbxWcIi61ouVJH12x2C3c3cvW+i6VQw8o2e/tpKkl+c+6Db+z6ffV/LS71VaWqqYayLVpecNCg4J1PEjedqcukeTRi9WwSmW5T3t2pYN9PLyp12Ph718vyRp+dur9H+PzlGda6M1/t2OCq0Rotxjedqxfo8ev/V5pf940Fslm1K1iGCNHd9LEdWrKj/fobTdWXrq8UXasC5NkrT4X98qwO6nkaP+pJCQQP207aCefOxd7gF4Dizfwgib0+m01B7aoqIiHT1aduf4GjVqyN/f/5Jer/68lzxRFjzg+iksj14pnDvSvF0CfqG0VSNvl4AzklePu+wf4+2df/TI69wfu8Yjr4MrkyU6gL/k7+9vaL8fAACAWVkuAAIAYGbcCBpGEAABADAR3gsYRhAAAQAwkVLxTiC4MH5NAAAAsBg6gAAAmAhLwDCCAAgAgIlwH0AYwZ8SAAAAi6EDCACAiZQ6uQgEF0YABADARFgChhH8KQEAALAYOoAAAJhIKVcBwwD+lAAAYCIlsnnk+D1WrVqlnj17Kjo6WjabTR9++KHbeafTqQkTJig6OlpBQUGKi4vT1q1b3eY4HA6NHDlSNWrUUHBwsHr16qUDBw5c6pcD50EABAAAlyQ/P1/NmzfXjBkzznl+8uTJmjJlimbMmKHU1FRFRUWpa9euys3Ndc1JSEjQkiVLtGjRIq1evVp5eXnq0aOHSkpKKurTsBSWgAEAMBFvLAF369ZN3bp1O+c5p9OpadOmady4cerTp48kaf78+YqMjNTChQs1dOhQ5eTk6K233tLbb7+tLl26SJLeeecd1a1bV1988YVuu+22CvtcrIIOIAAAJuKpJWCHw6GTJ0+6HQ6H43fXk5aWpszMTMXHx7vG7Ha7OnXqpJSUFEnS+vXrVVRU5DYnOjpaTZo0cc2BZxEAAQAwkVKnj0eOpKQkhYWFuR1JSUm/u57MzExJUmRkpNt4ZGSk61xmZqYCAgIUHh5+3jnwLJaAAQBAOYmJiRo1apTbmN1uv+jXs9ncLyxxOp3lxn7NyBxcHAIgAAAmUuKhPYB2u/2SAt/PoqKiJJV1+WrVquUaz8rKcnUFo6KiVFhYqOzsbLcuYFZWltq3b3/JNaA8loABADCRUtk8cnhKTEyMoqKilJyc7BorLCzUypUrXeGuZcuW8vf3d5uTkZGhLVu2EAAvEzqAAADgkuTl5WnXrl2ux2lpadq4caMiIiJUr149JSQkaNKkSYqNjVVsbKwmTZqkKlWqqH///pKksLAwDRkyRI8//riqV6+uiIgIPfHEE2ratKnrqmB4FgEQAAAT8dQS8O+xbt06de7c2fX4572DAwYM0Lx58zRmzBgVFBRo+PDhys7OVtu2bbV8+XKFhIS4njN16lT5+fmpb9++Kigo0K233qp58+bJ19e3wj8fK7A5nU6nt4uozOrPe8nbJeCM66fkXngSKoRzR5q3S8AvlLZq5O0ScEby6nGX/WOM29zHI6/zYrMPPPI6uDKxBxAAAMBiWAIGAMBESujtwAACIAAAJlLq5L55uDB+TQAAALAYOoAAAJhIKb0dGEAABADAREpYAoYBBEAAAEyEPYAwgj4xAACAxdABBADAREq98E4gqHwIgAAAmEiJWALGhfFrAgAAgMXQAQQAwES4CARGEAABADAR9gDCCP6UAAAAWAwdQAAATKSUi0BgAAEQAAAT4Z1AYARLwAAAABZDBxAAABPhIhAYQQC8RCE/BHi7BJyxp191b5eAM64ev93bJeAXcv4Q5O0SUIG4DQyMIAACAGAiXAQCI+gTAwAAWAwdQAAATIQlYBhBAAQAwES4CARG8KcEAADAYugAAgBgIiwBwwgCIAAAJsJVwDCCJWAAAACLoQMIAICJsAQMIwiAAACYCAEQRrAEDAAAYDF0AAEAMBE6gDCCAAgAgIkQAGEEARAAABPhNjAwgj2AAAAAFkMHEAAAE2EJGEYQAAEAMBECIIxgCRgAAMBi6AACAGAidABhBAEQAAATIQDCCJaAAQAALIYOIAAAJuKkAwgDCIAAAJgIN4KGESwBAwAAWAwdQAAATISLQGAEARAAABNhDyCMIAACAGAidABhBHsAAQAALIYOIAAAJsISMIwgAAIAYCIsAcMIloABAAAshg4gAAAm4nR6uwJUBgRAAABMhHcCgREsAQMAAFgMHUAAAEyEq4BhBAEQAAAT4SpgGMESMAAAgMXQAQQAwES4ChhG0AEEAMBEnE6bR47fo7i4WE8//bRiYmIUFBSkBg0a6LnnnlNpaekv6nJqwoQJio6OVlBQkOLi4rR161ZPf/owiA6gRTwS/0cNv62d29jRk/nqPHG2/Hx8NLJbe3VsGKPaEWHKO+3Qmp37NO2T1TpyMt9LFZtbZEiwnujcUTf/ob4C/f2093i2nvpvsrZmZrnmjOz4R/Vt0VRhgYHadChDE5d9rV1Hj3mxanNq2rGh7nqil65t2UDVoyP07J2TlfJRquv8TXe2UfeHuyq2ZQOF1QjVsBajtXvTXu8VbBEDerTWiLs66t3PN2jqwhWSpId6t1PXttcpsnqIiopL9NPew5r5n2+0dU+md4u9wnjjIpCXXnpJs2bN0vz589W4cWOtW7dOgwYNUlhYmP72t79JkiZPnqwpU6Zo3rx5uvbaa/XCCy+oa9eu2r59u0JCQiq8ZqsjAFrIzoyjeuj1912PS0vL1gkCA/zUsE5NvZ78nbYfOqLQILvG9I7T9MF36O5pC71VrmmFBtr17gP99F36AT20eImO5ReoXniYTp52uOY81K6VBrW9UU9+vFxpx7M1vENbze3fR3+aNU/5hUVerN58AoPt2rM5Xcvnfa1n3x99jvOB2pqyXav+861GvfGIFyq0noYxkbozrpl27jviNr4vM1svv/2VDh7JUWCAn+657UZNH/1n9RkzRydyC7xULSTp22+/1R133KHu3btLkurXr693331X69atk1TW/Zs2bZrGjRunPn36SJLmz5+vyMhILVy4UEOHDvVa7VZFALSQktJSHcs9VW4873ShHn79A7expCVfa1FCf0VVC1HmidyKKtESHm7XWpkn85T43+WusYM5J93mDGhzo2Z+s1bLt++SJI35+HN9m/CwejS+Xou//6FC6zW71GUblbps43nPf/HOKklS5NVXVVBF1hZk99fzw27Xi3OSNbhXW7dzn6/5ye3xtIUrdUenpoqtW0Op2/ZXZJlXNE9dBexwOORwONzG7Ha77HZ7ubk33XSTZs2apR07dujaa6/Vpk2btHr1ak2bNk2SlJaWpszMTMXHx7u9VqdOnZSSkkIA9AL2AFpIvRrh+vKZh/TZU4M1+b7bVSci7LxzQwLtKi11KrfAcd45uDi3xDbQDxmH9Uqf7vo2Yag+HHKv+t7QxHW+brUw1awarNV70l1jRSUlWrvvoG6sE+2NkoEKM+aBW/TNpj1K3bbvN+f5+fqod+emys0/rR2/6hRandPpmSMpKUlhYWFuR1JS0jk/5tixY3XPPffo+uuvl7+/v1q0aKGEhATdc889kqTMzLJl+sjISLfnRUZGus6hYtEBtIgf9mVq3LvLlH4kW9VDgvVwlzZ6e2Q/9X55gXJOnXabG+Dnq4TuN+nT739SvqPQSxWbV93wMPVv2Uxzv9ugWd+sVbPoKD0d31mFJSX68IcfVSO4iiTpWL57t/ZY/ilFh7JPBubVte11uu7qSA2c+K/zzrmpeYxeGN5dgQH+OpqTr0dffl85eafPOx8XLzExUaNGjXIbO1f3T5IWL16sd955RwsXLlTjxo21ceNGJSQkKDo6WgMGDHDNs9ncu5NOp7PcGCoGAfCM/fv369lnn9WcOXPOO+dc7fDS4mL5+F35X8bVP+11/f/OzGPalH5InyYO1h2tGmnBqg2uc34+Pnr5/ttls0kvvP+VFyo1P5vNpi0ZhzVlxTeSpB8PH1HsVdV1z43N9OEPP7rm/fpODrZzjAFmUTOiqkbdG6e/vvy+CotKzjtv3Y/7dd/4d1QtJEi9OzVV0ogeGjRxobLZA+jiqYtAzrfcey6jR4/Wk08+qbvvvluS1LRpU6WnpyspKUkDBgxQVFSUpLJOYK1atVzPy8rKKtcVRMVgCfiM48ePa/78+b8551zt8CNrv6igCj2roLBYOzOPqt5V1Vxjfj4++scD3VU7IkwPv/4B3b/L5Ehevnb/6mre3UePKzosVJJ09Ezn7+dO4M8igquU6woCZtGwfqSqhwVr/sT7lDInQSlzEtSyYV3169pCKXMS5HOmS3S6sFgHsk5oy+4MvTBnuYpLStWrU5MLvLq1eOM2MKdOnZKPj3uk8PX1dd0GJiYmRlFRUUpOTnadLyws1MqVK9W+fftL/6Txu135rSsPWbp06W+e37NnzwVf41zt8HbjX7+kurzF39dXDWpGaMOeg5LOhr96NappyMz/lFsWhuds2H9IMRERbmP1I8JdF4LsP5GjrLx8dYi5Wj8eLtvb5O/jozb1auvlr1ZXeL1ARUjdtk93P+X+S/gzD96mvRnHteCTVJWe5+7GNptNAZVgFcbsevbsqRdffFH16tVT48aN9f3332vKlCkaPHiwpLLvU0JCgiZNmqTY2FjFxsZq0qRJqlKlivr37+/l6q3JMj81vXv3ls1mk/M3bpF+oX0I52qHV4blX0l6vGdHrdy6RxknchVRtYoe7tJWwYEB+mjdNvn62DRlQA81rFNTI978UD4+NlUPKes+5Zw6reKS0gu8On6PeWs3aNGAfhrWvrU+/XGHmkVHqV+Lphr/6dlu8vy1GzSsQ2ulZ2dr7/ETGta+jQqKivXfrT/9xivjYgQGB6r2NVGux1ExNfWH5vV18niejuw/qpDwqqpZr4aqR4dLkupcV3YhzvHME8o+fMIbJZvSqdNF2nPQvTNe4ChSTt5p7Tl4TIEBfhrUq63+9/0eHT2Rp7CqQfrLrc1VM7yqvkzd4aWqr0ze2Coyffp0jR8/XsOHD1dWVpaio6M1dOhQPfPMM645Y8aMUUFBgYYPH67s7Gy1bdtWy5cv5x6AXmJz/lYiMpHatWvr1VdfVe/evc95fuPGjWrZsqVKSs6/9+Rcmj4+1QPVXX6T77tdLRvUVnhwkI7nF2hzeoZmLEvRnsPHFR0eqs+fHnLO5w167d9at/tABVd7cRwRF55zpYi7JkaPd75J9SOq6cCJHM39boPe27jFbc7Ijn9UvxubKSzQrk0HMzXx86+080jluBH01eNTvF2CYc06NdI/v55Ybnz5vBV6efCrih8Qp9FzR5Q7v2Die3p74r8rosRLlnN/uwtPugLNfPIu7dh3RFMXrlCAv6+eH3a7Gv+hlqpVDVRO3mltS8vUnKXf6ce0w94u1bC180ddeNIluvb95z3yOjv+PN4jr4Mrk2UCYK9evXTDDTfoueeeO+f5TZs2qUWLFm5vW2NEZQmAVlCZAqDZVaYAaAWVNQCaEQEQV4rKsX7pAaNHj1Z+/vnf1uyaa67R119/XYEVAQBwGViirYNLZZkA2LFjx988HxwcrE6dOlVQNQAAXB7eeC9gVD6WCYAAAFiBNTZ24VJxH0AAAACLoQMIAICJsAQMIwiAAACYCQEQBrAEDAAAYDF0AAEAMBEuAoERBEAAAMyEAAgDWAIGAACwGDqAAACYCFcBwwgCIAAAZsISMAxgCRgAAMBi6AACAGAiLAHDCAIgAABmwhIwDCAAAgBgKnQAcWHsAQQAALAYOoAAAJgJS8AwgAAIAICZEABhAEvAAAAAFkMHEAAAM+E2MDCAAAgAgIk4WQKGASwBAwAAWAwdQAAAzIQOIAwgAAIAYCbsAYQBLAEDAABYDB1AAABMxMYSMAwgAAIAYCYEQBhAAAQAwEzYAwgD2AMIAABgMXQAAQAwE5aAYQABEAAAMyEAwgCWgAEAACyGDiAAAGZCBxAGEAABADATrgKGASwBAwAAWAwdQAAATIR3AoERBEAAAMyEAAgDWAIGAACwGAIgAACAxbAEDACAibAHEEYQAC9R1HenvF0CzigNoKENnEvIfoe3S0BF4jYwMIB/MQEAACyGDiAAAGbCEjAMIAACAGAmBEAYwBIwAACAxdABBADARLgKGEYQAAEAMBMCIAxgCRgAAMBi6AACAGAmdABhAAEQAAATYQ8gjGAJGAAAwGLoAAIAYCa8FRwMIAACAGAmLAHDAAIgAAAmwh5AGMEeQAAAAIshAAIAYCZODx2/08GDB3XfffepevXqqlKlim644QatX7/+bFlOpyZMmKDo6GgFBQUpLi5OW7duvfjPE5eEAAgAgInYnJ45fo/s7Gx16NBB/v7++uyzz7Rt2zb985//VLVq1VxzJk+erClTpmjGjBlKTU1VVFSUunbtqtzcXM9+AWAIewABAMAleemll1S3bl3NnTvXNVa/fn3X/zudTk2bNk3jxo1Tnz59JEnz589XZGSkFi5cqKFDh1Z0yZZHBxAAADPx0BKww+HQyZMn3Q6Hw3HOD7l06VK1atVKd911l2rWrKkWLVrojTfecJ1PS0tTZmam4uPjXWN2u12dOnVSSkqKp78CMIAACACAmXgoACYlJSksLMztSEpKOueH3LNnj2bOnKnY2Fh9/vnnGjZsmP76179qwYIFkqTMzExJUmRkpNvzIiMjXedQsVgCBgAA5SQmJmrUqFFuY3a7/ZxzS0tL1apVK02aNEmS1KJFC23dulUzZ87UAw884Jpns7nfpNrpdJYbQ8WgAwgAgIl46iIQu92u0NBQt+N8AbBWrVpq1KiR21jDhg21b98+SVJUVJQklev2ZWVllesKomIQAAEAwCXp0KGDtm/f7ja2Y8cOXX311ZKkmJgYRUVFKTk52XW+sLBQK1euVPv27Su0VpRhCRgAAFySxx57TO3bt9ekSZPUt29frV27VrNnz9bs2bMllS39JiQkaNKkSYqNjVVsbKwmTZqkKlWqqH///l6u3poIgAAAmIkX3gqudevWWrJkiRITE/Xcc88pJiZG06ZN07333uuaM2bMGBUUFGj48OHKzs5W27ZttXz5coWEhFR8wSAAAgBgJt56L+AePXqoR48e5z1vs9k0YcIETZgwoeKKwnkRAAEAMBMvBUBULlwEAgAAYDF0AAEAMBM6gDCAAAgAgIl4aw8gKheWgAEAACyGDiAAAGZCBxAGEAABADARloBhBEvAAAAAFkMHEAAAM6EDCAMIgAAAmAkBEAYQAAEAMBH2AMII9gACAABYDB1AAADMhA4gDCAAAgBgJgRAGMASMAAAgMXQAbSIHr1vVM/eNyqyVjVJUnraEb0zb7VS1+x2zbl/cEd179VCVUMC9dO2Q5o+ZZnS0456qWLz6tmrhXr1vFGRUWGSpPS9R/X226u1du0e+fr6aPDgm9Wm7R9Uq1Y15ec7tGHDXr35xgodO5bn5crNqWnHhrrriV66tmUDVY+O0LN3TlbKR6mu8zfd2UbdH+6q2JYNFFYjVMNajNbuTXu9V7BJ8XPhOVwEAiPoAFrE0SO5emvW1xrx4ByNeHCONm5I18Sku3R1TA1JUr972+nP/dpqxpTP9eiDc3X8WJ5emtpfQUEBXq7cfI4eydUbb67Q8Efmafgj8/T993v13PN/0dX1aygw0F+xsVF65+1vNGzYXE149gPVqROh51/4i7fLNq3AYLv2bE7XjJFvned8oLambNdbif+q4MqshZ8LD3J66ICp0QG0iDXf7HR7PHf2CvXofaMaNqqt9LSjuvOuNnp3wTdavWq7JOnlFz/We0sTdEt8Y33y0ffeKNm0vv12l9vjOXNWqWevG9WoYbQ+27tZY8Yscjs/Y3qyXps5UDVrhior62RFlmoJqcs2KnXZxvOe/+KdVZKkyKuvqqCKrImfC6Bi0QG0IB8fm+JubaTAQH9t23pQUdHVVL1GVa1bu8c1p6ioRJs37lOjJnW8WKn5+fjY1Llzw7LvxbaD55wTHGxXaalTeXmnK7g6wDv4ubg0NqdnDpibZTqABQUFWr9+vSIiItSoUSO3c6dPn9Z7772nBx54wEvVVYz6Da7S/80aqIAAPxUUFGriU//Rvr1H1ahJbUnSieP5bvOzs/MVGRnqjVJNLybmKk2f8YDre/Hssx8oPf1YuXn+/r568KE4ffXlVp06VeiFSoGKw8+FhxDeYIAlOoA7duxQw4YNdfPNN6tp06aKi4tTRkaG63xOTo4GDRp0wddxOBw6efKk21FaWnw5S/eoA/uOadigN/XXofP08YfrNXpcT9WrX8N1/td/Z9jOMQbP2L//mB5+aI4eHTFfS5du0NixPXT11dXd5vj6+mj8+N7y8bHplVc+91KlQMXh5wKoOJYIgGPHjlXTpk2VlZWl7du3KzQ0VB06dNC+fft+1+skJSUpLCzM7Ug7sPIyVe15xcWlOnQwWzu2Z2jO6yu0Z3eW7ryrtY6f6fyFRwS7za8WHqzsX3UF4RnFxaU6dChbO3Zk6q03V2r37sPq06e167yvr4+eeba3omqFaczoRXQ5YAn8XHgIF4HAAEsEwJSUFE2aNEk1atTQNddco6VLl6pbt27q2LGj9uzZc+EXOCMxMVE5OTluR0ydTpex8svLJinA31eZh07o2NE8tWwd4zrn5+ejZjfU07YtB7xXoIXYbDb5+/tKOvuPXO3aERr9xLs6ebLAy9UB3sHPxcWxeeiAuVliD2BBQYH8/Nw/1VdffVU+Pj7q1KmTFi5caOh17Ha77Ha725iPT+X4Eg5+OE5r1+zWkayTCqoSoM5dGqtZi6v11ONlV9Yt+fda3XN/Bx08kK2D+4/rngfay+Eo0lfLt3q5cvMZMqST1q7draysXFWpEqDOnRuqefN6SnxysXx8bHp2wp2KjY3SuKf+LR8fH4WHl3Vmc3MLVFxc6uXqzScwOFC1r4lyPY6Kqak/NK+vk8fzdGT/UYWEV1XNejVUPTpcklTnumhJ0vHME8o+fMIbJZsSPxceRPcOBlSO9HKJrr/+eq1bt04NGzZ0G58+fbqcTqd69erlpcoqTrWIYI0d30sR1asqP9+htN1ZeurxRdqwLk2StPhf3yrA7qeRo/6kkJBA/bTtoJ587F0VFLDE4mnh4cF6MrGnIiLKvhd79mQp8cnFWr9+ryIjw9Shw7WSpDfeHOL2vFGP/UubNv2+bQu4sGtbNdA/v57oevzIlIGSpOXzVujlwa+qXa9WGj13hOv804sekyQtmPie3p747wqt1cz4uQAqls3pdJr+d4WkpCT973//06effnrO88OHD9esWbNUWvr7f4vsetOLl1oePKQ0wBI7GioFnxUbvF0CfqE07kZvl4Azvvwq8bJ/jOYJUz3yOpumPeaR18GVyRL/YiYmJp43/EnSa6+9dlHhDwCAKw4XgcAASwRAAAAAnGWJPYAAAFgG3TsYQAAEAMBEeBs3GMESMAAAgMXQAQQAwEzoAMIAAiAAACbCEjCMYAkYAADAYugAAgBgJnQAYQABEAAAE2EJGEYQAAEAMBMCIAxgDyAAAIDF0AEEAMBM6ADCAAIgAAAmwh5AGMESMAAAgMXQAQQAwEzoAMIAAiAAACZic5IAcWEsAQMAAFgMHUAAAMyEBiAMIAACAGAiXAUMI1gCBgAAsBg6gAAAmAkdQBhAAAQAwERYAoYRBEAAAMyEAAgD2AMIAABgMXQAAQAwEZaAYQQBEAAAMyEAwgCWgAEAACyGDiAAACbCEjCMIAACAGAmThIgLowlYAAA4DFJSUmy2WxKSEhwjTmdTk2YMEHR0dEKCgpSXFyctm7d6r0iQQAEAMBMbE7PHBcjNTVVs2fPVrNmzdzGJ0+erClTpmjGjBlKTU1VVFSUunbtqtzcXA98xrgYBEAAAMzE6aHjd8rLy9O9996rN954Q+Hh4WfLcTo1bdo0jRs3Tn369FGTJk00f/58nTp1SgsXLrz4zxOXhAAIAAAu2YgRI9S9e3d16dLFbTwtLU2ZmZmKj493jdntdnXq1EkpKSkVXSbO4CIQAABMxFbqmddxOBxyOBxuY3a7XXa7vdzcRYsWacOGDUpNTS13LjMzU5IUGRnpNh4ZGan09HTPFIvfjQ4gAABm4qEl4KSkJIWFhbkdSUlJ5T7c/v379be//U3vvPOOAgMDz1uWzWZzL9PpLDeGikMHEAAAE/HUfQATExM1atQot7Fzdf/Wr1+vrKwstWzZ0jVWUlKiVatWacaMGdq+fbuksk5grVq1XHOysrLKdQVRcQiAAACgnPMt9/7arbfeqh9++MFtbNCgQbr++us1duxYNWjQQFFRUUpOTlaLFi0kSYWFhVq5cqVeeumly1I7LowACACAmVTwjaBDQkLUpEkTt7Hg4GBVr17dNZ6QkKBJkyYpNjZWsbGxmjRpkqpUqaL+/ftXaK04iwAIAICJXIlvBTdmzBgVFBRo+PDhys7OVtu2bbV8+XKFhIR4uzTLIgACAACPWrFihdtjm82mCRMmaMKECV6pB+URAC9R81c3e7sEnPH5gj96uwScUSfjGm+XgF/4ZOFcb5cAl8TL/yGuwA4grjwEQAAATORKXALGlYf7AAIAAFgMHUAAAMykgq8CRuVEAAQAwERYAoYRLAEDAABYDB1AAADMhA4gDCAAAgBgIiwBwwgCIAAAZlJKAsSFsQcQAADAYugAAgBgJjQAYQABEAAAE2EPIIxgCRgAAMBi6AACAGAmvBMIDCAAAgBgIiwBwwiWgAEAACyGDiAAAGZCBxAGEAABADARG3sAYQBLwAAAABZDBxAAADMp9XYBqAwIgAAAmAhLwDCCAAgAgJmQ/2AAewABAAAshg4gAABmwhIwDCAAAgBgIrwTCIxgCRgAAMBi6AACAGAmLAHDAAIgAAAmYuM+gDCAJWAAAACLoQMIAICZsAQMAwiAAACYCfkPBrAEDAAAYDF0AAEAMBHeCxhGEAABADATAiAMIAACAGAm3AYGBrAHEAAAwGLoAAIAYCLsAYQRBEAAAMyEAAgDWAIGAACwGDqAAACYCR1AGEAAtJDighL9tDhDmWtz5MgpVlhMkJoMrKNq11SRJH3cd+M5n9fwvmhd06tmBVZqbo/E/1HDb2vnNnb0ZL46T5wtPx8fjezWXh0bxqh2RJjyTju0Zuc+TftktY6czPdSxebV96FO6tC1ieo0uEqFp4u07ft0zfnnMh3ce9Q1594Rt6rT7c10VVQ1FRWVaNe2g5o/bbm2b97vxcq9L3WTNOddaesO6cgxm6a/4FSXjuefv3yVtOhD6addUmGRdE196dFB0k1tLm+dO3ZLz78i/fCjFBYq9e0pDR8g2Wzereuy4ipgGEAAtJBNs/br5P7TavHo1QqM8NeBVcf17fO7FDf1egVFBKjr7MZu87O+P6lNs/arVtswL1VsXjszjuqh1993PS4tLfuNPTDATw3r1NTryd9p+6EjCg2ya0zvOE0ffIfunrbQW+WaVtPWDfTxwm+1Y8sB+fr6aEDCbXrxrcEa2mOqHAVFkqSDe4/qtReWKnP/cQUE+uvOATfpxTcHa8ht/1BOtnVDeUGBdN010p23S38bf+H56zZJ7VtJjz0khYRISz6VhidKi2ZKja69uBoOZkhd7rbpx5Xn7njl5UtDnpDa3CC997q094D0VJJUJUga1O/y1QVUBgRAiygpLFXGdyfUekyMqjeqKkm6rm8tZabmKH35MV1/dy0FVvN3e05mao5qNK6q4Ei7N0o2tZLSUh3LPVVuPO90oR5+/QO3saQlX2tRQn9FVQtR5onciirREsY/PNft8dSn/qNFKU8rtnFtbVm3V5K04pNNbnPe+Psn+tNfWivmuihtXLO7okq94tz8x7LDqKdGuj9+7GHpy2+kr1Pcg9YHn0pvvSsdyJRqR0n39ZH633lxNX6cLDkKpaREKSBAuraBlL5fmveeNLBvWRfQaF2VCVcBwwgCoEU4S5xylko+/u7X/fgG+Oj4T3nl5jtOFCnr+5O6YcTVFVWipdSrEa4vn3lIhcUl+mFfpv7v02904HjOOeeGBNpVWupUboGjgqu0niohgZKk3JyCc5738/dVt75tlHeyQHt+yqjI0kyntFQ6dUqqFnp27L2PpRlzpacTpEax0rad0jMvl3Xsev/p93+MjVul1s3Lwt/POrSWpsy26WCmU3VqGaur0iEAwgDLBMAff/xRa9asUbt27XT99dfrp59+0iuvvCKHw6H77rtPt9xyi7dLvKz8gnwVfm0V7Xw/UyG1A2Wv5qeDq7OVveuUgqPKd/j2rzwuv0Bf1WrD8q+n/bAvU+PeXab0I9mqHhKsh7u00dsj+6n3ywuUc+q029wAP18ldL9Jn37/k/IdhV6q2DoeHnu7tqxLU/rOw27jbeKu15P/uFv2IH8dP5KrcUPm6OSJ8h1cGDd3sXTqtPSnzmfHZi2Qxg6X4m8ue1ynlrR7r7R46cUFwKPHy7qIv1Qjouy/R47pnAHwXHUBZmSJALhs2TLdcccdqlq1qk6dOqUlS5bogQceUPPmzeV0OnXbbbfp888/v2AIdDgccjjcuzDFhSXyC/C9nOV7TItHr9bGmfuUPGyrbD5SWEwV1e4Qrpy08v+Q7fv6uGp3DJdvAHcK8rTVP+11/f/OzGPalH5InyYO1h2tGmnBqg2uc34+Pnr5/ttls0kvvP+VFyq1luHjeynmulp64t5Z5c5t+m63RvSZrrDwKvrTXa2VOPUeJfR7TTnHrbsH8FJ88oX06jxpxotS9fCyseMnpIwsm56e7NQz/zg7t7hECgk++7jHACnjTD7/udHV8hfhsFak9N/5Zx//fLHHz35+zq/Hz1dXpUQHEAZYIgA+99xzGj16tF544QUtWrRI/fv31yOPPKIXX3xRkjRu3Dj9/e9/v2AATEpK0sSJE93G2g1tpPaPNLlstXtScJRdHSbGqvh0iYoLShUY7q/1U/eqSk33DuCxH/OUf8ihlgn1vVOoxRQUFmtn5lHVu6qaa8zPx0f/eKC7akeEacjM/9D9u8weGddTf+zcUKPvn62jh0+WO+8oKFLGvmPK2HdMP23arzeXPa7b/txK772x0gvVVm6ffiU9PVmaOrHs4ouflZ65cvW50VKzhu7P8f3F79ivvyQVF5f9/+Gj0oC/SR+8efa83y/+VasRUdYF/KVj2WfPGamrUiIAwgBLtHe2bt2qgQMHSpL69u2r3Nxc/fnPf3adv+eee7R58+YLvk5iYqJycnLcjjZDGl7weVcav0BfBYb7qzCvWFmbTiqqtftml31fHVNYgyCF1Q/yUoXW4u/rqwY1I3T0zG1efg5/9WpU00Oz3i+3LAzPeuTpXmrftbGeHPSmDh/MNvQcm2zyD7DE788e9ckXZVfhvjxeinO/E5JqREiRVzm1/5B0dR3345dLtbWjzo7Xjiwb++XcXy753tC47CrfwqKzY9+sk2rWcLrN+626KqVSDx0wNcv9Debj46PAwEBVq1bNNRYSEqKcnHNvwP8lu90uu929W1ZZln8lKWtjWWejarRd+ZmF2vb2QVWNDlTduOquOUWnSpSxJkeN7o/2Vpmm93jPjlq5dY8yTuQqomoVPdylrYIDA/TRum3y9bFpyoAealinpka8+aF8fGyqHlJ2n8acU6dVXMLfyp404pk7FNe9uZ579G0V5DsUXqPsCvn83NMqdBTLHuSvu4d21ndf/6jjR3IVUq2KetzzR9WICtX/Pv/By9V7V/4pad/Bs48PZEg/7iy71150pDRltnT4iPTSuLLzn3whPTlJShwpNW9UtgdPkgLtUkjZl10jBkqT/k+qGix1bCsVFUpbtksnc6WB/X5/jT26SK/NLwt3D98npR+QZr/jfh9AI3UBZmSJAFi/fn3t2rVL11xzjSTp22+/Vb169Vzn9+/fr1q1zrEb2GSKT5Xox3czdPpYkfyr+qpW22q6/p5a8vE7uxnmUEq2nE6nat9UmTfAXNkiw0L00n23Kzw4SMfzC7Q5PUP3/t8iZWTnKjo8VJ2b/EGS9P4T97s9b9Br/9a63Qe8UbJp9bin7D4mkxc87Db+z8R/64sPN6i0xKm6Da5Sl943Kiw8WCdPnNKOHw5o9H2ztW9XljdKvmJs3S4NSDj7d8dLr5b9f+8/OZWUWBakMn7xJVr8sVRcYtPz06Tnp50d/3m+JN3VQwqyS3MWSf+YJVUJlGIbSA/85eJqDKkqvfUP6blp0l1DpdCqZbd/Gdj399VV2XAbGBhhczrN/ydl1qxZqlu3rrp3737O8+PGjdPhw4f15ptvnvP8b3li00X8WorL4vMFv+OmZLis6nxq7XB0pfnk6/cvPAkVwidqx2X/GN0aeia5fvZjkkdeB1cmS3QAhw0b9pvnf74YBAAAwAosEQABALCMUtMv7MEDCIAAAJiJ+Xd2wQMscRsYAAAAnEUHEAAAM6EDCAMIgAAAmAkBEAawBAwAAC5JUlKSWrdurZCQENWsWVO9e/fW9u3b3eY4nU5NmDBB0dHRCgoKUlxcnLZu3eqlikEABADATEqdnjl+h5UrV2rEiBFas2aNkpOTVVxcrPj4eOXn57vmTJ48WVOmTNGMGTOUmpqqqKgode3aVbm5uZ7+CsAAloABADATZ8W/ZeSyZcvcHs+dO1c1a9bU+vXrdfPNN8vpdGratGkaN26c+vTpI0maP3++IiMjtXDhQg0dOrTCa7Y6OoAAAJiJ0+mZ4xLk5ORIkiIiIiRJaWlpyszMVHx8vGuO3W5Xp06dlJKSckkfCxeHDiAAACjH4XDI4XC4jdntdtnt9t98ntPp1KhRo3TTTTepSZMmkqTMzExJUmRkpNvcyMhIpaene7BqGEUHEAAAM/HQHsCkpCSFhYW5HUlJF35/4EcffVSbN2/Wu+++W+6czWZze+x0OsuNoWLQAQQAwEw8dBuYxMREjRo1ym3sQt2/kSNHaunSpVq1apXq1KnjGo+KipJU1gmsVauWazwrK6tcVxAVgw4gAAAox263KzQ01O04XwB0Op169NFH9cEHH+irr75STEyM2/mYmBhFRUUpOTnZNVZYWKiVK1eqffv2l/XzwLnRAQQAwEy8cCPoESNGaOHChfroo48UEhLi2vMXFhamoKAg2Ww2JSQkaNKkSYqNjVVsbKwmTZqkKlWqqH///hVeLwiAAACYixcC4MyZMyVJcXFxbuNz587VwIEDJUljxoxRQUGBhg8fruzsbLVt21bLly9XSEhIBVcLiQAIAAAukdNA6LTZbJowYYImTJhw+QvCBREAAQAwk9KKvxE0Kh8CIAAAZuKFJWBUPlwFDAAAYDF0AAEAMBM6gDCAAAgAgJmUEgBxYQRAAABMxOnkIhBcGHsAAQAALIYOIAAAZsISMAwgAAIAYCZcBAIDWAIGAACwGDqAAACYCe8EAgMIgAAAmAlLwDCAJWAAAACLoQMIAICJOFkChgEEQAAAzIQlYBjAEjAAAIDF0AEEAMBMuBE0DCAAAgBgJrwXMAwgAAIAYCJOOoAwgD2AAAAAFkMHEAAAM2EJGAYQAAEAMBGWgGEES8AAAAAWQwcQAAAzYQkYBticTm4ZbnUOh0NJSUlKTEyU3W73djmWxvfiysH34srB9wLwPAIgdPLkSYWFhSknJ0ehoaHeLsfS+F5cOfheXDn4XgCexx5AAAAAiyEAAgAAWAwBEAAAwGIIgJDdbtezzz7L5uorAN+LKwffiysH3wvA87gIBAAAwGLoAAIAAFgMARAAAMBiCIAAAAAWQwAEAACwGAKgxb322muKiYlRYGCgWrZsqf/973/eLsmSVq1apZ49eyo6Olo2m00ffviht0uyrKSkJLVu3VohISGqWbOmevfure3bt3u7LEuaOXOmmjVrptDQUIWGhqpdu3b67LPPvF0WYAoEQAtbvHixEhISNG7cOH3//ffq2LGjunXrpn379nm7NMvJz89X8+bNNWPGDG+XYnkrV67UiBEjtGbNGiUnJ6u4uFjx8fHKz8/3dmmWU6dOHf3973/XunXrtG7dOt1yyy264447tHXrVm+XBlR63AbGwtq2basbb7xRM2fOdI01bNhQvXv3VlJSkhcrszabzaYlS5aod+/e3i4Fko4cOaKaNWtq5cqVuvnmm71djuVFRETo5Zdf1pAhQ7xdClCp0QG0qMLCQq1fv17x8fFu4/Hx8UpJSfFSVcCVJycnR1JZ8ID3lJSUaNGiRcrPz1e7du28XQ5Q6fl5uwB4x9GjR1VSUqLIyEi38cjISGVmZnqpKuDK4nQ6NWrUKN10001q0qSJt8uxpB9++EHt2rXT6dOnVbVqVS1ZskSNGjXydllApUcAtDibzeb22Ol0lhsDrOrRRx/V5s2btXr1am+XYlnXXXedNm7cqBMnTuj999/XgAEDtHLlSkIgcIkIgBZVo0YN+fr6luv2ZWVllesKAlY0cuRILV26VKtWrVKdOnW8XY5lBQQE6JprrpEktWrVSqmpqXrllVf0+uuve7kyoHJjD6BFBQQEqGXLlkpOTnYbT05OVvv27b1UFeB9TqdTjz76qD744AN99dVXiomJ8XZJ+AWn0ymHw+HtMoBKjw6ghY0aNUr333+/WrVqpXbt2mn27Nnat2+fhg0b5u3SLCcvL0+7du1yPU5LS9PGjRsVERGhevXqebEy6xkxYoQWLlyojz76SCEhIa4ueVhYmIKCgrxcnbU89dRT6tatm+rWravc3FwtWrRIK1as0LJly7xdGlDpcRsYi3vttdc0efJkZWRkqEmTJpo6dSq3uvCCFStWqHPnzuXGBwwYoHnz5lV8QRZ2vj2wc+fO1cCBAyu2GIsbMmSIvvzyS2VkZCgsLEzNmjXT2LFj1bVrV2+XBlR6BEAAAACLYQ8gAACAxRAAAQAALIYACAAAYDEEQAAAAIshAAIAAFgMARAAAMBiCIAAAAAWQwAEAACwGAIgAACAxRAAAQAALIYACAAAYDEEQAAAAIshAAIAAFgMARAAAMBiCIAAAAAWQwAEAACwGAIgAACAxRAAAQAALIYACAAAYDEEQAAAAIshAAIAAFgMARAAAMBiCIAAAAAWQwAEAACwGAIgAACAxRAAAQAALIYACAAAYDEEQAAAAIshAAIAAFgMARAAAMBiCIAAAAAW8/8K5UkeXVO2+QAAAABJRU5ErkJggg==' width=640.0/>\n",
       "            </div>\n",
       "        "
      ],
      "text/plain": [
       "Canvas(toolbar=Toolbar(toolitems=[('Home', 'Reset original view', 'home', 'home'), ('Back', 'Back to previous …"
      ]
     },
     "metadata": {},
     "output_type": "display_data"
    }
   ],
   "source": [
    "print(\"[INFO] training our linear support vector classification estimator\")\n",
    "\n",
    "# initialize the LinearSVC() estimator \n",
    "classification_estimator = svm.LinearSVC()\n",
    "\n",
    "# train the model without hyperparameter tuning\n",
    "train_without_hp = classification_estimator.fit(X_train, y_train)\n",
    "\n",
    "print(\"[INFO] evaluating...\")\n",
    "\n",
    "# evaluate the model without hyperparameter tuning model\n",
    "print(train_without_hp.score(X_train, y_train))\n",
    "# print(train_without_hp.best_score)\n",
    "\n",
    "print(\"[INFO] classification on TEST...\")\n",
    "# make a prediction (returns a list of 0 - 4 values)\n",
    "y_pred_without_hp = train_without_hp.predict(X_test)\n",
    "# show true labels and predictions\n",
    "cm = confusion_matrix(y_test, y_pred_without_hp)\n",
    "sns.heatmap(cm, annot=True, cmap='viridis')\n",
    "plt.show()"
   ]
  },
  {
   "cell_type": "code",
   "execution_count": 51,
   "id": "0b3a64eb-6de8-4a53-b5f8-7bb23945034d",
   "metadata": {},
   "outputs": [
    {
     "name": "stdout",
     "output_type": "stream",
     "text": [
      "              precision    recall  f1-score   support\n",
      "\n",
      "           0       0.29      0.51      0.37       140\n",
      "           1       0.36      0.36      0.36       166\n",
      "           2       0.19      0.10      0.13       105\n",
      "           3       0.53      0.41      0.46       292\n",
      "\n",
      "    accuracy                           0.37       703\n",
      "   macro avg       0.34      0.35      0.33       703\n",
      "weighted avg       0.39      0.37      0.37       703\n",
      "\n"
     ]
    }
   ],
   "source": [
    "print(classification_report(y_test, y_pred_without_hp))"
   ]
  },
  {
   "cell_type": "markdown",
   "id": "fb691d12-7fc1-463f-a454-379e75b9e286",
   "metadata": {},
   "source": [
    "### With Hyper-Parameter Tuning\n",
    "\n",
    "- Search hyper-parameters of the `LinearSVC()` estimator and find the optimal values\n",
    "- Output of `score` shows no difference compared to without hyper-parameter tuning. What does this mean?"
   ]
  },
  {
   "cell_type": "code",
   "execution_count": 24,
   "id": "c803aca4-027b-4633-b47d-45e42fd2578e",
   "metadata": {},
   "outputs": [
    {
     "data": {
      "text/plain": [
       "dict_keys(['C', 'class_weight', 'dual', 'fit_intercept', 'intercept_scaling', 'loss', 'max_iter', 'multi_class', 'penalty', 'random_state', 'tol', 'verbose'])"
      ]
     },
     "execution_count": 24,
     "metadata": {},
     "output_type": "execute_result"
    }
   ],
   "source": [
    "# get all hyper-parameters of the LinearSVC() estimator\n",
    "svm.LinearSVC().get_params().keys()"
   ]
  },
  {
   "cell_type": "code",
   "execution_count": 26,
   "id": "a9bd1175-c25c-4921-9e4f-28e15fb32972",
   "metadata": {},
   "outputs": [
    {
     "name": "stdout",
     "output_type": "stream",
     "text": [
      "[INFO] grid searching over the hyper-parameters...\n"
     ]
    },
    {
     "data": {
      "text/plain": [
       "GridSearchCV(cv=10, estimator=LinearSVC(),\n",
       "             param_grid={'C': [0.01, 0.1, 10, 100],\n",
       "                         'fit_intercept': [True, False],\n",
       "                         'loss': ['hinge', 'squared_hinge'],\n",
       "                         'penalty': ['l2']})"
      ]
     },
     "execution_count": 26,
     "metadata": {},
     "output_type": "execute_result"
    }
   ],
   "source": [
    "# initialize the LinearSVC() estimator \n",
    "classification_estimator = svm.LinearSVC()\n",
    "\n",
    "# define the hyper-parameters to perform the grid search over\n",
    "param_grid = {\n",
    "    'C': [0.01, 0.1, 10, 100], \n",
    "    # 'class_weight': [1],\n",
    "    # 'dual':,\n",
    "    'fit_intercept': [True, False],\n",
    "    # 'intercept_scaling':,\n",
    "    'loss': ['hinge', 'squared_hinge'],\n",
    "    # 'max_iter':,\n",
    "     # 'multi_class': [1],\n",
    "    # 'penalty': ['l1', 'l2'],\n",
    "    'penalty': ['l2'],\n",
    "    # 'random_state':,\n",
    "    # 'tol': , \n",
    "    # 'verbose':    \n",
    "}\n",
    "\n",
    "print(\"[INFO] grid searching over the hyper-parameters...\")\n",
    "# perform grid search with our estimator, hyper-parameters, cross-validation\n",
    "linear_classification = GridSearchCV(classification_estimator, param_grid=param_grid, cv=10)\n",
    "linear_classification"
   ]
  },
  {
   "cell_type": "code",
   "execution_count": 28,
   "id": "41f000bc-4d13-4ecf-ad51-929bee7a3a81",
   "metadata": {},
   "outputs": [
    {
     "data": {
      "text/plain": [
       "GridSearchCV(cv=10, estimator=LinearSVC(),\n",
       "             param_grid={'C': [0.01, 0.1, 10, 100],\n",
       "                         'fit_intercept': [True, False],\n",
       "                         'loss': ['hinge', 'squared_hinge'],\n",
       "                         'penalty': ['l2']})"
      ]
     },
     "execution_count": 28,
     "metadata": {},
     "output_type": "execute_result"
    }
   ],
   "source": [
    "# train the model with hyperparameter tuning\n",
    "train_with_hp = linear_classification.fit(X_train, y_train)\n",
    "train_with_hp"
   ]
  },
  {
   "cell_type": "code",
   "execution_count": 38,
   "id": "78a35b6b-78e6-4799-b435-f5b5957d63dd",
   "metadata": {},
   "outputs": [
    {
     "name": "stdout",
     "output_type": "stream",
     "text": [
      "[INFO] the best hyper-parameters are...\n",
      "{'C': 0.01, 'fit_intercept': True, 'loss': 'squared_hinge', 'penalty': 'l2'}\n",
      "\n",
      "[INFO] the coefficient of determination is...\n",
      "1.0\n",
      "\n",
      "[INFO] the best score...\n",
      "0.3666666666666667\n"
     ]
    }
   ],
   "source": [
    "print(\"[INFO] the best hyper-parameters are...\")\n",
    "# show the best estimator\n",
    "print(train_with_hp.best_params_)\n",
    "\n",
    "print(\"\\n[INFO] the coefficient of determination is...\")\n",
    "# evaluate the best model\n",
    "print(train_with_hp.score(X_train, y_train))\n",
    "\n",
    "print(\"\\n[INFO] the best score...\")\n",
    "# show the best score\n",
    "print(train_with_hp.best_score_)"
   ]
  },
  {
   "cell_type": "code",
   "execution_count": 48,
   "id": "563303dc-2430-4db3-a288-252a14dcc8f2",
   "metadata": {},
   "outputs": [
    {
     "name": "stdout",
     "output_type": "stream",
     "text": [
      "[INFO] classification on TEST...\n"
     ]
    },
    {
     "data": {
      "application/vnd.jupyter.widget-view+json": {
       "model_id": "6966fd3a22a2401f99742845d1b87938",
       "version_major": 2,
       "version_minor": 0
      },
      "image/png": "[encoded data removed]",
      "text/html": [
       "\n",
       "            <div style=\"display: inline-block;\">\n",
       "                <div class=\"jupyter-widgets widget-label\" style=\"text-align: center;\">\n",
       "                    Figure\n",
       "                </div>\n",
       "                <img src='data:image/png;base64,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' width=640.0/>\n",
       "            </div>\n",
       "        "
      ],
      "text/plain": [
       "Canvas(toolbar=Toolbar(toolitems=[('Home', 'Reset original view', 'home', 'home'), ('Back', 'Back to previous …"
      ]
     },
     "metadata": {},
     "output_type": "display_data"
    }
   ],
   "source": [
    "print(\"[INFO] classification on TEST...\")\n",
    "# make a prediction (returns a list of 0 - 4 values)\n",
    "y_pred_with_hp = train_with_hp.predict(X_test)\n",
    "# show true labels and predictions\n",
    "cm = confusion_matrix(y_test, y_pred_with_hp)\n",
    "sns.heatmap(cm, annot=True, cmap='viridis')\n",
    "plt.show()"
   ]
  },
  {
   "cell_type": "code",
   "execution_count": 50,
   "id": "bb47892e-297e-418a-8511-1b0f50f4eaa1",
   "metadata": {},
   "outputs": [
    {
     "name": "stdout",
     "output_type": "stream",
     "text": [
      "              precision    recall  f1-score   support\n",
      "\n",
      "           0       0.30      0.46      0.36       140\n",
      "           1       0.38      0.43      0.40       166\n",
      "           2       0.23      0.14      0.18       105\n",
      "           3       0.52      0.41      0.46       292\n",
      "\n",
      "    accuracy                           0.38       703\n",
      "   macro avg       0.35      0.36      0.35       703\n",
      "weighted avg       0.40      0.38      0.38       703\n",
      "\n"
     ]
    }
   ],
   "source": [
    "print(classification_report(y_test, y_pred_with_hp))"
   ]
  },
  {
   "cell_type": "code",
   "execution_count": null,
   "id": "53b63428-cc07-40a6-9cd5-0df7d6f903e4",
   "metadata": {},
   "outputs": [],
   "source": []
  },
  {
   "cell_type": "code",
   "execution_count": null,
   "id": "ac182e98-f038-496a-a88c-4a487f73bb13",
   "metadata": {},
   "outputs": [],
   "source": []
  },
  {
   "cell_type": "code",
   "execution_count": null,
   "id": "f799e5e3-a729-47a0-9bf1-1a3c014481f7",
   "metadata": {},
   "outputs": [],
   "source": []
  }
 ],
 "metadata": {
  "kernelspec": {
   "display_name": "Python 3 (ipykernel)",
   "language": "python",
   "name": "python3"
  },
  "language_info": {
   "codemirror_mode": {
    "name": "ipython",
    "version": 3
   },
   "file_extension": ".py",
   "mimetype": "text/x-python",
   "name": "python",
   "nbconvert_exporter": "python",
   "pygments_lexer": "ipython3",
   "version": "3.9.16"
  }
 },
 "nbformat": 4,
 "nbformat_minor": 5
}

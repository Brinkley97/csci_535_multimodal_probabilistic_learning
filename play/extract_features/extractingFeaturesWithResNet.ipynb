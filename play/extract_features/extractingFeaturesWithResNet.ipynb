{
 "cells": [
  {
   "cell_type": "markdown",
   "id": "526eb316-dbc5-4c1f-a440-f4a67ae15952",
   "metadata": {},
   "source": [
    "# Extract Features with ResNet\n",
    "- Subset of features"
   ]
  },
  {
   "cell_type": "code",
   "execution_count": 1,
   "id": "b29ee2b2-b24e-4794-8ed3-cd15f7f48e3f",
   "metadata": {},
   "outputs": [
    {
     "name": "stderr",
     "output_type": "stream",
     "text": [
      "2023-05-06 18:22:10.722008: I tensorflow/core/platform/cpu_feature_guard.cc:193] This TensorFlow binary is optimized with oneAPI Deep Neural Network Library (oneDNN) to use the following CPU instructions in performance-critical operations:  SSE4.1 SSE4.2 AVX AVX2 FMA\n",
      "To enable them in other operations, rebuild TensorFlow with the appropriate compiler flags.\n"
     ]
    }
   ],
   "source": [
    "import torch\n",
    "\n",
    "import pandas as pd\n",
    "\n",
    "from transformers import AutoImageProcessor, ResNetModel\n",
    "from datasets import load_dataset"
   ]
  },
  {
   "cell_type": "markdown",
   "id": "dd3d81f1-7fcf-4000-887a-4849e6c689fb",
   "metadata": {},
   "source": [
    "# Load Data"
   ]
  },
  {
   "cell_type": "code",
   "execution_count": null,
   "id": "44b83bf6-9f05-4f67-af09-4d00acd6546e",
   "metadata": {},
   "outputs": [],
   "source": [
    "BASE = '/Users/brinkley97/Documents/development/'\n",
    "CLASS_PATH = 'classes/csci_535_multimodal_probabilistic_learning/'\n",
    "DATASET_PATH = 'datasets/project/'"
   ]
  },
  {
   "cell_type": "code",
   "execution_count": null,
   "id": "5980cb14-3d2d-4a58-b79e-e35c8a8ab83c",
   "metadata": {},
   "outputs": [],
   "source": [
    "def load_data(file):\n",
    "    original_data = pd.read_csv(file)\n",
    "    # original_data = pd.DataFrame(file)\n",
    "    copy_of_data = original_data.copy()\n",
    "    return copy_of_data"
   ]
  },
  {
   "cell_type": "code",
   "execution_count": null,
   "id": "bfe23f02-b429-4dd9-865c-2603b5491d6f",
   "metadata": {},
   "outputs": [],
   "source": [
    "file_paths = BASE + CLASS_PATH + DATASET_PATH + 'crema_d/paths_to_crema_d_emotion_folder_images.csv'"
   ]
  },
  {
   "cell_type": "code",
   "execution_count": null,
   "id": "c29caf4d-28e4-4823-89cd-64ac9fdee71c",
   "metadata": {},
   "outputs": [
    {
     "data": {
      "text/html": [
       "<div>\n",
       "<style scoped>\n",
       "    .dataframe tbody tr th:only-of-type {\n",
       "        vertical-align: middle;\n",
       "    }\n",
       "\n",
       "    .dataframe tbody tr th {\n",
       "        vertical-align: top;\n",
       "    }\n",
       "\n",
       "    .dataframe thead th {\n",
       "        text-align: right;\n",
       "    }\n",
       "</style>\n",
       "<table border=\"1\" class=\"dataframe\">\n",
       "  <thead>\n",
       "    <tr style=\"text-align: right;\">\n",
       "      <th></th>\n",
       "      <th>Unnamed: 0</th>\n",
       "      <th>ang</th>\n",
       "      <th>dis</th>\n",
       "      <th>fea</th>\n",
       "      <th>hap</th>\n",
       "      <th>neu</th>\n",
       "      <th>sad</th>\n",
       "    </tr>\n",
       "  </thead>\n",
       "  <tbody>\n",
       "    <tr>\n",
       "      <th>0</th>\n",
       "      <td>0</td>\n",
       "      <td>/Users/brinkley97/Documents/development/classe...</td>\n",
       "      <td>/Users/brinkley97/Documents/development/classe...</td>\n",
       "      <td>/Users/brinkley97/Documents/development/classe...</td>\n",
       "      <td>/Users/brinkley97/Documents/development/classe...</td>\n",
       "      <td>/Users/brinkley97/Documents/development/classe...</td>\n",
       "      <td>/Users/brinkley97/Documents/development/classe...</td>\n",
       "    </tr>\n",
       "    <tr>\n",
       "      <th>1</th>\n",
       "      <td>1</td>\n",
       "      <td>/Users/brinkley97/Documents/development/classe...</td>\n",
       "      <td>/Users/brinkley97/Documents/development/classe...</td>\n",
       "      <td>/Users/brinkley97/Documents/development/classe...</td>\n",
       "      <td>/Users/brinkley97/Documents/development/classe...</td>\n",
       "      <td>/Users/brinkley97/Documents/development/classe...</td>\n",
       "      <td>/Users/brinkley97/Documents/development/classe...</td>\n",
       "    </tr>\n",
       "    <tr>\n",
       "      <th>2</th>\n",
       "      <td>2</td>\n",
       "      <td>/Users/brinkley97/Documents/development/classe...</td>\n",
       "      <td>/Users/brinkley97/Documents/development/classe...</td>\n",
       "      <td>/Users/brinkley97/Documents/development/classe...</td>\n",
       "      <td>/Users/brinkley97/Documents/development/classe...</td>\n",
       "      <td>/Users/brinkley97/Documents/development/classe...</td>\n",
       "      <td>/Users/brinkley97/Documents/development/classe...</td>\n",
       "    </tr>\n",
       "    <tr>\n",
       "      <th>3</th>\n",
       "      <td>3</td>\n",
       "      <td>/Users/brinkley97/Documents/development/classe...</td>\n",
       "      <td>/Users/brinkley97/Documents/development/classe...</td>\n",
       "      <td>/Users/brinkley97/Documents/development/classe...</td>\n",
       "      <td>/Users/brinkley97/Documents/development/classe...</td>\n",
       "      <td>/Users/brinkley97/Documents/development/classe...</td>\n",
       "      <td>/Users/brinkley97/Documents/development/classe...</td>\n",
       "    </tr>\n",
       "    <tr>\n",
       "      <th>4</th>\n",
       "      <td>4</td>\n",
       "      <td>/Users/brinkley97/Documents/development/classe...</td>\n",
       "      <td>/Users/brinkley97/Documents/development/classe...</td>\n",
       "      <td>/Users/brinkley97/Documents/development/classe...</td>\n",
       "      <td>/Users/brinkley97/Documents/development/classe...</td>\n",
       "      <td>/Users/brinkley97/Documents/development/classe...</td>\n",
       "      <td>/Users/brinkley97/Documents/development/classe...</td>\n",
       "    </tr>\n",
       "    <tr>\n",
       "      <th>...</th>\n",
       "      <td>...</td>\n",
       "      <td>...</td>\n",
       "      <td>...</td>\n",
       "      <td>...</td>\n",
       "      <td>...</td>\n",
       "      <td>...</td>\n",
       "      <td>...</td>\n",
       "    </tr>\n",
       "    <tr>\n",
       "      <th>107787</th>\n",
       "      <td>107787</td>\n",
       "      <td>NaN</td>\n",
       "      <td>/Users/brinkley97/Documents/development/classe...</td>\n",
       "      <td>NaN</td>\n",
       "      <td>NaN</td>\n",
       "      <td>NaN</td>\n",
       "      <td>NaN</td>\n",
       "    </tr>\n",
       "    <tr>\n",
       "      <th>107788</th>\n",
       "      <td>107788</td>\n",
       "      <td>NaN</td>\n",
       "      <td>/Users/brinkley97/Documents/development/classe...</td>\n",
       "      <td>NaN</td>\n",
       "      <td>NaN</td>\n",
       "      <td>NaN</td>\n",
       "      <td>NaN</td>\n",
       "    </tr>\n",
       "    <tr>\n",
       "      <th>107789</th>\n",
       "      <td>107789</td>\n",
       "      <td>NaN</td>\n",
       "      <td>/Users/brinkley97/Documents/development/classe...</td>\n",
       "      <td>NaN</td>\n",
       "      <td>NaN</td>\n",
       "      <td>NaN</td>\n",
       "      <td>NaN</td>\n",
       "    </tr>\n",
       "    <tr>\n",
       "      <th>107790</th>\n",
       "      <td>107790</td>\n",
       "      <td>NaN</td>\n",
       "      <td>/Users/brinkley97/Documents/development/classe...</td>\n",
       "      <td>NaN</td>\n",
       "      <td>NaN</td>\n",
       "      <td>NaN</td>\n",
       "      <td>NaN</td>\n",
       "    </tr>\n",
       "    <tr>\n",
       "      <th>107791</th>\n",
       "      <td>107791</td>\n",
       "      <td>NaN</td>\n",
       "      <td>/Users/brinkley97/Documents/development/classe...</td>\n",
       "      <td>NaN</td>\n",
       "      <td>NaN</td>\n",
       "      <td>NaN</td>\n",
       "      <td>NaN</td>\n",
       "    </tr>\n",
       "  </tbody>\n",
       "</table>\n",
       "<p>107792 rows × 7 columns</p>\n",
       "</div>"
      ],
      "text/plain": [
       "        Unnamed: 0                                                ang  \\\n",
       "0                0  /Users/brinkley97/Documents/development/classe...   \n",
       "1                1  /Users/brinkley97/Documents/development/classe...   \n",
       "2                2  /Users/brinkley97/Documents/development/classe...   \n",
       "3                3  /Users/brinkley97/Documents/development/classe...   \n",
       "4                4  /Users/brinkley97/Documents/development/classe...   \n",
       "...            ...                                                ...   \n",
       "107787      107787                                                NaN   \n",
       "107788      107788                                                NaN   \n",
       "107789      107789                                                NaN   \n",
       "107790      107790                                                NaN   \n",
       "107791      107791                                                NaN   \n",
       "\n",
       "                                                      dis  \\\n",
       "0       /Users/brinkley97/Documents/development/classe...   \n",
       "1       /Users/brinkley97/Documents/development/classe...   \n",
       "2       /Users/brinkley97/Documents/development/classe...   \n",
       "3       /Users/brinkley97/Documents/development/classe...   \n",
       "4       /Users/brinkley97/Documents/development/classe...   \n",
       "...                                                   ...   \n",
       "107787  /Users/brinkley97/Documents/development/classe...   \n",
       "107788  /Users/brinkley97/Documents/development/classe...   \n",
       "107789  /Users/brinkley97/Documents/development/classe...   \n",
       "107790  /Users/brinkley97/Documents/development/classe...   \n",
       "107791  /Users/brinkley97/Documents/development/classe...   \n",
       "\n",
       "                                                      fea  \\\n",
       "0       /Users/brinkley97/Documents/development/classe...   \n",
       "1       /Users/brinkley97/Documents/development/classe...   \n",
       "2       /Users/brinkley97/Documents/development/classe...   \n",
       "3       /Users/brinkley97/Documents/development/classe...   \n",
       "4       /Users/brinkley97/Documents/development/classe...   \n",
       "...                                                   ...   \n",
       "107787                                                NaN   \n",
       "107788                                                NaN   \n",
       "107789                                                NaN   \n",
       "107790                                                NaN   \n",
       "107791                                                NaN   \n",
       "\n",
       "                                                      hap  \\\n",
       "0       /Users/brinkley97/Documents/development/classe...   \n",
       "1       /Users/brinkley97/Documents/development/classe...   \n",
       "2       /Users/brinkley97/Documents/development/classe...   \n",
       "3       /Users/brinkley97/Documents/development/classe...   \n",
       "4       /Users/brinkley97/Documents/development/classe...   \n",
       "...                                                   ...   \n",
       "107787                                                NaN   \n",
       "107788                                                NaN   \n",
       "107789                                                NaN   \n",
       "107790                                                NaN   \n",
       "107791                                                NaN   \n",
       "\n",
       "                                                      neu  \\\n",
       "0       /Users/brinkley97/Documents/development/classe...   \n",
       "1       /Users/brinkley97/Documents/development/classe...   \n",
       "2       /Users/brinkley97/Documents/development/classe...   \n",
       "3       /Users/brinkley97/Documents/development/classe...   \n",
       "4       /Users/brinkley97/Documents/development/classe...   \n",
       "...                                                   ...   \n",
       "107787                                                NaN   \n",
       "107788                                                NaN   \n",
       "107789                                                NaN   \n",
       "107790                                                NaN   \n",
       "107791                                                NaN   \n",
       "\n",
       "                                                      sad  \n",
       "0       /Users/brinkley97/Documents/development/classe...  \n",
       "1       /Users/brinkley97/Documents/development/classe...  \n",
       "2       /Users/brinkley97/Documents/development/classe...  \n",
       "3       /Users/brinkley97/Documents/development/classe...  \n",
       "4       /Users/brinkley97/Documents/development/classe...  \n",
       "...                                                   ...  \n",
       "107787                                                NaN  \n",
       "107788                                                NaN  \n",
       "107789                                                NaN  \n",
       "107790                                                NaN  \n",
       "107791                                                NaN  \n",
       "\n",
       "[107792 rows x 7 columns]"
      ]
     },
     "execution_count": 6,
     "metadata": {},
     "output_type": "execute_result"
    }
   ],
   "source": [
    "dataset_paths_copy = load_data(file_paths)\n",
    "# dataset_paths_copy"
   ]
  },
  {
   "cell_type": "markdown",
   "id": "b5916135-24a5-4b51-ac43-dd6e50cbd829",
   "metadata": {},
   "source": [
    "# ResNet"
   ]
  },
  {
   "cell_type": "code",
   "execution_count": 3,
   "id": "05ac2bd4-a77b-4ee9-975e-acf489d90cd7",
   "metadata": {},
   "outputs": [
    {
     "name": "stderr",
     "output_type": "stream",
     "text": [
      "Could not find image processor class in the image processor config or the model config. Loading based on pattern matching with the model's feature extractor configuration.\n",
      "Some weights of the model checkpoint at microsoft/resnet-50 were not used when initializing ResNetModel: ['classifier.1.weight', 'classifier.1.bias']\n",
      "- This IS expected if you are initializing ResNetModel from the checkpoint of a model trained on another task or with another architecture (e.g. initializing a BertForSequenceClassification model from a BertForPreTraining model).\n",
      "- This IS NOT expected if you are initializing ResNetModel from the checkpoint of a model that you expect to be exactly identical (initializing a BertForSequenceClassification model from a BertForSequenceClassification model).\n"
     ]
    }
   ],
   "source": [
    "image_processor = AutoImageProcessor.from_pretrained(\"microsoft/resnet-50\")\n",
    "model = ResNetModel.from_pretrained(\"microsoft/resnet-50\")"
   ]
  },
  {
   "cell_type": "code",
   "execution_count": 9,
   "id": "53286baf-436a-430a-9967-1e6a66fdb154",
   "metadata": {},
   "outputs": [],
   "source": [
    "last_conv_layer_name = \"block5_conv4\"\n",
    "model = tf.keras.models.Model(inputs=base_model.input, outputs=base_model.get_layer(last_conv_layer_name).output)"
   ]
  },
  {
   "cell_type": "markdown",
   "id": "13a87f58-e031-4040-851f-c75c295cb10d",
   "metadata": {},
   "source": [
    "# Extract Features"
   ]
  },
  {
   "cell_type": "code",
   "execution_count": null,
   "id": "602d15c9-b808-431d-ab89-f2de8e6f0600",
   "metadata": {},
   "outputs": [],
   "source": [
    "def extract_features_with_vgg(store_img_arrays):\n",
    "    \"\"\"\n",
    "    \"\"\"\n",
    "    \n",
    "    store_extracted_features = []\n",
    "    for store_img_arrays_idx in range(len(store_img_arrays)):\n",
    "        store_img_array = store_img_arrays[store_img_arrays_idx]\n",
    "        # print(store_img_arrays_idx, store_img_array)\n",
    "        print(store_img_arrays_idx, len(store_img_array))\n",
    "\n",
    "        features = model.predict(store_img_array)\n",
    "        store_extracted_features.append(features)\n",
    "    \n",
    "    return store_extracted_features"
   ]
  },
  {
   "cell_type": "code",
   "execution_count": null,
   "id": "ed288c02-9047-4849-9b0e-71767c4ddc6d",
   "metadata": {},
   "outputs": [],
   "source": [
    "# ang_preprocessed_batch_18000 = loading_preprocessed_ang_avg_images[0:18000]\n",
    "# store_ang_extracted_features = extract_features_with_vgg(ang_preprocessed_batch_18000)"
   ]
  },
  {
   "cell_type": "code",
   "execution_count": null,
   "id": "e6f2c2fc-47fd-44a9-ba8a-b0d7ea92d080",
   "metadata": {},
   "outputs": [],
   "source": [
    "# # emotionLabel_model_batchSize_extracted_features_dataset\n",
    "# file_name = 'ang_vgg_18000_extracted_features_crema_d.npy'\n",
    "# # file_name = 'ang_vgg_18000_extracted_features_crema_d.npy'"
   ]
  },
  {
   "cell_type": "code",
   "execution_count": null,
   "id": "f156dc83-4bcb-4312-ad4f-7f19c1d36314",
   "metadata": {},
   "outputs": [],
   "source": [
    "# vgg_anger_save_location = BASE + CLASS_PATH + DATASET_PATH + 'crema_d/extracted_features_crema_d/vgg/ang/' + file_name\n",
    "# np.save(vgg_anger_save_location, store_ang_extracted_features)"
   ]
  },
  {
   "cell_type": "code",
   "execution_count": null,
   "id": "257a543e-7427-4daa-99c0-e7d958482f30",
   "metadata": {},
   "outputs": [],
   "source": [
    "# np.load(vgg_anger_save_location)"
   ]
  },
  {
   "cell_type": "code",
   "execution_count": null,
   "id": "35f212ce-588d-404d-9bc5-57590797b6ca",
   "metadata": {},
   "outputs": [],
   "source": [
    "stop timer"
   ]
  }
 ],
 "metadata": {
  "kernelspec": {
   "display_name": "Python 3 (ipykernel)",
   "language": "python",
   "name": "python3"
  },
  "language_info": {
   "codemirror_mode": {
    "name": "ipython",
    "version": 3
   },
   "file_extension": ".py",
   "mimetype": "text/x-python",
   "name": "python",
   "nbconvert_exporter": "python",
   "pygments_lexer": "ipython3",
   "version": "3.9.12"
  }
 },
 "nbformat": 4,
 "nbformat_minor": 5
}

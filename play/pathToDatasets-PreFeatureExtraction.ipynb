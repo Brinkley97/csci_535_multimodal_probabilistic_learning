{
 "cells": [
  {
   "cell_type": "markdown",
   "id": "7df1934a-0384-415a-a469-8d459ae8bef8",
   "metadata": {},
   "source": [
    "# Paths to Datasets\n",
    "- [ ] Crema-D \n",
    "- [ ] MSP R\n",
    "- [x] MSP T"
   ]
  },
  {
   "cell_type": "code",
   "execution_count": 1,
   "id": "becba264-16ac-4205-b299-1bf1782706c9",
   "metadata": {},
   "outputs": [],
   "source": [
    "import os\n",
    "\n",
    "import pandas as pd"
   ]
  },
  {
   "cell_type": "code",
   "execution_count": 2,
   "id": "5fa28ab4-0e07-4f74-a8c5-2082f83d4de6",
   "metadata": {},
   "outputs": [],
   "source": [
    "BASE = '/Users/brinkley97/Documents/development/'\n",
    "CLASS_PATH = 'classes/csci_535_multimodal_probabilistic_learning/'\n",
    "DATASET_PATH = 'datasets/project/'"
   ]
  },
  {
   "cell_type": "code",
   "execution_count": null,
   "id": "b3fee8ff-4df2-40b9-b0c6-8a92b4face00",
   "metadata": {},
   "outputs": [],
   "source": []
  },
  {
   "cell_type": "code",
   "execution_count": 4,
   "id": "3a8ff753-f250-4bda-abba-e457b93cda68",
   "metadata": {},
   "outputs": [],
   "source": [
    "def store_paths(path_to_faces_folder):\n",
    "    \"\"\"\n",
    "    \n",
    "    Parameters:\n",
    "    path_to_faces_folder -- str (of a single path to all saved cropped faces)\n",
    "\n",
    "    Return\n",
    "    build_file_path -- path to all images in emotion folder\n",
    "    \"\"\"\n",
    "\n",
    "   \n",
    "    folder_with_faces = os.listdir(path_to_faces_folder)\n",
    "    print(len(folder_with_faces))\n",
    "    \n",
    "    build_file_path = []\n",
    "    \n",
    "    for face_idx in range(len(folder_with_faces)):\n",
    "        specific_face_folder = folder_with_faces[face_idx]\n",
    "        # print(face_idx, specific_face_folder)\n",
    "        path_to_face_folder = path_to_faces_folder + specific_face_folder\n",
    "        # print(face_idx, path_to_face_folder)\n",
    "        build_file_path.append(path_to_face_folder)\n",
    "\n",
    "    return build_file_path"
   ]
  },
  {
   "cell_type": "code",
   "execution_count": 5,
   "id": "b22e5400-7b41-451f-b2f7-8053a3d8a707",
   "metadata": {},
   "outputs": [],
   "source": [
    "# ang_path = BASE + CLASS_PATH + DATASET_PATH + 'crema_d/faces_to_specific_emotion_folder_crema_d/ang_crema_d/'\n",
    "# ang_path_crema_d = store_paths(ang_path)\n",
    "\n",
    "# dis_path = BASE + CLASS_PATH + DATASET_PATH + 'crema_d/faces_to_specific_emotion_folder_crema_d/dis_crema_d/'\n",
    "# dis_path_crema_d = store_paths(dis_path)\n",
    "\n",
    "# fea_path = BASE + CLASS_PATH + DATASET_PATH + 'crema_d/faces_to_specific_emotion_folder_crema_d/fea_crema_d/'\n",
    "# fea_path_crema_d = store_paths(fea_path)\n",
    "\n",
    "# hap_path = BASE + CLASS_PATH + DATASET_PATH + 'crema_d/faces_to_specific_emotion_folder_crema_d/hap_crema_d/'\n",
    "# hap_path_crema_d = store_paths(hap_path)\n",
    "\n",
    "# neu_path = BASE + CLASS_PATH + DATASET_PATH + 'crema_d/faces_to_specific_emotion_folder_crema_d/neu_crema_d/'\n",
    "# neu_path_crema_d = store_paths(neu_path)\n",
    "\n",
    "# sad_path = BASE + CLASS_PATH + DATASET_PATH + 'crema_d/faces_to_specific_emotion_folder_crema_d/sad_crema_d/'\n",
    "# sad_path_crema_d = store_paths(sad_path)"
   ]
  },
  {
   "cell_type": "markdown",
   "id": "2800b683-eb32-407d-85e2-146a0d4fe9b9",
   "metadata": {},
   "source": [
    "# MSP T"
   ]
  },
  {
   "cell_type": "code",
   "execution_count": 6,
   "id": "e03b4feb-2fbf-4577-8e1d-3790056b585a",
   "metadata": {},
   "outputs": [
    {
     "name": "stdout",
     "output_type": "stream",
     "text": [
      "652\n"
     ]
    }
   ],
   "source": [
    "path_to_faces_folder_msp_t = BASE + CLASS_PATH + DATASET_PATH + 'msp_t/frames_to_faces_msp_t/'\n",
    "store_faces_paths_msp_t = store_paths(path_to_faces_folder_msp_t)"
   ]
  },
  {
   "cell_type": "code",
   "execution_count": null,
   "id": "4b94d0d9-2d3d-4318-895e-64dfcc68c9f2",
   "metadata": {},
   "outputs": [],
   "source": []
  },
  {
   "cell_type": "code",
   "execution_count": 9,
   "id": "5a7348a3-afa4-4c77-a696-450671d9cb4c",
   "metadata": {},
   "outputs": [],
   "source": [
    "msp_t_paths_to_faces_df = pd.DataFrame(store_faces_paths_msp_t, columns=['msp_t'])"
   ]
  },
  {
   "cell_type": "code",
   "execution_count": 10,
   "id": "67a0aacf-f968-48ed-a142-cd8182dbb721",
   "metadata": {},
   "outputs": [
    {
     "data": {
      "text/html": [
       "<div>\n",
       "<style scoped>\n",
       "    .dataframe tbody tr th:only-of-type {\n",
       "        vertical-align: middle;\n",
       "    }\n",
       "\n",
       "    .dataframe tbody tr th {\n",
       "        vertical-align: top;\n",
       "    }\n",
       "\n",
       "    .dataframe thead th {\n",
       "        text-align: right;\n",
       "    }\n",
       "</style>\n",
       "<table border=\"1\" class=\"dataframe\">\n",
       "  <thead>\n",
       "    <tr style=\"text-align: right;\">\n",
       "      <th></th>\n",
       "      <th>msp_t</th>\n",
       "    </tr>\n",
       "  </thead>\n",
       "  <tbody>\n",
       "    <tr>\n",
       "      <th>0</th>\n",
       "      <td>/Users/brinkley97/Documents/development/classe...</td>\n",
       "    </tr>\n",
       "    <tr>\n",
       "      <th>1</th>\n",
       "      <td>/Users/brinkley97/Documents/development/classe...</td>\n",
       "    </tr>\n",
       "    <tr>\n",
       "      <th>2</th>\n",
       "      <td>/Users/brinkley97/Documents/development/classe...</td>\n",
       "    </tr>\n",
       "    <tr>\n",
       "      <th>3</th>\n",
       "      <td>/Users/brinkley97/Documents/development/classe...</td>\n",
       "    </tr>\n",
       "    <tr>\n",
       "      <th>4</th>\n",
       "      <td>/Users/brinkley97/Documents/development/classe...</td>\n",
       "    </tr>\n",
       "    <tr>\n",
       "      <th>...</th>\n",
       "      <td>...</td>\n",
       "    </tr>\n",
       "    <tr>\n",
       "      <th>647</th>\n",
       "      <td>/Users/brinkley97/Documents/development/classe...</td>\n",
       "    </tr>\n",
       "    <tr>\n",
       "      <th>648</th>\n",
       "      <td>/Users/brinkley97/Documents/development/classe...</td>\n",
       "    </tr>\n",
       "    <tr>\n",
       "      <th>649</th>\n",
       "      <td>/Users/brinkley97/Documents/development/classe...</td>\n",
       "    </tr>\n",
       "    <tr>\n",
       "      <th>650</th>\n",
       "      <td>/Users/brinkley97/Documents/development/classe...</td>\n",
       "    </tr>\n",
       "    <tr>\n",
       "      <th>651</th>\n",
       "      <td>/Users/brinkley97/Documents/development/classe...</td>\n",
       "    </tr>\n",
       "  </tbody>\n",
       "</table>\n",
       "<p>652 rows × 1 columns</p>\n",
       "</div>"
      ],
      "text/plain": [
       "                                                 msp_t\n",
       "0    /Users/brinkley97/Documents/development/classe...\n",
       "1    /Users/brinkley97/Documents/development/classe...\n",
       "2    /Users/brinkley97/Documents/development/classe...\n",
       "3    /Users/brinkley97/Documents/development/classe...\n",
       "4    /Users/brinkley97/Documents/development/classe...\n",
       "..                                                 ...\n",
       "647  /Users/brinkley97/Documents/development/classe...\n",
       "648  /Users/brinkley97/Documents/development/classe...\n",
       "649  /Users/brinkley97/Documents/development/classe...\n",
       "650  /Users/brinkley97/Documents/development/classe...\n",
       "651  /Users/brinkley97/Documents/development/classe...\n",
       "\n",
       "[652 rows x 1 columns]"
      ]
     },
     "execution_count": 10,
     "metadata": {},
     "output_type": "execute_result"
    }
   ],
   "source": [
    "msp_t_paths_to_faces_df"
   ]
  },
  {
   "cell_type": "code",
   "execution_count": 11,
   "id": "514e1d71-1b63-495e-a578-18ba69ecc777",
   "metadata": {},
   "outputs": [],
   "source": [
    "# save_data_df\n",
    "compression_opts_msp_t = dict(method='zip', archive_name='all_paths_to_msp_t_faces.csv')  \n",
    "path_to_csv_msp_t = BASE + CLASS_PATH + DATASET_PATH + 'msp_t/' + 'all_paths_to_msp_t_faces.zip' \n",
    "msp_t_paths_to_faces_df.to_csv(path_to_csv_msp_t, compression=compression_opts_msp_t)"
   ]
  },
  {
   "cell_type": "code",
   "execution_count": null,
   "id": "5b6069e1-d8f9-450a-91d9-6d2b7d4fd58e",
   "metadata": {},
   "outputs": [],
   "source": []
  }
 ],
 "metadata": {
  "kernelspec": {
   "display_name": "Python 3 (ipykernel)",
   "language": "python",
   "name": "python3"
  },
  "language_info": {
   "codemirror_mode": {
    "name": "ipython",
    "version": 3
   },
   "file_extension": ".py",
   "mimetype": "text/x-python",
   "name": "python",
   "nbconvert_exporter": "python",
   "pygments_lexer": "ipython3",
   "version": "3.9.16"
  }
 },
 "nbformat": 4,
 "nbformat_minor": 5
}

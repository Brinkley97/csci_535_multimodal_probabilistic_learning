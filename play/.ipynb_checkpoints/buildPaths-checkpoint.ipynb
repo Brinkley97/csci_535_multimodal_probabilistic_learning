{
 "cells": [
  {
   "cell_type": "markdown",
   "id": "29066eb5-12d8-4945-8095-12efbf6bb3e1",
   "metadata": {},
   "source": [
    "# Build Paths"
   ]
  },
  {
   "cell_type": "code",
   "execution_count": 1,
   "id": "41164636-6f26-475d-8b42-57268f64d25c",
   "metadata": {},
   "outputs": [],
   "source": [
    "import os\n",
    "\n",
    "import pandas as pd"
   ]
  },
  {
   "cell_type": "code",
   "execution_count": 11,
   "id": "08cdd1a7-d6b9-42ba-9c32-a87140b617f7",
   "metadata": {},
   "outputs": [],
   "source": [
    "BASE = \"/Users/brinkley97/Documents/development/\"\n",
    "CLASS_PATH = \"classes/csci_535_multimodal_probabilistic_learning/\"\n",
    "DATASET_PATH = \"datasets/msp/\"\n",
    "SESSION_1 = \"session1/\"\n",
    "SESSION_2 = \"session2/\"\n",
    "SESSION_3 = \"session3/\"\n",
    "SESSION_4 = \"session4/\"\n",
    "SESSION_5 = \"session5/\"\n",
    "SESSION_6 = \"session6/\"\n",
    "SESSIONS = [\"session1/\", \"session2/\", \"session3/\", \"session4/\", \"session5/\", \"session6/\"]"
   ]
  },
  {
   "cell_type": "code",
   "execution_count": 32,
   "id": "a6899a89-73f6-4685-901d-f9fafb81774a",
   "metadata": {},
   "outputs": [],
   "source": [
    "sessions_paths = []\n",
    "for session in SESSIONS:\n",
    "    build_session_path = BASE + CLASS_PATH + DATASET_PATH + session + \"S\"\n",
    "    sessions_paths.append(build_session_path)"
   ]
  },
  {
   "cell_type": "code",
   "execution_count": 33,
   "id": "4aa3e0c9-f783-4b47-bf65-c8749f9560c6",
   "metadata": {},
   "outputs": [
    {
     "data": {
      "text/plain": [
       "['/Users/brinkley97/Documents/development/classes/csci_535_multimodal_probabilistic_learning/datasets/msp/session1/S',\n",
       " '/Users/brinkley97/Documents/development/classes/csci_535_multimodal_probabilistic_learning/datasets/msp/session2/S',\n",
       " '/Users/brinkley97/Documents/development/classes/csci_535_multimodal_probabilistic_learning/datasets/msp/session3/S',\n",
       " '/Users/brinkley97/Documents/development/classes/csci_535_multimodal_probabilistic_learning/datasets/msp/session4/S',\n",
       " '/Users/brinkley97/Documents/development/classes/csci_535_multimodal_probabilistic_learning/datasets/msp/session5/S',\n",
       " '/Users/brinkley97/Documents/development/classes/csci_535_multimodal_probabilistic_learning/datasets/msp/session6/S']"
      ]
     },
     "execution_count": 33,
     "metadata": {},
     "output_type": "execute_result"
    }
   ],
   "source": [
    "sessions_paths"
   ]
  },
  {
   "cell_type": "code",
   "execution_count": 38,
   "id": "9ee065a9-0941-4c9f-9a3f-858a6a11e135",
   "metadata": {},
   "outputs": [],
   "source": [
    "sentence_paths = []\n",
    "sentence_numbers = range(1, 21)\n",
    "\n",
    "for sentence_number in sentence_numbers:\n",
    "    # print(sentence_number)\n",
    "    for sessions_path in range(len(sessions_paths)):\n",
    "        # print(sessions_paths[sessions_path])\n",
    "    \n",
    "        \n",
    "        build_in_sentence_number = sessions_paths[sessions_path] + str(sentence_number)\n",
    "        sentence_paths.append(build_in_sentence_number)"
   ]
  },
  {
   "cell_type": "code",
   "execution_count": 39,
   "id": "43c88290-c937-4d91-bae9-26ac8ed61e94",
   "metadata": {},
   "outputs": [
    {
     "data": {
      "text/plain": [
       "['/Users/brinkley97/Documents/development/classes/csci_535_multimodal_probabilistic_learning/datasets/msp/session1/S1',\n",
       " '/Users/brinkley97/Documents/development/classes/csci_535_multimodal_probabilistic_learning/datasets/msp/session2/S1',\n",
       " '/Users/brinkley97/Documents/development/classes/csci_535_multimodal_probabilistic_learning/datasets/msp/session3/S1',\n",
       " '/Users/brinkley97/Documents/development/classes/csci_535_multimodal_probabilistic_learning/datasets/msp/session4/S1',\n",
       " '/Users/brinkley97/Documents/development/classes/csci_535_multimodal_probabilistic_learning/datasets/msp/session5/S1',\n",
       " '/Users/brinkley97/Documents/development/classes/csci_535_multimodal_probabilistic_learning/datasets/msp/session6/S1',\n",
       " '/Users/brinkley97/Documents/development/classes/csci_535_multimodal_probabilistic_learning/datasets/msp/session1/S2',\n",
       " '/Users/brinkley97/Documents/development/classes/csci_535_multimodal_probabilistic_learning/datasets/msp/session2/S2',\n",
       " '/Users/brinkley97/Documents/development/classes/csci_535_multimodal_probabilistic_learning/datasets/msp/session3/S2',\n",
       " '/Users/brinkley97/Documents/development/classes/csci_535_multimodal_probabilistic_learning/datasets/msp/session4/S2',\n",
       " '/Users/brinkley97/Documents/development/classes/csci_535_multimodal_probabilistic_learning/datasets/msp/session5/S2',\n",
       " '/Users/brinkley97/Documents/development/classes/csci_535_multimodal_probabilistic_learning/datasets/msp/session6/S2',\n",
       " '/Users/brinkley97/Documents/development/classes/csci_535_multimodal_probabilistic_learning/datasets/msp/session1/S3',\n",
       " '/Users/brinkley97/Documents/development/classes/csci_535_multimodal_probabilistic_learning/datasets/msp/session2/S3',\n",
       " '/Users/brinkley97/Documents/development/classes/csci_535_multimodal_probabilistic_learning/datasets/msp/session3/S3',\n",
       " '/Users/brinkley97/Documents/development/classes/csci_535_multimodal_probabilistic_learning/datasets/msp/session4/S3',\n",
       " '/Users/brinkley97/Documents/development/classes/csci_535_multimodal_probabilistic_learning/datasets/msp/session5/S3',\n",
       " '/Users/brinkley97/Documents/development/classes/csci_535_multimodal_probabilistic_learning/datasets/msp/session6/S3',\n",
       " '/Users/brinkley97/Documents/development/classes/csci_535_multimodal_probabilistic_learning/datasets/msp/session1/S4',\n",
       " '/Users/brinkley97/Documents/development/classes/csci_535_multimodal_probabilistic_learning/datasets/msp/session2/S4',\n",
       " '/Users/brinkley97/Documents/development/classes/csci_535_multimodal_probabilistic_learning/datasets/msp/session3/S4',\n",
       " '/Users/brinkley97/Documents/development/classes/csci_535_multimodal_probabilistic_learning/datasets/msp/session4/S4',\n",
       " '/Users/brinkley97/Documents/development/classes/csci_535_multimodal_probabilistic_learning/datasets/msp/session5/S4',\n",
       " '/Users/brinkley97/Documents/development/classes/csci_535_multimodal_probabilistic_learning/datasets/msp/session6/S4',\n",
       " '/Users/brinkley97/Documents/development/classes/csci_535_multimodal_probabilistic_learning/datasets/msp/session1/S5',\n",
       " '/Users/brinkley97/Documents/development/classes/csci_535_multimodal_probabilistic_learning/datasets/msp/session2/S5',\n",
       " '/Users/brinkley97/Documents/development/classes/csci_535_multimodal_probabilistic_learning/datasets/msp/session3/S5',\n",
       " '/Users/brinkley97/Documents/development/classes/csci_535_multimodal_probabilistic_learning/datasets/msp/session4/S5',\n",
       " '/Users/brinkley97/Documents/development/classes/csci_535_multimodal_probabilistic_learning/datasets/msp/session5/S5',\n",
       " '/Users/brinkley97/Documents/development/classes/csci_535_multimodal_probabilistic_learning/datasets/msp/session6/S5',\n",
       " '/Users/brinkley97/Documents/development/classes/csci_535_multimodal_probabilistic_learning/datasets/msp/session1/S6',\n",
       " '/Users/brinkley97/Documents/development/classes/csci_535_multimodal_probabilistic_learning/datasets/msp/session2/S6',\n",
       " '/Users/brinkley97/Documents/development/classes/csci_535_multimodal_probabilistic_learning/datasets/msp/session3/S6',\n",
       " '/Users/brinkley97/Documents/development/classes/csci_535_multimodal_probabilistic_learning/datasets/msp/session4/S6',\n",
       " '/Users/brinkley97/Documents/development/classes/csci_535_multimodal_probabilistic_learning/datasets/msp/session5/S6',\n",
       " '/Users/brinkley97/Documents/development/classes/csci_535_multimodal_probabilistic_learning/datasets/msp/session6/S6',\n",
       " '/Users/brinkley97/Documents/development/classes/csci_535_multimodal_probabilistic_learning/datasets/msp/session1/S7',\n",
       " '/Users/brinkley97/Documents/development/classes/csci_535_multimodal_probabilistic_learning/datasets/msp/session2/S7',\n",
       " '/Users/brinkley97/Documents/development/classes/csci_535_multimodal_probabilistic_learning/datasets/msp/session3/S7',\n",
       " '/Users/brinkley97/Documents/development/classes/csci_535_multimodal_probabilistic_learning/datasets/msp/session4/S7',\n",
       " '/Users/brinkley97/Documents/development/classes/csci_535_multimodal_probabilistic_learning/datasets/msp/session5/S7',\n",
       " '/Users/brinkley97/Documents/development/classes/csci_535_multimodal_probabilistic_learning/datasets/msp/session6/S7',\n",
       " '/Users/brinkley97/Documents/development/classes/csci_535_multimodal_probabilistic_learning/datasets/msp/session1/S8',\n",
       " '/Users/brinkley97/Documents/development/classes/csci_535_multimodal_probabilistic_learning/datasets/msp/session2/S8',\n",
       " '/Users/brinkley97/Documents/development/classes/csci_535_multimodal_probabilistic_learning/datasets/msp/session3/S8',\n",
       " '/Users/brinkley97/Documents/development/classes/csci_535_multimodal_probabilistic_learning/datasets/msp/session4/S8',\n",
       " '/Users/brinkley97/Documents/development/classes/csci_535_multimodal_probabilistic_learning/datasets/msp/session5/S8',\n",
       " '/Users/brinkley97/Documents/development/classes/csci_535_multimodal_probabilistic_learning/datasets/msp/session6/S8',\n",
       " '/Users/brinkley97/Documents/development/classes/csci_535_multimodal_probabilistic_learning/datasets/msp/session1/S9',\n",
       " '/Users/brinkley97/Documents/development/classes/csci_535_multimodal_probabilistic_learning/datasets/msp/session2/S9',\n",
       " '/Users/brinkley97/Documents/development/classes/csci_535_multimodal_probabilistic_learning/datasets/msp/session3/S9',\n",
       " '/Users/brinkley97/Documents/development/classes/csci_535_multimodal_probabilistic_learning/datasets/msp/session4/S9',\n",
       " '/Users/brinkley97/Documents/development/classes/csci_535_multimodal_probabilistic_learning/datasets/msp/session5/S9',\n",
       " '/Users/brinkley97/Documents/development/classes/csci_535_multimodal_probabilistic_learning/datasets/msp/session6/S9',\n",
       " '/Users/brinkley97/Documents/development/classes/csci_535_multimodal_probabilistic_learning/datasets/msp/session1/S10',\n",
       " '/Users/brinkley97/Documents/development/classes/csci_535_multimodal_probabilistic_learning/datasets/msp/session2/S10',\n",
       " '/Users/brinkley97/Documents/development/classes/csci_535_multimodal_probabilistic_learning/datasets/msp/session3/S10',\n",
       " '/Users/brinkley97/Documents/development/classes/csci_535_multimodal_probabilistic_learning/datasets/msp/session4/S10',\n",
       " '/Users/brinkley97/Documents/development/classes/csci_535_multimodal_probabilistic_learning/datasets/msp/session5/S10',\n",
       " '/Users/brinkley97/Documents/development/classes/csci_535_multimodal_probabilistic_learning/datasets/msp/session6/S10',\n",
       " '/Users/brinkley97/Documents/development/classes/csci_535_multimodal_probabilistic_learning/datasets/msp/session1/S11',\n",
       " '/Users/brinkley97/Documents/development/classes/csci_535_multimodal_probabilistic_learning/datasets/msp/session2/S11',\n",
       " '/Users/brinkley97/Documents/development/classes/csci_535_multimodal_probabilistic_learning/datasets/msp/session3/S11',\n",
       " '/Users/brinkley97/Documents/development/classes/csci_535_multimodal_probabilistic_learning/datasets/msp/session4/S11',\n",
       " '/Users/brinkley97/Documents/development/classes/csci_535_multimodal_probabilistic_learning/datasets/msp/session5/S11',\n",
       " '/Users/brinkley97/Documents/development/classes/csci_535_multimodal_probabilistic_learning/datasets/msp/session6/S11',\n",
       " '/Users/brinkley97/Documents/development/classes/csci_535_multimodal_probabilistic_learning/datasets/msp/session1/S12',\n",
       " '/Users/brinkley97/Documents/development/classes/csci_535_multimodal_probabilistic_learning/datasets/msp/session2/S12',\n",
       " '/Users/brinkley97/Documents/development/classes/csci_535_multimodal_probabilistic_learning/datasets/msp/session3/S12',\n",
       " '/Users/brinkley97/Documents/development/classes/csci_535_multimodal_probabilistic_learning/datasets/msp/session4/S12',\n",
       " '/Users/brinkley97/Documents/development/classes/csci_535_multimodal_probabilistic_learning/datasets/msp/session5/S12',\n",
       " '/Users/brinkley97/Documents/development/classes/csci_535_multimodal_probabilistic_learning/datasets/msp/session6/S12',\n",
       " '/Users/brinkley97/Documents/development/classes/csci_535_multimodal_probabilistic_learning/datasets/msp/session1/S13',\n",
       " '/Users/brinkley97/Documents/development/classes/csci_535_multimodal_probabilistic_learning/datasets/msp/session2/S13',\n",
       " '/Users/brinkley97/Documents/development/classes/csci_535_multimodal_probabilistic_learning/datasets/msp/session3/S13',\n",
       " '/Users/brinkley97/Documents/development/classes/csci_535_multimodal_probabilistic_learning/datasets/msp/session4/S13',\n",
       " '/Users/brinkley97/Documents/development/classes/csci_535_multimodal_probabilistic_learning/datasets/msp/session5/S13',\n",
       " '/Users/brinkley97/Documents/development/classes/csci_535_multimodal_probabilistic_learning/datasets/msp/session6/S13',\n",
       " '/Users/brinkley97/Documents/development/classes/csci_535_multimodal_probabilistic_learning/datasets/msp/session1/S14',\n",
       " '/Users/brinkley97/Documents/development/classes/csci_535_multimodal_probabilistic_learning/datasets/msp/session2/S14',\n",
       " '/Users/brinkley97/Documents/development/classes/csci_535_multimodal_probabilistic_learning/datasets/msp/session3/S14',\n",
       " '/Users/brinkley97/Documents/development/classes/csci_535_multimodal_probabilistic_learning/datasets/msp/session4/S14',\n",
       " '/Users/brinkley97/Documents/development/classes/csci_535_multimodal_probabilistic_learning/datasets/msp/session5/S14',\n",
       " '/Users/brinkley97/Documents/development/classes/csci_535_multimodal_probabilistic_learning/datasets/msp/session6/S14',\n",
       " '/Users/brinkley97/Documents/development/classes/csci_535_multimodal_probabilistic_learning/datasets/msp/session1/S15',\n",
       " '/Users/brinkley97/Documents/development/classes/csci_535_multimodal_probabilistic_learning/datasets/msp/session2/S15',\n",
       " '/Users/brinkley97/Documents/development/classes/csci_535_multimodal_probabilistic_learning/datasets/msp/session3/S15',\n",
       " '/Users/brinkley97/Documents/development/classes/csci_535_multimodal_probabilistic_learning/datasets/msp/session4/S15',\n",
       " '/Users/brinkley97/Documents/development/classes/csci_535_multimodal_probabilistic_learning/datasets/msp/session5/S15',\n",
       " '/Users/brinkley97/Documents/development/classes/csci_535_multimodal_probabilistic_learning/datasets/msp/session6/S15',\n",
       " '/Users/brinkley97/Documents/development/classes/csci_535_multimodal_probabilistic_learning/datasets/msp/session1/S16',\n",
       " '/Users/brinkley97/Documents/development/classes/csci_535_multimodal_probabilistic_learning/datasets/msp/session2/S16',\n",
       " '/Users/brinkley97/Documents/development/classes/csci_535_multimodal_probabilistic_learning/datasets/msp/session3/S16',\n",
       " '/Users/brinkley97/Documents/development/classes/csci_535_multimodal_probabilistic_learning/datasets/msp/session4/S16',\n",
       " '/Users/brinkley97/Documents/development/classes/csci_535_multimodal_probabilistic_learning/datasets/msp/session5/S16',\n",
       " '/Users/brinkley97/Documents/development/classes/csci_535_multimodal_probabilistic_learning/datasets/msp/session6/S16',\n",
       " '/Users/brinkley97/Documents/development/classes/csci_535_multimodal_probabilistic_learning/datasets/msp/session1/S17',\n",
       " '/Users/brinkley97/Documents/development/classes/csci_535_multimodal_probabilistic_learning/datasets/msp/session2/S17',\n",
       " '/Users/brinkley97/Documents/development/classes/csci_535_multimodal_probabilistic_learning/datasets/msp/session3/S17',\n",
       " '/Users/brinkley97/Documents/development/classes/csci_535_multimodal_probabilistic_learning/datasets/msp/session4/S17',\n",
       " '/Users/brinkley97/Documents/development/classes/csci_535_multimodal_probabilistic_learning/datasets/msp/session5/S17',\n",
       " '/Users/brinkley97/Documents/development/classes/csci_535_multimodal_probabilistic_learning/datasets/msp/session6/S17',\n",
       " '/Users/brinkley97/Documents/development/classes/csci_535_multimodal_probabilistic_learning/datasets/msp/session1/S18',\n",
       " '/Users/brinkley97/Documents/development/classes/csci_535_multimodal_probabilistic_learning/datasets/msp/session2/S18',\n",
       " '/Users/brinkley97/Documents/development/classes/csci_535_multimodal_probabilistic_learning/datasets/msp/session3/S18',\n",
       " '/Users/brinkley97/Documents/development/classes/csci_535_multimodal_probabilistic_learning/datasets/msp/session4/S18',\n",
       " '/Users/brinkley97/Documents/development/classes/csci_535_multimodal_probabilistic_learning/datasets/msp/session5/S18',\n",
       " '/Users/brinkley97/Documents/development/classes/csci_535_multimodal_probabilistic_learning/datasets/msp/session6/S18',\n",
       " '/Users/brinkley97/Documents/development/classes/csci_535_multimodal_probabilistic_learning/datasets/msp/session1/S19',\n",
       " '/Users/brinkley97/Documents/development/classes/csci_535_multimodal_probabilistic_learning/datasets/msp/session2/S19',\n",
       " '/Users/brinkley97/Documents/development/classes/csci_535_multimodal_probabilistic_learning/datasets/msp/session3/S19',\n",
       " '/Users/brinkley97/Documents/development/classes/csci_535_multimodal_probabilistic_learning/datasets/msp/session4/S19',\n",
       " '/Users/brinkley97/Documents/development/classes/csci_535_multimodal_probabilistic_learning/datasets/msp/session5/S19',\n",
       " '/Users/brinkley97/Documents/development/classes/csci_535_multimodal_probabilistic_learning/datasets/msp/session6/S19',\n",
       " '/Users/brinkley97/Documents/development/classes/csci_535_multimodal_probabilistic_learning/datasets/msp/session1/S20',\n",
       " '/Users/brinkley97/Documents/development/classes/csci_535_multimodal_probabilistic_learning/datasets/msp/session2/S20',\n",
       " '/Users/brinkley97/Documents/development/classes/csci_535_multimodal_probabilistic_learning/datasets/msp/session3/S20',\n",
       " '/Users/brinkley97/Documents/development/classes/csci_535_multimodal_probabilistic_learning/datasets/msp/session4/S20',\n",
       " '/Users/brinkley97/Documents/development/classes/csci_535_multimodal_probabilistic_learning/datasets/msp/session5/S20',\n",
       " '/Users/brinkley97/Documents/development/classes/csci_535_multimodal_probabilistic_learning/datasets/msp/session6/S20']"
      ]
     },
     "execution_count": 39,
     "metadata": {},
     "output_type": "execute_result"
    }
   ],
   "source": [
    "sentence_paths"
   ]
  },
  {
   "cell_type": "code",
   "execution_count": null,
   "id": "f8d8e4f2-5272-4a5b-ae15-64c5be8fafe7",
   "metadata": {},
   "outputs": [],
   "source": []
  }
 ],
 "metadata": {
  "kernelspec": {
   "display_name": "Python 3 (ipykernel)",
   "language": "python",
   "name": "python3"
  },
  "language_info": {
   "codemirror_mode": {
    "name": "ipython",
    "version": 3
   },
   "file_extension": ".py",
   "mimetype": "text/x-python",
   "name": "python",
   "nbconvert_exporter": "python",
   "pygments_lexer": "ipython3",
   "version": "3.9.16"
  }
 },
 "nbformat": 4,
 "nbformat_minor": 5
}

{
 "cells": [
  {
   "cell_type": "markdown",
   "id": "7e79fb63-a451-4698-8ef0-208e6806b122",
   "metadata": {},
   "source": [
    "# HW 2 Multimodal Machine Learning for Emotion Recognition\n",
    "\n",
    "- main with sub notebooks\n",
    "    1. audio (acoustic) \n",
    "    2. text (lexical) \n",
    "    3. visual (this notebook)\n",
    "    \n",
    "- `%load` and `%run` with [cell magic](https://ipython.readthedocs.io/en/stable/interactive/magics.html#magic-load): This allows us to get code from another notebook"
   ]
  },
  {
   "cell_type": "code",
   "execution_count": 1,
   "id": "db78a5cf-1064-4bed-869f-47a900287f34",
   "metadata": {},
   "outputs": [],
   "source": [
    "main_notebook = 'main.ipynb'"
   ]
  },
  {
   "cell_type": "code",
   "execution_count": 2,
   "id": "589c0619-e7d7-4942-9097-1bdd9818be15",
   "metadata": {},
   "outputs": [],
   "source": [
    "# %load main_notebook\n",
    "main.ipynb"
   ]
  },
  {
   "cell_type": "code",
   "execution_count": 3,
   "id": "13001ba1-b17e-4054-977e-a5af0910f597",
   "metadata": {},
   "outputs": [],
   "source": [
    "%run 'main.ipynb'"
   ]
  },
  {
   "cell_type": "markdown",
   "id": "c2a01692-36e2-45ca-9504-932cf84ca286",
   "metadata": {},
   "source": [
    "- If video, the original video will be a 3D with a T dimension. This specific case, we have a 2D of (T, 2048) which is based on the ResNet encoder"
   ]
  },
  {
   "cell_type": "code",
   "execution_count": 4,
   "id": "d1d90de4-7088-46b2-a5c9-de10f93a9bad",
   "metadata": {},
   "outputs": [],
   "source": [
    "# features_with_y"
   ]
  },
  {
   "cell_type": "code",
   "execution_count": 5,
   "id": "6ff97cf8-1eea-4509-ac02-1f166a683252",
   "metadata": {},
   "outputs": [],
   "source": [
    "ys = features_with_y.loc[0:, 'emotion_labels']\n",
    "# ys"
   ]
  },
  {
   "cell_type": "code",
   "execution_count": 6,
   "id": "a974ad6e-8199-4326-bbef-9e676b470963",
   "metadata": {},
   "outputs": [],
   "source": [
    "def reduce_temporal_dimension(visual_features_paths, ys):\n",
    "    \"\"\"Reduce from 2D to 1D by removing the time dimension\n",
    "    \n",
    "    visual_features_paths -- list\n",
    "    \n",
    "    Return \n",
    "    reduced shapes of each input -- list\n",
    "    \"\"\"\n",
    "    reduced_visual_features = []\n",
    "    true_labels = []\n",
    "    \n",
    "    for row in range(len(visual_features_paths)):\n",
    "        # print(ys[row])\n",
    "        # print(\"Current path with files is: \", visual_features_path)\n",
    "        path_exists = os.path.exists(visual_features_paths[row])\n",
    "        # print(path_exists)\n",
    "        if path_exists == True:\n",
    "            # print(\"Current path with files is: \", visual_features_path)\n",
    "            load_visual_features_file = np.load(visual_features_paths[row])\n",
    "            # print(\"  Original Shape: \", np.shape(load_visual_features_file))\n",
    "            resampled_visual = np.mean(load_visual_features_file, axis=0)\n",
    "            reduced_visual_features.append(resampled_visual)\n",
    "            # print(\"  Reduced shape: \", np.shape(resampled_visual))\n",
    "            # print()\n",
    "            true_labels.append(ys[row])\n",
    "        else:\n",
    "            # print()\n",
    "            \n",
    "            # print(\"\\nCANNOT find current path: \", visual_features_paths[row])\n",
    "            # print(\"DoNOT include\", ys[row])\n",
    "            pass\n",
    "    return reduced_visual_features, true_labels"
   ]
  },
  {
   "cell_type": "code",
   "execution_count": 7,
   "id": "ad03533c-25ec-4440-954b-2c7975ee827d",
   "metadata": {},
   "outputs": [
    {
     "data": {
      "text/plain": [
       "((1003, 2048), (1003,))"
      ]
     },
     "execution_count": 7,
     "metadata": {},
     "output_type": "execute_result"
    }
   ],
   "source": [
    "reduced_temporal_dimensions, true_labels = reduce_temporal_dimension(visual_features_paths, ys)\n",
    "np.shape(reduced_temporal_dimensions), np.shape(true_labels)"
   ]
  },
  {
   "cell_type": "markdown",
   "id": "7d51eecf-5f47-4a76-9bbf-5f6cb5f0cae7",
   "metadata": {},
   "source": [
    "`train_test_split` from https://datascience.stackexchange.com/questions/15135/train-test-validation-set-splitting-in-sklearn"
   ]
  },
  {
   "cell_type": "code",
   "execution_count": 8,
   "id": "a30f680d-0e65-43cc-afaa-9ac3b6dcdfe8",
   "metadata": {},
   "outputs": [
    {
     "data": {
      "text/plain": [
       "(300, 703, 300, 703, 1003, 1003)"
      ]
     },
     "execution_count": 8,
     "metadata": {},
     "output_type": "execute_result"
    }
   ],
   "source": [
    "X_train, X_test, y_train, y_test = train_test_split(reduced_temporal_dimensions, true_labels, test_size=0.7, random_state=42)\n",
    "total_X = len(X_train) + len(X_test)\n",
    "total_Y = len(y_train) + len(y_test)\n",
    "len(X_train), len(X_test), len(y_train), len(y_test), total_X, total_Y"
   ]
  },
  {
   "cell_type": "code",
   "execution_count": 9,
   "id": "8b163fa8-4456-4e4b-b936-31888fcf44cc",
   "metadata": {},
   "outputs": [
    {
     "data": {
      "text/plain": [
       "(90, 210, 90, 210, 300, 300)"
      ]
     },
     "execution_count": 9,
     "metadata": {},
     "output_type": "execute_result"
    }
   ],
   "source": [
    "X_train, X_val, y_train, y_val = train_test_split(X_train, y_train, test_size=0.7, random_state=42) # 0.25 x 0.8 = 0.2\n",
    "total_X = len(X_train) + len(X_val)\n",
    "total_Y = len(y_train) + len(y_val)\n",
    "len(X_train), len(X_val), len(y_train), len(y_val), total_X, total_Y"
   ]
  },
  {
   "cell_type": "markdown",
   "id": "022de293-812c-4c9b-855e-a9b9146b13d7",
   "metadata": {},
   "source": [
    "See my [HW 2 Notes](https://detraviousjbrinkley.notion.site/HW-2-Multimodal-Machine-Learning-for-Emotion-Recognition-4967e03039b04f20907996de25f6068a) for more details on \n",
    "1. Support Vector Machine (SVM)\n",
    "2. Support Vector Classification (SVC)\n",
    "3. Note that LinearSVC does not accept parameter kernel, as this is assumed to be linear per the [SVM documentation](https://scikit-learn.org/stable/modules/svm.html#multi-class-classification)"
   ]
  },
  {
   "cell_type": "code",
   "execution_count": 10,
   "id": "c803aca4-027b-4633-b47d-45e42fd2578e",
   "metadata": {},
   "outputs": [
    {
     "data": {
      "text/plain": [
       "dict_keys(['C', 'class_weight', 'dual', 'fit_intercept', 'intercept_scaling', 'loss', 'max_iter', 'multi_class', 'penalty', 'random_state', 'tol', 'verbose'])"
      ]
     },
     "execution_count": 10,
     "metadata": {},
     "output_type": "execute_result"
    }
   ],
   "source": [
    "svm.LinearSVC().get_params().keys()"
   ]
  },
  {
   "cell_type": "code",
   "execution_count": 41,
   "id": "a9bd1175-c25c-4921-9e4f-28e15fb32972",
   "metadata": {},
   "outputs": [
    {
     "data": {
      "text/plain": [
       "GridSearchCV(cv=10, estimator=LinearSVC(),\n",
       "             param_grid={'C': [1, 10, 100], 'fit_intercept': [True, False],\n",
       "                         'loss': ['hinge', 'squared_hinge'],\n",
       "                         'penalty': ['l2']},\n",
       "             return_train_score=True)"
      ]
     },
     "execution_count": 41,
     "metadata": {},
     "output_type": "execute_result"
    }
   ],
   "source": [
    "# estimator is LinearSVC()\n",
    "linear_classifier = svm.LinearSVC()\n",
    "parameters = param_grid = {\n",
    "    'C': [1, 10, 100], \n",
    "    # 'class_weight': [1],\n",
    "    # 'dual':,\n",
    "    'fit_intercept': [True, False],\n",
    "    # 'intercept_scaling':,\n",
    "    'loss': ['hinge', 'squared_hinge'],\n",
    "    # 'max_iter':,\n",
    "     # 'multi_class': [1],\n",
    "    # 'penalty': ['l1', 'l2'],\n",
    "    'penalty': ['l2'],\n",
    "    # 'random_state':,\n",
    "    # 'tol': , \n",
    "    # 'verbose':    \n",
    "}\n",
    "\n",
    "classification = GridSearchCV(linear_classifier, param_grid=parameters, cv=10, return_train_score=True)\n",
    "classification"
   ]
  },
  {
   "cell_type": "code",
   "execution_count": 42,
   "id": "41f000bc-4d13-4ecf-ad51-929bee7a3a81",
   "metadata": {},
   "outputs": [
    {
     "data": {
      "text/plain": [
       "GridSearchCV(cv=10, estimator=LinearSVC(),\n",
       "             param_grid={'C': [1, 10, 100], 'fit_intercept': [True, False],\n",
       "                         'loss': ['hinge', 'squared_hinge'],\n",
       "                         'penalty': ['l2']},\n",
       "             return_train_score=True)"
      ]
     },
     "execution_count": 42,
     "metadata": {},
     "output_type": "execute_result"
    }
   ],
   "source": [
    "classification.fit(X_train, y_train)"
   ]
  },
  {
   "cell_type": "code",
   "execution_count": 46,
   "id": "7e34e419-0e5f-4108-b6dc-f390a961ca8e",
   "metadata": {},
   "outputs": [
    {
     "name": "stdout",
     "output_type": "stream",
     "text": [
      "{'C': 1, 'fit_intercept': True, 'loss': 'hinge', 'penalty': 'l2'}\n",
      "Accuracy:0.35555555555555557\n"
     ]
    }
   ],
   "source": [
    "# note difference in Accuracy with 'fit_intercept': [True'] vs 'fit_intercept': [False],\n",
    "print(classification.best_params_)\n",
    "print(\"Accuracy:\"+ str(classification.best_score_))"
   ]
  },
  {
   "cell_type": "code",
   "execution_count": 35,
   "id": "d5bfd0aa-a215-419c-adec-b7bb912836d7",
   "metadata": {},
   "outputs": [
    {
     "data": {
      "text/plain": [
       "1.0"
      ]
     },
     "execution_count": 35,
     "metadata": {},
     "output_type": "execute_result"
    }
   ],
   "source": [
    "classification.score(X_train, y_train)"
   ]
  },
  {
   "cell_type": "code",
   "execution_count": 36,
   "id": "bb47892e-297e-418a-8511-1b0f50f4eaa1",
   "metadata": {},
   "outputs": [
    {
     "data": {
      "text/plain": [
       "array([0, 0, 3, 3, 3, 0, 0, 3, 0, 1, 0, 0, 3, 0, 2, 3, 1, 1, 3, 2, 0, 3,\n",
       "       1, 1, 1, 1, 0, 3, 1, 3, 0, 0, 0, 3, 2, 3, 0, 0, 3, 0, 3, 3, 3, 1,\n",
       "       2, 2, 0, 3, 0, 3, 3, 3, 0, 0, 3, 3, 0, 3, 2, 0, 3, 0, 3, 0, 0, 0,\n",
       "       0, 0, 3, 3, 2, 3, 1, 0, 2, 0, 1, 2, 3, 1, 3, 3, 1, 3, 1, 3, 2, 0,\n",
       "       1, 1, 1, 3, 0, 2, 0, 2, 1, 3, 1, 0, 1, 0, 2, 2, 2, 3, 0, 3, 3, 3,\n",
       "       0, 0, 3, 0, 2, 0, 3, 0, 0, 2, 2, 1, 1, 0, 3, 0, 1, 1, 2, 0, 1, 1,\n",
       "       3, 2, 3, 0, 0, 0, 3, 0, 0, 0, 0, 1, 1, 0, 3, 0, 3, 3, 3, 3, 1, 3,\n",
       "       1, 3, 3, 0, 2, 0, 3, 3, 1, 0, 1, 1, 2, 3, 0, 0, 0, 1, 3, 3, 1, 3,\n",
       "       1, 2, 3, 3, 1, 1, 0, 0, 3, 1, 2, 1, 3, 3, 0, 0, 2, 0, 2, 3, 3, 3,\n",
       "       3, 0, 3, 1, 3, 1, 1, 0, 0, 3, 1, 1, 0, 1, 1, 0, 3, 1, 1, 0, 1, 0,\n",
       "       3, 0, 0, 1, 2, 3, 2, 1, 1, 2, 3, 2, 3, 0, 1, 2, 2, 2, 1, 1, 2, 3,\n",
       "       1, 3, 0, 3, 3, 1, 1, 1, 2, 3, 2, 0, 1, 1, 1, 3, 3, 1, 1, 1, 1, 2,\n",
       "       3, 2, 1, 3, 2, 1, 3, 3, 0, 3, 3, 3, 3, 1, 3, 1, 2, 0, 0, 2, 3, 0,\n",
       "       1, 3, 2, 0, 0, 1, 3, 0, 0, 2, 0, 2, 1, 3, 2, 2, 3, 1, 1, 1, 0, 1,\n",
       "       2, 3, 1, 1, 3, 3, 2, 1, 2, 0, 1, 3, 2, 2, 3, 0, 3, 0, 3, 3, 2, 1,\n",
       "       1, 2, 3, 0, 3, 1, 1, 1, 2, 3, 2, 3, 0, 0, 3, 2, 2, 1, 1, 0, 2, 3,\n",
       "       0, 3, 3, 0, 1, 2, 2, 0, 3, 2, 1, 0, 1, 0, 2, 2, 1, 2, 1, 1, 1, 3,\n",
       "       1, 1, 2, 0, 0, 1, 3, 1, 3, 3, 0, 3, 0, 0, 3, 0, 0, 3, 1, 2, 3, 3,\n",
       "       1, 3, 3, 1, 1, 1, 3, 0, 0, 1, 3, 0, 3, 1, 0, 1, 2, 3, 0, 1, 3, 3,\n",
       "       1, 3, 3, 2, 0, 0, 0, 1, 3, 0, 1, 0, 1, 3, 3, 2, 3, 0, 3, 2, 0, 0,\n",
       "       3, 2, 0, 2, 0, 3, 0, 0, 2, 2, 0, 0, 2, 1, 1, 1, 3, 3, 3, 1, 3, 0,\n",
       "       0, 1, 3, 1, 1, 2, 1, 2, 1, 0, 1, 2, 3, 0, 3, 0, 1, 1, 3, 2, 0, 2,\n",
       "       0, 1, 3, 2, 3, 3, 1, 1, 3, 3, 1, 2, 0, 0, 0, 1, 0, 3, 1, 0, 0, 0,\n",
       "       3, 1, 1, 0, 3, 1, 1, 3, 0, 3, 0, 1, 1, 3, 2, 3, 0, 0, 1, 2, 2, 1,\n",
       "       3, 0, 0, 2, 1, 0, 3, 0, 0, 2, 0, 1, 1, 1, 1, 3, 1, 0, 0, 3, 3, 1,\n",
       "       2, 0, 0, 0, 0, 0, 3, 0, 1, 0, 3, 2, 3, 3, 2, 3, 2, 1, 2, 2, 2, 3,\n",
       "       2, 0, 0, 1, 0, 3, 1, 3, 0, 1, 0, 0, 0, 3, 0, 0, 0, 3, 0, 1, 3, 3,\n",
       "       3, 1, 0, 1, 0, 0, 2, 1, 2, 0, 0, 3, 2, 0, 0, 0, 0, 3, 2, 0, 2, 1,\n",
       "       0, 3, 1, 0, 3, 3, 0, 0, 1, 1, 1, 0, 2, 0, 3, 0, 1, 1, 0, 3, 3, 0,\n",
       "       2, 0, 0, 1, 3, 0, 3, 3, 3, 3, 1, 3, 1, 1, 2, 1, 1, 3, 1, 3, 3, 2,\n",
       "       3, 2, 1, 2, 3, 0, 0, 0, 0, 0, 2, 2, 3, 1, 0, 0, 0, 0, 3, 0, 1, 0,\n",
       "       3, 0, 3, 1, 2, 0, 3, 0, 0, 0, 3, 0, 0, 0, 3, 3, 2, 2, 3, 1, 0])"
      ]
     },
     "execution_count": 36,
     "metadata": {},
     "output_type": "execute_result"
    }
   ],
   "source": [
    "y_pred = classification.predict(X_test)\n",
    "y_pred"
   ]
  },
  {
   "cell_type": "code",
   "execution_count": 37,
   "id": "53b63428-cc07-40a6-9cd5-0df7d6f903e4",
   "metadata": {},
   "outputs": [
    {
     "name": "stdout",
     "output_type": "stream",
     "text": [
      "              precision    recall  f1-score   support\n",
      "\n",
      "           0       0.30      0.45      0.36       140\n",
      "           1       0.33      0.35      0.34       166\n",
      "           2       0.19      0.20      0.19       105\n",
      "           3       0.54      0.38      0.45       292\n",
      "\n",
      "    accuracy                           0.36       703\n",
      "   macro avg       0.34      0.35      0.34       703\n",
      "weighted avg       0.39      0.36      0.37       703\n",
      "\n"
     ]
    }
   ],
   "source": [
    "print(classification_report(y_test,y_pred))"
   ]
  },
  {
   "cell_type": "code",
   "execution_count": null,
   "id": "ac182e98-f038-496a-a88c-4a487f73bb13",
   "metadata": {},
   "outputs": [],
   "source": []
  },
  {
   "cell_type": "code",
   "execution_count": null,
   "id": "f799e5e3-a729-47a0-9bf1-1a3c014481f7",
   "metadata": {},
   "outputs": [],
   "source": []
  }
 ],
 "metadata": {
  "kernelspec": {
   "display_name": "Python 3 (ipykernel)",
   "language": "python",
   "name": "python3"
  },
  "language_info": {
   "codemirror_mode": {
    "name": "ipython",
    "version": 3
   },
   "file_extension": ".py",
   "mimetype": "text/x-python",
   "name": "python",
   "nbconvert_exporter": "python",
   "pygments_lexer": "ipython3",
   "version": "3.9.16"
  }
 },
 "nbformat": 4,
 "nbformat_minor": 5
}

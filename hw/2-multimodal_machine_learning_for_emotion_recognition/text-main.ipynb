{
 "cells": [
  {
   "cell_type": "markdown",
   "id": "7e79fb63-a451-4698-8ef0-208e6806b122",
   "metadata": {},
   "source": [
    "# HW 2 Multimodal Machine Learning for Emotion Recognition\n",
    "\n",
    "- main with sub notebooks\n",
    "    1. audio (acoustic) \n",
    "    2. text (lexical) (this notebook)\n",
    "    3. visual \n",
    "    \n",
    "- `%load` and `%run` with [cell magic](https://ipython.readthedocs.io/en/stable/interactive/magics.html#magic-load): This allows us to get code from another notebook"
   ]
  },
  {
   "cell_type": "code",
   "execution_count": 1,
   "id": "db78a5cf-1064-4bed-869f-47a900287f34",
   "metadata": {},
   "outputs": [],
   "source": [
    "main_notebook = 'main.ipynb'"
   ]
  },
  {
   "cell_type": "code",
   "execution_count": 2,
   "id": "589c0619-e7d7-4942-9097-1bdd9818be15",
   "metadata": {},
   "outputs": [],
   "source": [
    "%load main_notebook"
   ]
  },
  {
   "cell_type": "code",
   "execution_count": 3,
   "id": "13001ba1-b17e-4054-977e-a5af0910f597",
   "metadata": {},
   "outputs": [],
   "source": [
    "%run 'main.ipynb'"
   ]
  },
  {
   "cell_type": "code",
   "execution_count": 4,
   "id": "0c32d45b-6c3f-438b-be10-b4111481cf0e",
   "metadata": {},
   "outputs": [],
   "source": [
    "ys = text_features_with_y.loc[0:, 'emotion_labels']"
   ]
  },
  {
   "cell_type": "code",
   "execution_count": 5,
   "id": "a974ad6e-8199-4326-bbef-9e676b470963",
   "metadata": {},
   "outputs": [],
   "source": [
    "def load_text_features(text_features_paths, ys):\n",
    "    \"\"\"Reduce from 2D to 1D by removing the time dimension\n",
    "    \n",
    "    text_features_paths -- list\n",
    "    \n",
    "    Return \n",
    "    reduced shapes of each input -- list\n",
    "    \"\"\"\n",
    "    \n",
    "    loaded_text_features = []\n",
    "    true_labels = []\n",
    "    \n",
    "    for row in range(len(text_features_paths)):\n",
    "        # print(\"Current path with files is: \", text_features_paths)\n",
    "        path_exists = os.path.exists(text_features_paths[row])\n",
    "        # print(path_exists)\n",
    "        if path_exists == True:\n",
    "            # print(\"Current path with files is: \", text_features_paths[row])\n",
    "            load_text_features_file = np.load(text_features_paths[row])\n",
    "            # print(\"  Original Shape: \", np.shape(load_text_features_file))\n",
    "            # resampled_text = np.mean(load_text_features_file, axis=0)\n",
    "            # print(\"  Reduced shape: \", np.shape(resampled_text))\n",
    "            loaded_text_features.append(load_text_features_file)\n",
    "            # print(\"  reduced_text_features: \", np.shape(reduced_text_features))\n",
    "            true_labels.append(ys[row])\n",
    "            # print()\n",
    "        else:\n",
    "            pass\n",
    "            # print(\"CANNOT find current path: \", audio_features_path)\n",
    "    return loaded_text_features, true_labels"
   ]
  },
  {
   "cell_type": "code",
   "execution_count": 6,
   "id": "ad03533c-25ec-4440-954b-2c7975ee827d",
   "metadata": {},
   "outputs": [
    {
     "data": {
      "text/plain": [
       "((1336, 768), (1336,))"
      ]
     },
     "execution_count": 6,
     "metadata": {},
     "output_type": "execute_result"
    }
   ],
   "source": [
    "loaded_text_features, true_labels = load_text_features(text_features_paths, ys)\n",
    "np.shape(loaded_text_features), np.shape(true_labels)"
   ]
  },
  {
   "cell_type": "code",
   "execution_count": null,
   "id": "a24fee52-f05e-45f3-afd0-ae8fecb4c525",
   "metadata": {},
   "outputs": [],
   "source": []
  }
 ],
 "metadata": {
  "kernelspec": {
   "display_name": "Python 3 (ipykernel)",
   "language": "python",
   "name": "python3"
  },
  "language_info": {
   "codemirror_mode": {
    "name": "ipython",
    "version": 3
   },
   "file_extension": ".py",
   "mimetype": "text/x-python",
   "name": "python",
   "nbconvert_exporter": "python",
   "pygments_lexer": "ipython3",
   "version": "3.9.16"
  }
 },
 "nbformat": 4,
 "nbformat_minor": 5
}

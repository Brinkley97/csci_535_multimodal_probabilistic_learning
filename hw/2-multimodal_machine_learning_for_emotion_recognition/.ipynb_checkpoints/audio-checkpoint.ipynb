{
 "cells": [
  {
   "cell_type": "markdown",
   "id": "fec75cb7-4fa7-425a-a413-69c3a165ed7d",
   "metadata": {},
   "source": [
    "# HW 2 Multimodal Machine Learning for Emotion Recognition\n",
    "\n",
    "- main with sub notebooks\n",
    "    1. audio (acoustic) (this notebook)\n",
    "    2. text (lexical)\n",
    "    3. visual\n",
    "    \n",
    "- `%load` and `%run` with [cell magic](https://ipython.readthedocs.io/en/stable/interactive/magics.html#magic-load): This allows us to get code from another notebook"
   ]
  },
  {
   "cell_type": "code",
   "execution_count": 1,
   "id": "b472f275-16d9-46f8-bfc6-ce4436eccb54",
   "metadata": {},
   "outputs": [],
   "source": [
    "# !pip install scikit-image"
   ]
  },
  {
   "cell_type": "code",
   "execution_count": 2,
   "id": "0a659641-e57e-49c4-93b6-9fa8641b6115",
   "metadata": {},
   "outputs": [],
   "source": [
    "import skimage.measure"
   ]
  },
  {
   "cell_type": "code",
   "execution_count": 3,
   "id": "9a247f97-980e-49ff-b934-ead4360f8aa8",
   "metadata": {},
   "outputs": [],
   "source": [
    "main_notebook = 'main.ipynb'"
   ]
  },
  {
   "cell_type": "code",
   "execution_count": 4,
   "id": "e0f3ba69-c54e-4857-909d-507905120c4a",
   "metadata": {},
   "outputs": [],
   "source": [
    "# %load main_notebook\n",
    "main.ipynb"
   ]
  },
  {
   "cell_type": "code",
   "execution_count": 5,
   "id": "6030d5d9-e99a-4918-9494-2304fb5fc5bc",
   "metadata": {},
   "outputs": [],
   "source": [
    "%run 'main.ipynb'"
   ]
  },
  {
   "cell_type": "code",
   "execution_count": 8,
   "id": "ca332d65-7919-4a6c-91d7-403951c88aa3",
   "metadata": {},
   "outputs": [
    {
     "data": {
      "text/plain": [
       "((1, 128),\n",
       " array([[-0.02412775,  1.3312446 , -1.0692344 ,  0.        ,  0.        ,\n",
       "          0.        ,  0.49266195, -0.34168002,  0.        ,  0.        ,\n",
       "          1.5995374 ,  0.9650637 ,  0.        ,  0.4452419 , -0.02679965,\n",
       "         -0.4459556 , -0.6602139 ,  0.03695456,  0.        ,  0.25653026,\n",
       "          0.        ,  0.76028717,  0.        , -0.06926002, -0.10694285,\n",
       "         -1.5329561 , -0.30561072, -0.76459134, -1.316774  ,  1.2008328 ,\n",
       "          0.1895207 , -0.54566604,  0.5053761 , -0.15207583, -0.04264257,\n",
       "         -0.6639512 ,  0.46754697,  0.        ,  0.        , -0.4157218 ,\n",
       "         -0.20238322,  0.        ,  0.00785335,  0.        , -0.51123357,\n",
       "         -0.36928818, -0.20766369,  0.1882203 , -0.28260076, -0.13990402,\n",
       "          0.23986907,  0.        ,  0.        ,  0.        ,  0.66090965,\n",
       "         -0.04950017, -0.34798825,  0.896122  , -0.0301679 , -0.09909478,\n",
       "         -0.46761015,  0.1463503 , -0.10861468, -0.03854222,  0.        ,\n",
       "          0.        ,  0.        , -0.82999325, -0.25575554, -0.090709  ,\n",
       "          1.1528424 ,  2.2414525 , -0.6550392 , -0.04885865, -0.02822889,\n",
       "         -0.6427952 ,  0.        , -0.39685896,  0.        , -0.1129005 ,\n",
       "          0.        , -0.7384748 , -0.4384261 ,  0.        ,  0.17453831,\n",
       "         -0.71895415,  0.5397041 , -0.03676651, -0.1039436 , -0.10576621,\n",
       "          0.        ,  0.26074958, -0.24142917, -1.0581464 , -0.04173967,\n",
       "         -0.6684832 ,  0.        , -0.03308611, -0.38609493,  0.        ,\n",
       "          0.        , -0.07959922, -0.05389164, -0.03777425,  0.        ,\n",
       "          0.        ,  2.1715255 ,  0.        , -0.3027857 , -0.0548142 ,\n",
       "          0.        , -0.15748341, -0.01505619,  1.2996615 ,  0.        ,\n",
       "          0.6708809 , -0.18239076, -0.03040338,  0.        , -0.03086868,\n",
       "          0.08314943, -0.01708612,  0.        ,  0.        ,  0.22653393,\n",
       "         -0.01661444,  0.4902663 , -0.48119876]], dtype=float32))"
      ]
     },
     "execution_count": 8,
     "metadata": {},
     "output_type": "execute_result"
    }
   ],
   "source": [
    "testing_audio_session_1.shape, testing_audio_session_1"
   ]
  },
  {
   "cell_type": "code",
   "execution_count": 10,
   "id": "72e316e7-96e3-4454-b829-e86a60805fa3",
   "metadata": {},
   "outputs": [
    {
     "data": {
      "text/plain": [
       "array([[ 0.32677922, -0.2673086 ,  0.        ,  0.03774548,  0.        ,\n",
       "         0.64115024,  0.11131047, -0.11818881, -0.15581483,  0.06413256,\n",
       "         0.19007179, -0.01731501, -0.40997475, -0.26755053, -0.02898529,\n",
       "        -0.08903633,  0.08832507, -0.17664845,  0.11688674, -0.10393045,\n",
       "        -0.05059581,  0.00196334, -0.22013044, -0.00486084, -0.1056262 ,\n",
       "         0.05996727,  0.        ,  0.15285237,  0.13703343, -0.03231567,\n",
       "        -0.08031496, -0.03678922,  0.        , -0.20749831, -0.08661614,\n",
       "         0.8485737 , -0.17597446, -0.16775602, -0.09921474, -0.02822513,\n",
       "        -0.1846187 , -0.10960653, -0.13610396,  0.12573439, -0.05242746,\n",
       "         0.06518739, -0.3248939 , -0.17755571, -0.00827153, -0.09652373,\n",
       "        -0.0198998 , -0.02291647,  0.        ,  0.54288137, -0.08939998,\n",
       "        -0.03937085,  0.32115135,  0.16772023, -0.05319853, -0.00771717,\n",
       "         0.01651583,  0.        ,  0.05247987,  0.00226688]],\n",
       "      dtype=float32)"
      ]
     },
     "execution_count": 10,
     "metadata": {},
     "output_type": "execute_result"
    }
   ],
   "source": [
    "skimage.measure.block_reduce(testing_audio_session_1, (2,2), np.mean)"
   ]
  },
  {
   "cell_type": "code",
   "execution_count": 22,
   "id": "3d738999-daaa-4560-80d6-bfae0527a4be",
   "metadata": {},
   "outputs": [
    {
     "data": {
      "text/html": [
       "<div>\n",
       "<style scoped>\n",
       "    .dataframe tbody tr th:only-of-type {\n",
       "        vertical-align: middle;\n",
       "    }\n",
       "\n",
       "    .dataframe tbody tr th {\n",
       "        vertical-align: top;\n",
       "    }\n",
       "\n",
       "    .dataframe thead th {\n",
       "        text-align: right;\n",
       "    }\n",
       "</style>\n",
       "<table border=\"1\" class=\"dataframe\">\n",
       "  <thead>\n",
       "    <tr style=\"text-align: right;\">\n",
       "      <th></th>\n",
       "      <th>0</th>\n",
       "      <th>1</th>\n",
       "    </tr>\n",
       "  </thead>\n",
       "  <tbody>\n",
       "    <tr>\n",
       "      <th>0</th>\n",
       "      <td>0.0</td>\n",
       "      <td>-0.024128</td>\n",
       "    </tr>\n",
       "    <tr>\n",
       "      <th>1</th>\n",
       "      <td>0.0</td>\n",
       "      <td>1.331245</td>\n",
       "    </tr>\n",
       "    <tr>\n",
       "      <th>2</th>\n",
       "      <td>0.0</td>\n",
       "      <td>-1.069234</td>\n",
       "    </tr>\n",
       "    <tr>\n",
       "      <th>3</th>\n",
       "      <td>0.0</td>\n",
       "      <td>0.000000</td>\n",
       "    </tr>\n",
       "    <tr>\n",
       "      <th>4</th>\n",
       "      <td>0.0</td>\n",
       "      <td>0.000000</td>\n",
       "    </tr>\n",
       "    <tr>\n",
       "      <th>...</th>\n",
       "      <td>...</td>\n",
       "      <td>...</td>\n",
       "    </tr>\n",
       "    <tr>\n",
       "      <th>123</th>\n",
       "      <td>0.0</td>\n",
       "      <td>0.000000</td>\n",
       "    </tr>\n",
       "    <tr>\n",
       "      <th>124</th>\n",
       "      <td>0.0</td>\n",
       "      <td>0.226534</td>\n",
       "    </tr>\n",
       "    <tr>\n",
       "      <th>125</th>\n",
       "      <td>0.0</td>\n",
       "      <td>-0.016614</td>\n",
       "    </tr>\n",
       "    <tr>\n",
       "      <th>126</th>\n",
       "      <td>0.0</td>\n",
       "      <td>0.490266</td>\n",
       "    </tr>\n",
       "    <tr>\n",
       "      <th>127</th>\n",
       "      <td>0.0</td>\n",
       "      <td>-0.481199</td>\n",
       "    </tr>\n",
       "  </tbody>\n",
       "</table>\n",
       "<p>128 rows × 2 columns</p>\n",
       "</div>"
      ],
      "text/plain": [
       "       0         1\n",
       "0    0.0 -0.024128\n",
       "1    0.0  1.331245\n",
       "2    0.0 -1.069234\n",
       "3    0.0  0.000000\n",
       "4    0.0  0.000000\n",
       "..   ...       ...\n",
       "123  0.0  0.000000\n",
       "124  0.0  0.226534\n",
       "125  0.0 -0.016614\n",
       "126  0.0  0.490266\n",
       "127  0.0 -0.481199\n",
       "\n",
       "[128 rows x 2 columns]"
      ]
     },
     "execution_count": 22,
     "metadata": {},
     "output_type": "execute_result"
    }
   ],
   "source": [
    "N, D = testing_audio_session_1.shape\n",
    "out_arr = np.column_stack((np.repeat(np.arange(N),D), testing_audio_session_1.reshape(N*D,-1)))\n",
    "df = pd.DataFrame(out_arr)\n",
    "df"
   ]
  },
  {
   "cell_type": "code",
   "execution_count": 23,
   "id": "874fc72c-7874-492a-8c36-6ab1e6918378",
   "metadata": {},
   "outputs": [
    {
     "data": {
      "text/plain": [
       "<AxesSubplot: >"
      ]
     },
     "execution_count": 23,
     "metadata": {},
     "output_type": "execute_result"
    },
    {
     "data": {
      "image/png": "[encoded data removed]",
      "text/plain": [
       "<Figure size 640x480 with 1 Axes>"
      ]
     },
     "metadata": {},
     "output_type": "display_data"
    }
   ],
   "source": [
    "df.plot()"
   ]
  },
  {
   "cell_type": "code",
   "execution_count": null,
   "id": "cc35d880-9a40-47c0-b6c7-4a9e2adba821",
   "metadata": {},
   "outputs": [],
   "source": []
  }
 ],
 "metadata": {
  "kernelspec": {
   "display_name": "Python 3 (ipykernel)",
   "language": "python",
   "name": "python3"
  },
  "language_info": {
   "codemirror_mode": {
    "name": "ipython",
    "version": 3
   },
   "file_extension": ".py",
   "mimetype": "text/x-python",
   "name": "python",
   "nbconvert_exporter": "python",
   "pygments_lexer": "ipython3",
   "version": "3.9.16"
  }
 },
 "nbformat": 4,
 "nbformat_minor": 5
}

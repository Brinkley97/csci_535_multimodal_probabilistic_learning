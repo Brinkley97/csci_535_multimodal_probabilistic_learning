{
 "cells": [
  {
   "cell_type": "markdown",
   "id": "7e79fb63-a451-4698-8ef0-208e6806b122",
   "metadata": {},
   "source": [
    "# HW 2 Multimodal Machine Learning for Emotion Recognition\n",
    "\n",
    "- main with sub notebooks\n",
    "    1. audio (acoustic) \n",
    "    2. text (lexical) (this notebook)\n",
    "    3. visual \n",
    "    \n",
    "- `%load` and `%run` with [cell magic](https://ipython.readthedocs.io/en/stable/interactive/magics.html#magic-load): This allows us to get code from another notebook"
   ]
  },
  {
   "cell_type": "code",
   "execution_count": 1,
   "id": "db78a5cf-1064-4bed-869f-47a900287f34",
   "metadata": {},
   "outputs": [],
   "source": [
    "main_notebook = 'main.ipynb'"
   ]
  },
  {
   "cell_type": "code",
   "execution_count": 2,
   "id": "589c0619-e7d7-4942-9097-1bdd9818be15",
   "metadata": {},
   "outputs": [],
   "source": [
    "# %load main_notebook"
   ]
  },
  {
   "cell_type": "code",
   "execution_count": 3,
   "id": "13001ba1-b17e-4054-977e-a5af0910f597",
   "metadata": {},
   "outputs": [],
   "source": [
    "%run 'main.ipynb'"
   ]
  },
  {
   "cell_type": "code",
   "execution_count": 4,
   "id": "0c32d45b-6c3f-438b-be10-b4111481cf0e",
   "metadata": {},
   "outputs": [],
   "source": [
    "def reduce_dim(specific_file):\n",
    "    \"\"\"\n",
    "    Parameters:\n",
    "    \n",
    "    Return:\n",
    "    \"\"\"\n",
    "    \n",
    "    N, D = specific_file.shape\n",
    "    print(N, D)\n",
    "    reduced_dim_array = np.column_stack((np.repeat(np.arange(N),D), specific_file.reshape(N*D,-1)))\n",
    "    # df = pd.DataFrame(reduced_dim_file) \n",
    "    \n",
    "    return"
   ]
  },
  {
   "cell_type": "code",
   "execution_count": 8,
   "id": "a974ad6e-8199-4326-bbef-9e676b470963",
   "metadata": {},
   "outputs": [
    {
     "name": "stdout",
     "output_type": "stream",
     "text": [
      "CANNOT find current path:  /Users/brinkley97/Documents/development/classes/csci_535_multimodal_probabilistic_learning/datasets/hw_2/features/lexical_features/Session1/Ses01F_script03_2/Ses01F_script03_2_F040.npy\n",
      "CANNOT find current path:  /Users/brinkley97/Documents/development/classes/csci_535_multimodal_probabilistic_learning/datasets/hw_2/features/lexical_features/Session2/Ses02F_impro05/Ses02F_impro05_M010.npy\n",
      "CANNOT find current path:  /Users/brinkley97/Documents/development/classes/csci_535_multimodal_probabilistic_learning/datasets/hw_2/features/lexical_features/Session2/Ses02F_script02_1/Ses02F_script02_1_M031.npy\n",
      "CANNOT find current path:  /Users/brinkley97/Documents/development/classes/csci_535_multimodal_probabilistic_learning/datasets/hw_2/features/lexical_features/Session3/Ses03F_impro07/Ses03F_impro07_F004.npy\n",
      "CANNOT find current path:  /Users/brinkley97/Documents/development/classes/csci_535_multimodal_probabilistic_learning/datasets/hw_2/features/lexical_features/Session3/Ses03F_impro08/Ses03F_impro08_M015.npy\n",
      "CANNOT find current path:  /Users/brinkley97/Documents/development/classes/csci_535_multimodal_probabilistic_learning/datasets/hw_2/features/lexical_features/Session3/Ses03M_impro08b/Ses03M_impro08b_M004.npy\n",
      "CANNOT find current path:  /Users/brinkley97/Documents/development/classes/csci_535_multimodal_probabilistic_learning/datasets/hw_2/features/lexical_features/Session5/Ses05F_impro05/Ses05F_impro05_M009.npy\n"
     ]
    }
   ],
   "source": [
    "for text_features_path in text_features_paths:\n",
    "    # print(\"Current path with files is: \", text_features_path)\n",
    "    path_exists = os.path.exists(text_features_path)\n",
    "    # print(path_exists)\n",
    "    if path_exists == True:\n",
    "        # print(\"Current path with files is: \", text_features_path)\n",
    "        load_text_features_file = np.load(text_features_path)\n",
    "        # reduce_dim(load_text_features_file)\n",
    "    else:\n",
    "        print(\"CANNOT find current path: \", text_features_path)\n",
    "    "
   ]
  },
  {
   "cell_type": "code",
   "execution_count": null,
   "id": "ad03533c-25ec-4440-954b-2c7975ee827d",
   "metadata": {},
   "outputs": [],
   "source": []
  }
 ],
 "metadata": {
  "kernelspec": {
   "display_name": "Python 3 (ipykernel)",
   "language": "python",
   "name": "python3"
  },
  "language_info": {
   "codemirror_mode": {
    "name": "ipython",
    "version": 3
   },
   "file_extension": ".py",
   "mimetype": "text/x-python",
   "name": "python",
   "nbconvert_exporter": "python",
   "pygments_lexer": "ipython3",
   "version": "3.9.16"
  }
 },
 "nbformat": 4,
 "nbformat_minor": 5
}

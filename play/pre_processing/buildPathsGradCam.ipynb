{
 "cells": [
  {
   "cell_type": "markdown",
   "id": "bf549d6c-2f5e-411d-884d-a2f0880eb1cb",
   "metadata": {},
   "source": [
    "# Split folders to run ViT"
   ]
  },
  {
   "cell_type": "code",
   "execution_count": 58,
   "id": "27fe5f13-55ce-49e4-b3fa-e98b41979422",
   "metadata": {},
   "outputs": [],
   "source": [
    "import os, os.path, shutil\n",
    "from pathlib import Path"
   ]
  },
  {
   "cell_type": "code",
   "execution_count": null,
   "id": "269f981a-0c94-4440-8096-56c392812b9e",
   "metadata": {},
   "outputs": [],
   "source": []
  },
  {
   "cell_type": "code",
   "execution_count": 2,
   "id": "aacc81c9-7f55-455c-9dd9-9733d7c16db8",
   "metadata": {},
   "outputs": [],
   "source": [
    "BASE = '/Users/brinkley97/Documents/development/'\n",
    "CLASS_PATH = 'classes/csci_535_multimodal_probabilistic_learning/'\n",
    "DATASET_PATH = 'datasets/'"
   ]
  },
  {
   "cell_type": "code",
   "execution_count": 76,
   "id": "9e45bda2-6018-4d75-a560-c308b3550776",
   "metadata": {},
   "outputs": [],
   "source": [
    "def adding_images_to_folders(path_to_faces_in_specific_folder, update_copy_location):\n",
    "    # folder_exists = os.path.isdir(path_to_faces_in_specific_folder)\n",
    "            \n",
    "    files = os.listdir(path_to_faces_in_specific_folder)\n",
    "    \n",
    "    for file in files:\n",
    "        shutil.copy2(os.path.join(path_to_faces_in_specific_folder, file), update_copy_location)"
   ]
  },
  {
   "cell_type": "code",
   "execution_count": 87,
   "id": "a0d848c0-8654-4170-90c5-30d756d5f144",
   "metadata": {},
   "outputs": [],
   "source": [
    "def face_to_specific_emotion_folder(path_to_frames, path_to_copy_specific_face):\n",
    "    \"\"\"\n",
    "    \n",
    "    Parameters:\n",
    "    path_to_faces -- str (of where to get the frames from)\n",
    "    path_to_copy_specific_face -- str (of where to copy frames to)\n",
    "    \n",
    "    Function calls: \n",
    "    extract_features\n",
    "    \n",
    "    \"\"\"\n",
    "    \n",
    "    face_folder_files = os.listdir(path_to_faces)\n",
    "        \n",
    "    for face_folder_file_idx in range(len(face_folder_files)):\n",
    "        specific_face_folder = face_folder_files[face_folder_file_idx]\n",
    "        split_specific_face_folder = specific_face_folder.split('_')\n",
    "        # print(split_specific_face_folder)\n",
    "        \n",
    "        path_to_faces_in_specific_folder = path_to_faces + specific_face_folder + \"/\"\n",
    "        if 'HAP' in split_specific_face_folder:\n",
    "            update_copy_location = path_to_copy_specific_face + 'crema_d_hap/'\n",
    "            copy_frame_to_new_folder(path_to_faces_in_specific_folder, update_copy_location)\n",
    "            \n",
    "        elif 'NEU' in split_specific_face_folder:\n",
    "            update_copy_location = path_to_copy_specific_face + 'crema_d_neu/'\n",
    "            copy_frame_to_new_folder(path_to_faces_in_specific_folder, update_copy_location)\n",
    "        \n",
    "        elif 'SAD' in split_specific_face_folder:\n",
    "            update_copy_location = path_to_copy_specific_face + 'crema_d_sad/'\n",
    "            copy_frame_to_new_folder(path_to_faces_in_specific_folder, update_copy_location)\n",
    "            \n",
    "        elif 'DIS' in split_specific_face_folder:\n",
    "            update_copy_location = path_to_copy_specific_face + 'crema_d_dis/'\n",
    "            copy_frame_to_new_folder(path_to_faces_in_specific_folder, update_copy_location)\n",
    "            \n",
    "        elif 'ANG' in split_specific_face_folder:\n",
    "            update_copy_location = path_to_copy_specific_face + 'crema_d_ang/'\n",
    "            copy_frame_to_new_folder(path_to_faces_in_specific_folder, update_copy_location)\n",
    "        \n",
    "        elif 'FEA' in split_specific_face_folder:\n",
    "            update_copy_location = path_to_copy_specific_face + 'crema_d_fea/'\n",
    "            copy_frame_to_new_folder(path_to_faces_in_specific_folder, update_copy_location)\n",
    "            \n"
   ]
  },
  {
   "cell_type": "code",
   "execution_count": 88,
   "id": "9096b372-f771-42d7-ae02-9faf88feb799",
   "metadata": {},
   "outputs": [],
   "source": [
    "CREMA_D_PATH = BASE + CLASS_PATH + DATASET_PATH + 'git_lfs/CREMA-D/sample_VideoFlash3/all_faces/'"
   ]
  },
  {
   "cell_type": "code",
   "execution_count": 89,
   "id": "c36653be-88f9-4e99-afe0-200a8fec563b",
   "metadata": {},
   "outputs": [],
   "source": [
    "# save_crema_d_dict_path = BASE + CLASS_PATH + DATASET_PATH + 'git_lfs/CREMA-D/sample_VideoFlash2/splits/' \n",
    "# save_crema_d_dict_path"
   ]
  },
  {
   "cell_type": "code",
   "execution_count": 90,
   "id": "d5b55423-f9bc-409b-a27c-e91c8bebda7b",
   "metadata": {},
   "outputs": [],
   "source": [
    "copy_location = BASE + CLASS_PATH + DATASET_PATH + 'git_lfs/'"
   ]
  },
  {
   "cell_type": "code",
   "execution_count": 91,
   "id": "798ec4da-d8e2-40f8-9724-2978814a3922",
   "metadata": {},
   "outputs": [],
   "source": [
    "face_to_specific_emotion_folder(CREMA_D_PATH, copy_location)"
   ]
  },
  {
   "cell_type": "code",
   "execution_count": null,
   "id": "c2bc22c8-a440-415e-bf0d-223d7b41db51",
   "metadata": {},
   "outputs": [],
   "source": []
  }
 ],
 "metadata": {
  "kernelspec": {
   "display_name": "Python 3 (ipykernel)",
   "language": "python",
   "name": "python3"
  },
  "language_info": {
   "codemirror_mode": {
    "name": "ipython",
    "version": 3
   },
   "file_extension": ".py",
   "mimetype": "text/x-python",
   "name": "python",
   "nbconvert_exporter": "python",
   "pygments_lexer": "ipython3",
   "version": "3.9.16"
  }
 },
 "nbformat": 4,
 "nbformat_minor": 5
}

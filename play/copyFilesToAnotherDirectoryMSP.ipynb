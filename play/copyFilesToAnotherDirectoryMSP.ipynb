{
 "cells": [
  {
   "cell_type": "markdown",
   "id": "a090c8da-d69e-4933-9aa9-1af458ea572c",
   "metadata": {},
   "source": [
    "# Copy R and T Files to Another Directory"
   ]
  },
  {
   "cell_type": "code",
   "execution_count": 1,
   "id": "b9781220-be49-4f8f-bf95-a9515dae72ec",
   "metadata": {},
   "outputs": [],
   "source": [
    "import os\n",
    "import os.path\n",
    "import shutil\n",
    "\n",
    "from pathlib import Path"
   ]
  },
  {
   "cell_type": "code",
   "execution_count": 2,
   "id": "3df0bcf5-d957-4cd8-848c-b753012b4f97",
   "metadata": {},
   "outputs": [],
   "source": [
    "BASE = '/Users/brinkley97/Documents/development/'\n",
    "CLASS_PATH = 'classes/csci_535_multimodal_probabilistic_learning/'\n",
    "DATASET_PATH = 'datasets/'"
   ]
  },
  {
   "cell_type": "code",
   "execution_count": 3,
   "id": "9e5fca0f-9d17-4368-ac95-cc1531cfc599",
   "metadata": {},
   "outputs": [],
   "source": [
    "def copy_face_frame_to_new_folder(old_location_of_r_or_t, new_location_of_r_or_t):\n",
    "    # print(old_location_of_r_or_t)\n",
    "    files = os.listdir(old_location_of_r_or_t)\n",
    "    # print(files)\n",
    "    for file in files:\n",
    "        \n",
    "        shutil.copy2(os.path.join(old_location_of_r_or_t, file), new_location_of_r_or_t)"
   ]
  },
  {
   "cell_type": "code",
   "execution_count": 4,
   "id": "8ddeba5a-7345-4fb9-a1bf-eed07e6caf91",
   "metadata": {},
   "outputs": [],
   "source": [
    "def combine_rs_and_ts(path_to_msp_session, path_to_copy_specific_videos, session):\n",
    "    \"\"\"\n",
    "    \n",
    "    Parameters:\n",
    "    path_to_msp_session -- str (of where to get the videos from)\n",
    "    path_to_copy_specific_videos -- str (of where to copy videos to)\n",
    "    \n",
    "    Function calls: \n",
    "    extract_features\n",
    "    \n",
    "    \"\"\"\n",
    "    \n",
    "    sesson_files = os.listdir(path_to_msp_session)\n",
    "    # print(sesson_files)\n",
    "        \n",
    "    for sesson_files_idx in range(len(sesson_files)):\n",
    "        specific_emotion_folders = sesson_files[sesson_files_idx]\n",
    "        # print(specific_emotion_folders)\n",
    "        \n",
    "\n",
    "        path_to_emotion_folder = path_to_msp_session + '/' + specific_emotion_folders + '/'\n",
    "        # print(path_to_emotion_folder)\n",
    "        \n",
    "        path_exists = os.path.exists(path_to_emotion_folder)\n",
    "        # print(path_exists)\n",
    "        if path_exists == True:\n",
    "            \n",
    "            r_t_s_p_folders = os.listdir(path_to_emotion_folder)\n",
    "            # print(r_t_s_p_folders, path_to_emotion_folder)        \n",
    "            \n",
    "            if 'R' in r_t_s_p_folders:\n",
    "                \n",
    "                old_path_to_r = path_to_emotion_folder + 'R/'\n",
    "                # print(old_path_to_r)\n",
    "                \n",
    "                new_path_to_copy_r = path_to_copy_specific_videos + 'msp_r/r_videos/'\n",
    "                # print(new_path_to_copy_r)\n",
    "                \n",
    "                copy_face_frame_to_new_folder(old_path_to_r, new_path_to_copy_r)\n",
    "\n",
    "            if 'T' in r_t_s_p_folders:\n",
    "                old_path_to_t = path_to_emotion_folder + 'T/'\n",
    "                # print(old_path_to_t)\n",
    "                \n",
    "                new_path_to_copy_t = path_to_copy_specific_videos + 'msp_t/t_videos/'\n",
    "                # print(new_path_to_copy_t)\n",
    "                \n",
    "                copy_face_frame_to_new_folder(old_path_to_t, new_path_to_copy_t)\n"
   ]
  },
  {
   "cell_type": "code",
   "execution_count": null,
   "id": "b7558290-63a4-4a91-ba7d-f96befc2eb7a",
   "metadata": {},
   "outputs": [],
   "source": []
  },
  {
   "cell_type": "code",
   "execution_count": 5,
   "id": "a6f7aea0-c2ee-4e20-b731-cf8aca928a27",
   "metadata": {},
   "outputs": [
    {
     "data": {
      "text/plain": [
       "'/Users/brinkley97/Documents/development/classes/csci_535_multimodal_probabilistic_learning/datasets/msp/videos/'"
      ]
     },
     "execution_count": 5,
     "metadata": {},
     "output_type": "execute_result"
    }
   ],
   "source": [
    "MSP_VIDEO_PATH = BASE + CLASS_PATH + DATASET_PATH + 'msp/videos/'\n",
    "MSP_VIDEO_PATH"
   ]
  },
  {
   "cell_type": "code",
   "execution_count": 6,
   "id": "11a01a9e-cf7e-414c-aadc-29353c1ff1b2",
   "metadata": {},
   "outputs": [
    {
     "data": {
      "text/plain": [
       "'/Users/brinkley97/Documents/development/classes/csci_535_multimodal_probabilistic_learning/datasets/video-msp_r_and_t/'"
      ]
     },
     "execution_count": 6,
     "metadata": {},
     "output_type": "execute_result"
    }
   ],
   "source": [
    "COPY_MSP_PATH = BASE + CLASS_PATH + DATASET_PATH + 'video-msp_r_and_t/'\n",
    "COPY_MSP_PATH"
   ]
  },
  {
   "cell_type": "code",
   "execution_count": 7,
   "id": "1e13b38f-76ab-4da0-97a9-85ca91b3692c",
   "metadata": {},
   "outputs": [
    {
     "name": "stdout",
     "output_type": "stream",
     "text": [
      "session1\n",
      "session2\n",
      "session3\n"
     ]
    },
    {
     "ename": "OSError",
     "evalue": "[Errno 28] No space left on device: '/Users/brinkley97/Documents/development/classes/csci_535_multimodal_probabilistic_learning/datasets/msp/videos/session3/S14S/R/MSP-IMPROV-S14S-M03-R-MM01.avi' -> '/Users/brinkley97/Documents/development/classes/csci_535_multimodal_probabilistic_learning/datasets/video-msp_r_and_t/msp_r/r_videos/MSP-IMPROV-S14S-M03-R-MM01.avi'",
     "output_type": "error",
     "traceback": [
      "\u001b[0;31m---------------------------------------------------------------------------\u001b[0m",
      "\u001b[0;31mOSError\u001b[0m                                   Traceback (most recent call last)",
      "Cell \u001b[0;32mIn[7], line 8\u001b[0m\n\u001b[1;32m      4\u001b[0m msp_with_session \u001b[38;5;241m=\u001b[39m MSP_VIDEO_PATH \u001b[38;5;241m+\u001b[39m session\n\u001b[1;32m      5\u001b[0m \u001b[38;5;66;03m# print(msp_with_session)\u001b[39;00m\n\u001b[1;32m      6\u001b[0m \u001b[38;5;66;03m# print(COPY_MSP_PATH)\u001b[39;00m\n\u001b[0;32m----> 8\u001b[0m \u001b[43mcombine_rs_and_ts\u001b[49m\u001b[43m(\u001b[49m\u001b[43mmsp_with_session\u001b[49m\u001b[43m,\u001b[49m\u001b[43m \u001b[49m\u001b[43mCOPY_MSP_PATH\u001b[49m\u001b[43m,\u001b[49m\u001b[43m \u001b[49m\u001b[43msession\u001b[49m\u001b[43m)\u001b[49m\n",
      "Cell \u001b[0;32mIn[4], line 39\u001b[0m, in \u001b[0;36mcombine_rs_and_ts\u001b[0;34m(path_to_msp_session, path_to_copy_specific_videos, session)\u001b[0m\n\u001b[1;32m     36\u001b[0m     new_path_to_copy_r \u001b[38;5;241m=\u001b[39m path_to_copy_specific_videos \u001b[38;5;241m+\u001b[39m \u001b[38;5;124m'\u001b[39m\u001b[38;5;124mmsp_r/r_videos/\u001b[39m\u001b[38;5;124m'\u001b[39m\n\u001b[1;32m     37\u001b[0m     \u001b[38;5;66;03m# print(new_path_to_copy_r)\u001b[39;00m\n\u001b[0;32m---> 39\u001b[0m     \u001b[43mcopy_face_frame_to_new_folder\u001b[49m\u001b[43m(\u001b[49m\u001b[43mold_path_to_r\u001b[49m\u001b[43m,\u001b[49m\u001b[43m \u001b[49m\u001b[43mnew_path_to_copy_r\u001b[49m\u001b[43m)\u001b[49m\n\u001b[1;32m     41\u001b[0m \u001b[38;5;28;01mif\u001b[39;00m \u001b[38;5;124m'\u001b[39m\u001b[38;5;124mT\u001b[39m\u001b[38;5;124m'\u001b[39m \u001b[38;5;129;01min\u001b[39;00m r_t_s_p_folders:\n\u001b[1;32m     42\u001b[0m     old_path_to_t \u001b[38;5;241m=\u001b[39m path_to_emotion_folder \u001b[38;5;241m+\u001b[39m \u001b[38;5;124m'\u001b[39m\u001b[38;5;124mT/\u001b[39m\u001b[38;5;124m'\u001b[39m\n",
      "Cell \u001b[0;32mIn[3], line 7\u001b[0m, in \u001b[0;36mcopy_face_frame_to_new_folder\u001b[0;34m(old_location_of_r_or_t, new_location_of_r_or_t)\u001b[0m\n\u001b[1;32m      4\u001b[0m \u001b[38;5;66;03m# print(files)\u001b[39;00m\n\u001b[1;32m      5\u001b[0m \u001b[38;5;28;01mfor\u001b[39;00m file \u001b[38;5;129;01min\u001b[39;00m files:\n\u001b[0;32m----> 7\u001b[0m     \u001b[43mshutil\u001b[49m\u001b[38;5;241;43m.\u001b[39;49m\u001b[43mcopy2\u001b[49m\u001b[43m(\u001b[49m\u001b[43mos\u001b[49m\u001b[38;5;241;43m.\u001b[39;49m\u001b[43mpath\u001b[49m\u001b[38;5;241;43m.\u001b[39;49m\u001b[43mjoin\u001b[49m\u001b[43m(\u001b[49m\u001b[43mold_location_of_r_or_t\u001b[49m\u001b[43m,\u001b[49m\u001b[43m \u001b[49m\u001b[43mfile\u001b[49m\u001b[43m)\u001b[49m\u001b[43m,\u001b[49m\u001b[43m \u001b[49m\u001b[43mnew_location_of_r_or_t\u001b[49m\u001b[43m)\u001b[49m\n",
      "File \u001b[0;32m~/opt/anaconda3/envs/emotion_rec_from_audiovisual/lib/python3.9/shutil.py:444\u001b[0m, in \u001b[0;36mcopy2\u001b[0;34m(src, dst, follow_symlinks)\u001b[0m\n\u001b[1;32m    442\u001b[0m \u001b[38;5;28;01mif\u001b[39;00m os\u001b[38;5;241m.\u001b[39mpath\u001b[38;5;241m.\u001b[39misdir(dst):\n\u001b[1;32m    443\u001b[0m     dst \u001b[38;5;241m=\u001b[39m os\u001b[38;5;241m.\u001b[39mpath\u001b[38;5;241m.\u001b[39mjoin(dst, os\u001b[38;5;241m.\u001b[39mpath\u001b[38;5;241m.\u001b[39mbasename(src))\n\u001b[0;32m--> 444\u001b[0m \u001b[43mcopyfile\u001b[49m\u001b[43m(\u001b[49m\u001b[43msrc\u001b[49m\u001b[43m,\u001b[49m\u001b[43m \u001b[49m\u001b[43mdst\u001b[49m\u001b[43m,\u001b[49m\u001b[43m \u001b[49m\u001b[43mfollow_symlinks\u001b[49m\u001b[38;5;241;43m=\u001b[39;49m\u001b[43mfollow_symlinks\u001b[49m\u001b[43m)\u001b[49m\n\u001b[1;32m    445\u001b[0m copystat(src, dst, follow_symlinks\u001b[38;5;241m=\u001b[39mfollow_symlinks)\n\u001b[1;32m    446\u001b[0m \u001b[38;5;28;01mreturn\u001b[39;00m dst\n",
      "File \u001b[0;32m~/opt/anaconda3/envs/emotion_rec_from_audiovisual/lib/python3.9/shutil.py:270\u001b[0m, in \u001b[0;36mcopyfile\u001b[0;34m(src, dst, follow_symlinks)\u001b[0m\n\u001b[1;32m    268\u001b[0m \u001b[38;5;28;01mif\u001b[39;00m _HAS_FCOPYFILE:\n\u001b[1;32m    269\u001b[0m     \u001b[38;5;28;01mtry\u001b[39;00m:\n\u001b[0;32m--> 270\u001b[0m         \u001b[43m_fastcopy_fcopyfile\u001b[49m\u001b[43m(\u001b[49m\u001b[43mfsrc\u001b[49m\u001b[43m,\u001b[49m\u001b[43m \u001b[49m\u001b[43mfdst\u001b[49m\u001b[43m,\u001b[49m\u001b[43m \u001b[49m\u001b[43mposix\u001b[49m\u001b[38;5;241;43m.\u001b[39;49m\u001b[43m_COPYFILE_DATA\u001b[49m\u001b[43m)\u001b[49m\n\u001b[1;32m    271\u001b[0m         \u001b[38;5;28;01mreturn\u001b[39;00m dst\n\u001b[1;32m    272\u001b[0m     \u001b[38;5;28;01mexcept\u001b[39;00m _GiveupOnFastCopy:\n",
      "File \u001b[0;32m~/opt/anaconda3/envs/emotion_rec_from_audiovisual/lib/python3.9/shutil.py:112\u001b[0m, in \u001b[0;36m_fastcopy_fcopyfile\u001b[0;34m(fsrc, fdst, flags)\u001b[0m\n\u001b[1;32m    110\u001b[0m     \u001b[38;5;28;01mraise\u001b[39;00m _GiveupOnFastCopy(err)\n\u001b[1;32m    111\u001b[0m \u001b[38;5;28;01melse\u001b[39;00m:\n\u001b[0;32m--> 112\u001b[0m     \u001b[38;5;28;01mraise\u001b[39;00m err \u001b[38;5;28;01mfrom\u001b[39;00m \u001b[38;5;28mNone\u001b[39m\n",
      "File \u001b[0;32m~/opt/anaconda3/envs/emotion_rec_from_audiovisual/lib/python3.9/shutil.py:105\u001b[0m, in \u001b[0;36m_fastcopy_fcopyfile\u001b[0;34m(fsrc, fdst, flags)\u001b[0m\n\u001b[1;32m    102\u001b[0m     \u001b[38;5;28;01mraise\u001b[39;00m _GiveupOnFastCopy(err)  \u001b[38;5;66;03m# not a regular file\u001b[39;00m\n\u001b[1;32m    104\u001b[0m \u001b[38;5;28;01mtry\u001b[39;00m:\n\u001b[0;32m--> 105\u001b[0m     \u001b[43mposix\u001b[49m\u001b[38;5;241;43m.\u001b[39;49m\u001b[43m_fcopyfile\u001b[49m\u001b[43m(\u001b[49m\u001b[43minfd\u001b[49m\u001b[43m,\u001b[49m\u001b[43m \u001b[49m\u001b[43moutfd\u001b[49m\u001b[43m,\u001b[49m\u001b[43m \u001b[49m\u001b[43mflags\u001b[49m\u001b[43m)\u001b[49m\n\u001b[1;32m    106\u001b[0m \u001b[38;5;28;01mexcept\u001b[39;00m \u001b[38;5;167;01mOSError\u001b[39;00m \u001b[38;5;28;01mas\u001b[39;00m err:\n\u001b[1;32m    107\u001b[0m     err\u001b[38;5;241m.\u001b[39mfilename \u001b[38;5;241m=\u001b[39m fsrc\u001b[38;5;241m.\u001b[39mname\n",
      "\u001b[0;31mOSError\u001b[0m: [Errno 28] No space left on device: '/Users/brinkley97/Documents/development/classes/csci_535_multimodal_probabilistic_learning/datasets/msp/videos/session3/S14S/R/MSP-IMPROV-S14S-M03-R-MM01.avi' -> '/Users/brinkley97/Documents/development/classes/csci_535_multimodal_probabilistic_learning/datasets/video-msp_r_and_t/msp_r/r_videos/MSP-IMPROV-S14S-M03-R-MM01.avi'"
     ]
    }
   ],
   "source": [
    "sessions = [\"session1\", \"session2\", \"session3\", \"session4\", \"session5\", \"session6\"]\n",
    "for session in sessions:\n",
    "    print(session)\n",
    "    msp_with_session = MSP_VIDEO_PATH + session\n",
    "    # print(msp_with_session)\n",
    "    # print(COPY_MSP_PATH)\n",
    "    \n",
    "    combine_rs_and_ts(msp_with_session, COPY_MSP_PATH, session)"
   ]
  },
  {
   "cell_type": "code",
   "execution_count": null,
   "id": "a8d03f42-f8a1-453e-9918-865315d937ce",
   "metadata": {},
   "outputs": [],
   "source": []
  },
  {
   "cell_type": "code",
   "execution_count": null,
   "id": "2d8ad8b2-3b15-4223-819c-922acb9298fe",
   "metadata": {},
   "outputs": [],
   "source": []
  }
 ],
 "metadata": {
  "kernelspec": {
   "display_name": "Python 3 (ipykernel)",
   "language": "python",
   "name": "python3"
  },
  "language_info": {
   "codemirror_mode": {
    "name": "ipython",
    "version": 3
   },
   "file_extension": ".py",
   "mimetype": "text/x-python",
   "name": "python",
   "nbconvert_exporter": "python",
   "pygments_lexer": "ipython3",
   "version": "3.9.16"
  }
 },
 "nbformat": 4,
 "nbformat_minor": 5
}
